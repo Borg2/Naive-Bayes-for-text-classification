{
  "nbformat": 4,
  "nbformat_minor": 0,
  "metadata": {
    "colab": {
      "provenance": [],
      "authorship_tag": "ABX9TyPnUdPFabauwaRRVud1x3yx",
      "include_colab_link": true
    },
    "kernelspec": {
      "name": "python3",
      "display_name": "Python 3"
    },
    "language_info": {
      "name": "python"
    },
    "widgets": {
      "application/vnd.jupyter.widget-state+json": {
        "5547deda3ed349d4afdfdcdef739bfbf": {
          "model_module": "@jupyter-widgets/controls",
          "model_name": "HBoxModel",
          "model_module_version": "1.5.0",
          "state": {
            "_dom_classes": [],
            "_model_module": "@jupyter-widgets/controls",
            "_model_module_version": "1.5.0",
            "_model_name": "HBoxModel",
            "_view_count": null,
            "_view_module": "@jupyter-widgets/controls",
            "_view_module_version": "1.5.0",
            "_view_name": "HBoxView",
            "box_style": "",
            "children": [
              "IPY_MODEL_53b2fd1b584e4162b9af5db55a559c59",
              "IPY_MODEL_ab97e6211325467888a3b6050b0a920d",
              "IPY_MODEL_1787516e4a8246818e310deb5fb08209"
            ],
            "layout": "IPY_MODEL_f0302075d13c484d9252460854b95ded"
          }
        },
        "53b2fd1b584e4162b9af5db55a559c59": {
          "model_module": "@jupyter-widgets/controls",
          "model_name": "HTMLModel",
          "model_module_version": "1.5.0",
          "state": {
            "_dom_classes": [],
            "_model_module": "@jupyter-widgets/controls",
            "_model_module_version": "1.5.0",
            "_model_name": "HTMLModel",
            "_view_count": null,
            "_view_module": "@jupyter-widgets/controls",
            "_view_module_version": "1.5.0",
            "_view_name": "HTMLView",
            "description": "",
            "description_tooltip": null,
            "layout": "IPY_MODEL_f7c8a65616204818a3d607461441bc4b",
            "placeholder": "​",
            "style": "IPY_MODEL_57df994210ac4bc4a01b420af8989339",
            "value": "Downloading data: 100%"
          }
        },
        "ab97e6211325467888a3b6050b0a920d": {
          "model_module": "@jupyter-widgets/controls",
          "model_name": "FloatProgressModel",
          "model_module_version": "1.5.0",
          "state": {
            "_dom_classes": [],
            "_model_module": "@jupyter-widgets/controls",
            "_model_module_version": "1.5.0",
            "_model_name": "FloatProgressModel",
            "_view_count": null,
            "_view_module": "@jupyter-widgets/controls",
            "_view_module_version": "1.5.0",
            "_view_name": "ProgressView",
            "bar_style": "success",
            "description": "",
            "description_tooltip": null,
            "layout": "IPY_MODEL_9c27ed4030784ed188556cffe5bf56b6",
            "max": 1686075,
            "min": 0,
            "orientation": "horizontal",
            "style": "IPY_MODEL_4c9dade8943b4e61a0a4551745d35066",
            "value": 1686075
          }
        },
        "1787516e4a8246818e310deb5fb08209": {
          "model_module": "@jupyter-widgets/controls",
          "model_name": "HTMLModel",
          "model_module_version": "1.5.0",
          "state": {
            "_dom_classes": [],
            "_model_module": "@jupyter-widgets/controls",
            "_model_module_version": "1.5.0",
            "_model_name": "HTMLModel",
            "_view_count": null,
            "_view_module": "@jupyter-widgets/controls",
            "_view_module_version": "1.5.0",
            "_view_name": "HTMLView",
            "description": "",
            "description_tooltip": null,
            "layout": "IPY_MODEL_f8f0923f5dd540398201e315f8001d5e",
            "placeholder": "​",
            "style": "IPY_MODEL_d69f9e2c939c4951a64ff7bea1c80750",
            "value": " 1.69M/1.69M [00:02&lt;00:00, 822kB/s]"
          }
        },
        "f0302075d13c484d9252460854b95ded": {
          "model_module": "@jupyter-widgets/base",
          "model_name": "LayoutModel",
          "model_module_version": "1.2.0",
          "state": {
            "_model_module": "@jupyter-widgets/base",
            "_model_module_version": "1.2.0",
            "_model_name": "LayoutModel",
            "_view_count": null,
            "_view_module": "@jupyter-widgets/base",
            "_view_module_version": "1.2.0",
            "_view_name": "LayoutView",
            "align_content": null,
            "align_items": null,
            "align_self": null,
            "border": null,
            "bottom": null,
            "display": null,
            "flex": null,
            "flex_flow": null,
            "grid_area": null,
            "grid_auto_columns": null,
            "grid_auto_flow": null,
            "grid_auto_rows": null,
            "grid_column": null,
            "grid_gap": null,
            "grid_row": null,
            "grid_template_areas": null,
            "grid_template_columns": null,
            "grid_template_rows": null,
            "height": null,
            "justify_content": null,
            "justify_items": null,
            "left": null,
            "margin": null,
            "max_height": null,
            "max_width": null,
            "min_height": null,
            "min_width": null,
            "object_fit": null,
            "object_position": null,
            "order": null,
            "overflow": null,
            "overflow_x": null,
            "overflow_y": null,
            "padding": null,
            "right": null,
            "top": null,
            "visibility": null,
            "width": null
          }
        },
        "f7c8a65616204818a3d607461441bc4b": {
          "model_module": "@jupyter-widgets/base",
          "model_name": "LayoutModel",
          "model_module_version": "1.2.0",
          "state": {
            "_model_module": "@jupyter-widgets/base",
            "_model_module_version": "1.2.0",
            "_model_name": "LayoutModel",
            "_view_count": null,
            "_view_module": "@jupyter-widgets/base",
            "_view_module_version": "1.2.0",
            "_view_name": "LayoutView",
            "align_content": null,
            "align_items": null,
            "align_self": null,
            "border": null,
            "bottom": null,
            "display": null,
            "flex": null,
            "flex_flow": null,
            "grid_area": null,
            "grid_auto_columns": null,
            "grid_auto_flow": null,
            "grid_auto_rows": null,
            "grid_column": null,
            "grid_gap": null,
            "grid_row": null,
            "grid_template_areas": null,
            "grid_template_columns": null,
            "grid_template_rows": null,
            "height": null,
            "justify_content": null,
            "justify_items": null,
            "left": null,
            "margin": null,
            "max_height": null,
            "max_width": null,
            "min_height": null,
            "min_width": null,
            "object_fit": null,
            "object_position": null,
            "order": null,
            "overflow": null,
            "overflow_x": null,
            "overflow_y": null,
            "padding": null,
            "right": null,
            "top": null,
            "visibility": null,
            "width": null
          }
        },
        "57df994210ac4bc4a01b420af8989339": {
          "model_module": "@jupyter-widgets/controls",
          "model_name": "DescriptionStyleModel",
          "model_module_version": "1.5.0",
          "state": {
            "_model_module": "@jupyter-widgets/controls",
            "_model_module_version": "1.5.0",
            "_model_name": "DescriptionStyleModel",
            "_view_count": null,
            "_view_module": "@jupyter-widgets/base",
            "_view_module_version": "1.2.0",
            "_view_name": "StyleView",
            "description_width": ""
          }
        },
        "9c27ed4030784ed188556cffe5bf56b6": {
          "model_module": "@jupyter-widgets/base",
          "model_name": "LayoutModel",
          "model_module_version": "1.2.0",
          "state": {
            "_model_module": "@jupyter-widgets/base",
            "_model_module_version": "1.2.0",
            "_model_name": "LayoutModel",
            "_view_count": null,
            "_view_module": "@jupyter-widgets/base",
            "_view_module_version": "1.2.0",
            "_view_name": "LayoutView",
            "align_content": null,
            "align_items": null,
            "align_self": null,
            "border": null,
            "bottom": null,
            "display": null,
            "flex": null,
            "flex_flow": null,
            "grid_area": null,
            "grid_auto_columns": null,
            "grid_auto_flow": null,
            "grid_auto_rows": null,
            "grid_column": null,
            "grid_gap": null,
            "grid_row": null,
            "grid_template_areas": null,
            "grid_template_columns": null,
            "grid_template_rows": null,
            "height": null,
            "justify_content": null,
            "justify_items": null,
            "left": null,
            "margin": null,
            "max_height": null,
            "max_width": null,
            "min_height": null,
            "min_width": null,
            "object_fit": null,
            "object_position": null,
            "order": null,
            "overflow": null,
            "overflow_x": null,
            "overflow_y": null,
            "padding": null,
            "right": null,
            "top": null,
            "visibility": null,
            "width": null
          }
        },
        "4c9dade8943b4e61a0a4551745d35066": {
          "model_module": "@jupyter-widgets/controls",
          "model_name": "ProgressStyleModel",
          "model_module_version": "1.5.0",
          "state": {
            "_model_module": "@jupyter-widgets/controls",
            "_model_module_version": "1.5.0",
            "_model_name": "ProgressStyleModel",
            "_view_count": null,
            "_view_module": "@jupyter-widgets/base",
            "_view_module_version": "1.2.0",
            "_view_name": "StyleView",
            "bar_color": null,
            "description_width": ""
          }
        },
        "f8f0923f5dd540398201e315f8001d5e": {
          "model_module": "@jupyter-widgets/base",
          "model_name": "LayoutModel",
          "model_module_version": "1.2.0",
          "state": {
            "_model_module": "@jupyter-widgets/base",
            "_model_module_version": "1.2.0",
            "_model_name": "LayoutModel",
            "_view_count": null,
            "_view_module": "@jupyter-widgets/base",
            "_view_module_version": "1.2.0",
            "_view_name": "LayoutView",
            "align_content": null,
            "align_items": null,
            "align_self": null,
            "border": null,
            "bottom": null,
            "display": null,
            "flex": null,
            "flex_flow": null,
            "grid_area": null,
            "grid_auto_columns": null,
            "grid_auto_flow": null,
            "grid_auto_rows": null,
            "grid_column": null,
            "grid_gap": null,
            "grid_row": null,
            "grid_template_areas": null,
            "grid_template_columns": null,
            "grid_template_rows": null,
            "height": null,
            "justify_content": null,
            "justify_items": null,
            "left": null,
            "margin": null,
            "max_height": null,
            "max_width": null,
            "min_height": null,
            "min_width": null,
            "object_fit": null,
            "object_position": null,
            "order": null,
            "overflow": null,
            "overflow_x": null,
            "overflow_y": null,
            "padding": null,
            "right": null,
            "top": null,
            "visibility": null,
            "width": null
          }
        },
        "d69f9e2c939c4951a64ff7bea1c80750": {
          "model_module": "@jupyter-widgets/controls",
          "model_name": "DescriptionStyleModel",
          "model_module_version": "1.5.0",
          "state": {
            "_model_module": "@jupyter-widgets/controls",
            "_model_module_version": "1.5.0",
            "_model_name": "DescriptionStyleModel",
            "_view_count": null,
            "_view_module": "@jupyter-widgets/base",
            "_view_module_version": "1.2.0",
            "_view_name": "StyleView",
            "description_width": ""
          }
        },
        "ece201ce93844c50881544603d92962e": {
          "model_module": "@jupyter-widgets/controls",
          "model_name": "HBoxModel",
          "model_module_version": "1.5.0",
          "state": {
            "_dom_classes": [],
            "_model_module": "@jupyter-widgets/controls",
            "_model_module_version": "1.5.0",
            "_model_name": "HBoxModel",
            "_view_count": null,
            "_view_module": "@jupyter-widgets/controls",
            "_view_module_version": "1.5.0",
            "_view_name": "HBoxView",
            "box_style": "",
            "children": [
              "IPY_MODEL_10c1d7fd1ddc448da1037532ab41cd2d",
              "IPY_MODEL_eef49eddff174972beccd4e091b8551a",
              "IPY_MODEL_e527207f917e4823a4e065790ef58ef5"
            ],
            "layout": "IPY_MODEL_01ab8b3d6498422193d0a43ee4649445"
          }
        },
        "10c1d7fd1ddc448da1037532ab41cd2d": {
          "model_module": "@jupyter-widgets/controls",
          "model_name": "HTMLModel",
          "model_module_version": "1.5.0",
          "state": {
            "_dom_classes": [],
            "_model_module": "@jupyter-widgets/controls",
            "_model_module_version": "1.5.0",
            "_model_name": "HTMLModel",
            "_view_count": null,
            "_view_module": "@jupyter-widgets/controls",
            "_view_module_version": "1.5.0",
            "_view_name": "HTMLView",
            "description": "",
            "description_tooltip": null,
            "layout": "IPY_MODEL_4ece77c127b4475d889302490b47f066",
            "placeholder": "​",
            "style": "IPY_MODEL_801dc54fa9d5417689316c3e18a8bf58",
            "value": "Downloading data: 100%"
          }
        },
        "eef49eddff174972beccd4e091b8551a": {
          "model_module": "@jupyter-widgets/controls",
          "model_name": "FloatProgressModel",
          "model_module_version": "1.5.0",
          "state": {
            "_dom_classes": [],
            "_model_module": "@jupyter-widgets/controls",
            "_model_module_version": "1.5.0",
            "_model_name": "FloatProgressModel",
            "_view_count": null,
            "_view_module": "@jupyter-widgets/controls",
            "_view_module_version": "1.5.0",
            "_view_name": "ProgressView",
            "bar_style": "success",
            "description": "",
            "description_tooltip": null,
            "layout": "IPY_MODEL_74a9a28793fe46bd82b23fac467e4ee3",
            "max": 223604,
            "min": 0,
            "orientation": "horizontal",
            "style": "IPY_MODEL_74a23648af614065b47e9db0c954394a",
            "value": 223604
          }
        },
        "e527207f917e4823a4e065790ef58ef5": {
          "model_module": "@jupyter-widgets/controls",
          "model_name": "HTMLModel",
          "model_module_version": "1.5.0",
          "state": {
            "_dom_classes": [],
            "_model_module": "@jupyter-widgets/controls",
            "_model_module_version": "1.5.0",
            "_model_name": "HTMLModel",
            "_view_count": null,
            "_view_module": "@jupyter-widgets/controls",
            "_view_module_version": "1.5.0",
            "_view_name": "HTMLView",
            "description": "",
            "description_tooltip": null,
            "layout": "IPY_MODEL_1731e0518b53402bbbf818d589a00457",
            "placeholder": "​",
            "style": "IPY_MODEL_44286d5fedc44f67b82bfb7e5393af0b",
            "value": " 224k/224k [00:00&lt;00:00, 841kB/s]"
          }
        },
        "01ab8b3d6498422193d0a43ee4649445": {
          "model_module": "@jupyter-widgets/base",
          "model_name": "LayoutModel",
          "model_module_version": "1.2.0",
          "state": {
            "_model_module": "@jupyter-widgets/base",
            "_model_module_version": "1.2.0",
            "_model_name": "LayoutModel",
            "_view_count": null,
            "_view_module": "@jupyter-widgets/base",
            "_view_module_version": "1.2.0",
            "_view_name": "LayoutView",
            "align_content": null,
            "align_items": null,
            "align_self": null,
            "border": null,
            "bottom": null,
            "display": null,
            "flex": null,
            "flex_flow": null,
            "grid_area": null,
            "grid_auto_columns": null,
            "grid_auto_flow": null,
            "grid_auto_rows": null,
            "grid_column": null,
            "grid_gap": null,
            "grid_row": null,
            "grid_template_areas": null,
            "grid_template_columns": null,
            "grid_template_rows": null,
            "height": null,
            "justify_content": null,
            "justify_items": null,
            "left": null,
            "margin": null,
            "max_height": null,
            "max_width": null,
            "min_height": null,
            "min_width": null,
            "object_fit": null,
            "object_position": null,
            "order": null,
            "overflow": null,
            "overflow_x": null,
            "overflow_y": null,
            "padding": null,
            "right": null,
            "top": null,
            "visibility": null,
            "width": null
          }
        },
        "4ece77c127b4475d889302490b47f066": {
          "model_module": "@jupyter-widgets/base",
          "model_name": "LayoutModel",
          "model_module_version": "1.2.0",
          "state": {
            "_model_module": "@jupyter-widgets/base",
            "_model_module_version": "1.2.0",
            "_model_name": "LayoutModel",
            "_view_count": null,
            "_view_module": "@jupyter-widgets/base",
            "_view_module_version": "1.2.0",
            "_view_name": "LayoutView",
            "align_content": null,
            "align_items": null,
            "align_self": null,
            "border": null,
            "bottom": null,
            "display": null,
            "flex": null,
            "flex_flow": null,
            "grid_area": null,
            "grid_auto_columns": null,
            "grid_auto_flow": null,
            "grid_auto_rows": null,
            "grid_column": null,
            "grid_gap": null,
            "grid_row": null,
            "grid_template_areas": null,
            "grid_template_columns": null,
            "grid_template_rows": null,
            "height": null,
            "justify_content": null,
            "justify_items": null,
            "left": null,
            "margin": null,
            "max_height": null,
            "max_width": null,
            "min_height": null,
            "min_width": null,
            "object_fit": null,
            "object_position": null,
            "order": null,
            "overflow": null,
            "overflow_x": null,
            "overflow_y": null,
            "padding": null,
            "right": null,
            "top": null,
            "visibility": null,
            "width": null
          }
        },
        "801dc54fa9d5417689316c3e18a8bf58": {
          "model_module": "@jupyter-widgets/controls",
          "model_name": "DescriptionStyleModel",
          "model_module_version": "1.5.0",
          "state": {
            "_model_module": "@jupyter-widgets/controls",
            "_model_module_version": "1.5.0",
            "_model_name": "DescriptionStyleModel",
            "_view_count": null,
            "_view_module": "@jupyter-widgets/base",
            "_view_module_version": "1.2.0",
            "_view_name": "StyleView",
            "description_width": ""
          }
        },
        "74a9a28793fe46bd82b23fac467e4ee3": {
          "model_module": "@jupyter-widgets/base",
          "model_name": "LayoutModel",
          "model_module_version": "1.2.0",
          "state": {
            "_model_module": "@jupyter-widgets/base",
            "_model_module_version": "1.2.0",
            "_model_name": "LayoutModel",
            "_view_count": null,
            "_view_module": "@jupyter-widgets/base",
            "_view_module_version": "1.2.0",
            "_view_name": "LayoutView",
            "align_content": null,
            "align_items": null,
            "align_self": null,
            "border": null,
            "bottom": null,
            "display": null,
            "flex": null,
            "flex_flow": null,
            "grid_area": null,
            "grid_auto_columns": null,
            "grid_auto_flow": null,
            "grid_auto_rows": null,
            "grid_column": null,
            "grid_gap": null,
            "grid_row": null,
            "grid_template_areas": null,
            "grid_template_columns": null,
            "grid_template_rows": null,
            "height": null,
            "justify_content": null,
            "justify_items": null,
            "left": null,
            "margin": null,
            "max_height": null,
            "max_width": null,
            "min_height": null,
            "min_width": null,
            "object_fit": null,
            "object_position": null,
            "order": null,
            "overflow": null,
            "overflow_x": null,
            "overflow_y": null,
            "padding": null,
            "right": null,
            "top": null,
            "visibility": null,
            "width": null
          }
        },
        "74a23648af614065b47e9db0c954394a": {
          "model_module": "@jupyter-widgets/controls",
          "model_name": "ProgressStyleModel",
          "model_module_version": "1.5.0",
          "state": {
            "_model_module": "@jupyter-widgets/controls",
            "_model_module_version": "1.5.0",
            "_model_name": "ProgressStyleModel",
            "_view_count": null,
            "_view_module": "@jupyter-widgets/base",
            "_view_module_version": "1.2.0",
            "_view_name": "StyleView",
            "bar_color": null,
            "description_width": ""
          }
        },
        "1731e0518b53402bbbf818d589a00457": {
          "model_module": "@jupyter-widgets/base",
          "model_name": "LayoutModel",
          "model_module_version": "1.2.0",
          "state": {
            "_model_module": "@jupyter-widgets/base",
            "_model_module_version": "1.2.0",
            "_model_name": "LayoutModel",
            "_view_count": null,
            "_view_module": "@jupyter-widgets/base",
            "_view_module_version": "1.2.0",
            "_view_name": "LayoutView",
            "align_content": null,
            "align_items": null,
            "align_self": null,
            "border": null,
            "bottom": null,
            "display": null,
            "flex": null,
            "flex_flow": null,
            "grid_area": null,
            "grid_auto_columns": null,
            "grid_auto_flow": null,
            "grid_auto_rows": null,
            "grid_column": null,
            "grid_gap": null,
            "grid_row": null,
            "grid_template_areas": null,
            "grid_template_columns": null,
            "grid_template_rows": null,
            "height": null,
            "justify_content": null,
            "justify_items": null,
            "left": null,
            "margin": null,
            "max_height": null,
            "max_width": null,
            "min_height": null,
            "min_width": null,
            "object_fit": null,
            "object_position": null,
            "order": null,
            "overflow": null,
            "overflow_x": null,
            "overflow_y": null,
            "padding": null,
            "right": null,
            "top": null,
            "visibility": null,
            "width": null
          }
        },
        "44286d5fedc44f67b82bfb7e5393af0b": {
          "model_module": "@jupyter-widgets/controls",
          "model_name": "DescriptionStyleModel",
          "model_module_version": "1.5.0",
          "state": {
            "_model_module": "@jupyter-widgets/controls",
            "_model_module_version": "1.5.0",
            "_model_name": "DescriptionStyleModel",
            "_view_count": null,
            "_view_module": "@jupyter-widgets/base",
            "_view_module_version": "1.2.0",
            "_view_name": "StyleView",
            "description_width": ""
          }
        },
        "a05cb04b645d4bceb72dfc931efbf1bf": {
          "model_module": "@jupyter-widgets/controls",
          "model_name": "HBoxModel",
          "model_module_version": "1.5.0",
          "state": {
            "_dom_classes": [],
            "_model_module": "@jupyter-widgets/controls",
            "_model_module_version": "1.5.0",
            "_model_name": "HBoxModel",
            "_view_count": null,
            "_view_module": "@jupyter-widgets/controls",
            "_view_module_version": "1.5.0",
            "_view_name": "HBoxView",
            "box_style": "",
            "children": [
              "IPY_MODEL_639dfb37f3a1428db1311106d3f9c3dc",
              "IPY_MODEL_2bbcd77fe0aa442f81c240a269d1ca84",
              "IPY_MODEL_57eb527be3d749e381651e9a2de21839"
            ],
            "layout": "IPY_MODEL_2dfe259369824645ba01b00d3f832417"
          }
        },
        "639dfb37f3a1428db1311106d3f9c3dc": {
          "model_module": "@jupyter-widgets/controls",
          "model_name": "HTMLModel",
          "model_module_version": "1.5.0",
          "state": {
            "_dom_classes": [],
            "_model_module": "@jupyter-widgets/controls",
            "_model_module_version": "1.5.0",
            "_model_name": "HTMLModel",
            "_view_count": null,
            "_view_module": "@jupyter-widgets/controls",
            "_view_module_version": "1.5.0",
            "_view_name": "HTMLView",
            "description": "",
            "description_tooltip": null,
            "layout": "IPY_MODEL_bf7d3eb1b354467a93e3b1b3fda8f7bc",
            "placeholder": "​",
            "style": "IPY_MODEL_1f0abdb32a624a6cadbabf0ace224141",
            "value": "Downloading data: 100%"
          }
        },
        "2bbcd77fe0aa442f81c240a269d1ca84": {
          "model_module": "@jupyter-widgets/controls",
          "model_name": "FloatProgressModel",
          "model_module_version": "1.5.0",
          "state": {
            "_dom_classes": [],
            "_model_module": "@jupyter-widgets/controls",
            "_model_module_version": "1.5.0",
            "_model_name": "FloatProgressModel",
            "_view_count": null,
            "_view_module": "@jupyter-widgets/controls",
            "_view_module_version": "1.5.0",
            "_view_name": "ProgressView",
            "bar_style": "success",
            "description": "",
            "description_tooltip": null,
            "layout": "IPY_MODEL_d0050c6f259b461d9f6a600d3edbae33",
            "max": 441135,
            "min": 0,
            "orientation": "horizontal",
            "style": "IPY_MODEL_e37aa80f92f9401cb873be4c7c07ffb4",
            "value": 441135
          }
        },
        "57eb527be3d749e381651e9a2de21839": {
          "model_module": "@jupyter-widgets/controls",
          "model_name": "HTMLModel",
          "model_module_version": "1.5.0",
          "state": {
            "_dom_classes": [],
            "_model_module": "@jupyter-widgets/controls",
            "_model_module_version": "1.5.0",
            "_model_name": "HTMLModel",
            "_view_count": null,
            "_view_module": "@jupyter-widgets/controls",
            "_view_module_version": "1.5.0",
            "_view_name": "HTMLView",
            "description": "",
            "description_tooltip": null,
            "layout": "IPY_MODEL_4f2884dc654743c09dbcdde8c341b0fe",
            "placeholder": "​",
            "style": "IPY_MODEL_de57e4009d2b44519f6fe2fa21fc1768",
            "value": " 441k/441k [00:00&lt;00:00, 1.66MB/s]"
          }
        },
        "2dfe259369824645ba01b00d3f832417": {
          "model_module": "@jupyter-widgets/base",
          "model_name": "LayoutModel",
          "model_module_version": "1.2.0",
          "state": {
            "_model_module": "@jupyter-widgets/base",
            "_model_module_version": "1.2.0",
            "_model_name": "LayoutModel",
            "_view_count": null,
            "_view_module": "@jupyter-widgets/base",
            "_view_module_version": "1.2.0",
            "_view_name": "LayoutView",
            "align_content": null,
            "align_items": null,
            "align_self": null,
            "border": null,
            "bottom": null,
            "display": null,
            "flex": null,
            "flex_flow": null,
            "grid_area": null,
            "grid_auto_columns": null,
            "grid_auto_flow": null,
            "grid_auto_rows": null,
            "grid_column": null,
            "grid_gap": null,
            "grid_row": null,
            "grid_template_areas": null,
            "grid_template_columns": null,
            "grid_template_rows": null,
            "height": null,
            "justify_content": null,
            "justify_items": null,
            "left": null,
            "margin": null,
            "max_height": null,
            "max_width": null,
            "min_height": null,
            "min_width": null,
            "object_fit": null,
            "object_position": null,
            "order": null,
            "overflow": null,
            "overflow_x": null,
            "overflow_y": null,
            "padding": null,
            "right": null,
            "top": null,
            "visibility": null,
            "width": null
          }
        },
        "bf7d3eb1b354467a93e3b1b3fda8f7bc": {
          "model_module": "@jupyter-widgets/base",
          "model_name": "LayoutModel",
          "model_module_version": "1.2.0",
          "state": {
            "_model_module": "@jupyter-widgets/base",
            "_model_module_version": "1.2.0",
            "_model_name": "LayoutModel",
            "_view_count": null,
            "_view_module": "@jupyter-widgets/base",
            "_view_module_version": "1.2.0",
            "_view_name": "LayoutView",
            "align_content": null,
            "align_items": null,
            "align_self": null,
            "border": null,
            "bottom": null,
            "display": null,
            "flex": null,
            "flex_flow": null,
            "grid_area": null,
            "grid_auto_columns": null,
            "grid_auto_flow": null,
            "grid_auto_rows": null,
            "grid_column": null,
            "grid_gap": null,
            "grid_row": null,
            "grid_template_areas": null,
            "grid_template_columns": null,
            "grid_template_rows": null,
            "height": null,
            "justify_content": null,
            "justify_items": null,
            "left": null,
            "margin": null,
            "max_height": null,
            "max_width": null,
            "min_height": null,
            "min_width": null,
            "object_fit": null,
            "object_position": null,
            "order": null,
            "overflow": null,
            "overflow_x": null,
            "overflow_y": null,
            "padding": null,
            "right": null,
            "top": null,
            "visibility": null,
            "width": null
          }
        },
        "1f0abdb32a624a6cadbabf0ace224141": {
          "model_module": "@jupyter-widgets/controls",
          "model_name": "DescriptionStyleModel",
          "model_module_version": "1.5.0",
          "state": {
            "_model_module": "@jupyter-widgets/controls",
            "_model_module_version": "1.5.0",
            "_model_name": "DescriptionStyleModel",
            "_view_count": null,
            "_view_module": "@jupyter-widgets/base",
            "_view_module_version": "1.2.0",
            "_view_name": "StyleView",
            "description_width": ""
          }
        },
        "d0050c6f259b461d9f6a600d3edbae33": {
          "model_module": "@jupyter-widgets/base",
          "model_name": "LayoutModel",
          "model_module_version": "1.2.0",
          "state": {
            "_model_module": "@jupyter-widgets/base",
            "_model_module_version": "1.2.0",
            "_model_name": "LayoutModel",
            "_view_count": null,
            "_view_module": "@jupyter-widgets/base",
            "_view_module_version": "1.2.0",
            "_view_name": "LayoutView",
            "align_content": null,
            "align_items": null,
            "align_self": null,
            "border": null,
            "bottom": null,
            "display": null,
            "flex": null,
            "flex_flow": null,
            "grid_area": null,
            "grid_auto_columns": null,
            "grid_auto_flow": null,
            "grid_auto_rows": null,
            "grid_column": null,
            "grid_gap": null,
            "grid_row": null,
            "grid_template_areas": null,
            "grid_template_columns": null,
            "grid_template_rows": null,
            "height": null,
            "justify_content": null,
            "justify_items": null,
            "left": null,
            "margin": null,
            "max_height": null,
            "max_width": null,
            "min_height": null,
            "min_width": null,
            "object_fit": null,
            "object_position": null,
            "order": null,
            "overflow": null,
            "overflow_x": null,
            "overflow_y": null,
            "padding": null,
            "right": null,
            "top": null,
            "visibility": null,
            "width": null
          }
        },
        "e37aa80f92f9401cb873be4c7c07ffb4": {
          "model_module": "@jupyter-widgets/controls",
          "model_name": "ProgressStyleModel",
          "model_module_version": "1.5.0",
          "state": {
            "_model_module": "@jupyter-widgets/controls",
            "_model_module_version": "1.5.0",
            "_model_name": "ProgressStyleModel",
            "_view_count": null,
            "_view_module": "@jupyter-widgets/base",
            "_view_module_version": "1.2.0",
            "_view_name": "StyleView",
            "bar_color": null,
            "description_width": ""
          }
        },
        "4f2884dc654743c09dbcdde8c341b0fe": {
          "model_module": "@jupyter-widgets/base",
          "model_name": "LayoutModel",
          "model_module_version": "1.2.0",
          "state": {
            "_model_module": "@jupyter-widgets/base",
            "_model_module_version": "1.2.0",
            "_model_name": "LayoutModel",
            "_view_count": null,
            "_view_module": "@jupyter-widgets/base",
            "_view_module_version": "1.2.0",
            "_view_name": "LayoutView",
            "align_content": null,
            "align_items": null,
            "align_self": null,
            "border": null,
            "bottom": null,
            "display": null,
            "flex": null,
            "flex_flow": null,
            "grid_area": null,
            "grid_auto_columns": null,
            "grid_auto_flow": null,
            "grid_auto_rows": null,
            "grid_column": null,
            "grid_gap": null,
            "grid_row": null,
            "grid_template_areas": null,
            "grid_template_columns": null,
            "grid_template_rows": null,
            "height": null,
            "justify_content": null,
            "justify_items": null,
            "left": null,
            "margin": null,
            "max_height": null,
            "max_width": null,
            "min_height": null,
            "min_width": null,
            "object_fit": null,
            "object_position": null,
            "order": null,
            "overflow": null,
            "overflow_x": null,
            "overflow_y": null,
            "padding": null,
            "right": null,
            "top": null,
            "visibility": null,
            "width": null
          }
        },
        "de57e4009d2b44519f6fe2fa21fc1768": {
          "model_module": "@jupyter-widgets/controls",
          "model_name": "DescriptionStyleModel",
          "model_module_version": "1.5.0",
          "state": {
            "_model_module": "@jupyter-widgets/controls",
            "_model_module_version": "1.5.0",
            "_model_name": "DescriptionStyleModel",
            "_view_count": null,
            "_view_module": "@jupyter-widgets/base",
            "_view_module_version": "1.2.0",
            "_view_name": "StyleView",
            "description_width": ""
          }
        },
        "cd67d5733aa84c44996001dbdbbfcd27": {
          "model_module": "@jupyter-widgets/controls",
          "model_name": "HBoxModel",
          "model_module_version": "1.5.0",
          "state": {
            "_dom_classes": [],
            "_model_module": "@jupyter-widgets/controls",
            "_model_module_version": "1.5.0",
            "_model_name": "HBoxModel",
            "_view_count": null,
            "_view_module": "@jupyter-widgets/controls",
            "_view_module_version": "1.5.0",
            "_view_name": "HBoxView",
            "box_style": "",
            "children": [
              "IPY_MODEL_e0d8637c3aac4ca1bd82aabe23dc3fa3",
              "IPY_MODEL_64b4496591df46da803a1dc4b188ae8a",
              "IPY_MODEL_e30cf69e778d4e47833e6fc9a342b707"
            ],
            "layout": "IPY_MODEL_d8e6f8406fb046b0bbecc4ca851236d5"
          }
        },
        "e0d8637c3aac4ca1bd82aabe23dc3fa3": {
          "model_module": "@jupyter-widgets/controls",
          "model_name": "HTMLModel",
          "model_module_version": "1.5.0",
          "state": {
            "_dom_classes": [],
            "_model_module": "@jupyter-widgets/controls",
            "_model_module_version": "1.5.0",
            "_model_name": "HTMLModel",
            "_view_count": null,
            "_view_module": "@jupyter-widgets/controls",
            "_view_module_version": "1.5.0",
            "_view_name": "HTMLView",
            "description": "",
            "description_tooltip": null,
            "layout": "IPY_MODEL_1be1d056a9e9429888eb4420ae9b560c",
            "placeholder": "​",
            "style": "IPY_MODEL_dfc1aa4d44a14c68936e794f958a2240",
            "value": "Generating train split: 100%"
          }
        },
        "64b4496591df46da803a1dc4b188ae8a": {
          "model_module": "@jupyter-widgets/controls",
          "model_name": "FloatProgressModel",
          "model_module_version": "1.5.0",
          "state": {
            "_dom_classes": [],
            "_model_module": "@jupyter-widgets/controls",
            "_model_module_version": "1.5.0",
            "_model_name": "FloatProgressModel",
            "_view_count": null,
            "_view_module": "@jupyter-widgets/controls",
            "_view_module_version": "1.5.0",
            "_view_name": "ProgressView",
            "bar_style": "success",
            "description": "",
            "description_tooltip": null,
            "layout": "IPY_MODEL_55b78ee487db43dc8c85d6659e4f3c69",
            "max": 8544,
            "min": 0,
            "orientation": "horizontal",
            "style": "IPY_MODEL_9673e7597c084e5e9a12ce9db18d6afd",
            "value": 8544
          }
        },
        "e30cf69e778d4e47833e6fc9a342b707": {
          "model_module": "@jupyter-widgets/controls",
          "model_name": "HTMLModel",
          "model_module_version": "1.5.0",
          "state": {
            "_dom_classes": [],
            "_model_module": "@jupyter-widgets/controls",
            "_model_module_version": "1.5.0",
            "_model_name": "HTMLModel",
            "_view_count": null,
            "_view_module": "@jupyter-widgets/controls",
            "_view_module_version": "1.5.0",
            "_view_name": "HTMLView",
            "description": "",
            "description_tooltip": null,
            "layout": "IPY_MODEL_637c0a4e3d9e443a8ce9c60146200ec0",
            "placeholder": "​",
            "style": "IPY_MODEL_eb01ed2afa344844b7a3c7d9163d26a5",
            "value": " 8544/8544 [00:00&lt;00:00, 19294.78 examples/s]"
          }
        },
        "d8e6f8406fb046b0bbecc4ca851236d5": {
          "model_module": "@jupyter-widgets/base",
          "model_name": "LayoutModel",
          "model_module_version": "1.2.0",
          "state": {
            "_model_module": "@jupyter-widgets/base",
            "_model_module_version": "1.2.0",
            "_model_name": "LayoutModel",
            "_view_count": null,
            "_view_module": "@jupyter-widgets/base",
            "_view_module_version": "1.2.0",
            "_view_name": "LayoutView",
            "align_content": null,
            "align_items": null,
            "align_self": null,
            "border": null,
            "bottom": null,
            "display": null,
            "flex": null,
            "flex_flow": null,
            "grid_area": null,
            "grid_auto_columns": null,
            "grid_auto_flow": null,
            "grid_auto_rows": null,
            "grid_column": null,
            "grid_gap": null,
            "grid_row": null,
            "grid_template_areas": null,
            "grid_template_columns": null,
            "grid_template_rows": null,
            "height": null,
            "justify_content": null,
            "justify_items": null,
            "left": null,
            "margin": null,
            "max_height": null,
            "max_width": null,
            "min_height": null,
            "min_width": null,
            "object_fit": null,
            "object_position": null,
            "order": null,
            "overflow": null,
            "overflow_x": null,
            "overflow_y": null,
            "padding": null,
            "right": null,
            "top": null,
            "visibility": null,
            "width": null
          }
        },
        "1be1d056a9e9429888eb4420ae9b560c": {
          "model_module": "@jupyter-widgets/base",
          "model_name": "LayoutModel",
          "model_module_version": "1.2.0",
          "state": {
            "_model_module": "@jupyter-widgets/base",
            "_model_module_version": "1.2.0",
            "_model_name": "LayoutModel",
            "_view_count": null,
            "_view_module": "@jupyter-widgets/base",
            "_view_module_version": "1.2.0",
            "_view_name": "LayoutView",
            "align_content": null,
            "align_items": null,
            "align_self": null,
            "border": null,
            "bottom": null,
            "display": null,
            "flex": null,
            "flex_flow": null,
            "grid_area": null,
            "grid_auto_columns": null,
            "grid_auto_flow": null,
            "grid_auto_rows": null,
            "grid_column": null,
            "grid_gap": null,
            "grid_row": null,
            "grid_template_areas": null,
            "grid_template_columns": null,
            "grid_template_rows": null,
            "height": null,
            "justify_content": null,
            "justify_items": null,
            "left": null,
            "margin": null,
            "max_height": null,
            "max_width": null,
            "min_height": null,
            "min_width": null,
            "object_fit": null,
            "object_position": null,
            "order": null,
            "overflow": null,
            "overflow_x": null,
            "overflow_y": null,
            "padding": null,
            "right": null,
            "top": null,
            "visibility": null,
            "width": null
          }
        },
        "dfc1aa4d44a14c68936e794f958a2240": {
          "model_module": "@jupyter-widgets/controls",
          "model_name": "DescriptionStyleModel",
          "model_module_version": "1.5.0",
          "state": {
            "_model_module": "@jupyter-widgets/controls",
            "_model_module_version": "1.5.0",
            "_model_name": "DescriptionStyleModel",
            "_view_count": null,
            "_view_module": "@jupyter-widgets/base",
            "_view_module_version": "1.2.0",
            "_view_name": "StyleView",
            "description_width": ""
          }
        },
        "55b78ee487db43dc8c85d6659e4f3c69": {
          "model_module": "@jupyter-widgets/base",
          "model_name": "LayoutModel",
          "model_module_version": "1.2.0",
          "state": {
            "_model_module": "@jupyter-widgets/base",
            "_model_module_version": "1.2.0",
            "_model_name": "LayoutModel",
            "_view_count": null,
            "_view_module": "@jupyter-widgets/base",
            "_view_module_version": "1.2.0",
            "_view_name": "LayoutView",
            "align_content": null,
            "align_items": null,
            "align_self": null,
            "border": null,
            "bottom": null,
            "display": null,
            "flex": null,
            "flex_flow": null,
            "grid_area": null,
            "grid_auto_columns": null,
            "grid_auto_flow": null,
            "grid_auto_rows": null,
            "grid_column": null,
            "grid_gap": null,
            "grid_row": null,
            "grid_template_areas": null,
            "grid_template_columns": null,
            "grid_template_rows": null,
            "height": null,
            "justify_content": null,
            "justify_items": null,
            "left": null,
            "margin": null,
            "max_height": null,
            "max_width": null,
            "min_height": null,
            "min_width": null,
            "object_fit": null,
            "object_position": null,
            "order": null,
            "overflow": null,
            "overflow_x": null,
            "overflow_y": null,
            "padding": null,
            "right": null,
            "top": null,
            "visibility": null,
            "width": null
          }
        },
        "9673e7597c084e5e9a12ce9db18d6afd": {
          "model_module": "@jupyter-widgets/controls",
          "model_name": "ProgressStyleModel",
          "model_module_version": "1.5.0",
          "state": {
            "_model_module": "@jupyter-widgets/controls",
            "_model_module_version": "1.5.0",
            "_model_name": "ProgressStyleModel",
            "_view_count": null,
            "_view_module": "@jupyter-widgets/base",
            "_view_module_version": "1.2.0",
            "_view_name": "StyleView",
            "bar_color": null,
            "description_width": ""
          }
        },
        "637c0a4e3d9e443a8ce9c60146200ec0": {
          "model_module": "@jupyter-widgets/base",
          "model_name": "LayoutModel",
          "model_module_version": "1.2.0",
          "state": {
            "_model_module": "@jupyter-widgets/base",
            "_model_module_version": "1.2.0",
            "_model_name": "LayoutModel",
            "_view_count": null,
            "_view_module": "@jupyter-widgets/base",
            "_view_module_version": "1.2.0",
            "_view_name": "LayoutView",
            "align_content": null,
            "align_items": null,
            "align_self": null,
            "border": null,
            "bottom": null,
            "display": null,
            "flex": null,
            "flex_flow": null,
            "grid_area": null,
            "grid_auto_columns": null,
            "grid_auto_flow": null,
            "grid_auto_rows": null,
            "grid_column": null,
            "grid_gap": null,
            "grid_row": null,
            "grid_template_areas": null,
            "grid_template_columns": null,
            "grid_template_rows": null,
            "height": null,
            "justify_content": null,
            "justify_items": null,
            "left": null,
            "margin": null,
            "max_height": null,
            "max_width": null,
            "min_height": null,
            "min_width": null,
            "object_fit": null,
            "object_position": null,
            "order": null,
            "overflow": null,
            "overflow_x": null,
            "overflow_y": null,
            "padding": null,
            "right": null,
            "top": null,
            "visibility": null,
            "width": null
          }
        },
        "eb01ed2afa344844b7a3c7d9163d26a5": {
          "model_module": "@jupyter-widgets/controls",
          "model_name": "DescriptionStyleModel",
          "model_module_version": "1.5.0",
          "state": {
            "_model_module": "@jupyter-widgets/controls",
            "_model_module_version": "1.5.0",
            "_model_name": "DescriptionStyleModel",
            "_view_count": null,
            "_view_module": "@jupyter-widgets/base",
            "_view_module_version": "1.2.0",
            "_view_name": "StyleView",
            "description_width": ""
          }
        },
        "636e6e0b31a447c79435a1aaacddd5db": {
          "model_module": "@jupyter-widgets/controls",
          "model_name": "HBoxModel",
          "model_module_version": "1.5.0",
          "state": {
            "_dom_classes": [],
            "_model_module": "@jupyter-widgets/controls",
            "_model_module_version": "1.5.0",
            "_model_name": "HBoxModel",
            "_view_count": null,
            "_view_module": "@jupyter-widgets/controls",
            "_view_module_version": "1.5.0",
            "_view_name": "HBoxView",
            "box_style": "",
            "children": [
              "IPY_MODEL_0718db3f2be645b3ace2a46cd01335b7",
              "IPY_MODEL_23f65841e3d94a04b8c53cdd52ff7d09",
              "IPY_MODEL_3f9e8960eeff43898c21fa4e78ef6ee0"
            ],
            "layout": "IPY_MODEL_bbf70435e1854ea7b094ebc0c6ae762b"
          }
        },
        "0718db3f2be645b3ace2a46cd01335b7": {
          "model_module": "@jupyter-widgets/controls",
          "model_name": "HTMLModel",
          "model_module_version": "1.5.0",
          "state": {
            "_dom_classes": [],
            "_model_module": "@jupyter-widgets/controls",
            "_model_module_version": "1.5.0",
            "_model_name": "HTMLModel",
            "_view_count": null,
            "_view_module": "@jupyter-widgets/controls",
            "_view_module_version": "1.5.0",
            "_view_name": "HTMLView",
            "description": "",
            "description_tooltip": null,
            "layout": "IPY_MODEL_a07a89b2677f469baa8d5f1c3498ef40",
            "placeholder": "​",
            "style": "IPY_MODEL_f532bdb947d247fe867eb1d48a0566a3",
            "value": "Generating validation split: 100%"
          }
        },
        "23f65841e3d94a04b8c53cdd52ff7d09": {
          "model_module": "@jupyter-widgets/controls",
          "model_name": "FloatProgressModel",
          "model_module_version": "1.5.0",
          "state": {
            "_dom_classes": [],
            "_model_module": "@jupyter-widgets/controls",
            "_model_module_version": "1.5.0",
            "_model_name": "FloatProgressModel",
            "_view_count": null,
            "_view_module": "@jupyter-widgets/controls",
            "_view_module_version": "1.5.0",
            "_view_name": "ProgressView",
            "bar_style": "success",
            "description": "",
            "description_tooltip": null,
            "layout": "IPY_MODEL_8a92e8bb23074ec99f2a548f7a694976",
            "max": 1101,
            "min": 0,
            "orientation": "horizontal",
            "style": "IPY_MODEL_92745ee7de854ed99591562433b5f318",
            "value": 1101
          }
        },
        "3f9e8960eeff43898c21fa4e78ef6ee0": {
          "model_module": "@jupyter-widgets/controls",
          "model_name": "HTMLModel",
          "model_module_version": "1.5.0",
          "state": {
            "_dom_classes": [],
            "_model_module": "@jupyter-widgets/controls",
            "_model_module_version": "1.5.0",
            "_model_name": "HTMLModel",
            "_view_count": null,
            "_view_module": "@jupyter-widgets/controls",
            "_view_module_version": "1.5.0",
            "_view_name": "HTMLView",
            "description": "",
            "description_tooltip": null,
            "layout": "IPY_MODEL_674c92eea6d4418394155695c41b5472",
            "placeholder": "​",
            "style": "IPY_MODEL_9d8f743c762d43fc8f0e4be1f9712cfd",
            "value": " 1101/1101 [00:00&lt;00:00, 5154.84 examples/s]"
          }
        },
        "bbf70435e1854ea7b094ebc0c6ae762b": {
          "model_module": "@jupyter-widgets/base",
          "model_name": "LayoutModel",
          "model_module_version": "1.2.0",
          "state": {
            "_model_module": "@jupyter-widgets/base",
            "_model_module_version": "1.2.0",
            "_model_name": "LayoutModel",
            "_view_count": null,
            "_view_module": "@jupyter-widgets/base",
            "_view_module_version": "1.2.0",
            "_view_name": "LayoutView",
            "align_content": null,
            "align_items": null,
            "align_self": null,
            "border": null,
            "bottom": null,
            "display": null,
            "flex": null,
            "flex_flow": null,
            "grid_area": null,
            "grid_auto_columns": null,
            "grid_auto_flow": null,
            "grid_auto_rows": null,
            "grid_column": null,
            "grid_gap": null,
            "grid_row": null,
            "grid_template_areas": null,
            "grid_template_columns": null,
            "grid_template_rows": null,
            "height": null,
            "justify_content": null,
            "justify_items": null,
            "left": null,
            "margin": null,
            "max_height": null,
            "max_width": null,
            "min_height": null,
            "min_width": null,
            "object_fit": null,
            "object_position": null,
            "order": null,
            "overflow": null,
            "overflow_x": null,
            "overflow_y": null,
            "padding": null,
            "right": null,
            "top": null,
            "visibility": null,
            "width": null
          }
        },
        "a07a89b2677f469baa8d5f1c3498ef40": {
          "model_module": "@jupyter-widgets/base",
          "model_name": "LayoutModel",
          "model_module_version": "1.2.0",
          "state": {
            "_model_module": "@jupyter-widgets/base",
            "_model_module_version": "1.2.0",
            "_model_name": "LayoutModel",
            "_view_count": null,
            "_view_module": "@jupyter-widgets/base",
            "_view_module_version": "1.2.0",
            "_view_name": "LayoutView",
            "align_content": null,
            "align_items": null,
            "align_self": null,
            "border": null,
            "bottom": null,
            "display": null,
            "flex": null,
            "flex_flow": null,
            "grid_area": null,
            "grid_auto_columns": null,
            "grid_auto_flow": null,
            "grid_auto_rows": null,
            "grid_column": null,
            "grid_gap": null,
            "grid_row": null,
            "grid_template_areas": null,
            "grid_template_columns": null,
            "grid_template_rows": null,
            "height": null,
            "justify_content": null,
            "justify_items": null,
            "left": null,
            "margin": null,
            "max_height": null,
            "max_width": null,
            "min_height": null,
            "min_width": null,
            "object_fit": null,
            "object_position": null,
            "order": null,
            "overflow": null,
            "overflow_x": null,
            "overflow_y": null,
            "padding": null,
            "right": null,
            "top": null,
            "visibility": null,
            "width": null
          }
        },
        "f532bdb947d247fe867eb1d48a0566a3": {
          "model_module": "@jupyter-widgets/controls",
          "model_name": "DescriptionStyleModel",
          "model_module_version": "1.5.0",
          "state": {
            "_model_module": "@jupyter-widgets/controls",
            "_model_module_version": "1.5.0",
            "_model_name": "DescriptionStyleModel",
            "_view_count": null,
            "_view_module": "@jupyter-widgets/base",
            "_view_module_version": "1.2.0",
            "_view_name": "StyleView",
            "description_width": ""
          }
        },
        "8a92e8bb23074ec99f2a548f7a694976": {
          "model_module": "@jupyter-widgets/base",
          "model_name": "LayoutModel",
          "model_module_version": "1.2.0",
          "state": {
            "_model_module": "@jupyter-widgets/base",
            "_model_module_version": "1.2.0",
            "_model_name": "LayoutModel",
            "_view_count": null,
            "_view_module": "@jupyter-widgets/base",
            "_view_module_version": "1.2.0",
            "_view_name": "LayoutView",
            "align_content": null,
            "align_items": null,
            "align_self": null,
            "border": null,
            "bottom": null,
            "display": null,
            "flex": null,
            "flex_flow": null,
            "grid_area": null,
            "grid_auto_columns": null,
            "grid_auto_flow": null,
            "grid_auto_rows": null,
            "grid_column": null,
            "grid_gap": null,
            "grid_row": null,
            "grid_template_areas": null,
            "grid_template_columns": null,
            "grid_template_rows": null,
            "height": null,
            "justify_content": null,
            "justify_items": null,
            "left": null,
            "margin": null,
            "max_height": null,
            "max_width": null,
            "min_height": null,
            "min_width": null,
            "object_fit": null,
            "object_position": null,
            "order": null,
            "overflow": null,
            "overflow_x": null,
            "overflow_y": null,
            "padding": null,
            "right": null,
            "top": null,
            "visibility": null,
            "width": null
          }
        },
        "92745ee7de854ed99591562433b5f318": {
          "model_module": "@jupyter-widgets/controls",
          "model_name": "ProgressStyleModel",
          "model_module_version": "1.5.0",
          "state": {
            "_model_module": "@jupyter-widgets/controls",
            "_model_module_version": "1.5.0",
            "_model_name": "ProgressStyleModel",
            "_view_count": null,
            "_view_module": "@jupyter-widgets/base",
            "_view_module_version": "1.2.0",
            "_view_name": "StyleView",
            "bar_color": null,
            "description_width": ""
          }
        },
        "674c92eea6d4418394155695c41b5472": {
          "model_module": "@jupyter-widgets/base",
          "model_name": "LayoutModel",
          "model_module_version": "1.2.0",
          "state": {
            "_model_module": "@jupyter-widgets/base",
            "_model_module_version": "1.2.0",
            "_model_name": "LayoutModel",
            "_view_count": null,
            "_view_module": "@jupyter-widgets/base",
            "_view_module_version": "1.2.0",
            "_view_name": "LayoutView",
            "align_content": null,
            "align_items": null,
            "align_self": null,
            "border": null,
            "bottom": null,
            "display": null,
            "flex": null,
            "flex_flow": null,
            "grid_area": null,
            "grid_auto_columns": null,
            "grid_auto_flow": null,
            "grid_auto_rows": null,
            "grid_column": null,
            "grid_gap": null,
            "grid_row": null,
            "grid_template_areas": null,
            "grid_template_columns": null,
            "grid_template_rows": null,
            "height": null,
            "justify_content": null,
            "justify_items": null,
            "left": null,
            "margin": null,
            "max_height": null,
            "max_width": null,
            "min_height": null,
            "min_width": null,
            "object_fit": null,
            "object_position": null,
            "order": null,
            "overflow": null,
            "overflow_x": null,
            "overflow_y": null,
            "padding": null,
            "right": null,
            "top": null,
            "visibility": null,
            "width": null
          }
        },
        "9d8f743c762d43fc8f0e4be1f9712cfd": {
          "model_module": "@jupyter-widgets/controls",
          "model_name": "DescriptionStyleModel",
          "model_module_version": "1.5.0",
          "state": {
            "_model_module": "@jupyter-widgets/controls",
            "_model_module_version": "1.5.0",
            "_model_name": "DescriptionStyleModel",
            "_view_count": null,
            "_view_module": "@jupyter-widgets/base",
            "_view_module_version": "1.2.0",
            "_view_name": "StyleView",
            "description_width": ""
          }
        },
        "79faec205aec4050bbbc89fb20eba3d2": {
          "model_module": "@jupyter-widgets/controls",
          "model_name": "HBoxModel",
          "model_module_version": "1.5.0",
          "state": {
            "_dom_classes": [],
            "_model_module": "@jupyter-widgets/controls",
            "_model_module_version": "1.5.0",
            "_model_name": "HBoxModel",
            "_view_count": null,
            "_view_module": "@jupyter-widgets/controls",
            "_view_module_version": "1.5.0",
            "_view_name": "HBoxView",
            "box_style": "",
            "children": [
              "IPY_MODEL_e75d13f3c78645acb75a9d5bce77fc09",
              "IPY_MODEL_dabd7ad0450b4d7fac1bc7d7db5d8ae1",
              "IPY_MODEL_e8ed21ef1a6c4025bc30a901a279dcc2"
            ],
            "layout": "IPY_MODEL_4a3f591f6d5549eb8b8e0424d18cf877"
          }
        },
        "e75d13f3c78645acb75a9d5bce77fc09": {
          "model_module": "@jupyter-widgets/controls",
          "model_name": "HTMLModel",
          "model_module_version": "1.5.0",
          "state": {
            "_dom_classes": [],
            "_model_module": "@jupyter-widgets/controls",
            "_model_module_version": "1.5.0",
            "_model_name": "HTMLModel",
            "_view_count": null,
            "_view_module": "@jupyter-widgets/controls",
            "_view_module_version": "1.5.0",
            "_view_name": "HTMLView",
            "description": "",
            "description_tooltip": null,
            "layout": "IPY_MODEL_a813688511a4453eaf3421c1aa1772a0",
            "placeholder": "​",
            "style": "IPY_MODEL_080689e2862a4cc2a5ea7f6c9f51acd5",
            "value": "Generating test split: 100%"
          }
        },
        "dabd7ad0450b4d7fac1bc7d7db5d8ae1": {
          "model_module": "@jupyter-widgets/controls",
          "model_name": "FloatProgressModel",
          "model_module_version": "1.5.0",
          "state": {
            "_dom_classes": [],
            "_model_module": "@jupyter-widgets/controls",
            "_model_module_version": "1.5.0",
            "_model_name": "FloatProgressModel",
            "_view_count": null,
            "_view_module": "@jupyter-widgets/controls",
            "_view_module_version": "1.5.0",
            "_view_name": "ProgressView",
            "bar_style": "success",
            "description": "",
            "description_tooltip": null,
            "layout": "IPY_MODEL_3d1e72fe303a4b3984aa6291988c0e2f",
            "max": 2210,
            "min": 0,
            "orientation": "horizontal",
            "style": "IPY_MODEL_4c9ed7cba7484b51a605e766cf2c6985",
            "value": 2210
          }
        },
        "e8ed21ef1a6c4025bc30a901a279dcc2": {
          "model_module": "@jupyter-widgets/controls",
          "model_name": "HTMLModel",
          "model_module_version": "1.5.0",
          "state": {
            "_dom_classes": [],
            "_model_module": "@jupyter-widgets/controls",
            "_model_module_version": "1.5.0",
            "_model_name": "HTMLModel",
            "_view_count": null,
            "_view_module": "@jupyter-widgets/controls",
            "_view_module_version": "1.5.0",
            "_view_name": "HTMLView",
            "description": "",
            "description_tooltip": null,
            "layout": "IPY_MODEL_54bffcff6631459dbfbd3c65aebc8afc",
            "placeholder": "​",
            "style": "IPY_MODEL_2ea725b21608407e89ed4d827eb76331",
            "value": " 2210/2210 [00:00&lt;00:00, 9585.28 examples/s]"
          }
        },
        "4a3f591f6d5549eb8b8e0424d18cf877": {
          "model_module": "@jupyter-widgets/base",
          "model_name": "LayoutModel",
          "model_module_version": "1.2.0",
          "state": {
            "_model_module": "@jupyter-widgets/base",
            "_model_module_version": "1.2.0",
            "_model_name": "LayoutModel",
            "_view_count": null,
            "_view_module": "@jupyter-widgets/base",
            "_view_module_version": "1.2.0",
            "_view_name": "LayoutView",
            "align_content": null,
            "align_items": null,
            "align_self": null,
            "border": null,
            "bottom": null,
            "display": null,
            "flex": null,
            "flex_flow": null,
            "grid_area": null,
            "grid_auto_columns": null,
            "grid_auto_flow": null,
            "grid_auto_rows": null,
            "grid_column": null,
            "grid_gap": null,
            "grid_row": null,
            "grid_template_areas": null,
            "grid_template_columns": null,
            "grid_template_rows": null,
            "height": null,
            "justify_content": null,
            "justify_items": null,
            "left": null,
            "margin": null,
            "max_height": null,
            "max_width": null,
            "min_height": null,
            "min_width": null,
            "object_fit": null,
            "object_position": null,
            "order": null,
            "overflow": null,
            "overflow_x": null,
            "overflow_y": null,
            "padding": null,
            "right": null,
            "top": null,
            "visibility": null,
            "width": null
          }
        },
        "a813688511a4453eaf3421c1aa1772a0": {
          "model_module": "@jupyter-widgets/base",
          "model_name": "LayoutModel",
          "model_module_version": "1.2.0",
          "state": {
            "_model_module": "@jupyter-widgets/base",
            "_model_module_version": "1.2.0",
            "_model_name": "LayoutModel",
            "_view_count": null,
            "_view_module": "@jupyter-widgets/base",
            "_view_module_version": "1.2.0",
            "_view_name": "LayoutView",
            "align_content": null,
            "align_items": null,
            "align_self": null,
            "border": null,
            "bottom": null,
            "display": null,
            "flex": null,
            "flex_flow": null,
            "grid_area": null,
            "grid_auto_columns": null,
            "grid_auto_flow": null,
            "grid_auto_rows": null,
            "grid_column": null,
            "grid_gap": null,
            "grid_row": null,
            "grid_template_areas": null,
            "grid_template_columns": null,
            "grid_template_rows": null,
            "height": null,
            "justify_content": null,
            "justify_items": null,
            "left": null,
            "margin": null,
            "max_height": null,
            "max_width": null,
            "min_height": null,
            "min_width": null,
            "object_fit": null,
            "object_position": null,
            "order": null,
            "overflow": null,
            "overflow_x": null,
            "overflow_y": null,
            "padding": null,
            "right": null,
            "top": null,
            "visibility": null,
            "width": null
          }
        },
        "080689e2862a4cc2a5ea7f6c9f51acd5": {
          "model_module": "@jupyter-widgets/controls",
          "model_name": "DescriptionStyleModel",
          "model_module_version": "1.5.0",
          "state": {
            "_model_module": "@jupyter-widgets/controls",
            "_model_module_version": "1.5.0",
            "_model_name": "DescriptionStyleModel",
            "_view_count": null,
            "_view_module": "@jupyter-widgets/base",
            "_view_module_version": "1.2.0",
            "_view_name": "StyleView",
            "description_width": ""
          }
        },
        "3d1e72fe303a4b3984aa6291988c0e2f": {
          "model_module": "@jupyter-widgets/base",
          "model_name": "LayoutModel",
          "model_module_version": "1.2.0",
          "state": {
            "_model_module": "@jupyter-widgets/base",
            "_model_module_version": "1.2.0",
            "_model_name": "LayoutModel",
            "_view_count": null,
            "_view_module": "@jupyter-widgets/base",
            "_view_module_version": "1.2.0",
            "_view_name": "LayoutView",
            "align_content": null,
            "align_items": null,
            "align_self": null,
            "border": null,
            "bottom": null,
            "display": null,
            "flex": null,
            "flex_flow": null,
            "grid_area": null,
            "grid_auto_columns": null,
            "grid_auto_flow": null,
            "grid_auto_rows": null,
            "grid_column": null,
            "grid_gap": null,
            "grid_row": null,
            "grid_template_areas": null,
            "grid_template_columns": null,
            "grid_template_rows": null,
            "height": null,
            "justify_content": null,
            "justify_items": null,
            "left": null,
            "margin": null,
            "max_height": null,
            "max_width": null,
            "min_height": null,
            "min_width": null,
            "object_fit": null,
            "object_position": null,
            "order": null,
            "overflow": null,
            "overflow_x": null,
            "overflow_y": null,
            "padding": null,
            "right": null,
            "top": null,
            "visibility": null,
            "width": null
          }
        },
        "4c9ed7cba7484b51a605e766cf2c6985": {
          "model_module": "@jupyter-widgets/controls",
          "model_name": "ProgressStyleModel",
          "model_module_version": "1.5.0",
          "state": {
            "_model_module": "@jupyter-widgets/controls",
            "_model_module_version": "1.5.0",
            "_model_name": "ProgressStyleModel",
            "_view_count": null,
            "_view_module": "@jupyter-widgets/base",
            "_view_module_version": "1.2.0",
            "_view_name": "StyleView",
            "bar_color": null,
            "description_width": ""
          }
        },
        "54bffcff6631459dbfbd3c65aebc8afc": {
          "model_module": "@jupyter-widgets/base",
          "model_name": "LayoutModel",
          "model_module_version": "1.2.0",
          "state": {
            "_model_module": "@jupyter-widgets/base",
            "_model_module_version": "1.2.0",
            "_model_name": "LayoutModel",
            "_view_count": null,
            "_view_module": "@jupyter-widgets/base",
            "_view_module_version": "1.2.0",
            "_view_name": "LayoutView",
            "align_content": null,
            "align_items": null,
            "align_self": null,
            "border": null,
            "bottom": null,
            "display": null,
            "flex": null,
            "flex_flow": null,
            "grid_area": null,
            "grid_auto_columns": null,
            "grid_auto_flow": null,
            "grid_auto_rows": null,
            "grid_column": null,
            "grid_gap": null,
            "grid_row": null,
            "grid_template_areas": null,
            "grid_template_columns": null,
            "grid_template_rows": null,
            "height": null,
            "justify_content": null,
            "justify_items": null,
            "left": null,
            "margin": null,
            "max_height": null,
            "max_width": null,
            "min_height": null,
            "min_width": null,
            "object_fit": null,
            "object_position": null,
            "order": null,
            "overflow": null,
            "overflow_x": null,
            "overflow_y": null,
            "padding": null,
            "right": null,
            "top": null,
            "visibility": null,
            "width": null
          }
        },
        "2ea725b21608407e89ed4d827eb76331": {
          "model_module": "@jupyter-widgets/controls",
          "model_name": "DescriptionStyleModel",
          "model_module_version": "1.5.0",
          "state": {
            "_model_module": "@jupyter-widgets/controls",
            "_model_module_version": "1.5.0",
            "_model_name": "DescriptionStyleModel",
            "_view_count": null,
            "_view_module": "@jupyter-widgets/base",
            "_view_module_version": "1.2.0",
            "_view_name": "StyleView",
            "description_width": ""
          }
        }
      }
    }
  },
  "cells": [
    {
      "cell_type": "markdown",
      "metadata": {
        "id": "view-in-github",
        "colab_type": "text"
      },
      "source": [
        "<a href=\"https://colab.research.google.com/github/Borg2/Naive-Bayes-for-text-classification/blob/main/NaiveBayes_NLP.ipynb\" target=\"_parent\"><img src=\"https://colab.research.google.com/assets/colab-badge.svg\" alt=\"Open In Colab\"/></a>"
      ]
    },
    {
      "cell_type": "code",
      "source": [
        "pip install datasets"
      ],
      "metadata": {
        "colab": {
          "base_uri": "https://localhost:8080/"
        },
        "id": "i5QTQzFp94Ec",
        "outputId": "fa732c8d-0eac-462b-e783-5906b1b8f5b2"
      },
      "execution_count": null,
      "outputs": [
        {
          "output_type": "stream",
          "name": "stdout",
          "text": [
            "Collecting datasets\n",
            "  Downloading datasets-2.18.0-py3-none-any.whl (510 kB)\n",
            "\u001b[2K     \u001b[90m━━━━━━━━━━━━━━━━━━━━━━━━━━━━━━━━━━━━━━━━\u001b[0m \u001b[32m510.5/510.5 kB\u001b[0m \u001b[31m6.3 MB/s\u001b[0m eta \u001b[36m0:00:00\u001b[0m\n",
            "\u001b[?25hRequirement already satisfied: filelock in /usr/local/lib/python3.10/dist-packages (from datasets) (3.13.1)\n",
            "Requirement already satisfied: numpy>=1.17 in /usr/local/lib/python3.10/dist-packages (from datasets) (1.25.2)\n",
            "Requirement already satisfied: pyarrow>=12.0.0 in /usr/local/lib/python3.10/dist-packages (from datasets) (14.0.2)\n",
            "Requirement already satisfied: pyarrow-hotfix in /usr/local/lib/python3.10/dist-packages (from datasets) (0.6)\n",
            "Collecting dill<0.3.9,>=0.3.0 (from datasets)\n",
            "  Downloading dill-0.3.8-py3-none-any.whl (116 kB)\n",
            "\u001b[2K     \u001b[90m━━━━━━━━━━━━━━━━━━━━━━━━━━━━━━━━━━━━━━━━\u001b[0m \u001b[32m116.3/116.3 kB\u001b[0m \u001b[31m10.5 MB/s\u001b[0m eta \u001b[36m0:00:00\u001b[0m\n",
            "\u001b[?25hRequirement already satisfied: pandas in /usr/local/lib/python3.10/dist-packages (from datasets) (1.5.3)\n",
            "Requirement already satisfied: requests>=2.19.0 in /usr/local/lib/python3.10/dist-packages (from datasets) (2.31.0)\n",
            "Requirement already satisfied: tqdm>=4.62.1 in /usr/local/lib/python3.10/dist-packages (from datasets) (4.66.2)\n",
            "Collecting xxhash (from datasets)\n",
            "  Downloading xxhash-3.4.1-cp310-cp310-manylinux_2_17_x86_64.manylinux2014_x86_64.whl (194 kB)\n",
            "\u001b[2K     \u001b[90m━━━━━━━━━━━━━━━━━━━━━━━━━━━━━━━━━━━━━━━━\u001b[0m \u001b[32m194.1/194.1 kB\u001b[0m \u001b[31m9.9 MB/s\u001b[0m eta \u001b[36m0:00:00\u001b[0m\n",
            "\u001b[?25hCollecting multiprocess (from datasets)\n",
            "  Downloading multiprocess-0.70.16-py310-none-any.whl (134 kB)\n",
            "\u001b[2K     \u001b[90m━━━━━━━━━━━━━━━━━━━━━━━━━━━━━━━━━━━━━━━━\u001b[0m \u001b[32m134.8/134.8 kB\u001b[0m \u001b[31m12.7 MB/s\u001b[0m eta \u001b[36m0:00:00\u001b[0m\n",
            "\u001b[?25hRequirement already satisfied: fsspec[http]<=2024.2.0,>=2023.1.0 in /usr/local/lib/python3.10/dist-packages (from datasets) (2023.6.0)\n",
            "Requirement already satisfied: aiohttp in /usr/local/lib/python3.10/dist-packages (from datasets) (3.9.3)\n",
            "Requirement already satisfied: huggingface-hub>=0.19.4 in /usr/local/lib/python3.10/dist-packages (from datasets) (0.20.3)\n",
            "Requirement already satisfied: packaging in /usr/local/lib/python3.10/dist-packages (from datasets) (24.0)\n",
            "Requirement already satisfied: pyyaml>=5.1 in /usr/local/lib/python3.10/dist-packages (from datasets) (6.0.1)\n",
            "Requirement already satisfied: aiosignal>=1.1.2 in /usr/local/lib/python3.10/dist-packages (from aiohttp->datasets) (1.3.1)\n",
            "Requirement already satisfied: attrs>=17.3.0 in /usr/local/lib/python3.10/dist-packages (from aiohttp->datasets) (23.2.0)\n",
            "Requirement already satisfied: frozenlist>=1.1.1 in /usr/local/lib/python3.10/dist-packages (from aiohttp->datasets) (1.4.1)\n",
            "Requirement already satisfied: multidict<7.0,>=4.5 in /usr/local/lib/python3.10/dist-packages (from aiohttp->datasets) (6.0.5)\n",
            "Requirement already satisfied: yarl<2.0,>=1.0 in /usr/local/lib/python3.10/dist-packages (from aiohttp->datasets) (1.9.4)\n",
            "Requirement already satisfied: async-timeout<5.0,>=4.0 in /usr/local/lib/python3.10/dist-packages (from aiohttp->datasets) (4.0.3)\n",
            "Requirement already satisfied: typing-extensions>=3.7.4.3 in /usr/local/lib/python3.10/dist-packages (from huggingface-hub>=0.19.4->datasets) (4.10.0)\n",
            "Requirement already satisfied: charset-normalizer<4,>=2 in /usr/local/lib/python3.10/dist-packages (from requests>=2.19.0->datasets) (3.3.2)\n",
            "Requirement already satisfied: idna<4,>=2.5 in /usr/local/lib/python3.10/dist-packages (from requests>=2.19.0->datasets) (3.6)\n",
            "Requirement already satisfied: urllib3<3,>=1.21.1 in /usr/local/lib/python3.10/dist-packages (from requests>=2.19.0->datasets) (2.0.7)\n",
            "Requirement already satisfied: certifi>=2017.4.17 in /usr/local/lib/python3.10/dist-packages (from requests>=2.19.0->datasets) (2024.2.2)\n",
            "Requirement already satisfied: python-dateutil>=2.8.1 in /usr/local/lib/python3.10/dist-packages (from pandas->datasets) (2.8.2)\n",
            "Requirement already satisfied: pytz>=2020.1 in /usr/local/lib/python3.10/dist-packages (from pandas->datasets) (2023.4)\n",
            "Requirement already satisfied: six>=1.5 in /usr/local/lib/python3.10/dist-packages (from python-dateutil>=2.8.1->pandas->datasets) (1.16.0)\n",
            "Installing collected packages: xxhash, dill, multiprocess, datasets\n",
            "Successfully installed datasets-2.18.0 dill-0.3.8 multiprocess-0.70.16 xxhash-3.4.1\n"
          ]
        }
      ]
    },
    {
      "cell_type": "code",
      "execution_count": null,
      "metadata": {
        "colab": {
          "base_uri": "https://localhost:8080/",
          "height": 576,
          "referenced_widgets": [
            "5547deda3ed349d4afdfdcdef739bfbf",
            "53b2fd1b584e4162b9af5db55a559c59",
            "ab97e6211325467888a3b6050b0a920d",
            "1787516e4a8246818e310deb5fb08209",
            "f0302075d13c484d9252460854b95ded",
            "f7c8a65616204818a3d607461441bc4b",
            "57df994210ac4bc4a01b420af8989339",
            "9c27ed4030784ed188556cffe5bf56b6",
            "4c9dade8943b4e61a0a4551745d35066",
            "f8f0923f5dd540398201e315f8001d5e",
            "d69f9e2c939c4951a64ff7bea1c80750",
            "ece201ce93844c50881544603d92962e",
            "10c1d7fd1ddc448da1037532ab41cd2d",
            "eef49eddff174972beccd4e091b8551a",
            "e527207f917e4823a4e065790ef58ef5",
            "01ab8b3d6498422193d0a43ee4649445",
            "4ece77c127b4475d889302490b47f066",
            "801dc54fa9d5417689316c3e18a8bf58",
            "74a9a28793fe46bd82b23fac467e4ee3",
            "74a23648af614065b47e9db0c954394a",
            "1731e0518b53402bbbf818d589a00457",
            "44286d5fedc44f67b82bfb7e5393af0b",
            "a05cb04b645d4bceb72dfc931efbf1bf",
            "639dfb37f3a1428db1311106d3f9c3dc",
            "2bbcd77fe0aa442f81c240a269d1ca84",
            "57eb527be3d749e381651e9a2de21839",
            "2dfe259369824645ba01b00d3f832417",
            "bf7d3eb1b354467a93e3b1b3fda8f7bc",
            "1f0abdb32a624a6cadbabf0ace224141",
            "d0050c6f259b461d9f6a600d3edbae33",
            "e37aa80f92f9401cb873be4c7c07ffb4",
            "4f2884dc654743c09dbcdde8c341b0fe",
            "de57e4009d2b44519f6fe2fa21fc1768",
            "cd67d5733aa84c44996001dbdbbfcd27",
            "e0d8637c3aac4ca1bd82aabe23dc3fa3",
            "64b4496591df46da803a1dc4b188ae8a",
            "e30cf69e778d4e47833e6fc9a342b707",
            "d8e6f8406fb046b0bbecc4ca851236d5",
            "1be1d056a9e9429888eb4420ae9b560c",
            "dfc1aa4d44a14c68936e794f958a2240",
            "55b78ee487db43dc8c85d6659e4f3c69",
            "9673e7597c084e5e9a12ce9db18d6afd",
            "637c0a4e3d9e443a8ce9c60146200ec0",
            "eb01ed2afa344844b7a3c7d9163d26a5",
            "636e6e0b31a447c79435a1aaacddd5db",
            "0718db3f2be645b3ace2a46cd01335b7",
            "23f65841e3d94a04b8c53cdd52ff7d09",
            "3f9e8960eeff43898c21fa4e78ef6ee0",
            "bbf70435e1854ea7b094ebc0c6ae762b",
            "a07a89b2677f469baa8d5f1c3498ef40",
            "f532bdb947d247fe867eb1d48a0566a3",
            "8a92e8bb23074ec99f2a548f7a694976",
            "92745ee7de854ed99591562433b5f318",
            "674c92eea6d4418394155695c41b5472",
            "9d8f743c762d43fc8f0e4be1f9712cfd",
            "79faec205aec4050bbbc89fb20eba3d2",
            "e75d13f3c78645acb75a9d5bce77fc09",
            "dabd7ad0450b4d7fac1bc7d7db5d8ae1",
            "e8ed21ef1a6c4025bc30a901a279dcc2",
            "4a3f591f6d5549eb8b8e0424d18cf877",
            "a813688511a4453eaf3421c1aa1772a0",
            "080689e2862a4cc2a5ea7f6c9f51acd5",
            "3d1e72fe303a4b3984aa6291988c0e2f",
            "4c9ed7cba7484b51a605e766cf2c6985",
            "54bffcff6631459dbfbd3c65aebc8afc",
            "2ea725b21608407e89ed4d827eb76331"
          ]
        },
        "id": "6OEcMg8Y5azg",
        "outputId": "4996a2ad-5174-4af5-d165-39fa4feae99e"
      },
      "outputs": [
        {
          "output_type": "stream",
          "name": "stderr",
          "text": [
            "/usr/local/lib/python3.10/dist-packages/huggingface_hub/utils/_token.py:88: UserWarning: \n",
            "The secret `HF_TOKEN` does not exist in your Colab secrets.\n",
            "To authenticate with the Hugging Face Hub, create a token in your settings tab (https://huggingface.co/settings/tokens), set it as secret in your Google Colab and restart your session.\n",
            "You will be able to reuse this secret in all of your notebooks.\n",
            "Please note that authentication is recommended but still optional to access public models or datasets.\n",
            "  warnings.warn(\n"
          ]
        },
        {
          "output_type": "display_data",
          "data": {
            "text/plain": [
              "Downloading data:   0%|          | 0.00/1.69M [00:00<?, ?B/s]"
            ],
            "application/vnd.jupyter.widget-view+json": {
              "version_major": 2,
              "version_minor": 0,
              "model_id": "5547deda3ed349d4afdfdcdef739bfbf"
            }
          },
          "metadata": {}
        },
        {
          "output_type": "display_data",
          "data": {
            "text/plain": [
              "Downloading data:   0%|          | 0.00/224k [00:00<?, ?B/s]"
            ],
            "application/vnd.jupyter.widget-view+json": {
              "version_major": 2,
              "version_minor": 0,
              "model_id": "ece201ce93844c50881544603d92962e"
            }
          },
          "metadata": {}
        },
        {
          "output_type": "display_data",
          "data": {
            "text/plain": [
              "Downloading data:   0%|          | 0.00/441k [00:00<?, ?B/s]"
            ],
            "application/vnd.jupyter.widget-view+json": {
              "version_major": 2,
              "version_minor": 0,
              "model_id": "a05cb04b645d4bceb72dfc931efbf1bf"
            }
          },
          "metadata": {}
        },
        {
          "output_type": "display_data",
          "data": {
            "text/plain": [
              "Generating train split:   0%|          | 0/8544 [00:00<?, ? examples/s]"
            ],
            "application/vnd.jupyter.widget-view+json": {
              "version_major": 2,
              "version_minor": 0,
              "model_id": "cd67d5733aa84c44996001dbdbbfcd27"
            }
          },
          "metadata": {}
        },
        {
          "output_type": "display_data",
          "data": {
            "text/plain": [
              "Generating validation split:   0%|          | 0/1101 [00:00<?, ? examples/s]"
            ],
            "application/vnd.jupyter.widget-view+json": {
              "version_major": 2,
              "version_minor": 0,
              "model_id": "636e6e0b31a447c79435a1aaacddd5db"
            }
          },
          "metadata": {}
        },
        {
          "output_type": "display_data",
          "data": {
            "text/plain": [
              "Generating test split:   0%|          | 0/2210 [00:00<?, ? examples/s]"
            ],
            "application/vnd.jupyter.widget-view+json": {
              "version_major": 2,
              "version_minor": 0,
              "model_id": "79faec205aec4050bbbc89fb20eba3d2"
            }
          },
          "metadata": {}
        },
        {
          "output_type": "execute_result",
          "data": {
            "text/plain": [
              "DatasetDict({\n",
              "    train: Dataset({\n",
              "        features: ['sentence', 'label', 'tokens', 'tree'],\n",
              "        num_rows: 8544\n",
              "    })\n",
              "    validation: Dataset({\n",
              "        features: ['sentence', 'label', 'tokens', 'tree'],\n",
              "        num_rows: 1101\n",
              "    })\n",
              "    test: Dataset({\n",
              "        features: ['sentence', 'label', 'tokens', 'tree'],\n",
              "        num_rows: 2210\n",
              "    })\n",
              "})"
            ]
          },
          "metadata": {},
          "execution_count": 5
        }
      ],
      "source": [
        "from datasets import load_dataset\n",
        "\n",
        "dataset = load_dataset(\"sst\", \"default\")\n",
        "dataset"
      ]
    },
    {
      "cell_type": "markdown",
      "source": [
        "function to add class column"
      ],
      "metadata": {
        "id": "pOiX453Mxgjf"
      }
    },
    {
      "cell_type": "code",
      "source": [
        "def addClasses(data):\n",
        "  i=0\n",
        "  classes=[None]*len(data)\n",
        "  for label in data['label']:\n",
        "    if 0<=label <=0.2:\n",
        "      classes[i]=\"very negative\"\n",
        "    elif 0.2<label <=0.4:\n",
        "      classes[i]=\"negative\"\n",
        "    elif 0.4<label <=0.6:\n",
        "      classes[i]=\"neutral\"\n",
        "    elif 0.6<label <=0.8:\n",
        "      classes[i]=\"positive\"\n",
        "    elif 0.8<label <=1:\n",
        "      classes[i]=\"very positive\"\n",
        "    i+=1\n",
        "  data=data.add_column(\"class\",classes)\n",
        "  return data"
      ],
      "metadata": {
        "id": "5Jjycw9pf1rx"
      },
      "execution_count": null,
      "outputs": []
    },
    {
      "cell_type": "code",
      "source": [
        "train_ds=dataset['train']\n",
        "valid_ds=dataset['validation']\n",
        "test_ds=dataset['test']"
      ],
      "metadata": {
        "id": "mq1nkrLYI_84"
      },
      "execution_count": null,
      "outputs": []
    },
    {
      "cell_type": "code",
      "source": [
        "train_ds=addClasses(train_ds)\n",
        "train_ds"
      ],
      "metadata": {
        "colab": {
          "base_uri": "https://localhost:8080/"
        },
        "id": "gGlJhZ44jR82",
        "outputId": "68839af7-e80a-4264-ff37-46c5f71a8976"
      },
      "execution_count": null,
      "outputs": [
        {
          "output_type": "execute_result",
          "data": {
            "text/plain": [
              "Dataset({\n",
              "    features: ['sentence', 'label', 'tokens', 'tree', 'class'],\n",
              "    num_rows: 8544\n",
              "})"
            ]
          },
          "metadata": {},
          "execution_count": 8
        }
      ]
    },
    {
      "cell_type": "markdown",
      "source": [
        "Removing unnecessary columns"
      ],
      "metadata": {
        "id": "9r748QVYKXfR"
      }
    },
    {
      "cell_type": "code",
      "source": [
        "train_ds=train_ds.remove_columns([\"tokens\",\"tree\"])\n",
        "train_ds"
      ],
      "metadata": {
        "colab": {
          "base_uri": "https://localhost:8080/"
        },
        "id": "ybjS0XISJjj0",
        "outputId": "387083e3-a56b-461e-82fa-1edff95c1429"
      },
      "execution_count": null,
      "outputs": [
        {
          "output_type": "execute_result",
          "data": {
            "text/plain": [
              "Dataset({\n",
              "    features: ['sentence', 'label', 'class'],\n",
              "    num_rows: 8544\n",
              "})"
            ]
          },
          "metadata": {},
          "execution_count": 9
        }
      ]
    },
    {
      "cell_type": "markdown",
      "source": [
        "function to map the index to class"
      ],
      "metadata": {
        "id": "NWBbPtPAjgzs"
      }
    },
    {
      "cell_type": "code",
      "source": [
        "def classMap(index):\n",
        "  if index ==0:\n",
        "    return \"very negative\"\n",
        "  elif index == 1:\n",
        "    return \"negative\"\n",
        "  elif index== 2:\n",
        "    return \"neutral\"\n",
        "  elif index == 3:\n",
        "    return \"positive\"\n",
        "  elif index ==4:\n",
        "    return \"very positive\"\n",
        "def keyMap(c):\n",
        "  if c==\"very negative\":\n",
        "    return 0\n",
        "  elif c==\"negative\":\n",
        "    return 1\n",
        "  elif c==\"neutral\":\n",
        "    return 2\n",
        "  elif c==\"positive\":\n",
        "    return 3\n",
        "  elif c==\"very positive\":\n",
        "    return 4"
      ],
      "metadata": {
        "id": "Llnbhr5kTR-h"
      },
      "execution_count": null,
      "outputs": []
    },
    {
      "cell_type": "markdown",
      "source": [
        "#Naive Bayes"
      ],
      "metadata": {
        "id": "2IbF6EZgffuA"
      }
    },
    {
      "cell_type": "code",
      "source": [
        "import numpy as np\n",
        "\n",
        "class NaiveBayes:\n",
        "\n",
        "  def Train(self,data,classes,vocab):\n",
        "    self.logprior = np.zeros(len(classes))\n",
        "    self.loglikelihood = np.zeros((len(vocab),len(classes)))\n",
        "\n",
        "    for idx,class_label in enumerate(classes):\n",
        "      Ndoc=len(data)\n",
        "      Nc=0\n",
        "      classDocs=[]\n",
        "      for d in data:\n",
        "        if d['class'] == class_label:\n",
        "          Nc+=1\n",
        "          classDocs.append(d['sentence'])#adding the sentence\n",
        "\n",
        "\n",
        "      self.logprior[idx] = np.log(Nc / Ndoc)\n",
        "      countOfAllWords=0\n",
        "      #get the count of all the words in class\n",
        "      for sentence in classDocs:\n",
        "        words = sentence.split()\n",
        "        countOfAllWords+=len(words)\n",
        "      for i,w in enumerate(vocab):\n",
        "        wordCount = sum(1 for d in classDocs if w in d)#gettin the count of the word in the class\n",
        "        self.loglikelihood[i][idx] = np.log((wordCount + 1) / (countOfAllWords + len(vocab)))#measure the likelihood for each word with each class\n",
        "\n",
        "    return self.logprior, self.loglikelihood, vocab\n",
        "  def predict(self,testDoc,vocab,classes):\n",
        "    sum=np.zeros(len(classes))\n",
        "    vocab_list=list(vocab.keys())#changing vocab from a dict to a list\n",
        "    for idx,class_label in enumerate(classes):\n",
        "      sum[idx]=self.logprior[idx]\n",
        "      words=testDoc.split()\n",
        "      for word in words:\n",
        "        if word in vocab_list:\n",
        "          i=vocab_list.index(word)\n",
        "          sum[idx]+=self.loglikelihood[i][idx]\n",
        "    return classMap(np.argmax(sum))\n"
      ],
      "metadata": {
        "id": "La7wu6yPFm5i"
      },
      "execution_count": null,
      "outputs": []
    },
    {
      "cell_type": "markdown",
      "source": [
        "Performing count vectorizer on the Dataset"
      ],
      "metadata": {
        "id": "oCV0E8YnYFKc"
      }
    },
    {
      "cell_type": "code",
      "source": [
        "from sklearn.feature_extraction.text import CountVectorizer\n",
        "import string\n",
        "\n",
        "def custom_tokenizer(text):\n",
        "    text_no_punctuation = \"\".join([char for char in text if char not in string.punctuation])\n",
        "    tokens = text_no_punctuation.split()\n",
        "    return tokens\n",
        "\n",
        "count_vectorizer = CountVectorizer(\n",
        "    stop_words=\"english\",\n",
        "    token_pattern=r'\\b\\w\\w+\\b',\n",
        "    tokenizer=custom_tokenizer,\n",
        "    lowercase=True\n",
        ")\n",
        "\n",
        "train_text = count_vectorizer.fit(train_ds[\"sentence\"])\n",
        "vocab=train_text.vocabulary_\n",
        "print(vocab)"
      ],
      "metadata": {
        "colab": {
          "base_uri": "https://localhost:8080/"
        },
        "id": "5n8ZpEMFXt21",
        "outputId": "8ddd02e7-385d-4413-eb3e-c3589c6fee27"
      },
      "execution_count": null,
      "outputs": [
        {
          "output_type": "stream",
          "name": "stderr",
          "text": [
            "/usr/local/lib/python3.10/dist-packages/sklearn/feature_extraction/text.py:528: UserWarning: The parameter 'token_pattern' will not be used since 'tokenizer' is not None'\n",
            "  warnings.warn(\n"
          ]
        },
        {
          "output_type": "stream",
          "name": "stdout",
          "text": [
            "{'rock': 11930, 'destined': 3796, '21st': 92, 'century': 2273, 's': 12088, 'new': 9519, 'conan': 2871, 'going': 6085, 'make': 8622, 'splash': 13347, 'greater': 6221, 'arnold': 895, 'schwarzenegger': 12281, 'jeanclaud': 7679, 'van': 15338, 'damme': 3450, 'steven': 13564, 'segal': 12412, 'gorgeously': 6134, 'elaborate': 4528, 'continuation': 3032, 'lord': 8445, 'rings': 11878, 'trilogy': 14731, 'huge': 6902, 'column': 2735, 'words': 15968, 'adequately': 371, 'cowriterdirector': 3194, 'peter': 10391, 'jackson': 7630, 'expanded': 4982, 'vision': 15486, 'jrr': 7772, 'tolkien': 14515, 'middleearth': 8979, 'singercomposer': 12857, 'bryan': 1922, 'adams': 351, 'contributes': 3050, 'slew': 12981, 'songs': 13190, 'potential': 10747, 'hits': 6747, 'simply': 12846, 'intrusive': 7523, 'story': 13630, 'package': 10066, 'certainly': 2278, 'captures': 2135, 'intended': 7441, 'er': 4790, 'spirit': 13335, 'piece': 10451, 'd': 3435, 'think': 14351, 'america': 640, 'plucky': 10585, 'british': 1871, 'eccentrics': 4457, 'hearts': 6590, 'gold': 6086, 'act': 310, 'charming': 2345, 'enlightened': 4708, 'derrida': 3761, 'lectures': 8176, 'self': 12424, 'undeniably': 14982, 'fascinating': 5207, 'playful': 10543, 'fellow': 5280, 'just': 7809, 'labour': 8000, 'involved': 7551, 'creating': 3249, 'layered': 8131, 'richness': 11845, 'imagery': 7059, 'chiaroscuro': 2405, 'madness': 8582, 'light': 8273, 'astonishing': 995, 'charm': 2343, 'satin': 12178, 'rouge': 12006, 'avoids': 1106, 'obvious': 9726, 'humour': 6934, 'lightness': 8283, 'screenplay': 12331, 'ingeniously': 7313, 'constructed': 3000, 'memento': 8890, 'extreme': 5072, 'ops': 9876, 'exceeds': 4924, 'expectations': 4989, 'good': 6101, 'fun': 5788, 'action': 314, 'acting': 312, 'dialogue': 3853, 'pace': 10060, 'cinematography': 2499, 'pay': 10258, 'bucks': 1932, 'hear': 6574, 'suffering': 13856, 'afghan': 462, 'refugees': 11511, 'news': 9527, 'unaffected': 14924, 'dramas': 4258, 'like': 8290, 'human': 6908, 'thunderous': 14429, 'ride': 11853, 'quiet': 11202, 'cadences': 2044, 'pure': 11125, 'finesse': 5377, 'far': 5190, 'shortage': 12736, 'dilutes': 3903, 'potency': 10745, 'respectable': 11716, 'flick': 5479, 'host': 6862, 'truly': 14781, 'excellent': 4926, 'sequences': 12544, 'australian': 1070, 'actordirector': 332, 'john': 7725, 'polson': 10646, 'awardwinning': 1115, 'english': 4688, 'cinematographer': 2498, 'giles': 6004, 'nuttgens': 9692, 'terrific': 14284, 'effort': 4504, 'disguising': 4005, 'energy': 4675, 'innovation': 7347, 'walk': 15555, 'girl': 6012, 'mixed': 9110, 'emotions': 4608, 'disapproval': 3960, 'justine': 7815, 'combined': 2743, 'tinge': 14472, 'understanding': 15025, 'actions': 323, 'post': 10725, '911': 180, 'philosophical': 10409, 'message': 8931, 'personal': 10368, 'freedom': 5691, 'palatable': 10103, 'absorbing': 228, 'character': 2316, 'study': 13738, 'andré': 698, 'turpin': 14843, 'love': 8470, 'reading': 11354, 'andor': 695, 'poetry': 10605, 'means': 8836, 'check': 2372, 'll': 8377, 'probably': 10917, 'frailty': 5653, 'written': 16046, 'simple': 12840, 'goddammit': 6077, 'near': 9452, 'end': 4648, 'takes': 14105, 'meaning': 8833, 'grenier': 6239, 'bringing': 1863, 'unforced': 15092, 'rapidfire': 11297, 'delivery': 3671, 'toback': 14500, 'heidegger': 6614, 'nietzschereferencing': 9547, 'sundance': 13897, 'film': 5354, 'festival': 5307, 'buzzobsessed': 2016, 'fans': 5181, 'producers': 10939, 'descend': 3764, 'utah': 15307, 'january': 7656, 'ferret': 5298, 'great': 6220, 'thing': 14349, 'tadpole': 14096, 'films': 5363, 'declared': 3580, 'year': 16083, 'really': 11374, 'pretty': 10868, 'actors': 336, 'fantastic': 5187, 'makes': 8626, 'worth': 16007, 'trip': 14739, 'theatre': 14320, 'taymor': 14176, 'utilizes': 15309, 'idea': 7000, 'making': 8631, 'kahlo': 7826, 'art': 907, 'living': 8372, 'breathing': 1832, 'movie': 9270, 'catapulting': 2215, 'artist': 920, 'work': 15971, 'nt': 9672, 'vividly': 15506, 'passion': 10205, 'care': 2144, 'cat': 2209, 'honestly': 6805, 'nice': 9533, 'little': 8357, 'examination': 4913, 'young': 16107, 'adult': 410, 'life': 8258, 'urban': 15282, 'south': 13241, 'korea': 7966, 'minds': 9028, 'principals': 10898, 'lifeaffirming': 8259, 'vulgar': 15531, 'mean': 8827, 'liked': 8292, 'empire': 4619, 'lacks': 8012, 'depth': 3748, 'heart': 6579, 'silly': 12830, 'photographed': 10424, 'colour': 2729, 'time': 14460, 'tongueincheek': 14530, 'preposterousness': 10835, 'wilde': 15846, 'droll': 4319, 'whimsy': 15790, 'helps': 6637, 'earnest': 4431, 'overcome': 9987, 'weaknesses': 15667, 'parker': 10160, 'creative': 3252, 'interference': 7462, 'lies': 8256, 'utter': 15311, 'cuteness': 3416, 'stuart': 13725, 'margolo': 8701, 'computeranimated': 2868, 'faces': 5111, 'expressive': 5047, 'path': 10225, 'ice': 6986, 'age': 479, 'follows': 5551, 'closely': 2623, 'established': 4829, 'warner': 15609, 'bros': 1899, 'giant': 5986, 'chuck': 2476, 'jones': 7747, 'died': 3877, 'matter': 8790, 'weeks': 15694, 'release': 11566, 'spiced': 13313, 'humor': 6929, 'speak': 13274, 'fluent': 5520, 'flatula': 5454, 'advises': 429, 'denlopp': 3708, 'bubbly': 1927, 'exchange': 4936, 'alien': 560, 'deckhand': 3579, 'witty': 15924, 'updatings': 15259, 'silver': 12832, 'parrot': 10169, 'replaced': 11647, 'morph': 9221, 'cute': 3415, 'creature': 3257, 'mimics': 9018, 'y': 16063, 'tu': 14804, 'mamá': 8651, 'también': 14123, 'comes': 2756, 'brave': 1808, 'uninhibited': 15125, 'performances': 10334, 'lead': 8141, '13': 25, 'conversations': 3071, 'holds': 6768, 'goodwill': 6117, 'close': 2619, 'relatively': 11562, 'slow': 13015, 'come': 2748, 'point': 10610, 'auto': 1082, 'focus': 5535, 'works': 15986, 'unusual': 15245, 'biopic': 1506, 'document': 4126, 'male': 8638, 'swingers': 14038, 'playboy': 10537, 'era': 4791, 'mr': 9288, 'zhang': 16137, 'subject': 13788, 'degree': 3636, 'quintessentially': 11208, 'american': 641, 'approach': 830, 'storytelling': 13635, 'called': 2065, 'iranian': 7561, 'sour': 13237, 'core': 3120, 'exploration': 5023, 'emptiness': 4625, 'underlay': 15006, 'relentless': 11571, 'gaiety': 5833, '1920': 42, 'ending': 4657, 'feeling': 5272, 'deal': 3530, 'cremaster': 3277, '3': 106, 'warning': 15610, 'buffs': 1940, 'unintentionally': 15132, 'famous': 5169, 'queasystomached': 11182, 'critic': 3304, 'staggered': 13448, 'theater': 14318, 'blacked': 1531, 'lobby': 8385, 'believe': 1386, 'beautiful': 1326, 'evocative': 4897, 've': 15360, 'seen': 12407, 'garcía': 5876, 'bernal': 1425, 'talancón': 14107, 'immensely': 7088, 'appealing': 805, 'couple': 3169, 'predictable': 10809, 'want': 15589, 'things': 14350, 'spoof': 13367, 'comedy': 2754, 'carries': 2177, 'share': 12650, 'laughs': 8110, 'chuckle': 2477, 'guffaw': 6323, 'pleasure': 10562, 'occasional': 9730, 'belly': 1394, 'laugh': 8100, 'city': 2514, 'reminds': 11611, 'realistically': 11364, 'nuanced': 9674, 'robert': 11919, 'niro': 9565, 'performance': 10333, 'lucratively': 8508, 'engaged': 4680, 'shameless': 12636, 'selfcaricature': 12432, 'analyze': 679, '1999': 79, 'promised': 10984, 'threatened': 14388, 'later': 8091, 'wanton': 15592, 'slipperiness': 12997, 'corpus': 3132, 'amiable': 646, 'jerking': 7695, 'reshaping': 11693, 'physical': 10431, 'space': 13244, 'watch': 15633, 'kids': 7891, 'use': 15293, 'introduce': 7515, 'video': 15433, 'starts': 13509, 'typical': 14891, 'bible': 1463, 'killer': 7900, 'turns': 14839, 'significantly': 12816, 'different': 3884, 'better': 1448, 'theme': 14329, 'pride': 10884, 'sophisticated': 13201, 'discerning': 3972, 'taste': 14156, 'proper': 10998, 'cup': 3387, 'tea': 14178, 'guaranteed': 6312, 'stuffiest': 13741, 'cinema': 2494, 'goers': 6081, 'hourandahalf': 6879, 'cuts': 3421, 'actually': 343, 'face': 5107, 'fears': 5255, 'world': 15989, 'boys': 1783, 'boy': 1780, 'big': 1472, 'metaphorical': 8942, 'wave': 15653, 'welcome': 15714, 'relief': 11579, 'baseball': 1275, 'movies': 9283, 'try': 14797, 'hard': 6476, 'mythic': 9369, 'sweet': 14023, 'modest': 9137, 'ultimately': 14909, 'winning': 15884, 'crisp': 3298, 'psychological': 11064, 'drama': 4255, 'thriller': 14400, 'perfect': 10327, 'old': 9792, 'twilight': 14860, 'zone': 16153, 'episode': 4773, 'moments': 9155, 'insightful': 7373, 'fondly': 5555, 'remembered': 11603, 'endlessly': 4660, 'challenging': 2295, 'maze': 8804, 'moviegoing': 9275, 'opening': 9848, 'contrived': 3055, 'banter': 1233, 'cliches': 2581, 'loose': 8438, 'ends': 4663, 'second': 12380, 'half': 6390, 'uncluttered': 14959, 'resonant': 11708, 'gem': 5917, 'relays': 11565, 'universal': 15144, 'points': 10617, 'confrontations': 2940, 'cockettes': 2669, 'provides': 11032, 'window': 15870, 'subculture': 13783, 'hellbent': 6623, 'expressing': 5043, 'way': 15657, 'imaginable': 7061, 'smart': 13043, 'steamy': 13538, 'mix': 9109, 'road': 11911, 'comingofage': 2770, 'political': 10639, 'satire': 12179, 'modernday': 9132, 'royals': 12031, 'guys': 6366, 'scandals': 12219, 'fairy': 5141, 'tales': 14112, 'princesses': 10896, 'married': 8727, 'reason': 11379, 'live': 8361, 'happily': 6468, 'b': 1136, 'fact': 5118, 'best': 1434, 'recent': 11401, 'memory': 8895, 'birthday': 1510, 'actor': 331, 'foremost': 5587, 'walked': 15556, 'away': 1119, 'version': 15408, 'et': 4839, 'hoped': 6830, 'moist': 9142, 'eyes': 5094, 'devotees': 3846, 'french': 5700, 'safe': 12114, 'conduct': 2912, 'rich': 11841, 'period': 10344, 'minutiae': 9049, 'dying': 4406, 'celluloid': 2264, 'heaven': 6599, 'characters': 2328, 'resemblance': 11685, 'everyday': 4889, 'children': 2419, 'shamelessly': 12637, 'resorting': 11710, 'peerelated': 10291, 'sight': 12809, 'gags': 5831, 'cause': 2237, 'tom': 14517, 'green': 6230, 'grimace': 6251, 'myer': 9356, 'silliness': 12829, 'eventually': 4880, 'prevail': 10869, 'absurdist': 232, 'spider': 13315, 'web': 15683, 'happy': 6471, 'listening': 8345, 'watching': 15637, 'parade': 10139, 'fascinates': 5206, 'right': 11865, 'moves': 9269, 'original': 9908, 'nostalgia': 9627, 'communal': 2793, 'experiences': 5000, 'yesteryear': 16093, 'deeper': 3598, 'realization': 11368, 'inability': 7165, 'stand': 13473, 'true': 14775, 'lived': 8363, 'experience': 4998, 'blend': 1568, 'distant': 4064, 'memories': 8894, 'mention': 8904, 'solaris': 13158, 'years': 16087, 'm': 8557, 'sure': 13942, 'saw': 12206, 'opinion': 9863, 'allen': 574, 'funniest': 5799, 'likeable': 8291, 'glorious': 6057, 'spectacle': 13290, 'dw': 4399, 'griffith': 6248, 'early': 4426, 'days': 3514, 'silent': 12825, 'comic': 2763, 'delightful': 3658, 'derivative': 3756, 'timely': 14466, 'director': 3932, 'dreamed': 4285, 'quietly': 11204, 'lyrical': 8554, 'tale': 14108, 'probes': 10920, 'ambiguous': 629, 'extended': 5054, 'iran': 7560, 'afghani': 463, 'streamed': 13667, 'borders': 1729, 'desperate': 3788, 'food': 5559, 'leaping': 8156, 'line': 8317, 'shaped': 12643, 'kosminsky': 7970, 'sharp': 12655, 'slivers': 13000, 'cutting': 3424, 'impressions': 7145, 'shows': 12764, 'signs': 12820, 'condensed': 2905, 'images': 7060, 'striking': 13689, 'traits': 14637, 'principal': 10897, 'singers': 12858, 'youthful': 16112, 'goodlooking': 6109, 'diva': 4100, 'tenor': 14266, 'richly': 11844, 'handsome': 6443, 'locations': 8392, 'wish': 15902, 'jacquot': 7635, 'left': 8182, 'filmed': 5356, 'opera': 9854, 'distortions': 4081, 'perspective': 10375, 'production': 10943, 'enormous': 4715, 'affection': 446, 'worthwhile': 16009, 'winds': 15872, 'revelatory': 11788, 'narcissistic': 9405, 'achieving': 292, 'honest': 6804, 'insight': 7372, 'relationships': 11560, 'highconcept': 6684, 'candycoat': 2102, 'pat': 10219, 'storylines': 13632, 'precious': 10795, 'circumstances': 2508, 'stars': 13499, 'inspiring': 7394, 'joy': 7764, 'spielberg': 13318, 'brings': 1864, 'masterpiece': 8771, 'finally': 5367, 'frenchproduced': 5701, 'read': 11351, 'lips': 8339, 'understands': 15026, 'ms': 9290, 'seigner': 12414, 'serrault': 12562, 'bring': 1862, 'fresh': 5706, 'naturalism': 9429, 'outgag': 9945, 'whippersnappers': 15797, 'moving': 9286, 'pictures': 10449, 'today': 14502, 'solid': 13165, 'pedigree': 10284, 'specifically': 13285, 'camera': 2078, 'slamdunk': 12948, 'disappoint': 3953, 'moved': 9266, 'edge': 4474, 'seats': 12378, 'dynamic': 4408, 'touching': 14586, 'transcendent': 14643, 'encourage': 4643, 'alike': 566, 'unique': 15136, 'entertaining': 4732, 'twist': 14868, 'classic': 2539, 'whale': 15777, 'wo': 15930, 'sorry': 13216, 'literary': 8352, 'detective': 3807, 'aficionados': 464, 'whodunit': 15815, 'disappointed': 3954, 'high': 6680, 'crimes': 3290, 'steals': 13534, 'freely': 5693, 'combines': 2744, 'disparate': 4037, 'types': 14890, 'ca': 2034, 'help': 6632, 'engage': 4679, 'audience': 1053, 'fan': 5171, 'series': 12554, 'twice': 14859, 'celebrates': 2252, 'group': 6290, 'spark': 13263, 'nonconformity': 9590, 'glancing': 6031, 'hibiscus': 6667, 'grandly': 6186, 'angels': 707, 'ironic': 7569, 'ridiculous': 11856, 'moneyoriented': 9161, 'record': 11429, 'industry': 7257, 'testament': 14297, 'integrity': 7431, 'band': 1218, 'laced': 8004, 'liberal': 8241, 'doses': 4199, 'dark': 3482, 'gorgeous': 6133, 'exterior': 5059, 'photography': 10428, 'stablefull': 13437, 'huppert': 6945, 'steal': 13532, 'meal': 8826, 'channeling': 2308, 'kathy': 7844, 'baker': 1187, 'creepy': 3274, 'turn': 14836, 'repressed': 11662, 'mother': 9233, 'boston': 1745, 'public': 11074, '8': 158, 'women': 15939, 'augustine': 1060, 'nair': 9386, 'does': 4141, 'treat': 14695, 'issues': 7606, 'lightly': 8282, 'allows': 587, 'confront': 2938, 'problems': 10924, 'openly': 9849, 'horror': 6852, 'real': 11361, 'shocks': 12713, 'store': 13624, 'unwary': 15248, 'viewers': 15450, 'filmmaker': 5360, 'secrets': 12390, 'buried': 1977, 'knows': 7957, 'revealing': 11783, 'strange': 13651, 'occurrences': 9736, 'build': 1947, 'mind': 9020, 'viewer': 15449, 'urgency': 15286, 'certain': 2277, 'ghoulish': 5983, 'fascination': 5208, 'generates': 5928, 'fair': 5136, 'bmovie': 1637, 'excitement': 4940, 'familiar': 5161, 'utterly': 15312, 'keeps': 7857, 'hooked': 6820, 'delicious': 3654, 'pulpiness': 11090, 'lurid': 8534, 'fiction': 5317, 'aims': 525, 'funny': 5801, 'uplifting': 15266, 'extent': 5058, 'succeeds': 13833, 'impressive': 7146, 'brilliantly': 1858, 'shines': 12694, 'direction': 3927, 'intelligently': 7438, 'accomplished': 268, 'collegiate': 2716, 'grossout': 6281, 'goes': 6082, 'long': 8412, 'restoring': 11737, 'luster': 8543, 'national': 9420, 'lampoon': 8038, 'franchise': 5661, 'reduced': 11468, 'directtovideo': 3939, 'irrelevancy': 7577, 'broad': 1876, 'cartoonish': 2185, 'accuracy': 278, 'observation': 9714, 'frank': 5664, 'novak': 9663, 'grounded': 6287, 'undeniable': 14981, 'social': 13132, 'realism': 11362, 'addition': 364, 'hoffman': 6760, 'powerful': 10761, 'clinic': 2600, 'rare': 11305, 'offers': 9765, 'thoughtful': 14375, 'rewarding': 11820, 'glimpse': 6044, 'sort': 13217, 'heartache': 6580, 'felt': 5282, 'feel': 5269, 'someday': 13180, 'jeffrey': 7684, 'tambor': 14124, 'intelligent': 7437, 'jazzplaying': 7674, 'exterminator': 5060, 'oscarworthy': 9926, 'strains': 13648, 'average': 1098, 'white': 15808, 'pick': 10441, 'pieces': 10452, 'stevens': 13566, 'vibrant': 15420, 'instincts': 7406, 'difference': 3882, 'countless': 3165, 'flicks': 5482, 'dolls': 4161, 'mature': 8794, '2002': 87, 'summer': 13889, 'season': 12372, 'speaks': 13276, 'picture': 10447, 'people': 10309, 'nicest': 9535, 'possible': 10723, 'orders': 9896, 'touch': 14583, 'earned': 4430, '50year': 130, 'friendship': 5728, 'meyjes': 8959, 'provocative': 11039, 'example': 4917, 'haphazardness': 6461, 'evil': 4895, 'tian': 14432, 'emphasizes': 4616, 'isolation': 7601, 'confining': 2926, 'color': 2723, 'liyan': 8374, 'backyard': 1164, 'demeaning': 3679, 'subjects': 13791, 'imagine': 7066, 'scenario': 12240, 'bergman': 1418, 'approaches': 832, 'swedish': 14020, 'fatalism': 5223, 'using': 15302, 'gary': 5885, 'larson': 8077, 'damn': 3451, 'weird': 15706, 'pass': 10195, 'blacklight': 1533, 'crowd': 3331, 'cheaper': 2364, 'pink': 10473, 'floyd': 5519, 'tickets': 14436, 'remarkable': 11598, 'epic': 4767, 'scope': 12299, 'startling': 13508, 'intimacy': 7496, 'achieves': 291, 'despite': 3792, 'breadth': 1821, 'monster': 9175, 'paid': 10082, 'matinee': 8784, 'price': 10881, 'bought': 1757, 'tub': 14805, 'popcorn': 10666, 'guilty': 6332, 'chomp': 2442, 'grey': 6243, 'gives': 6024, 'voice': 15509, 'needs': 9473, 'heard': 6575, 'sea': 12357, 'holocaust': 6786, 'suffers': 13857, 'difficulties': 3887, 'attuned': 1047, 'anarchist': 681, 'maxim': 8800, 'urge': 15285, 'destroy': 3798, 'willing': 15856, 'morrison': 9224, 'iconoclastic': 6996, 'uses': 15299, 'technology': 14202, 'liberating': 8244, 'miller': 9012, 'tells': 14243, 'compelling': 2819, 'fuss': 5812, 'noise': 9578, 'expertly': 5006, 'plucking': 10583, 'tension': 14269, 'existential': 4973, 'pretension': 10862, 'associated': 983, 'term': 14276, 'laughaminute': 8103, 'pleaser': 10558, 'lifts': 8272, 'spirits': 13339, 'corners': 3125, 'mouth': 9264, 'writerdirector': 16039, 'alexander': 553, 'payne': 10264, 'election': 4535, 'cowriter': 3193, 'jim': 7713, 'taylor': 14175, 'employ': 4620, 'quirky': 11213, 'fearless': 5252, 'ability': 208, 'look': 8425, 'angst': 713, 'eye': 5086, 'laughing': 8107, 'flaws': 5464, 'insists': 7384, 'virtue': 15475, 'imperfection': 7111, 'tough': 14590, 'animated': 719, 'feature': 5260, 'hit': 6737, 'theaters': 14319, 'beauty': 1328, 'beast': 1316, '11': 16, 'ago': 501, 'saves': 12199, 'deeply': 3600, 'affecting': 444, 'merely': 8916, 'collection': 2710, 'wrenching': 16029, 'cases': 2194, 'corcuera': 3119, 'attention': 1034, 'pacino': 10064, 'keener': 7852, 'marvelous': 8742, 'spooky': 13374, 'entertainment': 4734, 'worthy': 16010, 'ticket': 14434, 'fanciful': 5177, 'grisly': 6263, 'engagingly': 4683, 'quixotic': 11218, 'enjoyable': 4702, 'adaptation': 352, 'intricately': 7509, 'nails': 9384, 'orlean': 9912, 'themes': 14331, 'book': 1707, 'purely': 11126, 'notice': 9641, 'fairly': 5139, 'straightforward': 13641, 'remake': 11596, 'hollywood': 6779, 'comedies': 2753, 'father': 5227, 'bride': 1849, 'moonlight': 9192, 'mile': 9000, 'contradictory': 3042, 'sentimental': 12526, 'feels': 5274, 'free': 5690, 'offend': 9759, 'analytical': 678, 'surrenders': 13970, 'illogic': 7043, 'grief': 6244, 'permits': 10351, 'laughter': 8111, 'triumphs': 14748, 'igby': 7020, 'philippe': 10406, 'oliver': 9802, 'interesting': 7457, 'lines': 8321, 'suggest': 13869, 'sarandon': 12172, 'cruel': 3345, 'weirdly': 15709, 'likable': 8288, 'wasp': 15627, 'matron': 8787, 'robin': 11922, 'williams': 15853, 'thankfully': 14312, 'ditched': 4097, 'saccharine': 12094, 'sentimentality': 12528, 'bicentennial': 1466, 'man': 8652, 'favour': 5244, 'altogether': 614, 'darker': 3484, 'cheated': 2369, 'infidelity': 7287, 'unfaithful': 15079, 'australia': 1069, 'land': 8041, 'primarily': 10889, 'place': 10504, 'authentic': 1075, 'told': 14510, 'proficiently': 10956, 'trounce': 14768, 'overly': 10011, 'comfortable': 2759, 'trappings': 14673, 'enthralling': 4738, 'aesthetic': 433, 'steeped': 13539, 'mystery': 9363, 'ravishing': 11330, 'baroque': 1260, 'touches': 14585, 'funnybone': 5802, 'thanks': 14314, 'energetic': 4670, 'surprising': 13962, 'rachel': 11227, 'griffiths': 6249, 'captivating': 2128, 'narrative': 9410, 'informed': 7302, 'wireless': 15890, 'daytime': 3515, 'soap': 13117, 'woman': 15937, 'tragic': 14627, 'odyssey': 9751, 'duvall': 4396, 'strong': 13706, 'noholdsbarred': 9576, 'cinematic': 2496, 'hardhearted': 6486, 'person': 10365, 'underestimated': 14999, 'delivers': 3670, 'goodies': 6107, 'lumps': 8525, 'coal': 2659, 'measured': 8841, 'practically': 10769, 'likethemed': 8295, 'oscarsweeping': 9924, 'predecessor': 10804, 'silence': 12823, 'lambs': 8032, 'red': 11451, 'dragon': 4248, 'rates': 11316, 'exceptional': 4930, 'exhilarating': 4965, 'serving': 12572, 'fluff': 5521, 'maelstrom': 8584, 'engrossing': 4693, 'moral': 9197, 'twisted': 14869, 'sense': 12509, 'cast': 2200, 'crew': 3281, 'thoroughly': 14372, 'enjoyed': 4704, 'believed': 1387, 'smallbudget': 13036, 'disturbing': 4095, 'son': 13186, 'exercise': 4955, 'trying': 14798, 'predict': 10807, 'preordained': 10829, 'moment': 9154, 'occur': 9735, 'heartfelt': 6585, 'conviction': 3079, 'tell': 14241, 'discovering': 3989, 'destination': 3795, 'acknowledging': 302, 'places': 10507, 'came': 2074, 'journalistic': 7759, 'draws': 4278, 'expedience': 4993, 'deadly': 3525, 'foreign': 5585, 'policy': 10635, 'insider': 7369, 'starmaking': 13494, 'machinery': 8567, 'tinseltown': 14477, 'diverting': 4108, 'family': 5164, 'partyhearty': 10191, 'teen': 14210, 'scalds': 12213, 'acid': 297, 'giddy': 5992, 'whimsical': 15788, 'relevant': 11574, '270': 103, 'intriguing': 7512, 'whatif': 15778, 'premise': 10827, 'pianist': 10436, 'roman': 11961, 'polanski': 10629, 'born': 1738, 'justice': 7811, 'stevenson': 13567, 'scifi': 12291, 'genre': 5947, 'poignant': 10609, 'delicately': 3653, 'complex': 2841, 'pander': 10120, 'basest': 1279, 'desires': 3783, 'payback': 10260, 'unlike': 15154, 'revenge': 11791, 'fantasies': 5183, 'cho': 2436, 'latest': 8092, 'set': 12576, 'stuff': 13739, 'saying': 12208, 'wanted': 15590, 'say': 12207, 'confronting': 2941, 'roots': 11987, 'preoccupations': 10828, 'obsessions': 9721, 'shortcomings': 12737, 'stories': 13626, 'paradiso': 10141, 'scenes': 12245, 'improved': 7155, 'eats': 4452, 'meddles': 8849, 'argues': 873, 'kibbitzes': 7871, 'fights': 5340, 'bracingly': 1787, 'truthful': 14793, 'antidote': 765, 'teenage': 14211, 'slather': 12960, 'clearasil': 2563, 'blemishes': 1567, 'youth': 16111, 'combustible': 2746, 'mixture': 9115, 'chafing': 2285, 'inner': 7342, 'loneliness': 8410, 'grandiosity': 6184, 'tend': 14256, 'characterize': 2324, 'puberty': 11072, 'sade': 12107, 'lay': 8129, 'chemistry': 2395, 'relationship': 11559, 'marquis': 8724, 'auteil': 1072, 'emilie': 4603, 'le': 8140, 'besco': 1429, 'filmmakers': 5361, 'postcamp': 10728, 'comprehension': 2858, 'oldtime': 9798, 'goodbad': 6103, 'legged': 8189, 'freaks': 5684, 'perfectly': 10330, 'diversion': 4105, 'strength': 13673, 'details': 3806, 'larger': 8069, 'paints': 10099, 'culture': 3380, 'conflict': 2929, 'veneer': 15377, 'nationalism': 9421, 'covers': 3188, 'deepest': 3599, 'mediasoaked': 8853, 'speculative': 13299, 'history': 6734, 'paranoid': 10148, 'impulse': 7162, 'sequel': 12540, 'warren': 15614, 'report': 11650, 'faults': 5235, 'kind': 7912, 'unapologetic': 14929, 'sweetheart': 14026, 'mandy': 8662, 'moore': 9193, 'leaves': 8168, 'positive': 10713, 'impression': 7142, 'saigon': 12120, '1952': 50, 'uneasy': 15058, 'sensual': 12520, 'delights': 3660, 'simmering': 12837, 'violence': 15468, 'center': 2266, 'girls': 6019, 'swim': 14034, 'represents': 11661, 'engaging': 4682, 'intimate': 7497, 'talented': 14110, 'entry': 4755, 'flawed': 5462, 'seeing': 12402, 'ambrose': 637, 'dirty': 3943, 'deeds': 3593, 'david': 3503, 'caesar': 2045, 'stepped': 13551, 'mainstream': 8609, 'filmmaking': 5362, 'assurance': 990, 'international': 7478, 'acclaim': 260, 'tool': 14542, 'control': 3057, 'driven': 4313, 'natural': 9428, 'screen': 12327, 'humanity': 6913, 'monsoon': 9174, 'wedding': 15687, 'balance': 1188, 'lookin': 8427, 'sin': 12852, 'americanstyle': 645, 'hell': 6622, 'house': 6883, 'documents': 4135, 'cautionary': 2241, 'christian': 2467, 'spookarama': 13370, 'motion': 9239, 'illustrates': 7054, 'tragedy': 14626, 'comedic': 2751, 'spotlights': 13385, 'notorious': 9649, 'verbal': 15392, 'marks': 8721, 'day': 3510, 'beach': 1304, 'air': 526, 'conditioning': 2909, 'frida': 5720, 'romance': 11962, 'sets': 12580, 'apart': 789, 'avant': 1092, 'garde': 5877, 'broadway': 1881, 'lion': 8332, 'king': 7919, 'titus': 14497, 'flair': 5428, 'operates': 9858, 'nicely': 9534, 'element': 4546, 'surprise': 13959, 'large': 8065, 'extremely': 5073, 'acted': 311, 'primary': 10890, 'seriously': 12556, 'easily': 4444, 'forgotten': 5604, 'exudes': 5084, 'urbane': 15283, 'sweetness': 14028, 'woody': 15962, 'bitterly': 1522, 'forsaken': 5620, 'k19': 7821, 'widowmaker': 15837, 'overlong': 10008, 'bombastic': 1688, 'surprisingly': 13963, 'hardedged': 6481, 'violent': 15469, 'bit': 1514, 'exploitative': 5019, 'morally': 9203, 'alert': 552, 'streetsmart': 13671, 'cineasts': 2493, 'revel': 11785, 'visual': 15492, 'injokes': 7335, 'pokes': 10624, 'likes': 8294, 'miramax': 9054, 'chief': 2412, 'harvey': 6522, 'weinstein': 15705, 'bluff': 1625, 'style': 13765, 'stylistic': 13773, 'rigors': 11874, 'denmark': 3709, 'dogma': 4145, 'movement': 9267, 'artistic': 922, 'collaboration': 2699, 'begins': 1362, 'promise': 10983, 'runs': 12064, 'aground': 507, 'snared': 13090, 'tangled': 14129, 'plot': 10575, 'sports': 13379, 'timing': 14471, 'priceless': 10882, 'creates': 3248, 'visceral': 15483, 'lives': 8369, 'conflicted': 2930, 'melodramatic': 8882, 'lifetime': 8268, 'channelstyle': 2310, 'anthology': 754, 'sensitive': 12516, 'edgy': 4477, 'punch': 11098, 'reasonably': 11381, '1994': 75, 'strain': 13645, 'credibility': 3260, 'reno': 11628, 'monologue': 9166, 'manages': 8657, 'incorporate': 7205, 'absurdity': 234, 'situation': 12889, 'wellbalanced': 15719, 'fashion': 5209, 'truth': 14792, 'confident': 2921, 'emotionally': 4607, 'devastating': 3821, 'smallscale': 13040, 'responsibility': 11728, 'community': 2800, 'arteta': 910, 'directs': 3938, 'ensemble': 4718, 'casts': 2206, 'casting': 2201, 'von': 15520, 'sydow': 14059, 'intacto': 7427, 'luckiest': 8505, 'stroke': 13702, 'singleminded': 12865, 'carpenter': 2172, 'lot': 8457, 'smarter': 13045, 'unnerving': 15168, 'sequels': 12542, 'romantic': 11968, 'crime': 3287, 'clever': 2574, 'amusing': 670, 'unpredictable': 15180, 'stands': 13483, 'letting': 8229, 'forces': 5579, 'ponder': 10651, 'anew': 701, '23': 95, 'incredibly': 7210, 'insanely': 7361, 'devices': 3834, 'cool': 3093, 'backmasking': 1157, 'wickedly': 15825, 'sick': 12794, 'got': 6140, 'grinning': 6258, 'entertained': 4731, 'getting': 5975, 'oldfashioned': 9794, 'substance': 13809, 'teacher': 14180, 'slide': 12987, 'slippery': 12998, 'slope': 13007, 'dishonesty': 4012, 'encounter': 4639, 'disdain': 3997, 'song': 13187, 'includes': 7191, 'stepdad': 13547, 'adjusting': 376, 'englishlanguage': 4689, 'honor': 6810, 'miyazaki': 9116, 'teeming': 14209, 'unsettling': 15217, 'landscape': 8047, 'complexity': 2843, 'pleasures': 10563, 'afford': 460, 'moviegoers': 9274, 'occupied': 9734, 'amidst': 650, 'seriousminded': 12557, 'concerns': 2893, 'yearend': 16084, 'accept': 249, 'trials': 14714, 'henry': 6641, 'kissinger': 7930, 'faithful': 5144, 'portraiture': 10699, 'argue': 872, 'debate': 3545, 'joins': 7731, 'necessary': 9464, 'special': 13278, 'effects': 4500, 'endings': 4658, 'raised': 11259, 'notches': 9637, 'kiddie': 7878, 'fantasy': 5189, 'pablum': 10058, 'astringent': 1001, 'wit': 15910, 'hawaiian': 6544, 'setting': 12581, 'sciencefiction': 12287, 'trimmings': 14735, 'rowdy': 12027, 'slapstick': 12956, 'basic': 1280, 'lilo': 8300, 'pulled': 11086, 'tearstained': 14192, 'vintage': 15466, 'shirley': 12700, 'temple': 14248, 'script': 12343, 'brutally': 1921, 'documentary': 4130, 'anticipated': 762, 'reunion': 11779, 'wrong': 16047, 'shock': 12707, 'refusal': 11512, 'empathize': 4609, 'filled': 5348, 'baran': 1237, 'gentle': 5953, 'dramatic': 4259, 'haunting': 6539, 'ode': 9746, 'sparkles': 13266, 'deft': 3628, 'portrait': 10697, 'seasoned': 12374, 'veterans': 15414, 'gossip': 6139, 'wealth': 15668, 'paranoia': 10147, 'celebrityhood': 2257, 'dry': 4343, 'forceful': 5576, 'jiri': 7715, 'menzel': 8907, 'watched': 15635, 'trains': 14635, 'danis': 3472, 'tanovic': 14133, 'triumph': 14745, 'narratively': 9411, 'haynes': 6551, 'homage': 6791, 'imitation': 7076, 'transcends': 14644, 'intense': 7442, 'effective': 4497, 'chilly': 2426, 'anonymity': 745, 'environments': 4765, 'spend': 13307, 'involving': 7554, 'having': 6542, 'growing': 6295, 'catholic': 2229, 'proves': 11029, 'mainly': 8608, 'korean': 7967, 'undemanding': 14980, 'alacrity': 539, 'counterparts': 3162, 'skittish': 12936, 'york': 16102, 'middleagers': 8976, 'stumble': 13747, 'struggle': 13717, 'furiously': 5805, 'foibles': 5540, 'topnotch': 14557, 'powers': 10767, 'beresford': 1416, 'mixes': 9113, 'pathos': 10230, 'journey': 7762, 'shame': 12633, 'opportunity': 9867, 'embrace': 4591, 'small': 13035, 'evelyn': 4869, 'stopped': 13622, 'thinking': 14353, 'started': 13503, 'doing': 4153, 'reacting': 11347, 'grand': 6178, 'urgently': 15288, 'protagonists': 11018, 'struggled': 13718, 'mercy': 8914, 'inventiveness': 7532, 'gasping': 5888, 'case': 2193, 'christianity': 2468, 'chesterton': 2401, 'lewis': 8235, 'gently': 5955, 'sweetly': 14027, 'adventurous': 422, 'genuinely': 5957, 'entirely': 4747, 'unconned': 14968, 'false': 5154, 'sentiment': 12525, 'overmanipulative': 10013, 'practices': 10772, 'unendurable': 15063, 'viewing': 15451, 'ultraprovincial': 14912, 'yorker': 16103, '26yearold': 102, 'reese': 11489, 'witherspoon': 15914, 'hand': 6426, 'inject': 7331, 'melanie': 8878, 'carmichael': 2167, 'massive': 8763, 'infusion': 7311, 'magic': 8591, 'visually': 15495, 'fathers': 5230, 'sons': 13193, 'loyalty': 8500, 'duty': 4395, 'metaphor': 8941, 'cultural': 3379, 'selfdiscovery': 12447, 'picaresque': 10439, 'view': 15447, 'littleremembered': 8359, 'schütte': 12284, 'snapshot': 13089, 'death': 3540, 'speculation': 13298, 'brecht': 1836, 'faced': 5108, 'drew': 4301, 'slick': 12983, 'melodrama': 8880, 's1m0ne': 12089, 'subtle': 13823, 'offbeat': 9757, 'project': 10970, 'object': 9699, 'vietnam': 15445, 'rahrah': 11248, 'patriotic': 10240, 'tone': 14527, 'soldiers': 13159, 'main': 8606, 'strategic': 13658, 'objective': 9700, 'dramatizing': 4265, 'cost': 3141, 'define': 3617, 'generation': 5930, 'know': 7953, 'album': 548, 'enjoy': 4701, 'evolve': 4903, 'learn': 8159, 'state': 13512, 'music': 9338, 'business': 1999, 'convincing': 3084, 'water': 15638, 'mark': 8711, 'loss': 8454, 'recovery': 11437, 'valuable': 15333, 'strike': 13687, 'nerve': 9501, 'inventive': 7531, 'consistently': 2984, 'sickeningly': 12796, 'savage': 12194, 'definitely': 3622, 'impeccable': 7107, 'perversity': 10384, 'dazzling': 3520, 'conceptual': 2888, 'feat': 5257, 'thrills': 14406, 'overthetop': 10033, 'stuffed': 13740, 'brim': 1859, 'ideas': 7005, 'instigator': 7403, 'michael': 8964, 'rambling': 11269, 'gun': 6344, 'usual': 15303, 'modus': 9141, 'operandi': 9856, 'crucifixion': 3338, 'juxtaposition': 7818, 'affectionately': 448, 'language': 8052, 'usually': 15304, 'traced': 14607, 'power': 10759, 'members': 8889, 'leave': 8166, 'believing': 1390, 'largeframe': 8067, 'imax': 7070, 'lends': 8197, 'beautifully': 1327, 'filming': 5359, 'reefs': 11480, 'junior': 7803, 'scientists': 12290, 'grownup': 6297, 'fish': 5401, 'lovers': 8479, 'result': 11743, 'depressing': 3745, 'boring': 1736, 'school': 12270, 'students': 13731, 'deals': 3534, 'unfamiliar': 15081, 'avenues': 1097, 'discourse': 3985, 'verse': 15407, 'coulda': 3155, 'worse': 16003, 'technically': 14197, 'superb': 13907, 'shining': 12695, 'utilizing': 15310, 'talents': 14111, 'team': 14182, 'wilco': 15842, 'win': 15864, 'converts': 3074, 'tsai': 14800, 'welldeserved': 15727, 'reputation': 11671, 'stylists': 13775, 'shot': 12744, 'enhances': 4697, 'date': 3494, 'franz': 5673, 'kafka': 7823, 'alive': 568, 'likely': 8293, 'broomfield': 1896, 'interviewees': 7493, 'longer': 8413, 'leguizamo': 8192, 'rest': 11730, 'uniformly': 15116, 'originality': 9909, 'distance': 4061, 'pack': 10065, 'paintbynumber': 10092, 'screens': 12333, 'refined': 11496, 'moviemaking': 9280, 'imbued': 7074, 'attitude': 1038, 'nettelbeck': 9509, 'crafted': 3212, 'flavours': 5460, 'novel': 9664, 'recipe': 11407, 'sex': 12597, 'wonderful': 15943, 'destiny': 3797, 'master': 8765, 'storyteller': 13633, 'surface': 13948, 'scotland': 12311, 'pa': 10057, 'forgettable': 5596, 'bard': 1245, 'play': 10535, 'arresting': 899, 'fine': 5373, 'stuck': 13728, 'betty': 1452, 'fisher': 5402, 'firstclass': 5396, 'run': 12057, 'home': 6793, 'ego': 4509, 'reality': 11366, 'simone': 12838, 'consider': 2973, 'dvd': 4398, 'rental': 11631, 'instead': 7402, 'directed': 3925, 'sardonic': 12173, 'maudlin': 8797, 'backstage': 1160, 'mustsee': 9348, 'backstabbing': 1159, 'interracial': 7486, 'desire': 3781, 'importantly': 7133, 'singing': 12861, 'dancing': 3464, 'sounds': 13233, 'paul': 10246, '18': 37, 'million': 9013, 'charmer': 2344, 'cuttingedge': 3425, 'indie': 7228, 'disturbingly': 4096, 'dysfunctional': 4414, 'killed': 7899, 'anne': 732, 'fontaine': 5557, 'inspired': 7392, 'maleridden': 8639, 'emotional': 4606, 'blockage': 1593, 'accompanies': 265, 'condition': 2908, 'twohy': 14882, 'emergence': 4598, 'remains': 11595, 'undiminished': 15043, 'miss': 9088, 'interview': 7492, 'assassin': 963, 'stays': 13527, 'ground': 6285, 'spare': 13262, 'manner': 8678, 'pummel': 11094, 'phony': 10422, 'sheer': 12671, 'dynamism': 4410, 'infectious': 7284, 'attempt': 1029, 'noir': 9577, 'presents': 10845, 'future': 5819, 'managed': 8655, 'past': 10211, 'crappola': 3225, 'radar': 11234, 'cliche': 2578, 'refreshing': 11507, 'drumline': 4338, 'level': 8230, 'black': 1529, 'manhood': 8665, 'complicated': 2846, 'burning': 1985, 'ethos': 4852, 'countercultural': 3159, 'idealism': 7002, 'hedonistic': 6608, 'creativity': 3254, 'limited': 8309, 'confined': 2924, 'spaces': 13246, 'homages': 6792, 'lowbudget': 8486, 'wonderfully': 15944, 'loopy': 8437, 'longing': 8417, 'voting': 15523, 'huston': 6960, 'fragile': 5649, 'ivan': 7618, 'accepts': 253, 'illness': 7042, 'quickly': 11199, 'finds': 5372, 'unable': 14919, 'react': 11346, 'anguished': 716, 'bitter': 1521, 'koshashvili': 7969, 'storyline': 13631, 'bythebook': 2027, 'scripting': 12346, 'washed': 15624, 'sumptuous': 13894, 'ocean': 9738, 'visuals': 15496, 'stylings': 13769, 'stockwell': 13602, 'antwone': 783, 'trick': 14718, 'protagonist': 11017, 'celebrate': 2250, 'victories': 15431, 'exceptions': 4932, 'rarely': 11306, 'stoops': 13618, 'cheap': 2360, 'manipulation': 8673, 'corny': 3129, 'conventions': 3068, 'dimming': 3911, 'ambition': 630, 'clarity': 2533, 'openness': 9852, 'recalls': 11394, 'classics': 2542, 'italian': 7607, 'neorealism': 9497, 'challenges': 2294, 'nervy': 9506, 'oddity': 9743, 'modern': 9131, 'figured': 5342, 'late': 8086, 'marriage': 8726, 'throws': 14419, 'loop': 8433, 'endurance': 4664, 'common': 2790, 'concern': 2890, 'reconciled': 11426, 'survival': 13980, 'orange': 9886, 'juice': 7782, 'freshsqueezed': 5713, 'symbolic': 14062, 'economic': 4467, 'changes': 2305, 'sweeping': 14022, 'china': 2431, 'mistakes': 9099, 'bad': 1166, 'determined': 3813, 'maybe': 8802, 'nobility': 9569, 'cusack': 3407, 'brilliant': 1857, 'imagination': 7063, 'wonder': 15941, 'jaeeun': 7637, 'jeong': 7691, 'beguiling': 1366, 'freshness': 5712, 'buoyant': 1972, 'flow': 5512, 'emerges': 4600, 'key': 7867, 'contribution': 3051, 'flowering': 5514, 'overall': 9981, 'fabric': 5099, 'hypnotic': 6973, 'mattei': 8788, 'fosters': 5632, 'spontaneous': 13366, 'evokes': 4900, 'palpable': 10113, 'disconnection': 3978, 'incessant': 7181, 'cell': 2260, 'phones': 10418, 'malcolm': 8637, 'mcdowell': 8816, 'bettany': 1445, 'playing': 10546, 'immigrant': 7092, 'brink': 1865, 'major': 8618, 'trashy': 14677, 'bewildering': 1455, 'selfimportance': 12460, 'classify': 2545, 'resist': 11699, 'madeup': 8580, 'sisters': 12881, 'thought': 14374, 'caine': 2052, 'lost': 8456, 'admittedly': 388, 'middling': 8981, 'bogdanovich': 1661, 'puts': 11152, 'kirsten': 7927, 'dunst': 4382, 'showcases': 12756, 'davies': 3504, 'generosity': 5935, 'diplomacy': 3919, 'breezy': 1840, 'caper': 2117, 'soulful': 13224, 'incisive': 7187, 'meditation': 8858, 'austerity': 1067, 'capable': 2113, 'cleareyed': 2565, 'intensely': 7443, 'nervous': 9505, 'ambiguity': 628, 'uncertainties': 14948, 'reveals': 11784, 'important': 7132, 'service': 12569, 'draw': 4270, 'walls': 15569, 'separate': 12532, 'goodnatured': 6111, 'tremors': 14708, 'prime': 10891, 'escapist': 4814, 'fare': 5195, 'cult': 3375, 'celebrity': 2256, 'mar': 8688, 'mel': 8873, 'gibson': 5991, 'brutal': 1919, '90minute': 177, 'battle': 1298, 'sequence': 12543, 'issue': 7605, 'dogtag': 4151, 'm16': 8558, 'graceful': 6160, 'tribute': 14717, 'courage': 3173, 'finest': 5378, 'understated': 15027, 'expression': 5044, 'shared': 12651, 'nation': 9419, 'sacrifice': 12097, 'zealand': 16124, 'boozy': 1725, 'languid': 8053, 'balanced': 1189, 'board': 1642, 'jaglomized': 7642, 'cannes': 2104, 'annual': 742, 'riviera': 11909, 'spree': 13399, 'flesh': 5473, 'buzz': 2015, 'blab': 1528, 'money': 9159, 'looking': 8428, 'hoping': 6836, 'luck': 8504, 'hugely': 6903, 'enlightening': 4709, 'grant': 6193, 'weddings': 15688, 'funeral': 5793, 'bridget': 1851, 'diary': 3858, 'riproaring': 11891, 'fest': 5305, 'hairs': 6387, 'chest': 2400, 'yarn': 16071, 'sneeze': 13099, 'simultaneously': 12851, 'heartbreaking': 6582, 'kiss': 7928, 'subversive': 13829, 'disney': 4030, 'cartoon': 2184, 'providing': 11033, 'unexpected': 15073, 'fizzability': 5416, 'unforgettable': 15093, 'morality': 9201, 'expectation': 4988, 'prism': 10906, 'omnibus': 9813, 'tradition': 14618, 'occasionally': 9731, 'experiment': 5001, 'wondrously': 15952, 'gifted': 5996, 'artists': 925, 'storytellers': 13634, 'ayurveda': 1135, 'return': 11775, 'sane': 12161, 'regimen': 11525, 'eating': 4451, 'sleeping': 12975, 'stressreducing': 13678, 'contemplation': 3015, 'clearly': 2566, 'meeting': 8864, 'exceeding': 4922, 'strikes': 13688, 'majestic': 8615, 'achievement': 289, 'grandeur': 6180, 'leigh': 8193, 'directors': 3936, 'soul': 13223, 'contributions': 3052, 'method': 8946, 'fails': 5133, 'superbly': 13908, 'captured': 2134, 'repetitive': 11644, 'informative': 7301, 'directing': 3926, 'haneke': 6447, 'steers': 13540, 'clear': 2562, 'sensational': 12506, 'unflinching': 15087, 'decidedly': 3572, 'perverse': 10382, 'pathology': 10229, 'entire': 4746, 'establishes': 4830, 'mood': 9187, 'ring': 11876, 'moderately': 9130, 'largely': 8068, 'elegantly': 4543, 'colorful': 2725, 'sound': 13231, 'succeed': 13831, 'amari': 616, 'dressed': 4299, 'parable': 10136, 'irresistible': 7582, 'privileged': 10914, 'memorable': 8892, 'rabbitproof': 11223, 'fence': 5290, 'angry': 712, 'weep': 15695, 'sucker': 13845, 'heartwarming': 6593, 'fable': 5098, 'artless': 926, 'sytle': 14077, 'tremendously': 14707, 'masterfully': 8767, 'calibrated': 2061, 'thrives': 14407, 'taut': 14167, 'atmosphere': 1015, 'falls': 5153, 'somewhat': 13183, 'short': 12735, 'terrible': 14281, 'propelled': 10995, 'supremely': 13940, 'hopeful': 6831, 'war': 15594, 'prevent': 10873, 'waste': 15628, 'divine': 4111, 'monument': 9185, 'single': 12862, 'regain': 11517, 'dignity': 3898, 'delightfully': 3659, 'elegant': 4542, 'mannered': 8679, 'teasing': 14194, 'elevated': 4551, 'wholesome': 15817, 'pesky': 10385, 'interfering': 7463, 'discovery': 3990, 'homosexuality': 6803, 'ingenuity': 7315, 'displays': 4044, 'freshening': 5707, 'class': 2537, 'decasia': 3560, 'happened': 6464, 'newsreels': 9528, 'shower': 12759, 'blackandwhite': 1530, 'psychedelia': 11057, 'quite': 11215, 'bitchy': 1515, 'frolic': 5743, 'popularity': 10676, 'smalltown': 13042, 'lone': 8408, 'star': 13489, 'eloquently': 4570, 'deepseated': 3601, 'need': 9467, 'ryan': 12081, 'gosling': 6138, '22': 93, 'minor': 9042, 'denying': 3719, 'fleeting': 5471, 'brew': 1847, 'perseverance': 10361, 'hopeless': 6833, 'closure': 2631, 'introduction': 7518, 'theories': 14335, 'influence': 7294, 'useless': 15296, 'inquisitive': 7357, 'invaluable': 7526, 'duel': 4356, 'performers': 10337, 'imperfect': 7110, 'yes': 16091, 'honorable': 6811, 'distinguished': 4077, 'legacy': 8184, 'minimum': 9037, 'whit': 15806, '4': 116, 'units': 15141, 'hardly': 6488, 'bullock': 1958, 'innocent': 7345, 'trust': 14788, 'passionate': 10206, 'irrational': 7574, 'longsuffering': 8422, 'tarantula': 14144, 'helga': 6621, 'figures': 5343, 'prominently': 10982, 'proceedings': 10928, 'grownups': 6298, 'rugrats': 12046, 'image': 7057, 'conveys': 3078, 'fearlessness': 5254, 'mexico': 8957, 'controversial': 3061, 'nonconformist': 9589, 'showstoppingly': 12765, 'hilarious': 6707, 'scathingly': 12237, 'nonetheless': 9592, 'thomas': 14366, 'wolfe': 15935, 'ripping': 11890, 'granger': 6192, 'gauge': 5894, '1': 0, '10': 1, 'powerpuff': 10766, 'fast': 5213, 'frenetic': 5702, 'punny': 11116, '6': 136, 'aimed': 520, 'gradeschool': 6169, 'telemarketers': 14234, 'pitched': 10491, 'hope': 6829, 'despair': 3785, 'schmidt': 12264, 'closer': 2624, 'someplace': 13181, 'consuming': 3007, 'selfabsorption': 12426, 'insistently': 7383, 'demanding': 3677, 'otherness': 9928, 'did': 3873, 'nonsense': 9607, 'shyamalan': 12788, 'goosepimple': 6127, 'head': 6555, 'fills': 5353, 'purpose': 11135, 'bruised': 1913, 'add': 356, 'body': 1658, 'count': 3156, 'sexy': 12608, 'peculiar': 10280, 'costume': 3146, 'renaissance': 11619, 'spain': 13253, 'based': 1277, 'events': 4878, 'freshly': 5710, 'considers': 2979, 'arguments': 876, 'immortal': 7093, 'plays': 10549, 'somebody': 13179, 'highly': 6692, 'spirited': 13337, 'imaginative': 7064, 'kid': 7876, 'broaches': 1875, 'neoaugustinian': 9491, 'theology': 14334, 'god': 6075, 'afraid': 466, 'bestknown': 1437, 'creation': 3250, 'surrealism': 13965, 'wonton': 15954, 'floats': 5497, 'raimi': 11251, 'spiderman': 13316, 'explores': 5027, 'sides': 12800, 'sensitivity': 12519, 'inquisitiveness': 7358, 'reminiscent': 11613, 'truffaut': 14780, 'wellacted': 15718, 'welldirected': 15729, 'moodiness': 9188, 'pretentious': 10865, 'satisfying': 12188, 'blockbuster': 1594, 'boomers': 1715, 'barrie': 1264, 'curves': 3406, 'wears': 15675, 'empowerment': 4623, 'sleeve': 12978, 'worst': 16006, 'harangues': 6472, 'easy': 4449, 'swallow': 14007, 'ferrera': 5297, 'ontiveros': 9834, 'mib': 8962, 'ii': 7028, 'levity': 8232, 'dismissed': 4028, 'mindless': 9025, 'stage': 13443, 'sam': 12140, 'mendes': 8899, 'hanks': 6453, 'depression': 3747, 'hitman': 6746, 'sitting': 12887, 'row': 12026, 'sydney': 14058, 'darling': 3488, 'harbour': 6475, 'tiny': 14478, 'seater': 12377, 'plane': 10518, 'carried': 2175, 'gliding': 6042, 'banking': 1229, 'hovering': 6889, 'trifle': 14729, 'deadpan': 3527, 'jean': 7678, 'resembles': 11687, 'sly': 13029, 'stallone': 13466, 'hot': 6865, 'sake': 12122, 'halfsleep': 6402, 'outrageous': 9957, 'ingenious': 7312, 'talent': 14109, 'brian': 1848, 'depalma': 3721, 'alfred': 556, 'hitchcock': 6740, 'drinking': 4307, 'beers': 1349, 'strip': 13694, 'excess': 4933, 'debris': 3551, 'fourstar': 5642, 'unfocused': 15088, 'unsung': 15233, 'heroes': 6651, '20th': 89, 'pop': 10665, 'riseandfall': 11893, 'glamour': 6029, 'moralistic': 9200, 'consequences': 2971, 'ears': 4437, 'times': 14468, 'dull': 4361, 'tufano': 14812, 'widescreen': 15833, 'grabowsky': 6156, 'parochial': 10165, 'prescient': 10837, 'acidity': 299, 'succumbing': 13841, 'bathos': 1291, 'stock': 13599, 'injects': 7333, 'provide': 11030, '100': 2, 'minutes': 9048, 'eric': 4793, 'schaeffer': 12249, 'strictly': 13684, 'speaking': 13275, 'qualify': 11172, 'revolutionary': 11816, 'defiantly': 3614, 'grain': 6176, 'hardtopredict': 6495, 'absolutely': 225, 'essential': 4826, 'downtoearth': 4232, 'nonchalant': 9586, 'meshes': 8926, 'positively': 10714, 'thrilling': 14403, 'combination': 2741, 'ethnography': 4851, 'intrigue': 7510, 'betrayal': 1443, 'deceit': 3562, 'murder': 9319, 'shakespearean': 12624, 'juicy': 7785, 'clooney': 2618, 'kaufman': 7847, 'collaborators': 2701, 'entitled': 4748, 'deep': 3596, 'bow': 1771, 'fashioning': 5211, 'surefire': 13943, 'prescription': 10839, 'critical': 3305, 'commercial': 2784, 'disaster': 3964, 'variety': 15350, 'fictional': 5318, 'root': 11984, 'causes': 2239, 'antisemitism': 773, 'winner': 15882, 'neurosis': 9513, 'negativity': 9480, 'digital': 3893, 'pitch': 10490, 'discarded': 3967, 'spread': 13395, 'possibilities': 10721, 'mankind': 8676, 'jacobson': 7632, 'dahmer': 3443, 'consideration': 2976, 'murderer': 9320, 'game': 5852, 'victims': 15429, 'salma': 12131, 'hayek': 6550, 'stages': 13446, 'decided': 3571, 'lack': 8006, 'spontaneity': 13365, 'execution': 4951, 'dearth': 3539, 'poignancy': 10608, 'epiphanies': 4771, 'burns': 1986, 'punchy': 11107, 'carry': 2178, 'waydowntown': 15659, 'desecrations': 3771, 'acceptable': 250, 'forget': 5594, 'monday': 9158, 'developed': 3825, 'par': 10135, '2': 82, 'cheese': 2385, 'puff': 11082, 'macabre': 8559, 'wisely': 15899, 'unsentimental': 15215, 'dramatization': 4262, 'ascension': 936, 'mothman': 9237, 'prophecies': 11002, 'illustrating': 7055, 'demons': 3696, 'bedevilling': 1339, 'masculine': 8750, 'dogged': 4143, 'squareness': 13425, 'kidsandfamilyoriented': 7892, 'cable': 2036, 'channel': 2307, 'hybrid': 6962, 'alain': 542, 'choquart': 2453, 'barely': 1249, 'stops': 13623, 'portraying': 10704, 'turmoil': 14835, 'giving': 6025, 'perpetual': 10356, 'nearly': 9457, 'hours': 6882, 'unspool': 15224, 'irritating': 7591, 'martha': 8732, 'used': 15294, 'trimming': 14734, '15': 30, 'cut': 3413, 'pleasurable': 10561, 'pain': 10083, 'credits': 3264, 'roll': 11951, 'stomach': 13606, 'grumbling': 6306, 'tasty': 14160, 'grub': 6301, 'polemic': 10630, 'loathe': 8383, 'admire': 381, 'intensity': 7444, 'express': 5041, 'convictions': 3080, 'unadulterated': 14923, 'genuine': 5956, 'depicted': 3733, 'directorial': 3935, 'tour': 14594, 'force': 5574, 'bernard': 1426, 'rose': 11993, 'ivans': 7619, 'xtc': 16061, 'commitment': 2788, 'weaver': 15680, 'lapaglia': 8058, 'lowkey': 8492, 'folk': 5542, 'digressions': 3899, 'company': 2806, 'conned': 2959, 'merrily': 8924, 'noble': 9570, 'endeavor': 4652, 'pleasant': 10555, 'slightly': 12991, 'pokey': 10625, 'coppola': 3111, 'debut': 3554, 'paced': 10061, 'humdrum': 6923, 'development': 3828, 'decent': 3564, 'meaningful': 8834, 'computerized': 2870, 'yoda': 16100, 'martial': 8733, 'artistry': 924, 'ascends': 935, 'kinetic': 7917, 'cranky': 3223, 'adults': 412, 'rediscover': 11461, 'quivering': 11217, 'inside': 7368, 'wang': 15583, 'xiaoshuai': 16058, 'structured': 13714, 'wellrealized': 15746, 'warfare': 15597, 'embroils': 4595, 'men': 8896, 'anybody': 786, 'harrowing': 6513, 'painful': 10085, 'equally': 4781, 'able': 210, 'tear': 14185, 'taps': 14140, 'hearst': 6578, 'mystique': 9367, 'entertainingly': 4733, 'reenacting': 11487, 'historic': 6731, 'scandal': 12217, 'destruction': 3799, 'unexamined': 15071, 'keeping': 7856, 'believable': 1385, 'understand': 15023, 'earth': 4439, 'stimulate': 13587, 'discussion': 3996, 'reminded': 11607, 'lesson': 8217, 'prehistoric': 10822, 'hilarity': 6709, 'fantastically': 5188, 'vital': 15497, 'invest': 7534, 'sensuality': 12521, 'sympathy': 14070, 'adolescent': 393, 'lawrence': 8125, 'plumbs': 10589, 'jettisoned': 7704, 'crucial': 3337, 'surest': 13946, 'bet': 1442, 'allaround': 569, 'disingenuous': 4014, 'multiplex': 9311, 'distraction': 4086, 'friday': 5721, 'night': 9550, 'excuse': 4948, 'eat': 4450, 'experimentation': 5003, 'improvisation': 7158, 'feathers': 5258, 'rewards': 11821, 'exoticism': 4980, 'seas': 12370, 'sand': 12152, 'fierce': 5329, 'gondry': 6095, 'heartbreak': 6581, 'older': 9793, 'wiser': 15901, 'happen': 6463, 'greene': 6231, 'bodily': 1657, 'function': 5789, 'jokes': 7735, 'expect': 4986, 'veins': 15374, 'committed': 2789, 'bullseye': 1959, 'hype': 6964, 'quieter': 11203, 'successful': 13836, 'rollicking': 11957, 'plenty': 10566, 'lau': 8098, 'plotline': 10577, 'straight': 13638, 'ages': 487, 'cinderella': 2492, 'manage': 8654, 'spell': 13303, 'ranks': 11286, 'herzog': 6658, 'invincible': 7541, 'form': 5606, 'astoundingly': 998, 'catch': 2217, 'masses': 8761, 'popinduced': 10669, 'score': 12303, 'trademark': 14615, 'refreshingly': 11508, 'forthright': 5624, 'raymond': 11335, 'j': 7623, 'barry': 1268, 'greatly': 6225, 'quality': 11174, 'neil': 9488, 'burger': 1976, 'fake': 5145, 'besson': 1433, 'highprofile': 6697, 'wasabi': 15622, 'selling': 12489, 'doubt': 4211, 'krawczyk': 7976, 'deserves': 3775, 'credit': 3262, 'remarkably': 11599, 'unpretentious': 15182, 'reminder': 11608, 'evans': 4865, 'concerned': 2891, 'souls': 13227, 'risk': 11896, 'schemes': 12252, 'satisfyingly': 12189, 'odd': 9739, 'dour': 4218, 'consistency': 2982, 'methodical': 8947, 'tedious': 14206, 'secret': 12386, 'ballot': 1207, 'purposefully': 11137, 'reductive': 11472, 'lodging': 8397, 'brain': 1789, 'trenchant': 14709, 'wildly': 15851, 'ins': 7359, 'outs': 9963, 'psyche': 11056, 'standards': 13477, 'knucklehead': 7959, 'swill': 14033, 'chick': 2409, 'damned': 3452, 'gloriously': 6058, 'unsubtle': 15230, 'adrenalized': 404, 'shockers': 12710, 'dead': 3521, 'reaches': 11344, 'wholly': 15818, 'heartwrenching': 6595, 'depths': 3749, 'highest': 6687, 'values': 15335, 'awkwardness': 1129, 'generous': 5936, 'composed': 2851, 'edited': 4480, 'insistent': 7382, 'frequently': 5705, 'overwrought': 10047, 'crudely': 3340, 'literal': 8349, 'shatters': 12662, 'waves': 15655, 'extraordinarily': 5065, 'yakusho': 16066, 'longfaced': 8416, 'sad': 12101, 'sack': 12095, 'shimizu': 12687, 'fisk': 5405, 'vaguely': 15321, 'resemble': 11686, 'parents': 10157, 'looks': 8429, 'ease': 4442, 'captivatingly': 2129, 'beattheclock': 1324, 'wisdom': 15891, 'jaglom': 7641, 'sparkling': 13267, 'repartee': 11635, 'hearing': 6576, 'patient': 10234, 'unbearable': 14937, 'reputedly': 11672, 'unfilmable': 15083, 'novels': 9666, 'bucked': 1930, 'odds': 9745, 'emerge': 4596, 'exquisite': 5051, 'straightup': 13644, 'oldschool': 9797, 'chilling': 2423, 'france': 5660, 'servants': 12564, '1933': 44, 'wind': 15867, 'remembering': 11604, 'revulsion': 11817, 'string': 13691, '1960s': 56, 'flabbergasting': 5418, '14yearold': 29, 'macnaughton': 8571, '6yearold': 145, 'barrymore': 1269, '10yearold': 15, 'convince': 3081, 'existence': 4971, 'wise': 15892, 'wizened': 15928, 'visitor': 15490, 'faraway': 5191, 'planet': 10519, 'remind': 11606, 'hivaids': 6749, 'yesterday': 16092, 'heartening': 6584, 'enduring': 4667, 'vistas': 15491, 'brought': 1906, 'value': 15334, 'respect': 11715, 'backhanded': 1155, 'compliment': 2849, 'various': 15351, 'victimized': 15428, 'happens': 6466, 'admirable': 378, 'charlotte': 2341, 'unexplainable': 15075, 'filter': 5364, 'stimulus': 13589, 'optic': 9877, 'nerves': 9504, 'forgivable': 5598, 'totalitarian': 14580, 'tomorrow': 14523, 'defies': 3616, 'logic': 8400, 'laws': 8126, 'physics': 10434, 'willingness': 15858, 'darned': 3489, 'riveted': 11907, 'returns': 11778, 'decades': 3558, 'writer': 16037, 'otar': 9927, 'iosseliani': 7557, 'factory': 5121, 'worker': 15975, 'escapes': 4812, 'holiday': 6772, 'venice': 15381, 'respite': 11722, 'grind': 6255, 'refresh': 11504, 'retread': 11766, 'poets': 10606, 'society': 13137, 'arch': 850, 'coldblooded': 2693, 'keenly': 7855, 'observed': 9717, 'swimming': 14036, 'gets': 5974, 'promenade': 10979, 'clad': 2520, 'bodies': 1656, 'myrtle': 9360, 'sc': 12211, 'adrenaline': 403, 'jolt': 7740, 'sudden': 13850, 'lunch': 8530, 'rush': 12069, 'diner': 3915, 'note': 9638, 'sustains': 14002, 'davis': 3505, 'vivid': 15505, 'pulls': 11088, 'ally': 596, 'mcbealstyle': 8807, 'knowing': 7954, 'let': 8221, 'earnestness': 4432, 'skill': 12918, 'twists': 14872, 'cynics': 3434, 'apply': 822, 'somber': 13177, 'absurd': 231, 'achingly': 294, 'bartleby': 1272, 'copy': 3113, 'inferior': 7286, 'mustown': 9347, 'delayed': 3641, 'martin': 8735, 'scorcese': 12300, 'gangs': 5864, 'goodfellas': 6104, 'creaturefeature': 3258, 'cross': 3321, 'toxic': 14603, 'chemicals': 2394, 'bunch': 1967, 'exotic': 4979, 'creatures': 3259, 'running': 12060, 'screaming': 12323, 'traces': 14608, 'brown': 1908, 'athletic': 1012, 'exploits': 5022, 'impossible': 7135, 'awed': 1121, 'grace': 6158, 'greatest': 6222, 'sportsmen': 13381, 'solidly': 13167, 'comedydrama': 2755, 'bolster': 1683, 'juan': 7773, 'josé': 7756, 'campanella': 2086, 'united': 15140, 'states': 13517, 'pair': 10100, 'woods': 15961, 'scored': 12304, 'powered': 10760, 'endeavour': 4654, 'stylized': 13776, 'fillm': 5352, 'religious': 11584, 'civic': 2515, 'virtues': 15476, 'hold': 6765, 'tatters': 14162, 'romp': 11979, 'observant': 9713, 'discussed': 3995, 'abstract': 230, 'terms': 14279, 'impact': 7097, 'unfolds': 15091, 'vietnamese': 15446, 'searing': 12369, 'pull': 11085, 'confusion': 2946, 'tragically': 14628, 'comprehend': 2856, 'chasm': 2353, 'knowledge': 7955, 'opened': 9844, 'vehicle': 15370, 'allowing': 586, 'bumbling': 1962, 'tonguetied': 14532, 'persona': 10366, 'gaunt': 5895, 'silverhaired': 12833, 'leonine': 8207, 'harris': 6511, 'dimension': 3906, 'fullbodied': 5779, 'cunning': 3385, 'aging': 497, 'sandeman': 12154, 'appears': 812, 'definition': 3623, 'police': 10632, 'shooting': 12725, 'fervid': 5303, 'threehour': 14392, 'eyre': 5095, 'indian': 7222, 'spike': 13323, 'lee': 8179, 'warm': 15599, 'loving': 8482, 'unforgivingly': 15096, 'inconsistent': 7204, 'depiction': 3734, 'relaxed': 11563, 'proud': 11024, 'loved': 8473, 'grim': 6250, 'upsetting': 15278, '12': 19, 'palestinians': 10108, 'crowded': 3332, 'cities': 2512, 'refugee': 11510, 'camps': 2090, 'gaza': 5903, 'clint': 2603, 'eastwood': 4448, 'blood': 1599, 'wellmade': 15739, 'pb': 10268, 'sandwich': 12160, 'uneventful': 15070, 'boasting': 1646, 'surprises': 13961, 'inviting': 7547, 'surely': 13945, 'profane': 10946, 'politically': 10640, 'charged': 2333, 'sprightly': 13400, 'cgi': 2282, 'sufficiently': 13860, 'amuse': 664, 'resolutely': 11702, 'unreligious': 15195, 'escort': 4816, 'ones': 9824, 'megaplex': 8869, 'screenings': 12330, 'strategy': 13661, 'benefit': 1407, 'demonstrating': 3700, 'reside': 11694, 'quitting': 11216, 'suckerpunch': 13846, 'beause': 1325, 'cuddly': 3367, 'nonthreatening': 9611, 'multicharacter': 9307, 'centered': 2267, 'bath': 1289, 'averting': 1102, 'solondz': 13173, 'unthinkable': 15240, 'unacceptable': 14920, 'unmentionable': 15160, 'hour': 6878, 'photo': 10423, 'disappointing': 3955, 'generalities': 5924, 'nuances': 9675, 'escape': 4810, 'romanek': 11967, 'selfconscious': 12436, 'scrutiny': 12352, 'skin': 12925, 'general': 5923, 'audiences': 1055, 'facts': 5122, 'cuban': 3365, 'treated': 14696, 'celebration': 2253, 'rounded': 12015, 'overview': 10038, 'ancient': 689, 'holistic': 6774, 'healing': 6568, 'lucks': 8506, 'chaplin': 2314, 'kidman': 7885, 'anteing': 753, 'charisma': 2334, 'sell': 12486, 'negotiate': 9485, 'chicagobased': 2407, 'edges': 4476, 'vein': 15373, 'sadness': 12112, 'lots': 8459, 'packed': 10068, 'espn': 4821, 'ultimate': 14908, 'x': 16055, 'gates': 5890, 'wanes': 15582, 'middle': 8973, 'yaya': 16079, 'books': 1710, 'translating': 14658, 'task': 14155, 'essence': 4825, 'generally': 5925, 'credible': 3261, 'harry': 6514, 'tonto': 14535, 'existed': 4970, 'unexpectedly': 15074, 'adamant': 350, 'streak': 13664, 'warmblooded': 15600, 'empathy': 4611, 'manhattan': 8664, 'denizens': 3707, 'especially': 4818, 'holes': 6771, 'denied': 3704, 'thirst': 14361, 'controversy': 3062, 'sketchy': 12911, 'immature': 7082, 'provocations': 11038, 'fully': 5784, 'cheapening': 2363, 'downward': 4234, 'spiral': 13333, 'bears': 1315, 'junkie': 7807, 'warmth': 15606, 'ignite': 7021, 'appropriate': 834, 'fairness': 5140, 'varying': 15354, 'coughed': 3154, 'fidgeted': 5322, 'romped': 11980, 'aisles': 534, 'bathroom': 1292, 'breaks': 1825, 'gory': 6136, 'torture': 14571, 'selfmutilation': 12468, 'pitted': 10497, 'shimmering': 12688, 'ethereal': 4845, 'asian': 942, 'painting': 10097, 'efficient': 4502, 'suitably': 13879, 'anonymous': 746, 'chiller': 2422, 'masterful': 8766, 'sickly': 12797, 'gender': 5919, 'normative': 9617, 'acrid': 309, 'test': 14296, 'gourmet': 6148, 'topics': 14555, 'relegated': 11570, 'background': 1153, 'step': 13546, 'forward': 5629, 'sally': 12130, 'jesse': 7700, 'raphael': 11295, 'philadelphia': 10404, 'sign': 12811, 'abandon': 195, 'scripts': 12347, 'olympia': 9806, 'wash': 15623, 'marcken': 8692, 'marilyn': 8704, 'freeman': 5694, 'weighty': 15702, 'colorfully': 2726, 'wrapped': 16019, 'idiosyncratic': 7014, 'kitschy': 7934, 'executed': 4950, 'sincerity': 12854, 'appreciation': 828, 'daily': 3444, 'scrooge': 12349, 'fail': 5129, 'respond': 11724, 'treatment': 14699, 'sturm': 13763, 'und': 14978, 'drang': 4268, 'chris': 2464, 'fuhrman': 5773, 'posthumously': 10734, 'published': 11078, 'claude': 2548, 'chabrol': 2283, 'innuendo': 7351, 'deftly': 3629, 'smartly': 13048, 'played': 10539, 'stones': 13615, 'shameful': 12634, 'scary': 12234, 'widely': 15830, 'debated': 3546, 'ferocity': 5295, 'thoughtfulness': 14377, 'thoughtprovoking': 14380, 'western': 15772, 'intentioned': 7449, 'wreak': 16023, 'havoc': 6543, 'cultures': 3382, 'asks': 949, 'discerned': 3970, 'nonfirsthand': 9600, 'questions': 11191, 'capability': 2112, 'recording': 11431, 'eventual': 4879, 'adventure': 420, 'thrill': 14398, 'disquieting': 4049, 'darkly': 3486, 'tumultuous': 14818, 'affair': 439, 'musset': 9345, 'train': 14632, 'wreck': 16026, 'metropolis': 8953, 'hate': 6528, 'subtitles': 13822, 'search': 12366, 'redemption': 11458, 'blanchett': 1543, 'ribisi': 11839, 'compellingly': 2820, 'tap': 14135, 'spiritual': 13340, 'aspect': 953, 'wry': 16050, 'mayhem': 8803, 'callow': 2067, 'fatherhood': 5229, 'rap': 11291, 'wanting': 15591, 'answers': 750, 'fessenden': 5304, 'ownership': 10053, 'redefinition': 11457, 'myth': 9368, 'domestic': 4167, 'unit': 15139, 'finding': 5370, 'opens': 9853, 'maggots': 8589, 'crawling': 3238, 'dog': 4142, 'stanley': 13487, 'kwan': 7988, 'gay': 5898, 'stripe': 13695, 'concert': 2894, 'footage': 5566, 'stirring': 13595, 'sessions': 12575, 'blow': 1612, 'admirers': 383, 'norton': 9623, 'mermaid': 8923, 'aladdin': 540, 'trouble': 14764, 'veggies': 15368, 'creaky': 3244, 'staircase': 13458, 'gothic': 6142, 'enjoyably': 4703, 'dumb': 4371, 'intermittently': 7474, 'sends': 12502, 'spent': 13310, 'lightyears': 8286, 'ahead': 509, 'blockbusters': 1595, 'pearl': 10277, 'harbor': 6474, 'artistically': 923, 'eventful': 4876, 'guru': 6350, 'helped': 6633, 'launch': 8113, 'isabelle': 7596, 'excels': 4927, 'enigmatic': 4700, 'mika': 8993, 'anna': 730, 'mouglalis': 9250, 'stunning': 13750, 'mysteries': 9361, 'nelson': 9489, 'eddy': 4473, 'crooned': 3319, 'jeanette': 7681, 'macdonald': 8562, 'unabashedly': 14918, 'canadian': 2094, 'scorn': 12307, 'disinterest': 4017, 'anachronistic': 674, 'bleak': 1562, 'maguire': 8598, 'spectacular': 13292, 'completion': 2838, 'artworks': 932, 'decade': 3556, 'sexual': 12605, 'jealousy': 7677, 'resentment': 11690, 'pretence': 10858, 'bombshell': 1691, 'americans': 644, 'regardless': 11521, 'blame': 1542, 'required': 11675, 'civics': 2516, 'classes': 2538, 'wouldbe': 16011, 'success': 13834, 'travails': 14679, 'extraordinary': 5066, 'polished': 10636, 'vastly': 15356, 'sting': 13590, 'washington': 15625, 'demands': 3678, 'receives': 11399, 'newcomer': 9522, 'derek': 3753, 'luke': 8514, 'broken': 1889, 'texture': 14308, 'chimps': 2429, 'goodall': 6102, 'minded': 9024, 'patience': 10233, 'oftencute': 9778, 'judicious': 7779, 'editing': 4481, 'strongest': 13708, 'brothers': 1903, 'mcmullen': 8822, 'serry': 12563, 'essentially': 4827, 'contained': 3012, 'historical': 6732, 'context': 3029, 'quaid': 11168, 'anchors': 688, 'effortless': 4505, 'grin': 6254, 'ballplayer': 1208, 'ok': 9789, 'sitcom': 12883, 'apparatus': 801, 'humanly': 6917, 'taking': 14106, 'female': 5283, 'salute': 12135, 'adapted': 354, 'elfriede': 4553, 'jelinek': 7687, 'graphic': 6195, 'shocking': 12711, 'difficult': 3886, 'sobering': 13126, 'adrenalin': 402, 'rustedout': 12076, 'ruin': 12048, 'collapse': 2703, 'final': 5365, 'restored': 11736, 'belittle': 1392, 'shorter': 12738, 'phillip': 10407, 'noyce': 9671, 'christopher': 2472, 'doyle': 4235, 'delicate': 3652, 'forcefulness': 5578, 'prose': 11011, 'sublimely': 13794, 'lofty': 8398, 'savour': 12204, 'binoche': 1499, 'huskies': 6955, 'border': 1726, 'collie': 2718, 'genial': 5941, 'complaints': 2835, 'errors': 4805, 'hardwon': 6498, 'selfglorification': 12454, 'feelgood': 5271, 'fiascos': 5316, 'emperor': 4612, 'club': 2643, 'mastering': 8768, 'formidable': 5612, 'arithmetic': 882, 'cameras': 2079, 'articulates': 916, 'flood': 5499, 'emotion': 4605, 'kidpleasing': 7890, 'tolerabletoadults': 14512, 'lark': 8074, 'climactic': 2593, 'hourlong': 6881, 'cricket': 3284, 'match': 8776, 'boredom': 1733, 'combine': 2742, 'claustrophobia': 2552, 'submarine': 13796, 'spookiness': 13372, 'supernatural': 13922, 'sooner': 13196, 'kubrick': 7978, 'soderbergh': 13145, 'detract': 3814, 'favorite': 5241, 'friends': 5727, 'problem': 10922, 'shortness': 12740, 'disappoints': 3959, 'anime': 726, 'ardent': 860, 'outside': 9968, 'japan': 7657, 'introverted': 7521, 'fetishes': 5310, 'hopelessly': 6834, 'juvenile': 7816, 'break': 1822, 'attraction': 1042, 'desperately': 3789, 'needed': 9468, 'uk': 14907, 'jack': 7625, 'carter': 2182, 'went': 15764, 'newcastle': 9521, 'gangster': 5865, 'drips': 4309, 'england': 4687, 'wander': 15578, 'clouds': 2636, 'denial': 3703, 'chords': 2455, 'bai': 1180, 'taken': 14104, 'slice': 12982, 'process': 10930, 'flamboyant': 5432, 'artfully': 912, 'restrained': 11738, '65yearold': 143, 'nicholson': 9539, '12th': 23, 'oscar': 9919, 'nomination': 9582, 'proving': 11036, 'choosing': 2447, 'roles': 11950, 'precision': 10800, 'insurance': 7424, 'actuary': 344, 'direct': 3924, 'connection': 2956, 'spans': 13261, 'convoluted': 3086, 'amazing': 624, 'supersized': 13926, 'dosage': 4197, 'goofball': 6119, 'stunts': 13754, 'jackass': 7627, 'agendas': 484, 'everlyn': 4885, 'sampi': 12144, 'courageous': 3174, 'molly': 9151, 'craig': 3217, 'radiates': 11236, 'starpower': 13495, 'considerable': 2974, 'confirms': 2927, 'tezuka': 14309, 'status': 13522, 'animé': 727, 'defining': 3620, 'conscience': 2966, 'narrated': 9408, 'talking': 14118, 'morvern': 9231, 'callar': 2064, 'lynne': 8553, 'ramsay': 11275, 'welldone': 15730, 'keen': 7851, 'insights': 7375, 'parapsychological': 10151, 'phenomena': 10400, 'grieving': 6245, 'plethora': 10567, 'diatribes': 3859, 'delivered': 3668, 'households': 6886, 'forefront': 5583, 'sixth': 12892, 'makers': 8625, 'embraces': 4593, 'wiseman': 15900, 'uncompromising': 14965, 'observe': 9716, 'torn': 14565, 'abuse': 238, 'happilyever': 6469, 'spangle': 13257, 'dover': 4219, 'kosashvili': 7968, 'outstanding': 9971, 'potent': 10746, 'damaged': 3448, 'families': 5163, 'offer': 9762, 'consolation': 2986, 'arguably': 871, 'lie': 8255, 'fat': 5220, 'liar': 8240, 'invigorating': 7540, 'surreal': 13964, 'rainbow': 11254, 'alfonso': 555, 'cuaron': 3361, 'rapid': 11296, 'omniscient': 9814, 'voiceover': 15510, 'narrator': 9412, 'pray': 10781, 'sisterhood': 12879, 'maintains': 8613, 'oneroom': 9823, 'humorous': 6931, 'illuminating': 7050, 'politics': 10641, 'mobility': 9121, 'ganginfested': 5861, 'eastvs': 4447, 'west': 15770, 'coast': 2661, 'wars': 15617, 'mob': 9120, 'fascinate': 5204, 'thurman': 14431, 'considered': 2977, 'careerbest': 2149, 'berry': 1427, 'saucy': 12192, 'kick': 7873, 'die': 3876, 'bonds': 1698, 'showy': 12767, 'hannibal': 6457, 'caviezel': 2245, 'embodies': 4589, 'transformation': 14649, 'completely': 2837, 'selfdestructive': 12444, 'exploratory': 5024, 'medical': 8854, 'procedure': 10926, 'autopsy': 1088, 'upping': 15269, 'ante': 752, 'results': 11745, 'drooling': 4321, 'idemoto': 7006, 'béart': 2031, 'berling': 1423, 'magnificent': 8595, 'pauline': 10249, 'paulette': 10248, 'der': 3750, 'groen': 6273, 'described': 3766, 'belgium': 1381, 'treasure': 14693, 'created': 3247, 'swept': 14030, 'muccino': 9292, 'exploring': 5028, 'beings': 1378, 'horribly': 6846, 'sympathetic': 14066, 'buy': 2013, 'findings': 5371, 'acquires': 307, 'slight': 12989, 'pale': 10106, 'continues': 3034, 'situations': 12890, 'lesser': 8215, 'cover': 3185, 'ozpetek': 10054, 'emigre': 4602, 'explore': 5025, 'samesex': 12142, 'ways': 15661, 'elude': 4571, 'nationally': 9423, 'settled': 12584, 'eerily': 4494, 'suspenseful': 13996, 'treatise': 14698, 'spirituality': 13342, 'recommend': 11420, 'nicole': 9546, 'party': 10190, 'attending': 1033, 'fluid': 5523, 'nononsense': 9605, 'authority': 1080, 'phifer': 10403, 'cam': 2072, 'ron': 11981, 'seal': 12359, 'komediant': 7962, 'catching': 2221, 'writing': 16044, 'simplicity': 12843, 'equals': 4782, 'aesop': 432, 'rez': 11829, 'picnic': 10444, 'marry': 8728, 'science': 12286, 'inquiry': 7356, 'type': 14888, 'realistic': 11363, 'urgent': 15287, 'sugarcoated': 13865, 'fizz': 5415, 'busby': 1995, 'berkeley': 1420, 'musical': 9339, 'extravaganza': 5070, 'cheesy': 2389, 'palma': 10112, 'pulpy': 11091, 'thrillers': 14402, '80s': 162, 'iranianamerican': 7562, '1979': 64, 'veteran': 15413, 'cutter': 3422, 'barbershop': 1243, 'tuned': 14821, 'baffled': 1174, 'minimal': 9034, 'woolf': 15963, 'clarissa': 2532, 'dalloway': 3445, 'angela': 703, 'gheorghiu': 5978, 'prima': 10887, 'donna': 4180, 'floria': 5506, 'tosca': 14574, 'roberto': 11920, 'alagna': 541, 'lover': 8478, 'mario': 8709, 'cavaradossi': 2243, 'ruggero': 12045, 'villainous': 15460, 'lecherous': 8171, 'scarpia': 12233, 'sing': 12855, 'reach': 11342, 'grasp': 6198, 'scorsese': 12309, 'bold': 1675, 'ensure': 4722, 'lethargic': 8224, 'hindered': 6713, 'central': 2270, 'peppered': 10314, 'populated': 10677, 'mesmerizing': 8929, 'coming': 2769, 'realize': 11369, 'blown': 1614, 'choreographed': 2457, 'kitchen': 7931, 'ballet': 1203, 'underlying': 15010, 'sexism': 12601, 'morning': 9216, 'undercuts': 14993, 'agenda': 483, 'deliver': 3666, 'aweinspiring': 1122, 'sublime': 13793, 'athletes': 1011, 'derringdo': 3762, 'games': 5854, 'gidget': 5993, 'muscles': 9331, 'smarts': 13049, 'endearing': 4651, 'solace': 13157, 'giggling': 6001, 'absurdities': 233, 'inconsistencies': 7203, 'fight': 5336, 'desperation': 3790, 'drug': 4331, 'insomnia': 7385, 'conventional': 3067, 'nolan': 9580, 'penetrating': 10304, 'undercurrent': 14991, 'cerebral': 2275, 'cinemantic': 2495, 'stimulating': 13588, 'efteriades': 4508, 'neighborhood': 9487, 'scenery': 12244, 'vibe': 15418, 'equivalent': 4788, 'tender': 14260, 'hug': 6901, 'handled': 6438, 'darkness': 3487, 'etched': 4840, 'college': 2713, 'vulgarity': 15533, 'cussing': 3410, 'swear': 14015, 'wet': 15774, 'creeping': 3272, 'raunchy': 11326, 'followup': 5552, 'standup': 13484, 'astronaut': 1002, 'breathtakingly': 1835, 'catherine': 2228, 'di': 3850, 'napoli': 9401, 'melville': 8887, 'supporting': 13935, 'quickwitted': 11201, 'lit': 8348, 'sassy': 12175, 'exceptionally': 4931, 'stretches': 13681, 'awe': 1120, 'choices': 2439, 'gift': 5995, 'loves': 8480, 'dance': 3461, 'floppy': 5504, 'hair': 6382, 'selfdeprecating': 12443, 'stammers': 13470, 'glitz': 6048, 'humane': 6909, 'infectiously': 7285, 'enthusiastic': 4742, 'timeless': 14464, 'heated': 6597, 'passions': 10208, 'forgiveness': 5601, 'cultureclash': 3381, 'discomfort': 3976, 'embarrassment': 4585, 'europe': 4856, 'shattering': 12661, 'maladjusted': 8633, 'teens': 14221, 'narcotized': 9407, 'josh': 7752, 'koury': 7971, 'adds': 368, 'substantial': 13812, 'neofascism': 9492, 'intrigued': 7511, '70s': 147, 'douglas': 4217, 'mcgrath': 8818, 'nicholas': 9538, 'nickleby': 9542, 'dickens': 3866, 'cinematically': 2497, 'lovely': 8477, 'eerie': 4493, 'rapt': 11302, 'recessive': 11405, 'charms': 2347, 'costars': 3142, 'donovan': 4181, 'marylouise': 8748, 'problematic': 10923, 'whipping': 15798, 'punching': 11104, 'unprepared': 15181, 'wispy': 15907, 'inoffensive': 7354, 'stepmom': 13549, 'israel': 7602, 'onscreen': 9833, 'jewish': 7706, 'ww': 16052, 'doc': 4119, 'outshock': 9967, 'outoutrage': 9954, 'outdepress': 9941, 'knew': 7943, 'presented': 10843, 'intelligence': 7436, 'haul': 6537, 'finch': 5368, 'saturday': 12190, 'kinnear': 7923, 'careerdefining': 2150, 'revelation': 11786, 'reassuring': 11387, 'sung': 13900, 'carol': 2170, 'including': 7192, 'assumption': 989, 'crazy': 3243, 'childlike': 2417, 'inherently': 7325, 'tune': 14820, 'taught': 14165, 'piano': 10437, 'sexiness': 12599, 'underlines': 15009, 'dullest': 4364, 'tangents': 14128, 'captivated': 2126, 'moods': 9189, 'subtly': 13827, 'transformed': 14650, 'anderson': 692, 'inclination': 7188, 'artful': 911, 'adam': 349, 'sandler': 12156, 'appear': 808, 'substitute': 13815, 'friel': 5724, 'strings': 13693, 'sink': 12871, 'melancholia': 8874, 'reaction': 11348, 'gut': 6356, 'adage': 348, 'unknowable': 15147, 'interpretation': 7483, 'gritty': 6266, 'radiant': 11235, 'compassion': 2814, 'effortlessly': 4506, 'players': 10542, 'fore': 5582, 'stillinestimable': 13583, 'schnitzler': 12269, 'stylist': 13772, 'basically': 1281, 'greatesthits': 6223, 'reel': 11485, 'subscription': 13805, 'magazine': 8586, 'shadowy': 12614, 'samurai': 12147, 'sword': 14051, 'jiang': 7711, 'wen': 15761, 'devils': 3835, 'doorstep': 4189, 'wartime': 15618, 'farce': 5192, 'alternately': 607, 'gutwrenching': 6363, 'joseph': 7751, 'heller': 6624, 'kurt': 7986, 'vonnegut': 15521, 'chronicle': 2474, 'represented': 11659, 'observations': 9715, 'longlived': 8419, 'friendships': 5729, 'lose': 8448, 'track': 14609, 'caffeinated': 2047, 'logical': 8401, 'loopholes': 8434, 'fly': 5532, 'lohman': 8404, 'adapts': 355, 'actress': 338, 'wall': 15562, 'erects': 4792, 'county': 3168, 'funnier': 5798, 'connect': 2954, 'neat': 9460, 'introduces': 7516, 'illuminate': 7047, 'bright': 1854, 'flight': 5484, 'revisionist': 11806, 'fancy': 5178, 'shape': 12642, 'wellexecuted': 15735, 'television': 14240, 'affirms': 455, 'gifts': 5997, 'starting': 13505, 'oncamera': 9815, 'revels': 11790, 'smile': 13057, 'grumble': 6305, 'abundantly': 237, 'exist': 4969, 'precedent': 10793, 'yiddish': 16095, 'jolly': 7739, 'funforfun': 5794, 'deepa': 3597, 'mehta': 8871, 'accessible': 256, 'bollywood': 1681, 'shedding': 12669, 'musicians': 9341, 'unnoticed': 15169, 'underappreciated': 14987, 'gluing': 6068, 'seat': 12375, 'changing': 2306, 'lanes': 8050, 'pan': 10116, 'nalin': 9391, 'exposition': 5036, 'mysterious': 9362, 'interviews': 7494, 'follow': 5547, 'practitioners': 10773, 'practice': 10770, 'fit': 5408, 'incredible': 7209, 't': 14079, 'crafty': 3216, 'fourteenyear': 5643, 'ferris': 5299, 'bueller': 1936, 'journalism': 7757, '78': 155, 'zings': 16143, 'vibrance': 15419, 'strangely': 13652, 'coldest': 2694, 'environment': 4763, 'crumb': 3349, 'comfort': 2758, '10course': 11, 'banquet': 1232, 'tired': 14481, 'pulse': 11093, 'disappears': 3952, 'crosses': 3326, 'finish': 5383, 'winded': 15868, 'strippeddown': 13698, 'constructs': 3002, 'austere': 1066, 'equal': 4779, 'parts': 10189, 'dogtown': 4152, 'zboys': 16121, 'exposes': 5034, 'skateboarding': 12901, 'boom': 1711, 'punk': 11115, 'revolution': 11814, 'wide': 15826, 'awake': 1109, 'tense': 14268, 'eyepopping': 5092, 'danny': 3474, 'astounding': 997, 'gradually': 6170, 'beneath': 1406, 'spellbinding': 13304, 'serpent': 12561, 'smirk': 13061, 'cohesive': 2688, 'thematically': 14328, 'exciting': 4942, 'ignored': 7025, 'wellcontructed': 15724, 'careful': 2152, 'given': 6023, 'workout': 15984, 'reaffirms': 11359, 'drag': 4244, 'twothirds': 14883, 'aspects': 954, 'start': 13502, 'overtake': 10032, 'jerry': 7697, 'springer': 13404, 'skip': 12929, 'sy': 14056, 'openfaced': 9846, 'smiling': 13060, 'madmen': 8581, 'slightest': 12990, 'difficulty': 3888, 'accepting': 252, 'role': 11949, 'open': 9843, 'ouzo': 9978, 'greek': 6229, 'whirlwind': 15804, 'nonstop': 9609, 'feast': 5256, 'cringe': 3293, 'stylish': 13770, 'hermetic': 6647, 'energized': 4672, 'volletta': 15517, 'wallace': 15563, 'maternal': 8782, 'fury': 5807, 'crackles': 3208, 'definite': 3621, 'unbelievable': 14939, 'meandering': 8829, '60s': 138, 'riveting': 11908, 'brisk': 1867, 'delight': 3656, 'capture': 2133, 'chaos': 2312, '1790': 36, 'imagines': 7068, 'runner': 12059, 'transports': 14668, 'engages': 4681, 'actorly': 335, 'boundaryhopping': 1763, 'formal': 5607, 'innovations': 7348, 'chinese': 2432, 'wellformed': 15736, 'dong': 4179, 'continuing': 3035, 'fundamentals': 5792, 'consumers': 3006, 'lo': 8378, 'mein': 8872, 'tso': 14802, 'chicken': 2410, 'folks': 5543, 'prepare': 10831, 'hopefully': 6832, 'attach': 1022, 'steaming': 13537, 'cartons': 2183, 'hatosy': 6534, 'portrays': 10705, 'brendan': 1844, 'subtlety': 13826, 'brogue': 1886, 'convey': 3075, 'uneven': 15068, 'bigger': 1478, 'ambitious': 632, 'installment': 7396, 'spy': 13412, '12yearold': 24, 'grown': 6296, 'château': 2488, 'whimsicality': 15789, 'discipline': 3973, 'personality': 10370, 'yields': 16098, 'alan': 543, 'survivors': 13985, 'lift': 8269, 'playwriting': 10552, '101': 6, 'raw': 11331, 'blownout': 1615, 'narc': 9403, 'walkingdead': 15560, 'copflick': 3105, 'subgenre': 13787, 'beats': 1323, 'jason': 7665, 'race': 11225, 'forcefully': 5577, 'awfully': 1125, 'obviousness': 9728, 'stupidity': 13758, '95': 185, 'jolts': 7743, 'cattle': 2234, 'prod': 10935, 'kim': 7908, 'possibility': 10722, 'danger': 3465, 'toes': 14506, 'stone': 13612, 'conspiracy': 2991, 'jfk': 7709, 'intricate': 7508, 'starstudded': 13501, 'flashy': 5443, 'incurably': 7211, 'triple': 14741, 'double': 4205, 'agent': 485, 'dude': 4353, 'popular': 10675, 'vin': 15463, 'diesel': 3881, 'equation': 4784, 'box': 1777, 'office': 9767, 'wellwritten': 15756, 'telling': 14242, 'examines': 4915, 'forbidden': 5573, 'racial': 11228, 'valid': 15329, '1950s': 49, 'dazed': 3518, 'confused': 2943, 'pornography': 10691, 'ai': 513, 'lame': 8033, 'musketeer': 9344, 'dumas': 4370, 'entertains': 4736, 'cuisine': 3370, 'tunes': 14822, 'dreary': 4293, 'twentyfirst': 14855, 'recommended': 11422, 'horrifying': 6850, 'event': 4875, 'elements': 4548, 'contributed': 3049, 'animation': 721, 'enthusiasts': 4744, 'squeeze': 13427, 'angelina': 705, 'jolie': 7738, 'secretary': 12387, 'bundling': 1968, 'flowers': 5516, 'tempting': 14253, 'bouquet': 1766, 'judith': 7780, 'zaza': 16120, 'bedroom': 1342, 'psychologically': 11065, 'selfrevealing': 12478, 'passes': 10203, 'hysterics': 6980, 'melancholy': 8876, 'performed': 10335, 'uncinematic': 14954, 'spiked': 13324, 'corniest': 3126, 'hackneyed': 6377, 'contrivances': 3054, 'effect': 4495, 'uh': 14904, 'shred': 12769, 'relying': 11589, 'trinity': 14737, 'assembly': 972, 'irony': 7572, 'george': 5959, 'ratliff': 11319, 'reflects': 11502, 'terrifying': 14287, 'confessions': 2919, 'bio': 1500, 'barris': 1266, 'motivations': 9245, 'oddly': 9744, 'architect': 853, 'melancholic': 8875, 'leavened': 8167, 'nourishing': 9661, 'companionship': 2805, 'kuras': 7984, 'actresses': 339, 'velocity': 15375, 'gedeck': 5910, 'enormously': 4716, 'tall': 14122, 'pryor': 11048, 'carlin': 2163, 'murphy': 9327, 'frontloaded': 5746, 'shapely': 12645, 'twohour': 14880, 'released': 11567, '1990': 71, 'photographer': 10425, 'nachtwey': 9377, 'hates': 6531, 'empathizes': 4610, 'laidback': 8028, 'choose': 2445, 'interpret': 7482, 'optimistic': 9879, '163': 33, 'languorous': 8056, 'bursting': 1993, 'incident': 7184, 'scores': 12305, 'pedestrian': 10283, 'title': 14491, 'notwithstanding': 9660, 'spader': 13250, 'gyllenhaal': 6369, 'shainberg': 12619, 'wellcrafted': 15725, 'restraint': 11739, 'uncanny': 14946, 'precisely': 10798, 'animal': 717, 'known': 7956, 'companion': 2803, 'similarly': 12835, 'themed': 14330, 'lieutenant': 8257, 'pearce': 10276, 'semistable': 12496, 'dramatically': 4260, 'retooled': 11764, 'machine': 8566, 'crowdpleasing': 3334, 'goals': 6072, 'plain': 10513, 'awful': 1124, 'entertain': 4730, 'guiltypleasure': 6333, 'sobadit': 13123, 'disoriented': 4035, 'disarming': 3961, 'saga': 12117, 'alice': 559, 'wonderland': 15946, 'stalker': 13463, 'tv': 14848, 'brother': 1901, 'functions': 5790, 'collaborative': 2700, 'profile': 10957, 'corporate': 3130, 'circus': 2510, 'current': 3397, 'climate': 2594, 'mergers': 8918, 'downsizing': 4230, 'confrontational': 2939, 'stance': 13472, 'todd': 14503, 'aim': 519, 'correctness': 3135, 'suburban': 13828, 'mess': 8930, 'portuguese': 10707, 'import': 7130, 'borrows': 1741, 'les': 8211, 'vampires': 15337, 'arthouse': 913, 'porn': 10688, 'unusually': 15246, 'assured': 991, 'photographic': 10426, 'marvel': 8739, 'sorts': 13218, 'fishy': 5404, 'unslick': 15219, 'apparently': 803, 'aniston': 728, 'grow': 6294, 'career': 2148, 'olivier': 9804, 'assayas': 969, 'appointed': 824, 'padded': 10071, 'tooconscientious': 14537, 'jawdroppingly': 7671, 'upends': 15260, 'cliché': 2582, 'japanese': 7658, 'delivering': 3669, 'satisfactory': 12184, 'carnage': 2168, 'terry': 14295, 'geriatric': 5964, 'loyal': 8499, 'suits': 13882, 'hero': 6650, 'roughshod': 12012, 'incompetent': 7197, 'cops': 3112, 'lifted': 8270, 'gilliam': 6005, 'subconscious': 13781, 'pressed': 10851, 'meat': 8842, 'grinder': 6256, 'buñuel': 2017, 'casings': 2197, 'child': 2414, 'skins': 12928, 'forgive': 5599, 'intentions': 7450, 'entree': 4752, 'confection': 2916, 'demand': 3676, 'halloween': 6412, 'relies': 11580, 'heavily': 6600, 'grandstanding': 6191, 'rockylike': 11937, 'throwing': 14416, 'joys': 7769, 'brief': 1852, 'armed': 889, 'pitchperfect': 10492, 'forster': 5621, 'meara': 8839, 'levy': 8233, 'mike': 8994, 'shoots': 12729, 'namesake': 9395, 'decentenough': 3565, 'nailbiter': 9383, 'chance': 2301, 'franklin': 5669, 'stay': 13524, 'afloat': 465, 'docudrama': 4125, 'builds': 1949, 'flourish': 5510, 'uncertain': 14947, 'higher': 6686, 'plateau': 10528, 'interrogation': 7487, 'grips': 6261, 'downer': 4222, 'overdramatic': 9993, 'romances': 11966, 'enticing': 4745, 'chewing': 2403, 'blubber': 1618, 'acquired': 306, 'shake': 12620, 'almodovar': 597, 'discover': 3986, 'william': 15852, 'james': 7645, 'tears': 14191, 'tepid': 14274, 'trek': 14703, 'insurrection': 7425, 'contact': 3009, 'villain': 15458, 'lint': 8331, 'borg': 1735, 'queen': 11183, 'krige': 7977, 'cape': 2116, 'finishes': 5385, 'parsec': 10171, 'nose': 9625, 'generations': 5932, 'dated': 3495, 'depending': 3730, 'ignorant': 7023, 'fairies': 5137, 'sweatypalmed': 14019, 'majidi': 8617, 'smoother': 13072, 'bewilderingly': 1456, 'caring': 2160, 'tissues': 14486, 'stale': 13461, 'standard': 13474, 'connectthedots': 2958, 'commonplace': 2792, 'seamy': 12364, 'underbelly': 14988, 'criminal': 3291, 'probing': 10921, 'caustic': 2240, 'chimes': 2427, 'eccentricities': 4455, 'attached': 1023, 'concept': 2884, 'frodo': 5742, 'quest': 11187, 'unfulfilled': 15099, 'hardy': 6500, 'zealanders': 16125, 'proved': 11026, 'mettle': 8955, 'square': 13423, 'satisfies': 12186, 'intoxication': 7505, 'tastelessness': 14159, 'swooning': 14048, 'elegance': 4541, 'features': 5263, 'betting': 1451, 'behold': 1376, 'impressed': 7140, 'titfortat': 14489, 'retaliatory': 11756, 'responses': 11726, 'allow': 584, 'pulling': 11087, 'plug': 10586, 'conspirators': 2993, 'americanrussian': 643, 'armageddon': 887, 'classy': 2547, 'spin': 13327, 'frantic': 5672, 'soon': 13195, 'spiffy': 13322, 'unruly': 15204, 'yearning': 16085, 'prove': 11025, 'devos': 3842, 'cassel': 2199, 'tremendous': 14706, 'vocalized': 15508, 'fulfills': 5776, 'requirement': 11676, 'exception': 4929, 'blighter': 1578, 'particular': 10178, 'london': 8407, 'housing': 6888, 'digs': 3900, 'dysfunction': 4413, 'comforting': 2761, 'jar': 7660, 'marmite': 8722, 'slathered': 12961, 'crackers': 3205, 'served': 12566, 'bleakness': 1563, 'consume': 3003, 'impress': 7139, 'president': 10848, 'singlehandedly': 12864, 'turned': 14837, 'hardbitten': 6478, 'cynical': 3432, 'journalists': 7761, 'campaign': 2084, 'publicity': 11077, 'department': 3722, 'rails': 11250, 'wendigo': 15762, 'larry': 8076, 'newfangled': 9524, 'variation': 15347, 'derived': 3759, 'woo': 15955, 'collateral': 2706, 'damage': 3447, 'trash': 14675, 'earns': 4434, 'extra': 5061, 'hardhitting': 6487, 'formula': 5615, 'fincher': 5369, 'pacing': 10063, 'aboveaverage': 217, 'largerthanlife': 8070, 'atlantic': 1014, 'headbanger': 6557, 'stereotypes': 13557, 'adding': 363, 'potentially': 10748, 'previous': 10877, 'titles': 14494, 'plutonium': 10597, 'purgatory': 11128, 'penchant': 10301, 'contentious': 3027, 'configurations': 2923, 'canon': 2109, 'invitingly': 7548, 'upbeat': 15254, 'overture': 10035, 'pathosfilled': 10231, 'finale': 5366, 'conducted': 2913, 'loneliest': 8409, 'spots': 13387, 'pushed': 11147, 'virtuous': 15480, 'limits': 8310, 'lending': 8196, 'swings': 14040, 'jostles': 7754, 'rhythms': 11837, 'telescope': 14238, 'aloof': 600, 'unreachable': 15186, 'targeted': 14147, 'cheer': 2380, 'increasingly': 7208, 'computer': 2867, 'favor': 5238, 'blade': 1537, 'merges': 8919, 'bits': 1519, 'fighting': 5339, 'wire': 15889, 'fu': 5762, 'bond': 1695, 'wrestling': 16031, 'bloody': 1610, 'stew': 13568, 'hitting': 6748, 'schrader': 12276, 'ironies': 7571, 'annals': 731, 'fear': 5247, 'updating': 15258, 'glib': 6040, 'bouncy': 1760, 'sixtiesstyle': 12895, 'slickness': 12986, 'caught': 2236, 'escapism': 4813, 'hiphop': 6721, 'appreciate': 825, 'scratch': 12318, 'bursts': 1994, 'automatic': 1085, 'gunfire': 6347, 'critique': 3312, 'capitalism': 2118, 'improbable': 7151, 'gored': 6130, 'bullfighters': 1957, 'comatose': 2739, 'ballerinas': 1201, 'kinky': 7922, 'bedside': 1343, 'vigils': 15454, 'denouements': 3711, 'touched': 14584, 'iwai': 7622, 'seduce': 12394, 'taboo': 14084, 'prim': 10886, 'source': 13238, 'scooby': 12294, 'doo': 4182, 'recommendation': 11421, 'devastatingly': 3822, 'astonishingly': 996, 'complete': 2836, 'gang': 5860, 'insane': 7360, 'liberties': 8246, 'goofiest': 6120, 'field': 5323, 'sundrenched': 13899, 'parlor': 10163, 'curiosity': 3390, 'forum': 5628, 'demonstrate': 3697, 'chops': 2451, 'advantage': 417, 'present': 10841, 'downfall': 4223, 'selfawareness': 12431, 'bourne': 1768, 'identity': 7008, 'doug': 4215, 'liman': 8302, 'colleagues': 2707, 'satisfy': 12187, 'boombam': 1712, 'veggietales': 15369, 'appetizing': 816, 'dish': 4009, 'asparagus': 952, 'brussels': 1918, 'sprouts': 13408, 'remove': 11617, 'herring': 6655, 'surroundings': 13974, 'apparent': 802, 'mildly': 8998, 'outing': 9946, 'r': 11222, 'rating': 11317, 'nudity': 9678, 'corpse': 3131, 'aloft': 598, 'selfreferential': 12475, 'tim': 14459, 'refuses': 11515, 'ruthless': 12079, 'placid': 10508, 'conservative': 2972, 'hidebound': 6674, 'traditions': 14622, 'relevance': 11573, 'lessons': 8218, 'revisiting': 11808, 'intrepid': 7507, 'showing': 12762, 'antonia': 779, 'question': 11188, 'flipflop': 5492, 'courtship': 3182, 'reflections': 11500, 'intentional': 7447, 'grows': 6299, 'vacuum': 15318, 'gooding': 6108, 'frontman': 5747, 'enthusiasm': 4740, 'goodnaturedness': 6113, 'goofiness': 6122, 'cameos': 2077, 'thanlikely': 14316, 'celebrities': 2255, 'raises': 11260, 'philosophy': 10411, 'illustrated': 7053, 'stylishly': 13771, 'verve': 15412, 'rapidly': 11298, 'beijing': 1377, 'hong': 6808, 'kong': 7963, 'inevitable': 7268, 'flattens': 5451, 'wrinkles': 16034, 'holm': 6784, 'iben': 6985, 'hjelje': 6751, 'pumpkin': 11096, 'accurate': 279, 'block': 1592, 'moron': 9218, 'foul': 5633, 'pristine': 10911, 'colors': 2727, 'oversized': 10025, 'bedtime': 1344, 'dishonorable': 4013, 'quickie': 11198, 'teenpop': 14220, 'exploitation': 5018, 'partly': 10183, 'synthetic': 14074, 'decency': 3563, 'bravo': 1811, 'rewritten': 11826, 'gaï': 5905, 'impossibly': 7136, 'limbs': 8305, 'conspiratorial': 2992, 'towering': 14600, 'siren': 12875, 'stomp': 13610, 'lux': 8548, 'eighties': 4521, 'grandmother': 6187, 'biography': 1504, 'setup': 12586, 'facile': 5116, 'cheapshot': 2367, 'mediocrity': 8857, 'crack': 3202, 'rife': 11861, 'rueful': 12042, 'springing': 13405, 'childhood': 2415, 'cares': 2155, 'melted': 8884, 'mesmerize': 8928, 'astonish': 994, 'rubbo': 12035, 'humorously': 6932, 'tendentious': 14259, 'intervention': 7491, 'whowroteshakespeare': 15823, 'cantet': 2110, 'illuminates': 7049, 'actionpacked': 322, 'ringside': 11879, 'toughman': 14593, 'contest': 3028, 'frustration': 5760, 'euphoria': 4855, 'tropes': 14758, 'gag': 5829, 'expense': 4996, 'viscerally': 15484, 'repellent': 11641, 'overcomes': 9988, 'hideousness': 6677, 'skillful': 12920, 'historically': 6733, 'significant': 12815, 'cooly': 3097, 'recreates': 11440, 'conjured': 2951, 'hang': 6448, 'cherish': 2397, 'spaceship': 13247, 'launching': 8114, 'pad': 10070, 'duly': 4369, 'dimensions': 3908, 'shots': 12745, 'astronauts': 1003, 'floating': 5496, 'cabins': 2035, 'german': 5965, 'occupation': 9732, 'selves': 12490, 'mediocre': 8856, 'supposed': 13937, 'target': 14146, 'judging': 7777, 'fubar': 5763, 'laughoutloud': 8109, 'diverse': 4104, 'articulate': 915, 'palestinian': 10107, 'israeli': 7603, 'stark': 13493, 'unnatural': 15166, 'calm': 2069, 'shaken': 12621, 'blasts': 1556, 'rage': 11244, 'monty': 9184, 'underdog': 14995, 'redux': 11476, 'organic': 9900, 'encourages': 4644, 'evocation': 4896, 'evergreen': 4882, 'exuberant': 5081, 'expresses': 5042, 'heat': 6596, 'prevails': 10870, 'cooks': 3092, 'low': 8484, 'smoky': 13068, 'sizzle': 12898, 'denis': 3706, 'forges': 5593, 'sisterly': 12880, 'obsession': 9720, 'razorsided': 11336, 'tuning': 14823, 'fork': 5605, 'discord': 3981, 'prewwii': 10879, 'temptations': 14251, 'unleashed': 15150, 'crazed': 3240, 'overtly': 10034, 'onenight': 9820, 'raucously': 11323, 'uncomfortable': 14960, 'lately': 8088, 'surprised': 13960, 'tones': 14528, 'surrealistic': 13967, 'rudimentary': 12040, 'python': 11162, 'cartoons': 2186, 'drawings': 4274, 'photographs': 10427, 'paste': 10213, 'flatout': 5448, 'canada': 2093, 'arctic': 859, 'frozen': 5752, 'tundra': 14819, 'breathes': 1831, 'private': 10912, 'inuit': 7524, 'number': 9680, 'levels': 8231, 'büttner': 2032, 'implies': 7125, 'wake': 15552, 'intractable': 7506, 'irreversible': 7587, 'aggravating': 491, 'scathing': 12236, 'joyous': 7768, 'masterpeice': 8770, 'messages': 8934, 'tolerance': 14513, 'diversity': 4107, 'particularly': 10179, 'drawn': 4276, 'robustness': 11928, 'bloodletting': 1603, 'legal': 8185, 'ireland': 7564, 'raise': 11258, 'remember': 11602, 'hartley': 6518, 'satirical': 12181, 'suffocating': 13862, 'senseless': 12510, 'morbid': 9206, 'buttons': 2012, 'push': 11146, 'constantly': 2995, 'rug': 12044, 'underneath': 15015, 'plunging': 10594, 'laughed': 8104, 'suffered': 13855, 'martinet': 8736, 'instructor': 7411, 'fantasized': 5184, 'unhappy': 15108, 'tormentor': 14563, 'deserved': 3774, 'implosion': 7127, 'explosion': 5029, 'evenings': 4873, 'stitch': 13597, 'watercolor': 15643, 'dumbo': 4375, 'awkward': 1127, 'readymade': 11357, 'midnight': 8983, 'cold': 2692, 'conditions': 2910, 'goofy': 6123, 'scratching': 12320, 'bowling': 1774, 'columbine': 2733, 'infused': 7308, 'sensibility': 12515, 'twowrongsmakearight': 14885, 'loses': 8451, 'screenwriting': 12336, 'dummies': 4376, 'conformity': 2934, 'talk': 14113, 'stop': 13619, 'starproducer': 13496, 'julie': 7789, 'inherent': 7324, 'titular': 14496, 'paintings': 10098, 'labor': 7995, 'chord': 2454, 'kidempowerment': 7881, 'brains': 1794, 'coherent': 2685, 'sharply': 12659, 'gong': 6098, 'guzmán': 6368, 'frustratingly': 5759, 'pinochet': 10479, 'material': 8781, 'monsters': 9178, 'vengeance': 15379, 'oleander': 9800, 'rolling': 11958, 'spring': 13401, 'directly': 3931, 'exalts': 4912, 'marxian': 8745, 'dream': 4284, 'working': 15978, 'harmoniously': 6509, 'joined': 7730, '1984': 67, 'uncut': 14977, 'sergio': 12551, 'leone': 8206, 'staggering': 13449, 'insightfully': 7374, 'choice': 2438, 'assuming': 988, 'airconditioning': 527, 'properly': 10999, 'topic': 14553, 'galinsky': 5841, 'hawley': 6547, 'planned': 10520, 'documentarian': 4127, 'rope': 11988, 'snaps': 13088, 'starring': 13497, 'wesley': 15769, 'snipes': 13103, 'compulsive': 2865, 'metro': 8952, 'strategies': 13660, 'deceptions': 3567, 'tavernier': 14169, 'inimitable': 7327, 'tenderness': 14262, 'discontent': 3980, 'reliable': 11575, 'suffice': 13858, 'acquainted': 304, 'tiniest': 14474, 'wife': 15839, 'tarantino': 14143, 'alias': 558, 'detailed': 3804, 'marvelously': 8743, 'deliriously': 3664, 'reverent': 11795, 'remembrance': 11605, 'nanook': 9398, 'landmark': 8046, 'murderous': 9322, 'maids': 8602, 'punches': 11102, 'papin': 10134, 'sister': 12878, 'led': 8177, 'rise': 11892, 'infamy': 7278, 'inspiration': 7389, 'fringes': 5738, 'underground': 15004, 'sweetest': 14025, 'tendencies': 14257, 'saving': 12200, 'reflect': 11497, 'pointofview': 10616, 'lightweight': 8285, 'oozing': 9841, 'attractive': 1044, 'windinthehair': 15869, 'critics': 3311, 'murky': 9326, 'brooding': 1893, 'dangerously': 3468, 'revelations': 11787, 'machines': 8568, 'curtains': 3403, 'explosive': 5031, 'create': 3246, 'confounding': 2937, 'solemnly': 13164, 'advances': 415, 'daringly': 3481, 'preposterous': 10833, 'thesis': 14343, 'fulfordwierzbicki': 5777, 'wisebeyondheryears': 15894, 'wild': 15843, 'juiced': 7783, 'synergistic': 14073, 'typically': 14892, 'carefully': 2153, 'encouraging': 4645, 'needlessly': 9472, 'downbeat': 4221, 'heavy': 6601, 'preceded': 10792, 'neonazism': 9494, 'probe': 10919, 'nature': 9434, 'faith': 5143, 'attempts': 1031, 'heal': 6567, '1989': 70, 'prefer': 10816, 'zingerfilled': 16141, 'crowdpleaser': 3333, 'openminded': 9850, 'elvis': 4576, 'diggs': 3892, 'lathan': 8095, 'reasons': 11382, 'sugar': 13864, 'wellpaced': 15743, 'dare': 3476, 'flexible': 5477, 'nadia': 9379, 'russian': 12073, 'mailorder': 8605, 'word': 15965, 'kittenish': 7936, 'accumulates': 277, 'layers': 8132, 'unflappable': 15085, 'decadent': 3557, 'urbanity': 15284, 'everett': 4881, 'wildean': 15847, 'firth': 5400, 'rerelease': 11680, 'howard': 6890, 'apollo': 798, 'format': 5610, 'packages': 10067, 'honesty': 6806, 'fencing': 5292, 'eminently': 4604, 'linear': 8318, 'makeupdeep': 8628, 'ties': 14450, 'efficiency': 4501, 'comicbook': 2766, 'adaptations': 353, 'superior': 13918, 'thirteen': 14362, 'pearls': 10278, 'clicking': 2587, 'wintry': 15888, '1899': 38, 'oldworld': 9799, 'change': 2303, 'managing': 8658, 'charismatic': 2335, 'rising': 11895, 'jake': 7643, 'winners': 15883, 'susan': 13986, 'dustin': 4390, 'holly': 6778, 'hunter': 6943, 'ellen': 4562, 'pompeo': 10647, 'aplomb': 796, 'documentaries': 4129, 'phenomenal': 10401, 'ian': 6984, 'conquers': 2963, 'earthy': 4441, 'napoleon': 9400, 'ah': 508, 'characterizations': 2323, 'brett': 1846, 'morgen': 9213, 'nanette': 9397, 'burstein': 1992, 'biographical': 1503, 'fantasia': 5182, 'subtitled': 13821, 'remote': 11615, 'african': 468, 'guns': 6349, 'internal': 7476, 'combustion': 2747, 'engine': 4685, 'thump': 14427, 'pastry': 10216, 'obviously': 9727, 'country': 3166, 'amused': 665, 'groantoguffaw': 6271, 'ratio': 11318, 'labute': 8002, 'balances': 1190, 'traditional': 14619, 'overwhelms': 10044, 'irwin': 7594, 'pleas': 10554, 'wildlife': 15850, 'environs': 4766, 'teach': 14179, 'sloppy': 13011, 'slap': 12950, 'scares': 12225, 'ominous': 9809, 'pervasive': 10381, 'unknown': 15148, 'threat': 14387, 'lurks': 8537, 'constant': 2994, 'mindset': 9029, 'suspense': 13995, 'insular': 7418, 'clichés': 2586, 'dedicated': 3591, 'rail': 11249, 'ongoing': 9830, 'unprecedented': 15179, 'construction': 3001, 'heads': 6563, 'physically': 10432, 'contradicts': 3043, 'nowadays': 9668, 'handling': 6440, 'handles': 6439, 'geeked': 5912, 'testud': 14304, 'parmentier': 10164, 'stacy': 13441, 'peralta': 10316, 'jell': 7688, 'sean': 12365, 'penn': 10305, 'monotone': 9170, 'narration': 9409, 'respects': 11721, 'sentimentalizing': 12530, 'elevate': 4550, 'glory': 6059, 'ilk': 7032, 'notably': 9632, 'mere': 8915, 'presence': 10840, 'chills': 2425, 'atmospheric': 1016, 'weirdness': 15710, 'behavior': 1372, 'rises': 11894, 'ohsohollywood': 9785, 'rejiggering': 11554, 'unabashed': 14917, 'esoteric': 4817, 'musings': 9342, 'mingliang': 9032, 'ghosts': 5982, 'painfully': 10086, 'aware': 1116, 'notbeing': 9635, 'floor': 5500, 'randomness': 11282, 'lively': 8367, 'owe': 10048, 'nicolas': 9545, 'cage': 2049, 'apology': 799, 'allpowerful': 588, 'popcyber': 10668, 'feeds': 5268, 'bjorkness': 1527, 'underrated': 15019, 'professionals': 10951, 'deserve': 3773, 'receive': 11397, 'verge': 15398, 'bizarre': 1525, 'characteroriented': 2327, '127': 21, 'el': 4527, 'crimen': 3289, 'del': 3639, 'padre': 10073, 'amaro': 617, 'despairing': 3786, 'corruption': 3137, 'establishment': 4832, 'indepth': 7219, 'developments': 3830, 'university': 15146, 'departments': 3723, 'instantly': 7401, 'recognizable': 11414, 'beginning': 1360, 'drawing': 4273, 'sayles': 12209, 'developers': 3826, 'chamber': 2296, 'commerce': 2783, 'tourism': 14595, 'pageants': 10079, 'commercialism': 2785, 'neglecting': 9482, 'minute': 9046, 'reign': 11540, 'alltime': 590, 'apocalypse': 797, 'canvas': 2111, 'brush': 1915, 'smokey': 13066, 'robinson': 11923, 'worm': 15996, 'law': 8122, 'enforcement': 4678, 'nasty': 9417, 'hades': 6378, 'halfhearted': 6398, 'zeal': 16123, '8th': 173, 'grade': 6167, 'delving': 3675, 'hey': 6661, 'resistance': 11700, 'proficient': 10955, 'singularly': 12868, 'cursory': 3401, 'acts': 341, 'feral': 5293, 'bette': 1447, 'wordofmouth': 15967, 'reviews': 11802, 'studio': 13734, 'ponderous': 10653, 'rohmer': 11945, 'indoor': 7245, 'totally': 14581, 'weirded': 15707, 'notion': 9646, 'communitytherapy': 2802, 'disorienting': 4036, 'austin': 1068, 'tattoo': 14163, 'seven': 12588, 'maintain': 8610, 'humanscale': 6919, 'suck': 13843, 'outer': 9943, 'raunch': 11324, 'brio': 1866, 'elvira': 4575, 'ask': 946, 'canny': 2108, 'gruesome': 6304, 'sociopath': 13140, 'scariest': 12229, 'sadists': 12110, 'credited': 3263, 'fastpaced': 5219, 'thorough': 14370, 'bracing': 1786, 'unblinking': 14941, 'serves': 12567, 'elegy': 4545, 'hashiguchi': 6525, 'evoke': 4898, 'bustling': 2002, 'atop': 1018, 'grab': 6155, 'lump': 8522, 'playdoh': 10538, 'harder': 6483, 'tries': 14726, 'slip': 12996, 'fingers': 5382, 'bliss': 1585, 'conflagration': 2928, 'nesbitt': 9507, 'cooper': 3098, 'bullets': 1956, 'flying': 5533, 'procession': 10932, 'reinvigorated': 11549, 'retelling': 11758, 'alexandre': 554, 'kevin': 7866, 'reynolds': 11828, 'f': 5096, 'rom': 11960, 'soundtrack': 13234, 'unconventional': 14969, 'blazingly': 1561, 'shiri': 12699, 'sneaks': 13095, 'therapy': 14340, 'sanctimony': 12151, 'selfhatred': 12457, 'selfdetermination': 12446, 'guy': 6364, 'amiably': 647, 'wellmeaning': 15740, 'patronizing': 10244, 'masked': 8752, 'injustice': 7338, 'exploit': 5017, 'arrives': 902, 'margin': 8697, 'travel': 14680, 'jeonghyang': 7692, 'deceptively': 3568, 'hoot': 6826, 'pseudoeducational': 11050, 'shaggy': 12618, 'drags': 4251, 'forced': 5575, 'breathtaking': 1834, 'commentary': 2780, 'provided': 11031, 'lifesize': 8266, 'reenactment': 11488, 'tracts': 14613, 'ended': 4655, 'hippie': 6724, 'tossed': 14576, 'lake': 8031, 'grainy': 6177, 'mars': 8729, 'letter': 8227, 'slain': 12945, 'rappers': 11300, 'taunt': 14166, 'recovered': 11434, 'sights': 12810, 'wondrous': 15951, 'struggles': 13719, 'usurp': 15305, 'preaching': 10788, 'fuzzy': 5823, 'downtown': 4233, 'candy': 2101, 'barbs': 1244, 'contemporary': 3018, 'southern': 13242, 'adolescence': 392, 'lets': 8226, 'pill': 10465, 'miracle': 9051, 'selfexpression': 12452, 'confuse': 2942, 'compared': 2809, 'flops': 5505, 'runteldat': 12065, 'fingering': 5381, 'solutions': 13175, 'scratches': 12319, 'itch': 7613, 'directorcowriter': 3934, 'jacques': 7634, 'audiard': 1052, 'belongs': 1398, 'rank': 11285, 'razzledazzle': 11338, 'vincent': 15464, 'gallo': 5846, 'shocker': 12709, 'weirdo': 15711, 'glaring': 6032, 'cletis': 2573, 'studied': 13732, 'dependent': 3729, 'contraption': 3044, 'clean': 2557, 'kidfriendly': 7883, 'investigate': 7536, 'mothers': 9236, 'sociopaths': 13141, 'gripping': 6260, 'margarita': 8695, 'auspicious': 1063, 'chaiken': 2287, 'arrive': 900, 'filling': 5351, 'lighthearted': 8279, 'glow': 6064, 'impudent': 7161, 'snickers': 13100, 'dose': 4198, 'humankind': 6916, 'standing': 13479, 'medium': 8861, 'perception': 10318, 'unmistakably': 15163, 'fastmoving': 5218, 'rehearsals': 11537, 'facet': 5112, 'mission': 9092, 'unhurried': 15113, 'controlled': 3059, 'resonances': 11707, 'ironically': 7570, 'distanced': 4062, 'oneofakind': 9822, 'instrument': 7413, 'scrapbook': 12316, 'mug': 9300, 'arnie': 894, 'musclefest': 9330, 'resonance': 11706, 'insultingly': 7422, 'simplistic': 12845, 'tackles': 14087, 'response': 11725, 'hinge': 6715, 'amy': 671, 'sunday': 13898, 'prevention': 10874, 'accomplishes': 269, 'possibly': 10724, 'similar': 12834, 'dominate': 4169, 'bittersweet': 1523, 'scene': 12242, 'shrill': 12777, 'nuance': 9673, 'characterization': 2322, 'marred': 8725, 'inexplicable': 7273, 'distracting': 4085, 'blunder': 1627, 'paying': 10262, 'guess': 6318, 'unassuming': 14933, 'appreciates': 827, 'oneliners': 9819, 'snappy': 13087, 'volatile': 15515, 'opportunities': 9866, 'rewarded': 11819, 'anchored': 686, 'splendid': 13353, 'honored': 6813, 'transform': 14648, 'motherdaughter': 9234, 'received': 11398, 'technosex': 14203, 'weirder': 15708, 'nurtures': 9690, 'multilayers': 9309, 'gamble': 5849, 'embraced': 4592, 'reflective': 11501, 'walter': 15574, 'hill': 6711, 'hypermasculine': 6968, 'vitality': 15498, 'hands': 6441, 'heady': 6566, 'jumble': 7793, 'undertaking': 15030, 'coheres': 2686, 'serviceable': 12571, 'halfbad': 6394, 'believes': 1389, 'addams': 357, 'hanging': 6449, 'chances': 2302, 'lucas': 8501, 'visionary': 15487, 'viewed': 15448, 'composition': 2853, 'individual': 7240, 'beliefs': 1383, 'prejudices': 10824, 'peace': 10271, 'tolerate': 14514, 'redneckversusblueblood': 11464, 'trades': 14616, 'alabama': 538, 'jeff': 7683, 'foxworthy': 5647, 'shaw': 12664, 'icon': 6994, 'melting': 8885, 'phocion': 10413, 'attentions': 1035, 'campaigntrail': 2085, 'press': 10850, 'candidate': 2098, 'nobull': 9572, 'throwback': 14415, '1970s': 59, 'zips': 16147, 'goforbroke': 6083, 'heralds': 6643, 'phoniness': 10420, 'femalebonding': 5284, 'gusto': 6355, 'normally': 9616, 'scorpion': 12308, 'barbarian': 1239, 'promises': 10985, 'barriers': 1265, 'authentically': 1076, 'impulsive': 7164, 'hallmark': 6410, 'uncommonly': 14963, 'exactly': 4908, 'libretto': 8252, 'ideally': 7004, 'capturing': 2136, 'lyricism': 8555, 'sincerely': 12853, 'traffic': 14623, 'jam': 7644, 'grotesquely': 6283, 'successfully': 13837, 'dicaprio': 3861, 'watchable': 15634, 'valleygirl': 15332, 'dench': 3702, 'lulls': 8519, '129minute': 22, 'dutifully': 4394, 'heartstrings': 6592, 'dean': 3536, 'deblois': 3549, 'sanders': 12155, 'valiantly': 15328, 'psychodrama': 11062, 'rougharoundtheedges': 12009, 'constraints': 2996, 'byler': 2021, 'pic': 10438, 'sentiments': 12531, 'explanations': 5013, 'wallowing': 15568, 'hormonal': 6842, 'wants': 15593, 'fulfill': 5774, 'dreams': 4289, 'smooth': 13070, 'professional': 10950, 'blithely': 1589, 'slyly': 13030, 'achronological': 296, '1950': 48, 'doris': 4194, 'ugly': 14901, 'til': 14457, 'discursive': 3993, 'terminally': 14278, 'smitten': 13063, 'troubadour': 14763, 'acolytes': 303, 'verite': 15403, 'assassination': 964, 'kennedy': 7861, 'blair': 1540, 'witch': 15911, 'techniques': 14199, 'territory': 14288, 'guts': 6360, 'aplenty': 795, 'bonus': 1704, 'worry': 16001, 'subjected': 13789, 'farts': 5203, 'urine': 15291, 'feces': 5265, 'semen': 12491, 'substances': 13810, 'overrun': 10020, 'limbo': 8304, 'truthtelling': 14796, 'door': 4187, 'liberation': 8245, '89': 172, 'horrendously': 6844, 'confusing': 2945, 'native': 9425, 'mexican': 8956, 'desplat': 3793, 'transfixes': 14647, 'mora': 9196, 'hitlerstudy': 6745, 'snide': 13101, 'prejudice': 10823, 'joyful': 7765, 'solo': 13171, 'breaking': 1824, 'sustain': 14000, 'beginnings': 1361, 'conclusion': 2897, 'lagging': 8024, 'guiltless': 6329, 'evening': 4872, 'deflated': 3626, 'aside': 944, 'zippy': 16146, 'jazzy': 7675, 'tops': 14560, 'leads': 8145, 'oscarcaliber': 9920, 'waterslike': 15648, 'dances': 3463, 'falling': 5152, 'calling': 2066, 'education': 4489, 'demonstration': 3701, 'painstaking': 10090, 'imparting': 7103, 'impair': 7100, 'highway': 6703, 'patrolman': 10241, 'nuts': 9691, 'coldfish': 2695, 'copmovieland': 3109, 'routes': 12021, 'awareness': 1117, 'overlooked': 10010, 'misconceived': 9068, '5': 125, 'brilliance': 1856, 'dutiful': 4393, 'efforts': 4507, 'disciplined': 3974, 'gradegrubbers': 6168, 'frame': 5654, 'collectively': 2712, 'vowing': 15524, 'foster': 5631, 'whitaker': 15807, 'lioness': 8333, 'protecting': 11020, 'cub': 3363, 'reluctant': 11587, 'incapable': 7178, 'controlling': 3060, 'undoubtedly': 15051, 'tattoos': 14164, 'wear': 15671, 'misty': 9101, 'rate': 11314, 'magical': 8592, 'modesty': 9139, 'predicament': 10806, 'fits': 5410, 'intriguingly': 7513, 'contemplative': 3016, 'realized': 11370, 'rude': 12039, 'catalytic': 2212, 'holy': 6790, 'fool': 5562, 'cutthroat': 3423, 'unrelenting': 15192, 'insistence': 7381, 'opting': 9880, 'goal': 6071, 'frighten': 5732, 'disturb': 4092, 'spectacularly': 13293, 'shiverinducing': 12703, 'nerverattling': 9503, 'perspectives': 10376, 'ideological': 7010, 'differences': 3883, 'yellow': 16089, 'asphalt': 955, 'spite': 13344, 'predictability': 10808, 'slowness': 13021, 'perkiness': 10348, 'firstrate': 5397, 'nofrills': 9574, 'docudogma': 4124, 'plainness': 10515, 'lingers': 8326, 'invisible': 7542, 'psychic': 11060, 'boxes': 1778, 'multiple': 9310, 'strands': 13650, 'wrote': 16048, 'shakespeare': 12623, 'quick': 11194, 'dashing': 3492, 'oldfashionedmovie': 9795, 'unburdened': 14945, 'pretensions': 10863, 'significance': 12814, 'fabulous': 5102, 'noteworthy': 9640, 'supply': 13933, 'clears': 2567, 'cynicism': 3433, 'righteousness': 11866, 'harmon': 6508, 'lessismore': 8216, 'bumpin': 1965, 'thenight': 14332, 'crawlies': 3237, 'hidden': 6670, 'shadows': 12613, 'hint': 6717, 'hitchcockian': 6741, 'tact': 14091, 'daunting': 3501, 'promotes': 10988, 'reasonable': 11380, 'support': 13934, 'scattershot': 12239, 'terrorizing': 14293, 'conquer': 2962, 'reflection': 11499, 'prospect': 11014, 'ape': 792, 'swinging': 14039, 'trees': 14702, 'hooting': 6827, 'praises': 10775, 'agreeably': 504, 'closeups': 2629, 'sheerly': 12672, 'appeal': 804, 'embarrassed': 4583, 'cherished': 2398, 'seductive': 12397, 'unrepentantly': 15199, 'rice': 11840, 'vampire': 15336, 'chronicles': 2475, 'pageantry': 10078, 'daylewis': 3512, 'roars': 11915, 'pt': 11070, 'grandness': 6188, 'equalizer': 4780, 'ills': 7045, 'touchstone': 14588, 'poetic': 10602, 'strict': 13683, 'species': 13283, 'artifice': 917, 'lady': 8021, 'duke': 4359, 'theatrical': 14322, 'virtually': 15474, 'despicable': 3791, 'wellconstructed': 15723, '9': 175, 'interestingly': 7458, 'magnolia': 8597, 'lynch': 8550, 'mulholland': 9304, 'dr': 4240, 'schepisi': 12254, 'aided': 515, 'include': 7189, 'gosford': 6137, 'park': 10159, 'mirren': 9057, 'succeeded': 13832, 'inescapable': 7266, 'hitchens': 6742, 'flower': 5513, 'purge': 11129, 'tooth': 14548, 'claw': 2554, 'amateurish': 620, 'compassionately': 2816, 'portrayed': 10703, 'persuasive': 10379, 'defeated': 3604, 'defiant': 3613, 'flux': 5530, 'figure': 5341, 'begun': 1367, 'bronze': 1892, 'craft': 3211, 'staggeringly': 13450, 'intellect': 7432, 'selfhating': 12456, 'disguised': 4004, 'pays': 10267, 'turntablists': 14842, 'beat': 1319, 'jugglers': 7781, 'schoolers': 12273, 'innovators': 7350, 'documenting': 4134, 'twin': 14861, 'peaks': 10274, 'frames': 5656, 'profound': 10960, 'ethical': 4846, 'quintet': 11209, '112minute': 18, 'length': 8198, 'judge': 7776, 'ringu': 11880, 'dampened': 3456, 'familiarity': 5162, 'serve': 12565, 'literate': 8353, 'roundelay': 12016, 'partners': 10185, 'interplay': 7481, 'partnerships': 10187, 'gatorbashing': 5892, 'motherhood': 9235, 'deferred': 3611, 'explored': 5026, 'blue': 1620, 'crush': 3352, 'swims': 14037, 'sleeper': 12972, 'award': 1112, 'engulfed': 4694, 'enterprise': 4728, 'wait': 15548, 'dollar': 4159, 'gone': 6096, 'haywire': 6553, 'manifesto': 8671, 'listen': 8344, 'tori': 14561, 'amos': 659, 'records': 11432, 'dehumanizing': 3637, 'egodestroying': 4511, 'unemployment': 15061, 'mtv': 9291, 'undressed': 15053, '20': 83, 'indulgently': 7253, 'cultivated': 3377, 'pissed': 10488, 'handiwork': 6436, 'seams': 12362, 'pushiness': 11149, 'decibel': 3569, 'volume': 15518, 'craftsmanship': 3214, 'intergalactic': 7464, 'bloodcurdling': 1601, 'design': 3778, 'choreography': 2458, 'intoxicating': 7503, 'consumed': 3004, 'lust': 8542, 'crushed': 3353, 'conjures': 2952, 'fumes': 5787, 'painted': 10094, 'rembrandt': 11601, 'suspend': 13992, 'disbelief': 3966, 'shaking': 12626, 'runofthemill': 12062, 'unease': 15056, 'influential': 7297, 'implicitly': 7123, 'acknowledges': 301, 'chicanery': 2408, 'selfdelusion': 12442, 'businesses': 2000, 'tooled': 14544, 'terrorism': 14290, 'directorwriter': 3937, 'bille': 1491, 'august': 1059, 'depicts': 3736, 'economical': 4468, 'deterioration': 3810, 'barbara': 1238, 'anger': 708, 'victor': 15430, 'rosa': 11991, 'internalized': 7477, 'transparency': 14661, 'naughty': 9438, 'justaboveaverage': 7810, 'sailor': 12121, 'blush': 1631, 'perfected': 10328, 'selfaggrandizing': 12427, 'motivated': 9243, 'documentarymaking': 4132, 'raimondi': 11252, 'cary': 2191, 'room': 11982, 'houseboat': 6884, 'goose': 6125, 'affectionate': 447, 'irresponsible': 7584, 'latches': 8085, 'frosting': 5748, 'bowl': 1773, 'flamelike': 5434, 'roiling': 11947, 'inspires': 7393, 'trembling': 14705, 'gratitude': 6207, 'pungent': 11110, 'bite': 1516, 'fall': 5148, 'abysmal': 240, 'argentine': 866, 'fabian': 5097, 'bielinsky': 1471, 'wallet': 15565, 'diane': 3855, 'lane': 8049, 'takashi': 14103, 'miike': 8992, 'pushing': 11150, 'envelope': 4758, 'ichi': 6990, 'rigid': 11871, 'witchstyle': 15912, 'mockumentary': 9124, 'blatantly': 1558, 'biased': 1460, 'horrible': 6845, 'exceedingly': 4923, 'mechanisms': 8848, 'poverty': 10756, 'transcend': 14641, 'atmospherics': 1017, 'abrasive': 218, 'burn': 1984, 'heroine': 6653, 'irrigates': 7589, 'hawn': 6548, 'banger': 1225, 'skewed': 12912, 'kieran': 7896, 'culkin': 3371, 'akin': 535, 'reader': 11352, 'digest': 3890, 'defend': 3607, 'frothing': 5749, 'exgirlfriend': 4957, 'domino': 4174, 'naturalseeming': 9433, 'pleasingly': 10560, 'emphatic': 4618, 'claustrophobic': 2553, 'obsessive': 9722, 'reallife': 11373, 'basis': 1282, 'embellishment': 4588, 'sit': 12882, 'kline': 7939, 'pondering': 10652, 'menu': 8906, 'invasion': 7527, 'undisputed': 15045, '1940s': 47, 'dreadful': 4281, 'expected': 4990, 'cribbed': 3282, 'lang': 8051, 'welles': 15734, 'kane': 7832, 'eisenstein': 4525, 'potemkin': 10744, 'rintarô': 11881, 'lasting': 8082, 'crane': 3220, 'evolves': 4905, 'pierce': 10455, 'brosnan': 1900, '72yearold': 151, 'slowed': 13016, 'aimlessness': 524, 'jessica': 7701, 'poem': 10600, 'transgression': 14652, 'creeps': 3273, 'nakata': 9389, '90': 176, 'seldom': 12421, 'hammy': 6423, 'honorably': 6812, 'kahlories': 7827, 'christmas': 2471, 'baby': 1146, 'section': 12391, 'aragorn': 843, 'arwen': 934, 'fellowship': 5281, 'perfection': 10329, 'category': 2224, 'xmen': 16060, 'obnoxious': 9707, 'added': 358, 'clout': 2638, 'welcomes': 15716, 'dash': 3491, 'avantgarde': 1093, 'fused': 5809, 'affords': 461, 'executive': 4952, 'producer': 10938, 'shrewd': 12773, 'abroad': 220, 'saddled': 12106, 'unwieldy': 15251, 'angles': 710, 'payoff': 10265, 'stomachturning': 13609, 'lore': 8446, 'hallmarks': 6411, 'largestever': 8073, 'fraser': 5675, 'resourceful': 11713, 'frustrating': 5758, 'tougher': 14591, 'russell': 12072, 'mask': 8751, 'blob': 1591, 'ably': 211, 'meets': 8866, 'ottosallies': 9930, 'classical': 2540, 'freud': 5716, 'sport': 13377, 'reclaiming': 11411, 'carmen': 2166, 'recreating': 11441, 'idiom': 7013, 'soars': 13122, 'globe': 6052, 'panoramic': 10125, 'largescreen': 8072, 'swooping': 14050, 'locales': 8390, 'scooping': 12297, 'rhythm': 11836, 'demonstrates': 3699, 'subjective': 13790, 'discoveries': 3988, 'sits': 12886, 'undercover': 14990, 'fumbled': 5785, 'ayres': 1134, 'cox': 3199, 'nijinsky': 9557, 'diaries': 3857, 'fiery': 5331, 'familial': 5160, 'separation': 12534, 'societal': 13135, 'shoulders': 12747, 'nancy': 9396, 'savoca': 12201, 'forged': 5592, 'stillraw': 13584, 'unsettled': 15216, 'consistent': 2983, 'espoused': 4822, 'resurrection': 11750, 'banal': 1216, 'flirts': 5494, 'kitsch': 7933, 'commands': 2775, 'dogme': 4147, 'bedfellows': 1340, 'compatible': 2817, 'companionable': 2804, 'island': 7597, 'rodriguez': 11941, 'adorns': 401, 'familyfilm': 5165, 'maturity': 8796, 'lacking': 8009, 'dave': 3502, 'benefits': 1409, 'overlapping': 10006, 'masterly': 8769, 'preciseness': 10799, 'content': 3025, 'pseudobio': 11049, 'doles': 4158, 'job': 7719, 'versions': 15409, 'cleaner': 2559, 'firsttime': 5398, 'denzel': 3720, 'guessing': 6321, '84': 165, 'glance': 6030, 'headturner': 6565, 'thoughtfully': 14376, 'humanizing': 6915, 'hamming': 6422, 'nonjudgmental': 9601, 'prostitute': 11015, 'lonely': 8411, 'needy': 9474, 'clients': 2589, 'goodhearted': 6106, 'tully': 14814, 'selfassured': 12429, 'town': 14602, 'regret': 11531, 'appeals': 807, 'filmgoing': 5358, 'smith': 13062, 'implication': 7121, 'truncheoning': 14787, 'wow': 16017, 'kiarostami': 7870, 'casual': 2207, 'catalyst': 2211, 'restrictive': 11740, 'chaotic': 2313, 'celebrated': 2251, 'spotlight': 13384, 'numbers': 9682, 'widget': 15835, 'indulgent': 7252, 'sunbaked': 13896, 'summery': 13892, 'lucia': 8502, 'claustrophic': 2551, 'attics': 1037, 'inevitably': 7269, 'consigned': 2981, 'selfreflexive': 12477, 'texan': 14305, 'unlimited': 15157, 'access': 254, 'church': 2482, 'meetings': 8865, 'round': 12014, 'elect': 4534, 'employs': 4622, 'imposed': 7134, 'sensibilities': 12514, 'jagger': 7639, 'stoppard': 13621, 'apted': 840, 'greengrass': 6233, 'don': 4175, 'mullan': 9305, 'forgoes': 5602, 'sociopolitical': 13143, 'northern': 9621, 'pulsating': 11092, 'frightening': 5733, 'oftenfunny': 9779, 'craftsmen': 3215, 'mama': 8649, 'africa': 467, 'peek': 10287, 'autobiographical': 1083, 'gesture': 5970, 'shindler': 12691, 'list': 8343, 'distinctive': 4073, 'cleverness': 2577, 'camerawork': 2080, 'seinfeld': 12415, 'watches': 15636, 'appearance': 809, 'letterman': 8228, 'clinical': 2601, 'symbiotic': 14061, 'tormented': 14562, 'heritage': 6646, 'faceless': 5109, 'audacity': 1051, 'tragedies': 14625, 'deserving': 3776, 'sub': 13780, 'preserving': 10847, 'hailed': 6381, 'neohitchcockianism': 9493, 'accurately': 280, 'chabrolian': 2284, 'stooping': 13617, 'gooeyness': 6118, 'centre': 2271, 'midseventies': 8986, 'michel': 8965, 'piccoli': 10440, 'pursuers': 11143, 'heidi': 6615, 'mai': 8599, 'thi': 14347, 'charles': 2337, 'iii': 7030, 'applies': 821, 'heroic': 6652, 'persistence': 10362, 'shapeless': 12644, 'sorcerer': 13208, 'oppressive': 9872, 'gore': 6129, 'uniquely': 15137, 'spends': 13309, 'ludicrous': 8510, 'prepared': 10832, 'cling': 2599, 'hook': 6819, 'thumbs': 14426, 'paxton': 10257, 'trap': 14671, 'vanity': 15341, 'disarmingly': 3962, 'strikingly': 13690, 'devious': 3836, 'reconstruction': 11428, 'warlord': 15598, 'dustbin': 4388, 'highlighted': 6690, 'koepp': 7960, 'elevates': 4552, 'rumination': 12054, 'shortstory': 12742, 'quaint': 11169, 'touchingly': 14587, 'mending': 8900, 'communication': 2798, 'eudora': 4853, 'welty': 15760, 'marker': 8714, 'essayist': 4824, 'tasteful': 14157, 'revision': 11804, 'wonders': 15949, 'enhancing': 4698, 'subtext': 13819, 'richer': 11843, 'morals': 9204, 'salt': 12132, 'wounds': 16015, 'tortured': 14572, 'bound': 1761, 'howlingly': 6893, 'matters': 8792, 'thank': 14311, 'goodness': 6114, 'signpost': 12818, 'communicates': 2796, 'order': 9894, 'curiously': 3392, 'biting': 1518, 'chilled': 2421, 'breath': 1829, 'oral': 9885, 'jackie': 7629, 'chan': 2300, 'signals': 12812, 'rick': 11846, 'famuyiwa': 5170, 'africanamerican': 469, 'fashioned': 5210, 'provincial': 11035, 'bourgeois': 1767, 'seeping': 12408, 'consciousness': 2969, 'lingering': 8325, 'deliberately': 3649, 'unsteady': 15227, 'improvised': 7160, 'months': 9183, 'conveying': 3076, 'kindness': 7914, 'ordinary': 9898, 'survivable': 13979, 'espite': 4820, 'hare': 6501, 'cunningham': 3386, 'flows': 5518, 'forwards': 5630, 'weaving': 15682, 'glossy': 6062, 'brittle': 1874, 'savvy': 12205, 'bubble': 1925, 'hugh': 6906, 'goo': 6100, 'scott': 12312, 'portrayal': 10701, 'roger': 11942, 'cad': 2040, 'oomph': 9837, 'necessity': 9465, 'towers': 14601, 'outdoes': 9942, 'homework': 6796, 'soaked': 13116, 'origins': 9910, 'nazi': 9446, 'aesthetics': 435, 'regarding': 11520, 'lifelong': 8265, 'formalist': 5609, 'dumber': 4373, 'unapologetically': 14930, 'drugs': 4335, 'n': 9375, 'visit': 15489, 'gratefully': 6203, 'cornpone': 3128, 'cosa': 3139, 'nostra': 9629, 'drives': 4316, 'unlikely': 15156, 'struck': 13712, 'occupational': 9733, 'subsequent': 13806, 'reinvention': 11547, 'transforms': 14651, 'expanse': 4984, 'deadend': 3522, 'distaste': 4065, 'inhabit': 7320, 'frequent': 5704, 'flurries': 5527, 'slaloming': 12946, 'grandscale': 6190, 'awarded': 1113, 'comeback': 2749, 'curlers': 3393, 'brooms': 1897, 'canadians': 2095, 'whiteknuckled': 15810, 'tape': 14137, 'ghostbusters': 5981, 'architecture': 854, 'tricky': 14722, 'mamet': 8650, 'airless': 530, 'shell': 12676, 'irresistibly': 7583, 'cube': 3366, 'compensate': 2823, 'corniness': 3127, 'judd': 7775, 'sewing': 12596, 'headtrip': 6564, 'outsiders': 9969, 'avoid': 1104, 'condescending': 2906, 'plague': 10510, 'dealing': 3533, 'mentally': 8903, 'ill': 7033, 'daughter': 3499, 'danang': 3460, 'sticks': 13573, 'sneering': 13097, 'womanhood': 15938, 'vs': 15528, 'naipaul': 9385, 'newcomers': 9523, 'stifling': 13578, 'yawn': 16075, 'marked': 8712, 'acute': 346, 'convinces': 3083, 'dangerous': 3467, 'secretly': 12389, 'unhinged': 15111, 'strokes': 13704, 'cheeks': 2378, 'coos': 3101, 'beseechingly': 1430, 'tensions': 14270, 'distracted': 4084, 'ashamed': 939, 'admitting': 389, 'enjoyment': 4706, 'kineticallycharged': 7918, 'summertime': 13891, 'bucket': 1931, 'anomaly': 743, 'extremities': 5078, 'budget': 1935, 'sophomoric': 13205, 'hellish': 6625, 'comical': 2764, 'alltoofamiliar': 591, 'grew': 6242, 'matthew': 8793, 'lillard': 8299, 'innercity': 7343, 'reagan': 11360, 'endure': 4665, 'trove': 14770, 'jacqueline': 7633, 'bisset': 1513, 'plimpton': 10570, 'clones': 2617, 'harvard': 6519, 'recognizably': 11415, 'plympton': 10598, 'bothered': 1750, 'construct': 2999, 'jolting': 7742, 'charleston': 2338, 'vent': 15383, 'send': 12499, 'specific': 13284, 'waiting': 15550, 'freewheeling': 5695, 'trashcinema': 14676, 'skillfully': 12921, 'weaves': 15681, 'powerfully': 10762, 'combining': 2745, 'sexuality': 12606, 'malaise': 8634, 'damon': 3454, 'sacrificing': 12100, 'frighteningly': 5734, 'contradiction': 3041, 'outshine': 9965, 'la': 7990, 'salle': 12129, 'wondered': 15942, 'smack': 13032, 'oscarnominated': 9921, 'woodman': 15960, 'influenced': 7295, 'girlmeetsgirl': 6017, 'pertinent': 10380, 'modicum': 9140, 'sprecher': 13398, 'partner': 10184, 'karen': 7837, 'selfreflection': 12476, 'bland': 1544, 'piercing': 10456, 'spikes': 13325, 'ol': 9791, 'ballandchain': 1198, 'ball': 1197, 'chain': 2288, 'leonard': 8205, 'comically': 2765, 'abbass': 197, 'elemental': 4547, 'lilia': 8298, 'rocket': 11931, 'offering': 9763, 'turntable': 14840, 'outselling': 9964, 'electric': 4538, 'guitar': 6336, 'irrevocable': 7588, 'diseaseof': 3999, 'theweek': 14345, 'infinitely': 7290, 'spouses': 13390, 'seldahl': 12419, 'wollter': 15936, 'statement': 13515, 'aspirations': 957, 'assimilated': 981, 'settles': 12585, 'compulsively': 2866, 'daytimedrama': 3516, 'annoying': 741, 'specimen': 13288, 'dread': 4279, 'encountering': 4641, 'fanboy': 5175, 'unoriginal': 15171, 'genderbending': 5920, 'tonal': 14525, 'shifts': 12685, 'transitions': 14656, 'commanderinchief': 2773, 'bigelow': 1476, 'propels': 10996, 'upper': 15268, 'echelons': 4458, 'screams': 12324, 'workaday': 15973, 'inertia': 7265, 'indulging': 7255, 'striving': 13701, 'solipsism': 13169, 'smoothly': 13073, 'impersonation': 7114, 'enjoying': 4705, 'sweetandsour': 14024, 'gelati': 5915, 'conversation': 3069, 'insideshowbiz': 7371, 'yarns': 16072, 'terrifically': 14285, 'spielbergian': 13319, 'curtain': 3402, 'separates': 12533, 'comics': 2767, 'intent': 7445, 'hammering': 6419, 'forgets': 5595, 'impressively': 7147, 'discreet': 3991, 'mini': 9033, 'dv': 4397, 'carwreck': 2190, 'swiftly': 14032, 'maintained': 8611, 'casualties': 2208, 'proceeds': 10929, 'stunningly': 13751, 'conceit': 2874, 'interdependence': 7455, 'accomodates': 263, 'practical': 10768, 'unstinting': 15228, 'qual': 11171, 'kafkaesque': 7824, 'overnight': 10014, 'robbed': 11917, 'persecuted': 10360, 'technical': 14196, 'estrogen': 4837, 'feminine': 5285, 'cannier': 2106, 'doppelganger': 4193, 'xxx': 16062, 'flexathon': 5476, 'imamura': 7069, 'said': 12119, 'bridge': 1850, 'strengths': 13674, 'environmental': 4764, 'pollution': 10644, 'ripper': 11889, 'chill': 2420, 'naomi': 9399, 'watts': 15652, 'petite': 10392, 'vulnerable': 15535, 'emphasising': 4614, 'plight': 10569, 'contains': 3013, 'hefty': 6613, 'thematic': 14327, 'eternity': 4843, 'eventoned': 4877, 'lusty': 8545, 'boisterous': 1673, 'grueling': 6303, 'timeconsuming': 14461, 'illusion': 7052, 'actual': 342, 'interested': 7456, 'liking': 8296, 'garbage': 5872, 'rogers': 11943, 'shut': 12787, 'sexes': 12598, 'imbue': 7073, 'antiestablishment': 767, 'whipcrack': 15796, 'buddy': 1934, 'whimper': 15787, 'stumbles': 13749, 'neglected': 9481, 'oldhat': 9796, 'spyaction': 13413, 'offended': 9760, 'display': 4043, 'deception': 3566, 'convincingly': 3085, 'disassociation': 3963, 'crudities': 3342, 'lagaan': 8022, 'unorthodox': 15172, 'organized': 9902, 'strangest': 13656, 'pleasing': 10559, 'reassess': 11384, 'evaluate': 4862, 'meaningless': 8835, 'activity': 330, 'balk': 1195, 'neorealist': 9498, 'plummer': 10590, 'camp': 2083, 'wounded': 16013, 'wounding': 16014, 'uncle': 14955, 'ralph': 11265, 'nightmare': 9551, 'population': 10680, 'shrugging': 12780, 'acceptance': 251, 'deemed': 3595, 'hired': 6727, 'portray': 10700, 'richard': 11842, 'dawson': 3509, 'compassionate': 2815, 'reaching': 11345, 'outcome': 9939, 'sees': 12409, 'acumen': 345, 'collect': 2708, 'instance': 7399, 'learning': 8161, 'inventing': 7529, 'smartaleck': 13044, 'brat': 1803, 'garcia': 5875, 'wobbly': 15931, 'tenth': 14272, 'delusions': 3673, 'unstable': 15226, 'accident': 257, 'accidental': 258, 'arts': 928, 'turning': 14838, 'sappy': 12168, 'pellington': 10295, 'conjuring': 2953, 'sinister': 12870, 'menacing': 8898, 'unfortunately': 15098, 'flashing': 5442, 'lights': 8284, 'rattling': 11321, 'bump': 1963, 'petter': 10395, 'næss': 9696, 'axel': 1131, 'hellstenius': 6627, 'teachers': 14181, 'increase': 7207, 'student': 13730, 'selfesteem': 12449, 'imparted': 7102, 'proficiency': 10954, 'lothario': 8458, 'vary': 15353, 'balancing': 1191, 'deafening': 3529, 'receiving': 11400, 'telegrams': 14231, 'kicking': 7874, 'undead': 14979, 'plaguing': 10512, 'relentlessly': 11572, 'globalizing': 6051, 'marshall': 8731, 'account': 273, 'lan': 8040, 'yu': 16113, 'verisimilitude': 15401, 'tapping': 14139, 'slave': 12962, 'inhuman': 7326, 'static': 13519, 'skims': 12924, '1972': 61, 'surfing': 13955, 'taiwanese': 14102, 'auteur': 1074, 'fallen': 5149, 'hatfield': 6532, 'hicks': 6669, 'oddest': 9742, 'couples': 3171, 'gambles': 5850, 'publishing': 11079, 'exists': 4976, 'ramifications': 11272, 'insecure': 7364, 'pointed': 10612, 'baffling': 1175, 'severe': 12592, 'rejection': 11551, 'refreshed': 11505, 'balzac': 1214, 'seamstress': 12363, 'review': 11799, 'superficial': 13910, 'midlife': 8982, 'crisis': 3297, '80': 159, 'shrapnel': 12768, 'mental': 8902, 'shellshock': 12677, 'linger': 8322, 'vignettes': 15455, 'cumulative': 3384, 'enters': 4729, 'realm': 11375, 'nonporn': 9606, 'venture': 15385, 'bag': 1176, 'chew': 2402, 'girardot': 6011, 'creep': 3269, 'impervious': 7115, 'wittier': 15923, 'feardotcom': 5248, 'hispanic': 6729, 'teethclenching': 14228, 'molina': 9150, 'laissez': 8029, 'passer': 10202, '170': 35, 'valiant': 15327, 'progressive': 10969, 'bull': 1954, 'shop': 12730, 'provocateur': 11037, 'crashing': 3230, 'specialinterest': 13281, 'groups': 6293, 'slaps': 12955, 'brand': 1799, 'liberalism': 8242, 'manifestation': 8669, 'institutionalized': 7408, 'slavery': 12963, 'blackowned': 1535, 'label': 7992, 'whiteempowered': 15809, 'leaving': 8169, 'poorme': 10663, 'snowball': 13113, 'coating': 2666, 'falcon': 5147, 'skies': 12916, 'greatness': 6226, 'boasts': 1647, 'jose': 7750, 'iris': 7565, 'technique': 14198, 'imply': 7128, 'terror': 14289, 'suggestion': 13872, 'overuse': 10036, 'happiness': 6470, 'guilt': 6327, 'threedimensional': 14390, 'middleaged': 8975, 'tried': 14723, 'cannon': 2107, 'confidence': 2920, 'drumming': 4339, 'routines': 12024, 'graces': 6164, 'restatement': 11733, 'validated': 15330, 'fiercely': 5330, 'precarious': 10791, 'extravagant': 5068, 'exiled': 4968, 'aristocracy': 879, 'victorious': 15432, 'revolutionaries': 11815, 'hackles': 6376, 'courtroom': 3180, 'nifty': 9549, 'topbilled': 14551, 'bruce': 1909, 'willis': 15859, 'os': 9918, 'fervently': 5302, 'held': 6620, 'thinkers': 14352, 'perceptive': 10320, 'severely': 12593, 'tested': 14298, 'immaturity': 7083, 'flash': 5436, 'videos': 15439, 'dana': 3459, 'janklowiczmann': 7654, 'amir': 652, 'mann': 8677, 'area': 864, 'headed': 6558, 'east': 4445, 'detailing': 3805, 'welcomed': 15715, 'tens': 14267, 'thousands': 14383, 'democracie': 3688, 'edifying': 4478, 'bartlett': 1273, 'tuck': 14809, 'tucker': 14811, 'commended': 2778, 'merits': 8922, 'saved': 12198, 'kidscute': 7893, 'faked': 5146, 'stately': 13514, 'fleetfooted': 5470, 'sorvino': 13219, 'glows': 6065, 'conniving': 2960, 'amazingly': 625, 'suitable': 13878, 'requiring': 11678, 'gonna': 6099, 'realtime': 11376, 'propulsive': 11008, 'dominated': 4170, 'aliens': 565, 'super': 13906, 'revigorates': 11803, 'concentrates': 2881, 'sway': 14013, 'squad': 13418, 'psychopathic': 11068, 'underdogs': 14996, 'tar': 14141, 'unsuspecting': 15237, 'lawmen': 8123, 'rival': 11903, 'vegetables': 15366, 'batch': 1287, 'qutting': 11221, 'attract': 1040, 'upscale': 15275, 'hungry': 6938, 'nostalgic': 9628, 'twisty': 14873, 'screwedup': 12339, 'dared': 3477, 'idealistic': 7003, 'chooses': 2446, 'champion': 2298, 'losing': 8453, 'wildcard': 15845, 'wacky': 15538, 'nutty': 9693, 'flinch': 5488, 'prognosis': 10964, 'weave': 15679, 'gasp': 5887, 'shudder': 12784, 'tremble': 14704, 'machismo': 8569, 'deliciously': 3655, 'bonedry': 1701, 'mournfully': 9260, 'embracing': 4594, 'parent': 10154, 'offerings': 9764, 'produced': 10937, 'tamer': 14126, 'advertised': 425, 'ethics': 4847, 'compromise': 2861, 'initial': 7328, 'jarring': 7664, 'newagey': 9520, 'estrogenfree': 4838, 'bigtime': 1484, 'link': 8328, 'kinds': 7916, 'obstacles': 9725, 'preteen': 10857, 'romantics': 11973, 'leather': 8164, 'pants': 10128, 'augmented': 1058, 'boobs': 1705, 'resuscitate': 11751, 'funloving': 5797, 'libertine': 8247, 'handbagclutching': 6427, 'pronounce': 10991, 'kok': 7961, 'ample': 663, 'beavis': 1329, 'butthead': 2011, 'elicit': 4554, 'luvvies': 8547, 'raptures': 11303, 'introspective': 7520, 'wider': 15832, 'niche': 9536, 'chicago': 2406, 'gere': 5963, 'shoes': 12719, 'hoofing': 6818, 'crooning': 3320, 'bites': 1517, 'linking': 8329, 'massacre': 8759, 'armenians': 892, '1915': 41, 'kilmer': 7904, 'doors': 4188, 'ravaging': 11327, 'recreated': 11439, 'littleknown': 8358, 'bean': 1309, 'investigation': 7537, 'versus': 15410, 'flashback': 5437, 'bergmanesque': 1419, 'monstrous': 9180, 'lunatic': 8529, 'griffin': 6247, 'altmanesque': 613, 'spins': 13332, 'snazziness': 13092, 'conspicuous': 2988, 'anomie': 744, 'reincarnation': 11544, 'fetishism': 5311, 'founding': 5639, 'yong': 16101, 'kang': 7833, 'kozmo': 7973, 'growth': 6300, 'calculated': 2056, 'postmodern': 10735, 'pastiche': 10215, 'manual': 8684, 'relating': 11558, 'anakin': 675, 'lustrous': 8544, 'course': 3176, 'bloated': 1590, 'rawness': 11333, 'livewire': 8371, 'amaze': 622, 'literature': 8354, 'killing': 7902, 'strays': 13663, 'brims': 1861, 'eccentric': 4454, 'accidentprone': 259, 'secondary': 12381, 'psycho': 11061, 'claws': 2555, 'river': 11906, 'pours': 10753, 'fudges': 5767, 'purer': 11127, 'foodforthought': 5560, 'instructive': 7410, 'li': 8237, 'ziyi': 16149, 'stakes': 13460, 'nohe': 9575, 'gullible': 6338, 'blind': 1580, 'cooperative': 3099, 'interaction': 7452, 'weekend': 15693, 'cognizant': 2683, 'puzzling': 11158, 'devoid': 3840, 'objectivity': 9701, 'comments': 2782, 'participants': 10174, 'eyerolling': 5093, 'walks': 15561, 'tightrope': 14456, 'wicked': 15824, 'zany': 16118, 'livestyle': 8370, 'parody': 10167, 'blaxploitation': 1559, 'dishes': 4010, 'ton': 14524, 'harshness': 6516, 'fastballs': 5214, 'hunk': 6940, 'teenagers': 14214, 'alternative': 610, 'flatman': 5447, 'hugescreen': 6904, 'educates': 4488, 'em': 4578, 'rendered': 11621, 'unrelentingly': 15193, 'achieve': 287, 'beasts': 1317, 'stalking': 13464, 'merited': 8921, 'alienation': 564, 'fuels': 5771, 'selfdestructiveness': 12445, 'stamp': 13471, 'visualize': 15493, 'schizophrenia': 12259, 'seeks': 12405, 'quasishakespearean': 11180, 'misogynist': 9085, 'mordantly': 9209, 'intimately': 7498, 'schoolage': 12271, 'flawless': 5463, 'amounts': 660, 'aaa': 191, 'blast': 1554, 'rated': 11315, 'eee': 4492, 'hollywoodpredictable': 6783, 'travail': 14678, 'shiner': 12693, 'organizing': 9903, 'laura': 8117, 'cahill': 2051, 'unexceptional': 15072, 'emerging': 4601, 'appropriately': 836, 'lazy': 8138, 'afternoon': 474, 'concludes': 2896, 'dawn': 3507, 'vibrantly': 15421, 'colored': 2724, 'designed': 3779, 'pun': 11097, 'sidebyside': 12798, 'successor': 13839, 'stranger': 13654, 'screenwriter': 12334, 'charlie': 2339, 'marveled': 8740, 'rendering': 11622, 'snow': 13111, 'flames': 5435, 'handdrawn': 6428, 'picpus': 10445, 'crisper': 3299, 'punchier': 11103, 'hankies': 6452, 'verete': 15396, 'comprise': 2860, 'fulfilling': 5775, 'gestalt': 5969, 'fromtelevision': 5744, 'toospectacular': 14547, 'coastal': 2662, 'distracts': 4088, 'goodnaturedly': 6112, 'aimless': 522, 'dramacharacter': 4257, 'outright': 9961, 'newness': 9526, 'plus': 10595, 'mentioned': 8905, 'cmon': 2658, 'husband': 6951, 'effecting': 4496, 'shrek': 12771, 'enter': 4725, 'modestly': 9138, 'profoundly': 10961, 'irritates': 7590, 'saddens': 12103, 'explode': 5015, 'obnoxiously': 9708, '2500': 100, 'bubba': 1924, 'hotep': 6870, 'evident': 4894, 'languishing': 8055, 'shelf': 12675, 'escapade': 4808, 'sofia': 13146, 'genes': 5937, 'spot': 13383, 'conceive': 2878, 'ideal': 7001, 'aged': 480, 'suggesting': 13871, 'fourth': 5644, 'boils': 1672, 'matchmaking': 8779, 'beginners': 1359, 'dragons': 4250, 'kudos': 7980, 'enchanting': 4634, 'dispatching': 4039, 'suddenly': 13851, 'burkinabe': 1981, 'dani': 3470, 'kouyate': 7972, 'reworking': 11823, '7thcentury': 157, 'allegory': 573, 'throat': 14408, 'reaffirming': 11358, 'visualizing': 15494, 'riffs': 11862, 'diciness': 3864, 'colonics': 2722, 'ads': 409, 'periods': 10347, 'perils': 10343, 'outré': 9962, 'slowly': 13018, 'seeking': 12404, 'definitive': 3625, 'westbrook': 15771, 'measure': 8840, 'peak': 10272, 'werner': 15766, 'shapes': 12646, 'endear': 4650, 'notable': 9631, 'boarders': 1643, 'cowinner': 3192, 'missteps': 9094, 'motivation': 9244, 'abagnale': 194, 'antics': 764, 'sermon': 12559, 'welsh': 15758, 'curious': 3391, 'learns': 8162, 'verdu': 15395, 'mourns': 9262, 'factors': 5120, 'proclaim': 10934, 'lovestruck': 8481, 'somebodies': 13178, 'burnt': 1987, 'marathons': 8689, 'bored': 1732, 'depends': 3731, 'flatulence': 5455, 'indelible': 7215, 'facing': 5117, 'flippant': 5493, 'lock': 8393, 'smoking': 13067, 'barrels': 1263, 'moody': 9190, 'immerse': 7089, 'crocodile': 3316, 'steve': 13563, 'distinct': 4070, 'errs': 4806, 'tempered': 14246, 'soft': 13148, 'gentility': 5952, 'closet': 2627, 'skeletons': 12905, 'catandmouse': 2213, 'meatier': 8844, 'tipped': 14479, 'range': 11283, 'robust': 11927, 'shanghai': 12639, 'ghetto': 5979, 'rests': 11742, 'voices': 15512, 'thoughts': 14381, 'aching': 293, 'decide': 3570, 'ploddingly': 10573, 'structure': 13713, 'ignore': 7024, 'concentrate': 2880, 'interpersonal': 7480, 'shmear': 12706, 'elling': 4563, 'releases': 11568, 'warrior': 15615, 'owes': 10051, 'debts': 3553, 'workable': 15972, 'primer': 10892, 'region': 11528, '10thgrade': 13, 'samuel': 12146, 'beckett': 1335, 'applied': 820, 'willie': 15854, 'trumpet': 14784, 'abornin': 214, 'agitprop': 499, 'thinness': 14358, 'failure': 5134, 'appalling': 800, 'downright': 4228, 'stepmother': 13550, 'underwater': 15035, 'ghost': 5980, 'net': 9508, 'spits': 13346, 'grizzled': 6267, 'charred': 2348, 'northwest': 9622, 'bermuda': 1424, 'triangle': 14715, 'trapped': 14672, 'sleepless': 12976, 'effectiveness': 4499, 'rocksolid': 11934, 'bank': 1228, 'robberies': 11918, 'fatherandson': 5228, 'dynamics': 4409, 'generated': 5927, 'angle': 709, 'exhausted': 4958, 'documentarians': 4128, 'shockingly': 12712, 'conversion': 3072, 'hooks': 6822, 'delighted': 3657, 'predecessors': 10805, 'maid': 8600, 'inspection': 7387, 'lily': 8301, 'chouchou': 2462, 'plaintiveness': 10516, 'ferrara': 5296, 'won': 15940, 'wins': 15886, 'screenwriters': 12335, 'dig': 3889, 'toss': 14575, 'dungeons': 4379, 'military': 9005, 'weaponry': 15670, 'skateboard': 12899, 'anthropology': 756, 'inspirational': 7390, 'sturdiness': 13761, 'solidity': 13166, 'sulky': 13884, 'overcomingobstacles': 9989, 'sportsmovie': 13382, 'feisty': 5277, 'biggie': 1481, 'tupac': 14828, 'presentation': 10842, 'longest': 8414, 'yard': 16070, 'ritchie': 11899, 'immune': 7095, 'folly': 5554, 'proof': 10993, 'anniversary': 737, 'edition': 4482, 'calls': 2068, 'retrospectively': 11774, 'featuring': 5264, 'shockwaves': 12714, 'gratify': 6204, 'suspected': 13989, 'corrupt': 3136, 'weasels': 15677, 'eponymous': 4777, '1980': 65, 'lingered': 8323, 'solely': 13161, 'ford': 5581, 'administration': 377, 'complicity': 2848, 'tearing': 14188, 'orphans': 9914, 'save': 12197, 'superwealthy': 13929, 'megalomaniac': 8868, 'bent': 1414, 'domination': 4172, 'punctuated': 11108, 'bloodshed': 1604, 'hoopla': 6825, 'areas': 865, 'parentchild': 10156, 'flinching': 5489, 'renner': 11627, 'chillingly': 2424, 'unemotive': 15060, 'focused': 5536, 'reopens': 11633, 'succumbs': 13842, 'sensationalism': 12507, 'projects': 10974, 'doubts': 4214, 'yearnings': 16086, 'broader': 1878, 'necessarily': 9463, 'intermingling': 7472, 'naiveté': 9388, 'sophistication': 13203, 'blessed': 1574, 'producing': 10941, 'asking': 948, 'answering': 749, 'kissing': 7929, 'steinis': 13543, 'genrebusting': 5948, 'hyped': 6965, 'icet': 6989, 'coolj': 3095, 'shootings': 12726, 'rotten': 12004, 'california': 2063, 'turturro': 14844, 'fabulously': 5103, 'sneaky': 13096, 'butler': 2005, 'disappearingreappearing': 3951, 'meant': 8838, 'develops': 3831, 'feelings': 5273, 'yorkers': 16104, 'footnote': 5569, 'meow': 8908, 'purr': 11140, 'laramie': 8063, 'reminding': 11610, 'crude': 3339, 'incorporates': 7206, 'normal': 9615, 'divisions': 4112, 'nonfiction': 9599, 'argument': 875, 'pro': 10916, 'degrading': 3635, 'leading': 8144, 'revealed': 11782, 'dispassionate': 4038, 'gantz': 5867, 'pasty': 10218, 'lumpen': 8523, 'pithy': 10494, 'steadily': 13530, 'building': 1948, 'burst': 1991, 'fred': 5687, 'englishmen': 4690, 'mortality': 9228, 'views': 15453, 'affluence': 458, 'directive': 3930, 'protect': 11019, 'code': 2676, 'costs': 3145, 'blur': 1629, 'importance': 7131, 'merge': 8917, 'tout': 14597, 'excites': 4941, 'tickles': 14439, 'bone': 1699, 'reassuringly': 11388, 'formulaic': 5616, 'charge': 2332, 'daring': 3480, 'vardalos': 15344, 'corbett': 3117, 'joel': 7723, 'zwick': 16158, 'alist': 567, 'contentedly': 3026, 'belinsky': 1391, 'prison': 10907, 'bars': 1270, 'brotherman': 1902, 'lapping': 8060, 'kicks': 7875, 'gear': 5906, 'godard': 6076, 'impenetrable': 7109, 'horns': 6843, 'halos': 6415, 'serendipity': 12547, 'immediacy': 7084, 'sucks': 13849, 'dares': 3479, 'treats': 14700, 'ana': 673, 'captivates': 2127, 'affectationfree': 442, 'plunge': 10592, 'louts': 8466, 'climbing': 2597, 'steps': 13553, 'stadiumseat': 13442, 'depictions': 3735, 'address': 365, 'aid': 514, 'available': 1089, 'workers': 15976, 'pleasantly': 10556, 'predictably': 10810, 'superlative': 13919, 'rousing': 12018, 'prone': 10990, 'indignation': 7236, 'susceptible': 13987, 'jordan': 7749, 'jealous': 7676, 'riled': 11875, 'poetics': 10604, 'savor': 12202, 'intersect': 7489, 'occurs': 9737, 'rekindles': 11556, 'muckraking': 9295, 'soulsearching': 13228, 'headlinefresh': 6560, 'orthodox': 9916, 'jews': 7707, 'cedar': 2248, 'addressing': 367, 'compromising': 2863, 'chateau': 2355, 'lightheartedness': 8280, 'tunisian': 14825, 'dope': 4191, 'queens': 11184, 'gawky': 5897, 'spall': 13255, 'reveal': 11781, 'sparked': 13264, '50s': 128, 'bubbles': 1926, 'c': 2033, 'walsh': 15572, 'pipe': 10482, 'spectrum': 13297, 'nitpicky': 9566, 'hypocrisies': 6975, 'pastel': 10214, 'landscapes': 8048, 'hutchins': 6961, 'zelda': 16128, 'fate': 5225, 'monte': 9181, 'cristo': 3302, 'wellwrought': 15757, 'omits': 9811, 'needless': 9471, 'chase': 2350, 'swordfights': 14053, 'evolved': 4904, 'superstar': 13927, 'quirkily': 11210, 'shadow': 12612, '30year': 111, 'backstory': 1161, 'placing': 10509, 'comalike': 2738, 'inescapably': 7267, 'skyscrapertrapeze': 12942, 'dual': 4346, 'wellputtogether': 15745, 'trailer': 14630, 'drive': 4310, 'chiefly': 2413, 'faster': 5216, 'impressionable': 7143, 'videogamebased': 15437, 'upfront': 15261, 'linearity': 8319, 'departure': 3725, 'expands': 4983, 'innocence': 7344, 'superpowers': 13923, 'supersimple': 13925, 'superdooperadorability': 13909, 'intact': 7426, 'matured': 8795, 'toast': 14499, 'indictment': 7227, 'unbridled': 14944, 'greed': 6227, 'materalism': 8780, 'unhibited': 15109, 'hardship': 6494, 'asylum': 1006, 'jia': 7710, 'bonanza': 1694, 'outlandish': 9947, 'puns': 11117, 'appreciated': 826, 'tashlin': 14154, 'recapitulation': 11395, 'deny': 3718, 'seriousness': 12558, 'nonexploitive': 9597, 'characteristically': 2321, 'clancy': 2528, 'shifty': 12686, 'addresses': 366, 'anxieties': 784, 'sidesteps': 12803, 'daniel': 3471, 'shackles': 12610, 'espionage': 4819, 'decisive': 3577, 'elite': 4559, 'determine': 3812, 'proceed': 10927, 'implodes': 7126, 'heights': 6618, 'respites': 11723, 'humming': 6928, 'edits': 4485, 'moulin': 9252, 'purposeful': 11136, 'overdoing': 9991, 'metaphors': 8943, 'opaque': 9842, 'didacticism': 3875, 'mystical': 9365, 'daredevils': 3478, 'intoxicatingly': 7504, 'selfindulgent': 12463, 'maddening': 8575, 'comedian': 2750, 'goods': 6115, 'naturally': 9431, 'crave': 3234, 'serene': 12548, 'jolted': 7741, 'gourd': 6147, 'drop': 4322, 'enthusiastically': 4743, 'invokes': 7549, 'percussion': 10324, 'brass': 1802, 'competition': 2830, 'marching': 8691, 'bands': 1221, 'football': 5567, 'sheds': 12670, 'flashes': 5441, 'psychology': 11067, 'require': 11674, 'couch': 3153, 'slaphappy': 12952, 'viveka': 15503, 'sven': 14004, 'ace': 283, 'japanimator': 7659, 'hayao': 6549, 'survives': 13983, 'bv': 2018, 'revoiced': 11812, 'ache': 285, 'mortal': 9227, 'ear': 4423, 'slights': 12992, 'telegraphed': 14232, 'blithe': 1588, 'exchanges': 4937, 'tug': 14813, 'bolstered': 1684, 'economics': 4469, 'fabulousness': 5104, 'fundamentally': 5791, 'closest': 2626, 'achival': 295, 'escaped': 4811, 'biggest': 1480, 'kiosks': 7924, 'palette': 10109, 'blues': 1623, 'pinks': 10474, 'dreamy': 4292, 'manically': 8668, 'vaudeville': 15358, 'tony': 14536, 'gayton': 5902, 'dj': 4116, 'caruso': 2187, 'grimy': 6253, 'gravitational': 6212, 'considerably': 2975, 'puerile': 11081, 'shine': 12692, 'welldeveloped': 15728, 'vera': 15390, 'curse': 3399, 'instilled': 7404, 'mores': 9210, 'downhome': 4225, 'flavor': 5456, 'sharpie': 12658, 'pen': 10298, 'disgust': 4006, 'giggles': 6000, 'bollywoodhollywood': 1682, 'keenest': 7853, 'bombay': 1689, 'musicals': 9340, 'worked': 15974, 'conceal': 2872, 'inextricably': 7277, 'entwined': 4757, 'janice': 7652, 'eileen': 4522, 'wideeyed': 15829, 'teeth': 14227, 'infuses': 7309, 'slender': 12980, 'glinting': 6046, 'winningly': 15885, 'intolerance': 7501, 'deform': 3627, 'rudd': 12038, 'therapydependent': 14341, 'flakeball': 5429, 'spouting': 13392, 'malapropisms': 8635, 'lovableloser': 8468, 'trusts': 14791, 'stallion': 13465, 'cimarron': 2491, 'stasis': 13511, 'arrest': 898, 'lika': 8287, 'da': 3436, 'accents': 247, 'baio': 1183, 'computergenerated': 2869, 'norm': 9613, 'names': 9394, 'infantilized': 7280, 'infantile': 7279, 'cop': 3102, 'angel': 702, 'aurelie': 1061, 'christelle': 2466, 'nightmarish': 9553, 'fairytale': 5142, 'mindbending': 9022, 'qatsi': 11166, 'godfrey': 6078, 'reggio': 11524, 'philip': 10405, 'glass': 6033, 'academy': 245, 'kenneth': 7862, 'branagh': 1797, '300': 108, 'interact': 7451, 'formulas': 5617, 'messing': 8938, 'bigbug': 1475, 'egoyan': 4513, 'ararat': 845, 'praise': 10774, 'younger': 16108, 'fuses': 5810, 'accused': 282, 'undisciplined': 15044, 'suggests': 13874, 'coen': 2680, 'shoestring': 12720, 'unevenly': 15069, 'lynchlike': 8551, 'rotting': 12005, 'piquant': 10484, 'civil': 2517, 'disobedience': 4033, 'antiwar': 777, 'movements': 9268, 'rifkin': 11863, 'references': 11492, 'lying': 8549, 'ribcage': 11838, 'kung': 7982, 'pow': 10757, 'residences': 11695, 'carved': 2188, 'strictness': 13685, 'hallelujah': 6409, 'favors': 5243, 'multilayered': 9308, 'humanist': 6911, 'affects': 450, 'geographical': 5958, 'displacement': 4042, 'abandoned': 196, 'consoled': 2987, 'orc': 9889, 'urukhai': 15292, 'finely': 5375, 'tres': 14711, 'nia': 9530, 'worldlywise': 15993, 'appetizer': 815, 'testimony': 14300, 'capacity': 2115, 'germanic': 5967, 'quirkiness': 11211, 'ne': 9451, 'morton': 9230, 'lushly': 8540, 'recorded': 11430, 'amoral': 657, 'pursuing': 11144, 'bonechilling': 1700, 'statham': 13518, 'crimeland': 3288, 'says': 12210, 'cyber': 3427, 'hymn': 6963, 'renowned': 11629, 'splendor': 13356, 'tearful': 14187, 'gaze': 5904, 'untrained': 15243, 'lavish': 8120, 'formalism': 5608, 'intellectual': 7433, 'shapeshifting': 12647, 'brushes': 1916, 'calamity': 2055, 'profits': 10959, 'overwhelming': 10042, 'creepiness': 3271, 'eagerness': 4421, 'scriptwriters': 12348, 'blips': 1584, 'duration': 4386, 'staged': 13445, 'stellar': 13544, 'tight': 14452, 'miraculous': 9053, 'dreamworks': 4291, 'stirs': 13596, 'lightest': 8277, 'recharged': 11406, 'edward': 4491, 'magnetic': 8594, 'quirks': 11212, 'fondness': 5556, 'highwattage': 6702, 'brainpower': 1793, 'coupled': 3170, 'unfakable': 15080, 'leanest': 8153, 'meanest': 8832, 'misanthropic': 9059, 'messy': 8939, 'practiced': 10771, 'curmudgeon': 3395, 'momentum': 9156, 'lasker': 8081, 'meditative': 8859, 'distances': 4063, 'byron': 2025, 'luther': 8546, 'satisfaction': 12182, 'diabolical': 3851, 'guessed': 6320, 'selfaware': 12430, 'selfmocking': 12466, 'risky': 11898, 'eloquent': 4569, 'memorial': 8893, 'trade': 14614, 'conclusive': 2899, 'personalities': 10369, 'patriot': 10239, 'wallop': 15567, 'rebel': 11389, 'insouciance': 7386, 'embedded': 4586, 'demise': 3686, 'flee': 5468, 'seduced': 12395, 'pathetic': 10226, 'teenager': 14213, 'selfinflicted': 12464, 'retaliation': 11755, 'santa': 12165, 'clause': 2550, 'streamlined': 13668, 'addict': 359, 'admit': 386, 'complaint': 2834, 'recreations': 11444, 'miserably': 9073, 'suffer': 13854, 'dreadfulness': 4283, 'everwatchful': 4887, 'centering': 2268, 'delhi': 3646, 'specialized': 13282, 'mira': 9050, 'absolute': 224, 'cheat': 2368, 'effectively': 4498, 'beloved': 1399, 'genres': 5950, 'pandering': 10121, 'seesawing': 12411, 'recklessness': 11410, 'smoochy': 13069, 'devito': 3839, 'kapur': 7836, 'ghastly': 5977, 'amid': 649, 'populist': 10681, 'underscore': 15021, 'hardpressed': 6491, 'fatter': 5232, 'parris': 10168, 'enigma': 4699, 'munch': 9317, 'tenderly': 14261, 'float': 5495, 'grabs': 6157, 'shakes': 12622, 'vigorously': 15456, 'hardscrabble': 6492, 'margaret': 8694, 'thatcher': 14317, 'ruinous': 12050, 'manic': 8667, 'millennial': 9010, 'brusqueness': 1917, 'undying': 15054, 'politesse': 10638, 'marvin': 8744, 'gaye': 5899, 'supremes': 13941, 'buoy': 1971, 'threatens': 14389, 'bogged': 1662, 'dramaturgy': 4266, 'surge': 13956, 'swirling': 14044, 'rapids': 11299, 'leap': 8155, 'pinnacle': 10476, 'rouses': 12017, 'horses': 6856, 'audacious': 1049, 'produces': 10940, 'recreation': 11442, 'wartorn': 15619, 'croatia': 3315, 'uncomfortably': 14961, 'sensation': 12505, 'rightthinking': 11869, 'crammed': 3219, 'bristles': 1868, 'splashy': 13350, 'easier': 4443, 'diehard': 3879, 'connoisseurs': 2961, 'bigscreen': 1483, 'ridley': 11860, 'woven': 16016, 'handsomely': 6444, 'recalling': 11393, 'sixties': 12894, 'rockumentary': 11935, 'milestones': 9003, 'happening': 6465, 'blissfully': 1586, 'rebellion': 11390, 'misdirected': 9071, 'smug': 13076, 'sanctimonious': 12149, 'participatory': 10177, 'malnourished': 8647, 'intellectuals': 7435, 'gulp': 6339, 'frenzy': 5703, 'sham': 12631, 'rawnerved': 11332, 'highlight': 6689, 'rhapsodic': 11831, 'jumps': 7798, 'page': 10076, 'creations': 3251, 'sillier': 12827, 'cuter': 3417, 'elusive': 4573, 'soapopera': 13119, 'entity': 4749, 'strangling': 13657, 'zhuangzhuang': 16139, 'triumphantly': 14747, 'captors': 2132, 'befuddled': 1353, 'captives': 2131, 'bob': 1651, 'replete': 11649, 'virtuoso': 15479, 'throatsinging': 14409, 'sparse': 13270, 'transporting': 14667, 'reimagining': 11542, '1930s': 43, 'survived': 13982, 'sweettempered': 14029, 'kneejerk': 7941, 'misogyny': 9086, 'argento': 869, '26': 101, 'outtochangetheworld': 9973, 'aggressiveness': 494, 'bled': 1564, 'brash': 1801, 'erotically': 4798, 'perplexing': 10358, 'austrian': 1071, 'suppression': 13939, 'tucked': 14810, 'integrating': 7430, 'foreground': 5584, 'forest': 5589, 'wearing': 15673, 'cumbersome': 3383, '3d': 114, 'goggles': 6084, 'hush': 6953, 'reward': 11818, 'largeformat': 8066, 'suited': 13881, 'regalia': 11518, 'transcendence': 14642, 'gutsy': 6361, 'surf': 13947, 'thrillingly': 14404, 'stoked': 13604, 'offcenter': 9758, 'populates': 10678, 'routine': 12022, 'awesome': 1123, 'ineffable': 7258, 'inexplicably': 7274, 'attal': 1028, 'deniro': 3705, 'travis': 14687, 'bickle': 1468, 'agnostic': 500, 'carnivore': 2169, 'jonah': 7745, 'lunacy': 8527, 'pronounced': 10992, 'pythonesque': 11163, 'allfrench': 576, 'marveilleux': 8738, 'manoel': 8682, 'oliviera': 9805, 'advised': 428, 'squint': 13429, 'noticing': 9645, 'egregious': 4515, 'lipnonsynching': 8337, 'nicks': 9543, 'exaggerated': 4909, 'twisting': 14871, 'whoopeecushion': 15820, 'market': 8716, 'halfasleep': 6392, 'frothy': 5750, 'genius': 5945, 'volumes': 15519, 'hallucinatory': 6413, 'dreamscape': 4290, 'frustrates': 5757, 'sandra': 12158, 'ambience': 626, 'unsurprising': 15235, 'delectable': 3642, 'demented': 3682, 'malkovich': 8642, 'contrasting': 3046, 'sleekness': 12970, 'freshfaced': 5709, 'bighearted': 1482, 'kiddies': 7880, 'cheeky': 2379, 'concession': 2895, 'mana': 8653, 'hurt': 6949, 'slack': 12943, 'abderrahmane': 201, 'sissako': 12877, 'heremakono': 6644, 'elegiac': 4544, 'transit': 14654, 'struggling': 13720, 'influences': 7296, 'table': 14080, 'manners': 8681, 'hookers': 6821, 'highend': 6685, 'hughes': 6907, 'elder': 4531, 'enriched': 4717, 'imaginatively': 7065, 'antic': 760, 'subtlest': 13825, 'complexly': 2844, 'rarest': 11307, 'familyoriented': 5167, 'nondisney': 9591, 'belt': 1401, 'undogmatic': 15048, 'enveloping': 4760, 'breathe': 1830, 'forcing': 5580, 'contrivance': 3053, 'clichériddled': 2585, 'showtime': 12766, 'finelooking': 5374, 'clutch': 2655, 'punctuation': 11109, 'awards': 1114, 'datenight': 3496, 'cruelly': 3346, 'tricks': 14720, 'gracious': 6165, 'ray': 11334, 'forever': 5590, 'adorable': 397, 'lamentations': 8036, 'selfcentered': 12433, 'pivotal': 10499, 'disregard': 4051, 'bias': 1459, 'temptingly': 14254, 'twentysomething': 14857, 'hotsies': 6872, 'harddriving': 6480, 'narcissism': 9404, 'maryam': 8747, 'followed': 5548, 'bladerunner': 1538, 'sci': 12285, 'fi': 5315, 'adventures': 421, 'attempted': 1030, 'scale': 12214, 'ups': 15274, 'downs': 4229, 'ethnicities': 4849, 'hunnam': 6942, 'twinkling': 14864, 'dickensian': 3867, 'niccol': 9532, 'insinuating': 7378, 'khouri': 7869, 'extremes': 5074, 'screwball': 12337, 'continuum': 3037, 'impresses': 7141, 'assembled': 970, 'manhunter': 8666, 'symbolism': 14064, 'pity': 10498, 'catharsis': 2226, 'funk': 5795, 'sole': 13160, 'ac': 243, 'skilfully': 12917, 'aerial': 431, 'overflows': 9999, 'majid': 8616, 'shoeloving': 12718, 'crippled': 3295, 'grated': 6201, 'squirming': 13432, 'alternatives': 611, 'prominent': 10981, 'suggestive': 13873, 'readings': 11355, 'germany': 5968, 'democratic': 3691, 'weimar': 15704, 'republic': 11666, 'guiltfree': 6328, 'budding': 1933, 'wallflower': 15566, 'disappointingly': 3956, 'included': 7190, 'compensated': 2824, 'offthewall': 9776, 'playfulness': 10545, 'outlandishness': 9948, 'scottish': 12313, 'painterly': 10095, 'flowerpower': 5515, 'bluer': 1622, 'biologically': 1505, 'panamerican': 10118, 'videoshot': 15440, 'peppering': 10315, 'norwegian': 9624, 'folktales': 5545, 'villeneuve': 15462, 'ong': 9829, 'promising': 10986, 'welltold': 15753, 'fatale': 5222, 'redeems': 11456, 'yayas': 16080, 'otherworldly': 9929, 'freaky': 5686, 'scare': 12223, 'lend': 8195, 'herrmann': 6657, 'avuncular': 1108, 'chortles': 2459, 'trite': 14743, 'overused': 10037, 'rustic': 12077, 'ravel': 11328, 'bolero': 1679, 'crescendo': 3279, 'encompasses': 4637, 'paths': 10232, 'plotless': 10576, 'admitted': 387, 'humorless': 6930, 'shockyouintolaughter': 12715, 'dadaist': 3439, 'proportions': 11004, 'adequate': 370, 'shallow': 12628, 'representing': 11660, 'crosssection': 3330, 'bounds': 1765, 'ratatat': 11312, 'maintaining': 8612, 'tackling': 14088, 'socialeconomicurban': 13133, 'deadon': 3526, 'jarecki': 7661, 'gibney': 5990, 'explain': 5009, 'diplomat': 3920, 'tweaked': 14853, 'statecraft': 13513, 'millions': 9014, 'spanieleyed': 13258, 'hubert': 6895, 'slugfest': 13023, 'decisively': 3578, 'independent': 7217, 'satiric': 12180, 'toothless': 14549, 'truths': 14795, 'compressed': 2859, 'evanescent': 4863, 'seamless': 12361, 'stream': 13666, 'dubious': 4349, 'wasted': 15629, 'truecrime': 14777, 'helljaunt': 6626, 'purists': 11130, 'experimental': 5002, 'slickest': 12984, 'clumsy': 2650, 'mitchell': 9108, 'handily': 6435, 'notting': 9657, 'heft': 6612, 'infusing': 7310, 'bark': 1253, 'bowwow': 1776, 'surrounding': 13973, 'hyperartificiality': 6966, 'racism': 11230, 'homophobia': 6801, 'deliberative': 3651, 'lifestyle': 8267, 'characterized': 2325, 'surfaceobsession': 13950, 'typifies': 14893, 'delirium': 3665, 'pre': 10784, 'extant': 5053, 'stardom': 13490, 'bale': 1194, 'nineyearold': 9563, 'arcane': 849, 'exposure': 5038, 'pause': 10252, 'cope': 3103, 'impart': 7101, 'bludgeoning': 1619, 'coy': 3200, 'ving': 15465, 'rhames': 11830, 'competence': 2826, 'suspect': 13988, 'lifeembracing': 8263, 'rough': 12007, 'tendency': 14258, 'sag': 12116, 'closing': 2630, 'civilization': 2518, 'cure': 3388, 'rudy': 12041, 'lodge': 8396, 'sweat': 14016, 'clarify': 2531, 'trickster': 14721, 'laden': 8018, 'baggage': 1178, 'tinged': 14473, 'undertones': 15032, 'kindred': 7915, 'julianne': 7788, 'shohei': 12721, 'quietude': 11205, 'livedin': 8364, 'schultz': 12279, 'shades': 12611, 'katz': 7845, 'panache': 10117, 'papa': 10130, 'spanning': 13260, 'suspending': 13994, 'surehanded': 13944, 'desolate': 3784, 'infuse': 7307, 'rocky': 11936, 'sibling': 12791, 'reconciliation': 11427, 'openended': 9845, 'concrete': 2903, 'minimalist': 9035, 'auteuil': 1073, 'mibii': 8963, 'rote': 12001, 'extravagantly': 5069, 'sporadically': 13376, 'o': 9697, 'fantasma': 5185, 'boldly': 1678, 'confidently': 2922, 'orchestrated': 9891, 'aesthetically': 434, 'sexually': 12607, 'rightly': 11868, 'nicky': 9544, 'extends': 5055, 'supple': 13930, 'athlete': 1010, 'indomitability': 7244, 'jonze': 7748, 'risks': 11897, 'missing': 9091, 'tends': 14263, 'gracefully': 6161, 'gratuitous': 6208, 'distractions': 4087, 'immersive': 7091, 'hyperrealistic': 6970, 'outerspace': 9944, 'station': 13520, 'unmistakable': 15162, 'joie': 7728, 'vivre': 15507, 'stein': 13541, 'hostage': 6863, 'generic': 5933, 'seek': 12403, 'seattle': 12379, 'lean': 8151, 'india': 7221, 'gulzar': 6341, 'jagjit': 7640, 'singh': 12860, 'size': 12897, 'ladles': 8020, 'local': 8388, 'flavour': 5459, 'clashing': 2536, 'pizza': 10503, 'fallibility': 5150, 'holofcener': 6787, 'rejects': 11552, 'patent': 10224, 'dramatize': 4263, 'messiness': 8937, 'gleefully': 6039, 'grungy': 6309, 'hilariously': 6708, 'dafoe': 3441, 'careers': 2151, 'determination': 3811, 'admirably': 379, 'aspires': 960, 'clone': 2615, 'gulpilil': 6340, 'commanding': 2774, 'abundant': 236, 'humanism': 6910, 'compass': 2813, 'quintessential': 11207, 'fanatics': 5174, 'showdown': 12758, 'golf': 6093, 'enlivens': 4712, 'astute': 1005, 'cardoso': 2142, 'defiance': 3612, 'dictates': 3869, 'hotblooded': 6866, 'b12': 1137, 'cq': 3201, 'shimmers': 12690, 'essay': 4823, 'specter': 13296, 'suicide': 13876, 'apple': 818, 'samira': 12143, 'makhmalbaf': 8629, 'develop': 3824, 'dizzily': 4114, 'wong': 15953, 'mainland': 8607, 'unrelieved': 15194, 'wistful': 15908, 'poor': 10660, 'coral': 3116, 'reef': 11479, 'heavyweight': 6604, 'behalf': 1368, 'endangered': 4649, 'testing': 14301, 'boundaries': 1762, 'workplace': 15985, 'shimmeringly': 12689, 'watery': 15649, 'survive': 13981, '1992': 73, 'unforgiven': 15095, 'utilized': 15308, 'scintillating': 12292, 'menace': 8897, 'harsh': 6515, 'sympathies': 14067, '15th': 31, 'delves': 3674, 'passiveaggressive': 10210, 'codependence': 2677, 'culmination': 3373, 'selection': 12423, 'questioning': 11190, 'payami': 10259, 'graphically': 6196, 'fledgling': 5467, 'democracies': 3689, 'possess': 10717, 'hue': 6900, 'drastic': 4269, 'iconography': 6997, '85minute': 167, 'harmless': 6506, 'butter': 2007, 'consummate': 3008, 'ali': 557, 'graduation': 6173, 'overamorous': 9982, 'terrier': 14283, 'sip': 12874, 'wines': 15876, 'merchant': 8910, 'ivory': 7620, 'productions': 10944, 'settle': 12583, 'iced': 6988, 'bruckheimer': 1910, 'week': 15692, 'undeserving': 15041, 'victim': 15427, 'overkill': 10004, 'unhappiness': 15107, 'helpings': 6636, 'dawns': 3508, 'crises': 3296, 'ceremonies': 2276, 'lush': 8539, 'cotswolds': 3151, 'benjamins': 1412, 'perceptiveness': 10321, 'juniorhigh': 7804, 'millisecond': 9015, 'frissons': 5739, 'wound': 16012, 'clock': 2611, 'ticking': 14437, 'allstar': 589, 'reunions': 11780, 'assume': 986, 'brit': 1869, 'repeatedly': 11637, 'perversely': 10383, 'mournful': 9259, 'goodtime': 6116, 'shenanigans': 12679, 'improvement': 7156, 'slambang': 12947, 'wildandwoolly': 15844, 'walltowall': 15570, 'infuriating': 7305, 'frontal': 5745, 'alongside': 599, 'friend': 5725, 'dinner': 3916, 'carlos': 2165, 'fresnadillo': 5714, 'formed': 5611, 'grossest': 6279, 'voyage': 15525, 'heartbreakingly': 6583, 'singular': 12867, 'unafraid': 14925, 'throw': 14413, 'elbows': 4530, 'savory': 12203, 'plates': 10529, 'spinning': 13330, 'bouncing': 1759, 'forth': 5623, 'varmints': 15352, 'distract': 4083, 'ricocheting': 11847, 'weissman': 15713, 'weber': 15685, 'craziness': 3242, 'steady': 13531, 'characterdriven': 2317, 'picked': 10442, 'swung': 14055, 'dropped': 4323, 'graham': 6175, 'colonialism': 2721, 'weary': 15676, 'journalist': 7758, 'solipsistic': 13170, 'justify': 7813, 'degraded': 3633, 'roughly': 12011, 'information': 7300, 'bon': 1692, 'appétit': 838, 'ripe': 11886, 'ingredients': 7319, 'certified': 2279, 'march': 8690, 'drum': 4336, 'houses': 6887, 'options': 9882, 'playfully': 10544, 'crazier': 3241, 'skyscraper': 12941, 'nursery': 9687, 'surrounded': 13972, 'windows': 15871, 'enthrall': 4737, 'k': 7820, '19': 40, 'dramaaction': 4256, 'believer': 1388, 'cheered': 2381, '60': 137, 'exposé': 5039, '83': 164, 'muddle': 9297, 'seesawed': 12410, 'interests': 7459, 'spiritually': 13343, 'lament': 8035, 'revitalize': 11809, 'clungto': 2651, 'hoult': 6876, 'scared': 12224, 'affable': 438, 'jennifer': 7690, 'lopez': 8443, 'aggressive': 492, 'storm': 13627, 'shrewdly': 12774, 'surrounds': 13975, 'harmlessly': 6507, 'naïve': 9448, 'bball': 1303, 'nba': 9450, 'offseason': 9774, 'bart': 1271, 'freundlich': 5719, 'qualities': 11173, 'gravity': 6213, 'crudup': 3344, 'anchoring': 687, 'individuals': 7242, 'spells': 13306, 'singles': 12866, 'blender': 1570, 'technological': 14200, 'disjointed': 4018, 'laid': 8027, 'squarely': 13424, 'candles': 2099, 'cake': 2053, 'fret': 5715, 'calories': 2070, 'dealers': 3532, 'kidnapping': 7888, 'unsavory': 15210, 'massoud': 8764, 'tenacious': 14255, 'fighter': 5337, 'prisoner': 10908, '1957': 52, 'crossover': 3328, 'nonethnic': 9593, 'markets': 8719, 'sum': 13887, 'doover': 4190, 'grip': 6259, 'affleck': 456, 'pipeline': 10483, 'hitch': 6739, 'orientation': 9906, 'scattered': 12238, 'fright': 5731, 'insecurity': 7365, 'slovenly': 13014, 'donald': 4176, 'stitched': 13598, 'enhanced': 4696, 'surplus': 13958, 'archive': 856, 'endless': 4659, 'balm': 1211, 'ideology': 7011, 'bravery': 1810, 'advancing': 416, 'integrated': 7428, 'jumbo': 7795, 'ants': 781, 'arrow': 906, 'unscathed': 15211, 'raging': 11246, 'returning': 11777, 'rob': 11916, 'minkoff': 9040, 'rubin': 12037, 'youarethere': 16106, 'instinct': 7405, 'duck': 4350, 'transported': 14665, 'wladyslaw': 15929, 'szpilman': 14078, 'dispossessed': 4048, 'buildup': 1950, 'expository': 5037, 'signature': 12813, 'affirming': 454, 'decay': 3561, 'factor': 5119, 'amiss': 654, 'tapestry': 14138, 'frei': 5697, 'assembles': 971, 'humanistic': 6912, 'witnessed': 15920, 'retains': 11754, 'communicate': 2795, 'requiem': 11673, 'antagonism': 751, 'jerusalem': 7699, 'wedge': 15689, 'berg': 1417, 'wilson': 15861, 'ackerman': 300, 'episodes': 4774, 'looney': 8431, 'tchaikovsky': 14177, 'neurasthenic': 9511, 'juliette': 7791, 'characteristic': 2320, 'unfolding': 15090, 'cleverly': 2576, 'pryce': 11047, 'fatal': 5221, 'indecent': 7212, 'proposal': 11005, 'dolorous': 4164, 'trim': 14732, 'writers': 16042, 'sporadic': 13375, 'dips': 3922, 'freudianism': 5718, 'humility': 6927, 'dysfunctionally': 4415, 'schweig': 12282, 'exude': 5083, 'curtsy': 3404, 'campbell': 2087, 'outlet': 9949, 'flickknife': 5481, 'diction': 3871, 'swanson': 14010, 'fiji': 5345, 'diver': 4102, 'rusi': 12071, 'vulakoro': 15530, 'michelle': 8968, 'hall': 6407, 'ark': 883, 'hermitage': 6648, 'princess': 10895, 'glides': 6041, 'ben': 1403, 'kingsley': 7921, 'ghandi': 5976, 'ourside': 9935, 'intolerable': 7500, 'spending': 13308, 'favored': 5240, 'retro': 11770, 'outpaces': 9955, 'contemporaries': 3017, 'ranges': 11284, 'wonderwhat': 15950, 'timeitis': 14462, 'liveaction': 8362, 'beating': 1321, 'downplays': 4227, 'rely': 11588, 'opposed': 9868, 'outrageousness': 9959, 'sullivan': 13885, 'salton': 12134, 'atypically': 1048, 'fastedit': 5215, 'hoppedup': 6839, 'hiddenagenda': 6671, 'shouts': 12750, 'durable': 4385, 'cultivation': 3378, 'devotion': 3847, 'readily': 11353, 'openhearted': 9847, 'succumb': 13840, 'naturalistic': 9430, 'oftenhilarious': 9780, 'generate': 5926, 'lowbrow': 8485, 'highminded': 6694, 'passed': 10201, 'street': 13669, 'farcical': 5193, 'annoyances': 739, 'clayburgh': 2556, 'realities': 11365, 'underworld': 15039, 'taxi': 14172, 'driver': 4314, 'theory': 14338, 'russians': 12074, 'closedoff': 2622, 'nationalist': 9422, 'semisurrealist': 12497, 'merci': 8912, 'pour': 10752, 'conception': 2885, 'futureworld': 5820, 'holographic': 6789, 'librarian': 8250, 'orlando': 9911, 'birot': 1509, 'fateful': 5226, 'evolution': 4902, 'bewitched': 1457, 'adolescents': 394, 'claire': 2523, 'ought': 9932, 'villains': 15461, 'update': 15255, 'indians': 7223, 'cheeselaced': 2386, 'spectacles': 13291, 'subcontinent': 13782, 'seemingly': 12406, 'irreconcilable': 7575, 'estranged': 4836, 'lesbian': 8212, 'admission': 385, 'profiling': 10958, 'latin': 8096, 'trend': 14710, 'overdue': 9994, 'backed': 1152, 'scheming': 12253, 'backdrop': 1150, 'mischievous': 9067, 'oodles': 9836, 'dedication': 3592, 'reporters': 11653, 'willingly': 15857, 'posterity': 10732, 'quotations': 11220, 'reviewed': 11800, 'mild': 8996, 'magi': 8590, 'relocated': 11586, 'scuzzy': 12356, 'nyc': 9694, 'merry': 8925, 'friggin': 5730, 'following': 5550, 'shepard': 12680, 'oscarsize': 9923, 'underplays': 15018, 'jane': 7649, 'wyman': 16054, 'june': 7800, 'cleaver': 2569, 'tenyearold': 14273, 'steadfast': 13528, 'dualistic': 4347, 'candid': 2097, 'archly': 858, 'fruition': 5755, 'sophomore': 13204, 'pratfalls': 10780, 'matches': 8778, 'automatically': 1086, 'bypass': 2022, 'babyfaced': 1147, 'blank': 1547, 'unimaginable': 15118, 'competent': 2827, 'afterschool': 475, 'slot': 13012, 'shopping': 12732, 'mall': 8643, 'rooms': 11983, 'beard': 1312, 'falters': 5157, 'recycled': 11448, 'implausibility': 7119, 'sags': 12118, 'courageousness': 3175, 'employment': 4621, 'focuses': 5537, 'anguish': 715, 'mulls': 9306, 'traverse': 14685, 'uncharted': 14952, 'trimmed': 14733, 'sprawling': 13394, 'cowering': 3191, 'larky': 8075, 'belong': 1397, 'abound': 216, 'burkina': 1980, 'faso': 5212, 'sia': 12790, 'elicits': 4556, 'governments': 6152, '2000': 84, 'conspiracies': 2990, 'doomed': 4186, 'toughest': 14592, 'profession': 10949, 'hews': 6660, 'lifechanging': 8262, 'encounters': 4642, 'depict': 3732, 'aristocrats': 881, 'dismay': 4025, 'mistake': 9096, 'traveler': 14683, 'anyplace': 788, 'tongue': 14529, 'cheek': 2377, 'latesummer': 8093, 'surfer': 13954, 'actionthriller': 324, 'evoking': 4901, 'jackal': 7626, 'moon': 9191, 'fuel': 5768, 'achievements': 290, 'stranded': 13649, 'appetites': 814, 'agony': 503, 'everruminating': 4886, 'genteel': 5951, 'bills': 1493, 'remakes': 11597, 'eclipse': 4464, 'disgrace': 4001, 'stephen': 13548, 'earnhart': 4433, 'optimism': 9878, 'currently': 3398, 'chickflicks': 2411, 'treating': 14697, 'follies': 5546, 'legend': 8187, 'blended': 1569, 'kooky': 7964, 'overeager': 9995, 'warmest': 15603, 'twodimensional': 14877, 'minority': 9043, 'astounds': 999, 'loud': 8461, 'specialeffectsladen': 13280, 'extravaganzas': 5071, 'columbus': 2734, 'livelier': 8365, 'dominant': 4168, 'spectator': 13294, 'item': 7614, 'superhero': 13915, 'arriving': 903, 'flickering': 5480, 'reminders': 11609, 'bind': 1496, 'averse': 1099, 'followyourdream': 5553, 'knack': 7940, 'wrapping': 16020, 'blanket': 1548, 'seedy': 12401, 'clash': 2535, 'unsolved': 15220, 'unresolved': 15201, 'jockey': 7721, 'improves': 7157, 'graphics': 6197, 'smoke': 13064, 'base': 1274, 'acquire': 305, 'sunshine': 13904, 'melds': 8879, 'shout': 12748, 'truncated': 14786, 'lovable': 8467, 'abel': 203, 'relieved': 11581, 'xmas': 16059, 'superheroics': 13916, 'engross': 4692, 'antsy': 782, 'youngsters': 16110, 'numbered': 9681, '52': 134, 'meanspirited': 8837, 'wryly': 16051, 'primal': 10888, 'took': 14541, 'mick': 8970, 'standardized': 13476, 'lisping': 8342, 'reptilian': 11665, 'bask': 1283, 'lingual': 8327, 'wiggling': 15841, 'kitten': 7935, 'neatly': 9461, 'debilitating': 3548, 'immediate': 7085, 'aftermath': 473, 'terrorist': 14291, 'attacks': 1027, 'rapport': 11301, 'hélène': 6981, 'calvin': 2071, 'barbers': 1242, 'streetwise': 13672, 'mclaughlin': 8821, 'dazzle': 3519, 'longtime': 8423, 'neophyte': 9496, 'unbearably': 14938, 'hotels': 6869, 'highways': 6704, 'parking': 10161, 'glimpses': 6045, 'moan': 9117, 'entrapment': 4751, 'botches': 1747, 'boymeetsgirl': 1782, 'posturing': 10739, 'ebullient': 4453, 'traditionbound': 14621, 'widow': 15836, 'passive': 10209, 'yield': 16096, 'mannerisms': 8680, 'deliberate': 3648, 'gait': 5838, 'subdues': 13785, 'exuberance': 5080, 'powder': 10758, 'sunsplashed': 13905, 'whites': 15812, 'tunis': 14824, 'alluring': 593, 'sensuous': 12522, 'bellydancing': 1396, 'clubs': 2644, 'thinks': 14354, 'resolved': 11705, 'immersed': 7090, 'directions': 3929, 'sneers': 13098, 'bile': 1488, 'eurotrash': 4858, 'handguns': 6431, 'bmws': 1639, 'seaside': 12371, 'chateaus': 2356, 'fortunately': 5626, 'cloying': 2641, 'greg': 6235, 'fullfledged': 5780, 'ou': 9931, 'cleavage': 2568, 'principled': 10900, 'triumphant': 14746, 'exhibit': 4962, 'lear': 8158, 'confluence': 2933, 'trial': 14713, 'ensures': 4723, 'draggy': 4247, 'girlbuddy': 6013, 'rocknrolling': 11932, 'postwar': 10740, 'instruct': 7409, 'reeking': 11483, 'research': 11684, 'library': 8251, 'dust': 4387, 'soothe': 13199, 'collide': 2717, 'oprahfication': 9875, 'humbling': 6921, 'fueled': 5769, 'zhao': 16138, 'benshan': 1413, 'jie': 7712, 'complain': 2832, 'anymore': 787, 'straightshooting': 13642, 'animals': 718, 'imaxy': 7071, 'stronger': 13707, 'owned': 10052, 'maggie': 8587, 'g': 5824, 'breakthrough': 1826, 'overexposed': 9996, 'redolent': 11465, 'thousand': 14382, 'derives': 3760, 'workman': 15982, 'entendre': 4724, 'attendant': 1032, 'lector': 8173, 'injuries': 7337, 'italy': 7612, 'beckons': 1336, 'beachcombing': 1305, 'verismo': 15402, 'indistinct': 7239, 'oliveira': 9801, 'pursue': 11141, 'representation': 11658, 'painters': 10096, 'confounded': 2936, 'miscellaneous': 9066, 'bohos': 1668, 'expound': 5040, 'explaining': 5010, 'campfire': 2088, 'willies': 15855, 'exit': 4977, 'soso': 13220, 'damagedgoods': 3449, 'orbits': 9888, 'flourishes': 5511, 'grateful': 6202, 'jokester': 7736, 'patrolmen': 10242, 'hotter': 6873, 'georgia': 5960, 'overwhelmed': 10041, 'paradoxically': 10142, 'illuminated': 7048, 'manipulative': 8674, 'preserves': 10846, 'ardor': 862, 'lays': 8133, 'puzzle': 11155, 'interweaves': 7495, 'mobius': 9122, 'elliptically': 4564, 'loops': 8436, 'began': 1356, 'acerbic': 284, 'titans': 14488, 'underplayed': 15017, 'harks': 6502, 'unchecked': 14953, 'yasujiro': 16074, 'ozu': 10055, 'superfluous': 13914, 'epilogue': 4770, 'leaks': 8149, 'suspension': 13998, 'sieve': 12808, 'heartrateraising': 6589, 'aspiration': 956, 'boost': 1718, 'everyman': 4891, 'reverberates': 11793, 'sadly': 12111, 'heightened': 6617, 'paean': 10074, 'dense': 3712, 'brimming': 1860, 'absorbed': 227, 'numerous': 9686, 'worldrenowned': 15994, 'copious': 3108, 'hints': 6719, 'myriad': 9359, 'harvesting': 6520, 'purposes': 11139, 'splendidly': 13355, 'adversity': 423, 'gutclutching': 6358, 'advocacy': 430, 'torrent': 14569, 'complications': 2847, 'stinging': 13591, 'ballroom': 1209, '3000': 109, 'waltzed': 15576, 'pantheon': 10126, 'rules': 12052, 'governance': 6149, 'hierarchy': 6679, 'fourhour': 5640, 'asiaphiles': 943, 'wistfully': 15909, 'marginal': 8698, 'helping': 6635, 'friendly': 5726, 'scan': 12216, 'engineering': 4686, 'collision': 2720, 'tawdry': 14170, 'flamboyance': 5431, 'grandiose': 6183, 'model': 9126, 'scrap': 12315, 'darkest': 3485, 'inhabitants': 7321, 'purity': 11132, 'stick': 13570, 'breakdown': 1823, 'continually': 3031, 'perceptions': 10319, 'energizes': 4673, 'chomps': 2443, 'cosbyseinfeld': 3140, 'weight': 15699, 'superficially': 13913, 'scream': 12322, 'zombieland': 16152, 'singlehanded': 12863, 'waltz': 15575, 'skinny': 12927, 'panic': 10123, 'sucking': 13848, 'rooting': 11986, 'gai': 5832, 'befallen': 1352, 'guarded': 6315, 'resentful': 11689, 'margot': 8702, 'vagina': 15319, 'excessively': 4935, 'underconfident': 14989, 'walken': 15557, 'kinda': 7913, 'romanced': 11963, 'cyndi': 3430, 'lauper': 8116, 'opportunists': 9865, 'oozes': 9840, 'pageturning': 10081, 'worries': 16000, 'approached': 831, 'warravaged': 15613, 'sarah': 12171, 'harrison': 6512, 'jaunty': 7667, 'celebstrewn': 2258, 'recoing': 11419, 'tick': 14433, 'explanation': 5012, 'envelops': 4761, 'fearlessly': 5253, 'nationwide': 9424, 'blight': 1577, 'horrifyingly': 6851, 'faint': 5135, 'san': 12148, 'francisco': 5662, 'treasured': 14694, 'variations': 15348, 'staggers': 13451, 'reserved': 11692, 'refracting': 11503, 'midst': 8987, 'spades': 13251, 'winter': 15887, 'grenoble': 6240, 'geneva': 5939, 'mounting': 9257, 'expert': 5005, 'medem': 8850, 'disrobed': 4054, 'exposed': 5033, 'virgin': 15472, 'chastity': 2354, 'heavyhanded': 6603, 'parental': 10155, 'failings': 5132, 'indifference': 7231, 'spanish': 13259, 'ambiguities': 627, 'training': 14634, 'worldclass': 15991, 'fencer': 5291, 'twister': 14870, 'moviemovie': 9281, 'bankruptcy': 1231, 'inflammatory': 7292, 'religion': 11582, 'hatred': 6535, 'resolution': 11703, 'floundering': 5508, 'rake': 11263, 'dough': 4216, 'boomer': 1714, 'bless': 1573, 'aversion': 1100, 'cashing': 2196, 'moviestar': 9285, 'gorgeousness': 6135, 'dating': 3498, 'uneasily': 15057, 'sexinthecity': 12600, 'misadventures': 9058, 'decline': 3581, 'candor': 2100, 'giggle': 5999, 'lowered': 8489, 'reelreal': 11486, 'dichotomy': 3863, 'pursued': 11142, 'enervating': 4676, 'venicevenice': 15382, 'songanddanceman': 13188, 'pasach': 10192, 'ke': 7849, 'ethnic': 4848, 'sensitively': 12517, 'penalty': 10299, 'challenged': 2293, 'gadgets': 5827, 'smacks': 13034, 'compositions': 2854, 'underlined': 15008, 'finn': 5387, 'edmund': 4486, 'mcwilliams': 8824, 'walking': 15559, 'satisfied': 12185, 'bilingual': 1489, 'blisteringly': 1587, 'scarily': 12231, 'sorrowfully': 13215, 'surveys': 13978, 'holden': 6766, 'pokemon': 10622, 'cautions': 2242, 'ecological': 4466, 'bloodstream': 1607, 'explosions': 5030, 'innuendoes': 7352, 'timeout': 14467, 'labels': 7994, 'wrought': 16049, 'versatile': 15406, 'delia': 3647, 'greta': 6241, 'paula': 10247, 'searches': 12367, 'affectingly': 445, 'howling': 6892, 'cringing': 3294, 'accommodate': 262, 'gain': 5834, 'unconditional': 14967, 'looksee': 8430, 'ryosuke': 12086, 'languidly': 8054, 'argentinean': 867, 'dramedy': 4267, 'compelled': 2818, 'venturesome': 15387, 'thornberrys': 14368, 'emphasis': 4613, 'respecting': 11718, 'terrorists': 14292, 'reducing': 11470, 'stake': 13459, 'seductively': 12398, 'entertainments': 4735, 'overwhelm': 10040, 'squirm': 13430, 'recognition': 11413, '168minute': 34, 'entranced': 4750, 'layer': 8130, 'cinephile': 2500, 'invitation': 7543, 'interpretations': 7484, 'antiadult': 759, 'esther': 4835, 'kahn': 7828, 'progresses': 10967, 'monotony': 9172, 'concentration': 2883, 'eddie': 4472, 'efficiently': 4503, 'collapses': 2704, 'skilled': 12919, 'spoken': 13364, 'patricio': 10238, 'guzman': 6367, 'parallels': 10144, '1971': 60, 'bedknobs': 1341, 'broomsticks': 1898, 'dealt': 3535, 'rediscovering': 11462, 'ninth': 9564, 'remaining': 11593, 'principles': 10901, 'pointedly': 10613, 'peril': 10341, 'unrepentant': 15198, 'excursion': 4947, 'epicenter': 4768, 'percolating': 10323, 'instability': 7395, 'mateys': 8783, 'handful': 6430, 'virtuosic': 15477, 'myers': 9357, 'dirtyjoke': 3944, 'posttarantino': 10738, 'popculture': 10667, 'hackandslash': 6374, 'inexperienced': 7272, 'chases': 2351, 'strut': 13722, 'goldmember': 6092, 'car': 2137, 'catastrophic': 2216, 'gall': 5842, 'clamoring': 2524, 'torpedo': 14568, 'scripters': 12345, 'oscars': 9922, 'nerveraked': 9502, 'crackle': 3207, 'stagings': 13452, 'hardware': 6497, 'americanized': 642, 'comparing': 2810, 'classification': 2543, 'unerring': 15067, 'creepyscary': 3276, 'fixating': 5414, 'corner': 3124, 'inyourface': 7556, 'unpleasant': 15176, 'gaudy': 5893, 'shirt': 12701, 'rocks': 11933, 'unexplored': 15077, 'punchdrunk': 11100, 'maker': 8624, 'chocolate': 2437, 'milk': 9006, 'moustache': 9263, 'portrayals': 10702, 'seeds': 12400, 'ambivalent': 635, 'counts': 3167, 'piercingly': 10457, 'route': 12020, 'pixilated': 10501, 'allusions': 594, 'gurus': 6351, 'doshas': 4200, 'westerners': 15773, 'verging': 15400, 'mumbojumbo': 9315, 'streaks': 13665, 'unimpeachable': 15121, 'byplay': 2024, 'bickering': 1467, 'spysavvy': 13414, 'siblings': 12792, 'vega': 15365, 'juni': 7802, 'sabara': 12091, 'cortez': 3138, 'anchor': 685, 'giveandtake': 6021, 'flat': 5444, 'breillat': 1842, 'rain': 11253, 'characterisations': 2319, 'coolness': 3096, 'ub': 14896, 'spoofs': 13368, 'outre': 9960, 'dorkier': 4195, 'inseparable': 7367, 'oppressively': 9873, 'missed': 9089, 'schmaltz': 12262, 'stubborn': 13726, 'slackers': 12944, 'insulting': 7421, 'childish': 2416, 'mongrel': 9162, 'pep': 10311, 'indecipherable': 7213, 'fiendishly': 5327, 'jaded': 7636, 'auditorium': 1056, 'dizzy': 4115, 'disorientated': 4034, 'semimusical': 12495, 'rendition': 11624, 'flags': 5424, 'drawling': 4275, 'slobbering': 13002, 'runon': 12063, 'sentence': 12524, 'arc': 848, 'swords': 14054, 'helm': 6629, 'traditionally': 14620, 'plotted': 10580, 'surrendering': 13969, 'rigor': 11873, 'composure': 2855, 'anatomical': 684, 'transition': 14655, 'describes': 3767, 'jeremy': 7694, 'impulses': 7163, 'hideously': 6676, 'combat': 2740, 'siegel': 12807, 'cowriters': 3195, 'ready': 11356, 'sympathize': 14068, 'apex': 794, 'misunderstood': 9104, 'clobbering': 2610, 'digested': 3891, 'laboratory': 7996, 'funky': 5796, 'artificial': 918, 'artificiality': 919, 'recycling': 11450, 'nephew': 9499, 'uncles': 14958, 'congrats': 2948, 'constrictive': 2998, 'eisenhower': 4524, 'cheery': 2384, 'tranquil': 14640, 'continue': 3033, 'fragmentary': 5651, 'connections': 2957, 'halle': 6408, 'naval': 9441, 'personnel': 10374, 'diego': 3878, 'welled': 15732, 'guard': 6314, 'placed': 10505, 'swashbucklers': 14011, 'farfetched': 5198, 'absorb': 226, 'egraveyard': 4514, 'chin': 2430, 'lackofattention': 8011, 'span': 13256, 'seventeen': 12589, 'seriocomic': 12555, 'georgianisraeli': 5961, 'miami': 8961, 'translate': 14657, 'adjective': 375, 'artsy': 930, 'offkilter': 9770, 'resources': 11714, 'establish': 4828, 'poet': 10601, 'grandkids': 6185, 'grandparents': 6189, 'smiles': 13059, 'russo': 12075, 'sturges': 13762, 'recently': 11402, 'forming': 5613, 'circle': 2504, 'applying': 823, 'realizes': 11371, 'fullness': 5783, 'negate': 9476, 'enjoys': 4707, 'cuarón': 3362, 'substantive': 13813, 'cliched': 2579, 'structures': 13715, 'dialog': 3852, 'sorrow': 13213, 'lipstick': 8340, 'components': 2850, 'ash': 938, 'wednesday': 15691, 'writerdirectors': 16040, 'zishe': 16148, 'hanussen': 6459, 'suge': 13868, 'knight': 7945, 'comprehensible': 2857, 'guide': 6324, 'nontechies': 9610, 'borrow': 1739, 'moretti': 9211, 'commonman': 2791, 'recognize': 11416, 'foreman': 5586, 'barkingmad': 1255, 'thewlis': 14346, 'freddie': 5688, 'bettanymcdowell': 1446, 'hardeyed': 6485, 'precocious': 10801, 'smarterthanthou': 13046, 'wayward': 15662, 'rightwing': 11870, 'proprietyobsessed': 11007, 'sparking': 13265, 'savagely': 12196, 'jonathan': 7746, 'swift': 14031, 'alternating': 609, 'facetious': 5113, 'pulp': 11089, 'tosses': 14577, 'android': 697, 'cutesy': 3419, 'senses': 12512, 'crash': 3228, 'numbness': 9685, 'unguarded': 15105, 'homes': 6795, 'brent': 1845, 'hanley': 6455, 'examining': 4916, 'glued': 6067, 'christine': 2470, 'sylvie': 14060, 'icily': 6991, 'benefited': 1408, 'silentmovie': 12826, 'partisans': 10182, 'sabotage': 12092, 'viva': 15501, 'solomonic': 13172, 'decision': 3575, 'turbulent': 14829, 'landau': 8042, 'martyr': 8737, 'royally': 12030, 'screwed': 12338, 'virtual': 15473, 'rollercoaster': 11956, 'sleaze': 12965, 'intentionally': 7448, 'introducing': 7517, 'loads': 8381, 'irreparable': 7579, 'costly': 3143, 'analysis': 677, 'fix': 5412, 'unwavering': 15250, 'backbone': 1149, 'bodiceripper': 1655, 'desert': 3772, 'beaches': 1306, 'neck': 9466, 'springboard': 13402, 'completist': 2839, 'checklist': 2374, 'cultist': 3376, 'scrutinize': 12351, 'serenity': 12550, 'veers': 15364, 'unintentional': 15131, 'inadvertently': 7170, 'doublecross': 4207, 'heist': 6619, 'nobrainer': 9571, 'dimensional': 3907, 'sunny': 13902, 'disposition': 4047, 'jeffs': 7685, 'expressiveness': 5049, 'underachieves': 14986, 'explicit': 5014, 'libido': 8249, 'arrived': 901, 'portugal': 10706, 'pixar': 10500, 'lighting': 8281, 'innovative': 7349, 'backgrounds': 1154, 'genrecurling': 5949, 'revives': 11811, 'hollowness': 6777, 'arms': 893, 'conceptually': 2889, 'livingroom': 8373, 'worlds': 15995, 'gaining': 5836, 'suggested': 13870, 'temptation': 14250, 'salvation': 12138, 'rapturous': 11304, 'macdowell': 8563, 'eclipses': 4465, 'selfpromotion': 12474, 'smaller': 13037, 'widen': 15831, 'continent': 3030, 'rosecolored': 11994, 'glasses': 6034, 'eyeboggling': 5088, 'psychedelic': 11058, 'possession': 10720, 'jaunt': 7666, 'televised': 14239, 'scoobydoo': 12295, 'reruns': 11682, 'catches': 2220, 'archetypal': 851, 'insanity': 7362, 'spews': 13311, 'kubrickmeetsspielberg': 7979, 'vh1': 15416, 'carrying': 2179, 'spoton': 13386, 'burr': 1989, 'peels': 10289, 'paper': 10131, 'conceits': 2876, 'fleshandblood': 5474, 'humans': 6918, 'vereté': 15397, 'whipsmart': 15799, 'bluffs': 1626, 'infomercial': 7298, 'ram': 11266, 'dass': 3493, 'demographic': 3692, 'explains': 5011, 'cal': 2054, 'lovingly': 8483, 'coffee': 2681, 'attracting': 1041, 'entries': 4754, 'tart': 14150, 'damning': 3453, 'grooved': 6276, 'pushes': 11148, 'runofthefilth': 12061, 'recognise': 11412, 'signposts': 12819, 'map': 8686, 'fitting': 5411, 'dissection': 4057, 'inanities': 7172, 'selfcritical': 12440, 'behindthescenes': 1375, 'navelgazing': 9443, 'orleans': 9913, 'infinite': 7289, 'golden': 6089, 'sprung': 13409, 'stickiness': 13571, 'baadermeinhof': 1140, 'pranksters': 10779, 'activists': 328, 'largescale': 8071, 'shekhar': 12674, 'supplies': 13932, 'distort': 4080, 'audiencepleaser': 1054, 'waited': 15549, 'doctor': 4122, 'emergency': 4599, 'hospital': 6859, 'bed': 1337, 'exposing': 5035, 'repelled': 11640, 'dogmatism': 4146, 'manipulativeness': 8675, 'narrow': 9413, 'fearful': 5250, 'goldbacher': 6087, 'spooks': 13373, 'scherfig': 12255, 'camaraderie': 2073, 'marina': 8705, 'lovehate': 8475, 'existentialism': 4974, 'liana': 8239, 'dognini': 4148, 'dramatized': 4264, 'answer': 747, 'irvine': 7593, 'trainspotting': 14636, 'handson': 6445, 'textbook': 14307, 'trivializing': 14752, 'chouraqui': 2463, 'affirm': 452, 'quibbles': 11193, 'mccracken': 8811, 'clearcut': 2564, 'allout': 582, 'irish': 7566, 'marketing': 8718, 'chekhov': 2391, 'selfimportant': 12461, 'wrath': 16022, 'khan': 7868, 'nagging': 9381, 'deja': 3638, 'vu': 15529, 'soulstirring': 13229, 'israelipalestinian': 7604, 'remain': 11591, 'caricature': 2158, 'radioactive': 11239, 'shrug': 12779, 'annoyance': 738, 'chatty': 2358, 'immaculate': 7080, 'roussillon': 12019, 'losers': 8450, 'dodger': 4137, 'permeates': 10349, 'examine': 4914, 'labyrinthine': 8003, 'buffeted': 1938, 'denver': 3717, 'vanessa': 15339, 'redgrave': 11460, 'sociology': 13139, 'apes': 793, 'rooted': 11985, 'fruitful': 5754, 'epitaph': 4776, 'laundry': 8115, 'barf': 1251, 'moviehouse': 9276, 'disposable': 4045, 'rescue': 11683, 'motown': 9249, 'romanticism': 11970, 'sultry': 13886, 'beerfueled': 1348, 'sun': 13895, 'inspire': 7391, 'retiring': 11761, 'ohlinger': 9783, 'delusional': 3672, 'croaks': 3314, 'wondering': 15945, 'bebop': 1331, 'nighttime': 9555, 'loquacious': 8444, 'videologue': 15438, 'lengths': 8199, 'protective': 11021, 'cocoon': 2674, 'kidsinperil': 7894, 'theatrics': 14324, 'drink': 4305, 'woodland': 15959, 'queasy': 11181, 'infatuation': 7283, 'strangeness': 13653, 'petri': 10393, 'wellcharacterized': 15721, 'telephone': 14236, 'aggressively': 493, 'sequins': 12545, 'flashbulbs': 5440, 'blaring': 1551, 'babes': 1143, 'infiltrated': 7288, 'looked': 8426, 'desirable': 3780, 'docs': 4121, 'suspended': 13993, 'searching': 12368, 'sterling': 13560, 'lingerie': 8324, 'models': 9128, 'bar': 1236, 'dancers': 3462, 'midwest': 8990, 'bearing': 1314, 'onejoke': 9818, 'venus': 15388, 'tightly': 14455, 'fertility': 5301, 'rivals': 11905, 'animations': 722, 'highadrenaline': 6681, 'complexities': 2842, 'text': 14306, 'precise': 10797, 'discordant': 3982, 'topple': 14559, 'translation': 14659, 'anthony': 755, 'friedman': 5723, 'updated': 15256, '1970': 58, 'member': 8888, 'fluttering': 5529, 'stammering': 13469, 'highspirited': 6699, 'berlin': 1422, 'anarchists': 682, 'prey': 10880, 'sobstory': 13129, 'witness': 15919, 'soullessness': 13226, 'jawdropping': 7670, 'boffo': 1659, 'daughters': 3500, 'pleased': 10557, 'meticulous': 8950, 'withered': 15913, 'enforced': 4677, 'hiatus': 6665, 'dryeyed': 4344, 'maximum': 8801, 'moisture': 9143, 'symbolically': 14063, 'rarity': 11308, 'diamond': 3854, 'scoring': 12306, 'putting': 11154, 'assets': 977, 'commend': 2776, 'misguided': 9080, 'croze': 3336, 'bibi': 1462, 'tunney': 14827, 'coltish': 2731, 'neurotic': 9514, 'possesses': 10719, 'ascertain': 937, 'pessimistic': 10387, 'careens': 2147, 'stricken': 13682, 'composer': 2852, 'violinist': 15471, 'beatings': 1322, 'classicism': 2541, 'exasperated': 4919, 'noticeable': 9642, 'hated': 6529, 'mornings': 9217, 'judgment': 7778, 'unfussily': 15103, 'assuredly': 992, 'cleverest': 2575, 'giggly': 6002, 'stereotypical': 13558, 'rubenesque': 12036, 'physique': 10435, 'bearded': 1313, 'lactating': 8014, '90plus': 178, 'intolerant': 7502, 'luscious': 8538, 'truetolife': 14779, 'unadorned': 14922, 'rural': 12067, 'firsttimer': 5399, 'hilary': 6710, 'birmingham': 1508, 'emphasized': 4615, 'driveresque': 4315, 'teetering': 14226, 'sanity': 12164, 'academic': 244, 'skullduggery': 12937, 'carl': 2161, 'freakouts': 5683, 'kumble': 7981, 'counter': 3158, 'crudity': 3343, 'diaz': 3860, 'holding': 6767, 'subtler': 13824, 'total': 14579, 'recall': 11392, 'funseeking': 5803, 'schumacher': 12280, 'hopkinsrock': 6838, 'styles': 13768, 'personas': 10372, 'grittily': 6265, 'wellrounded': 15747, 'reached': 11343, 'exquisitely': 5052, 'favorably': 5239, 'das': 3490, 'boot': 1721, 'swaying': 14014, 'cradles': 3210, 'veiling': 15372, 'buscemi': 1996, 'rosario': 11992, 'overbearing': 9983, 'north': 9620, 'pov': 10755, 'mounts': 9258, 'bikes': 1487, 'skateboards': 12902, 'motorcycles': 9247, 'splashed': 13348, 'immense': 7087, 'reduce': 11467, 'blake': 1541, 'animator': 724, 'mcfarlane': 8817, 'dystopia': 4417, 'chardonne': 2331, 'exmarine': 4978, 'pete': 10390, 'evenflowing': 4870, 'accomplish': 267, 'canned': 2103, 'passages': 10199, 'hip': 6720, 'injokey': 7336, 'inbetween': 7177, 'actionandpopcorn': 316, 'obsessed': 9719, 'reassures': 11386, 'setpieces': 12579, 'straightahead': 13639, 'na': 9376, 'replace': 11646, 'moviegoer': 9273, 'missive': 9093, 'swathe': 14012, 'retaining': 11753, 'refusing': 11516, 'christianthemed': 2469, 'graduate': 6171, 'switches': 14047, 'recyclable': 11446, 'attentive': 1036, 'expand': 4981, 'prowildlife': 11044, 'pent': 10308, 'pros': 11009, 'cons': 2965, 'duties': 4392, 'wellintentioned': 15737, 'perilously': 10342, 'undergoing': 15001, 'expressively': 5048, 'crystallize': 3360, 'minutely': 9047, 'dreamlike': 4288, 'ecstasy': 4470, 'resonate': 11709, 'profundity': 10963, 'toro': 14567, 'yang': 16068, 'yi': 16094, 'detached': 3802, 'fusion': 5811, 'highs': 6698, 'sorrowful': 13214, 'lows': 8496, 'niches': 9537, 'reflected': 11498, 'championship': 2299, 'undermines': 15013, 'thornier': 14369, 'naturenurture': 9436, 'regards': 11522, 'awakens': 1111, 'biodrama': 1502, 'waycool': 15658, 'sounding': 13232, 'spaghetti': 13252, 'proven': 11027, 'advantages': 418, '15year': 32, 'jaw': 7669, 'orgasm': 9904, 'dismal': 4022, 'farcically': 5194, 'bawdy': 1301, 'regeneration': 11523, 'kibosh': 7872, 'studioproduced': 13735, 'bothers': 1751, 'suitcase': 13880, 'afterthought': 477, 'swirl': 14043, 'betters': 1450, 'understatement': 15028, 'woe': 15932, 'opts': 9883, 'overlook': 10009, 'goofily': 6121, 'welllensed': 15738, 'gorefest': 6131, 'checking': 2373, 'filipinoamericans': 5347, 'patric': 10237, 'liotta': 8335, 'nearhypnotic': 9455, 'extensive': 5057, 'whiteonblack': 15811, 'adrien': 406, 'brody': 1885, 'talks': 14120, 'bluster': 1633, 'greenfingers': 6232, 'itinerant': 7617, 'savaged': 12195, 'competing': 2829, 'lawyers': 8127, 'stomachknotting': 13608, 'witnesses': 15921, 'undertone': 15031, 'eastern': 4446, 'shift': 12682, 'cleaving': 2570, 'inflate': 7293, 'mundane': 9318, 'scarifying': 12230, 'mileage': 9001, 'stray': 13662, 'barrel': 1262, 'phonograph': 10421, 'albeit': 547, 'nonjudgmentally': 9602, 'studies': 13733, 'schools': 12275, 'hospitals': 6860, 'courts': 3181, 'welfare': 15717, 'centers': 2269, 'tarkovsky': 14149, 'patriarchal': 10236, 'debating': 3547, 'societies': 13136, 'weepy': 15696, 'establishing': 4831, 'claus': 2549, 'nonsensical': 9608, 'plotting': 10581, 'infrequently': 7304, 'bullwinkle': 1960, 'speed': 13300, 'actionadventure': 315, 'spacebased': 13245, 'louis': 8462, 'fires': 5391, 'plasma': 10524, 'conduits': 2914, 'educational': 4490, 'ultraviolent': 14913, 'gambling': 5851, 'basketball': 1284, 'deranged': 3752, 'allenveloping': 575, 'rhapsodizes': 11833, 'graced': 6159, 'mccann': 8808, 'bigbudgetallstar': 1474, 'unblinkingly': 14942, 'talky': 14121, 'dismantle': 4024, 'facades': 5106, 'wonderous': 15948, 'accomplishment': 270, 'veracity': 15391, 'caved': 2244, 'plunges': 10593, 'brutality': 1920, 'celebratory': 2254, 'tubaplaying': 14806, 'dwarf': 4400, 'rolled': 11952, 'whacking': 15776, 'answered': 748, 'weak': 15664, 'fallible': 5151, 'caricatures': 2159, 'delineate': 3661, 'conflicts': 2932, 'urges': 15289, 'institution': 7407, 'selfpreservation': 12472, 'indispensable': 7237, 'steadfastly': 13529, 'primitive': 10893, 'contribute': 3048, 'sustained': 14001, 'lampoons': 8039, 'flattering': 5453, 'skindeep': 12926, 'notions': 9647, 'pulchritude': 11084, '19th': 80, 'murk': 9325, 'haunts': 6540, 'artwork': 931, 'animaton': 723, 'byways': 2029, 'littered': 8356, 'jabs': 7624, 'egocentricities': 4510, 'breed': 1838, 'deathly': 3542, 'timid': 14470, 'parsing': 10172, 'barnside': 1259, 'breach': 1819, 'gaps': 5870, 'nonchalantly': 9587, 'costumer': 3148, 'jived': 7716, 'errol': 4803, 'flynn': 5534, 'joan': 7718, 'oh': 9782, 'stamina': 13468, 'madonna': 8583, 'cameo': 2075, 'tenet': 14264, 'religions': 11583, 'afterlife': 472, 'communications': 2799, 'babak': 1141, 'ditty': 4099, 'boxoffice': 1779, 'phrase': 10430, 'schmaltzy': 12263, 'symbols': 14065, 'butterflies': 2009, 'styx': 13778, 'bees': 1351, 'indisputably': 7238, 'costumes': 3149, 'kurys': 7987, 'servicable': 12568, 'hide': 6672, 'kill': 7898, 'deaths': 3543, 'strips': 13699, 'stores': 13625, 'sanctimoniousness': 12150, 'churchwary': 2483, 'adorably': 398, 'ditsy': 4098, 'dilemma': 3901, 'pile': 10461, 'plate': 10527, 'boosted': 1719, 'hotel': 6868, 'resurrecting': 11749, 'flavorful': 5457, 'passionately': 10207, 'uncover': 14974, 'disturbed': 4094, 'poise': 10619, 'nonnarrative': 9604, 'secretions': 12388, 'sorority': 13211, 'impish': 7118, 'divertissement': 4109, 'gainsbourg': 5837, 'waterborn': 15639, 'hennings': 6640, 'offensive': 9761, 'showcase': 12755, 'emphasizing': 4617, 'circuit': 2506, 'enables': 4627, 'shafer': 12616, 'navigate': 9444, 'soar': 13121, 'residents': 11697, 'copenhagen': 3104, 'coping': 3107, 'befuddling': 1354, 'philosophers': 10408, 'workings': 15980, 'watercamera': 15642, 'operating': 9860, 'sonny': 13192, 'stewart': 13569, 'franco': 5663, 'walledoff': 15564, 'hustler': 6957, 'temporal': 14249, 'burden': 1973, 'schindler': 12257, '1993': 74, 'millennium': 9011, 'uproarious': 15272, 'drugrelated': 4334, 'energizing': 4674, 'charting': 2349, 'turntablism': 14841, 'dislocation': 4020, 'teendriven': 14216, 'toilethumor': 14509, 'codswallop': 2679, 'redeemed': 11454, 'lazier': 8134, 'orbit': 9887, 'stanzas': 13488, 'patiently': 10235, 'critically': 3306, '50': 126, 'donetodeath': 4178, 'geniality': 5942, 'fanatical': 5173, 'adherents': 373, 'tease': 14193, 'scorcher': 12301, 'gestures': 5971, 'contagious': 3010, 'bertrand': 1428, 'oftbrilliant': 9777, 'laissezpasser': 8030, 'notch': 9636, 'renegadecop': 11625, 'banterfilled': 1234, 'airy': 532, 'bons': 1703, 'extension': 5056, 'accomplishments': 271, 'embarking': 4582, 'perdition': 10325, 'descends': 3765, 'subtarantino': 13818, 'pootie': 10664, 'tang': 14127, 'sa': 12090, 'tay': 14174, 'shocked': 12708, 'correct': 3133, 'documentarylike': 4131, 'horrors': 6854, 'barbarism': 1240, 'cleansing': 2561, 'commercials': 2786, 'glosses': 6061, 'rafael': 11241, 'andrei': 696, 'distill': 4067, 'traveled': 14682, 'devastated': 3820, 'famine': 5168, 'documented': 4133, 'cruelty': 3348, 'overwhelmingly': 10043, 'fluffy': 5522, 'closes': 2625, 'flagging': 5422, 'investigator': 7538, 'presson': 10853, 'tackled': 14086, 'meaty': 8845, 'pages': 10080, 'zingers': 16142, 'spicy': 13314, 'sm': 13031, 'secular': 12392, 'throughline': 14412, 'passing': 10204, 'twinkle': 14863, 'sociological': 13138, 'highoctane': 6695, 'foundation': 5636, 'dalrymple': 3446, 'earn': 4429, 'uplift': 15264, 'randall': 11279, 'flagwaving': 5425, 'erotic': 4797, 'lipreading': 8338, 'holofcenter': 6788, 'responsible': 11729, 'wrap': 16018, 'tie': 14446, 'blunt': 1628, 'forms': 5614, 'walt': 15573, 'doodled': 4183, 'steamboat': 13536, 'nights': 9554, 'invented': 7528, 'featurelength': 5262, 'quandaries': 11175, 'unfurls': 15102, 'ballast': 1199, 'persnickety': 10364, 'dismiss': 4027, 'mordant': 9208, 'elysian': 4577, 'fields': 5324, 'smallness': 13039, 'lucky': 8507, 'sought': 13222, 'indoctrinated': 7243, 'trained': 14633, 'meticulously': 8951, 'uncovers': 14975, 'trail': 14629, 'craven': 3235, 'concealment': 2873, 'stoner': 13614, 'deconstruction': 3585, 'sanguine': 12162, 'lovably': 8469, 'alternate': 606, 'deleted': 3644, 'earmarks': 4428, 'warnings': 15611, 'staying': 13526, 'newfoundland': 9525, 'prevalent': 10872, 'rerun': 11681, 'kangaroo': 7834, 'brightly': 1855, 'strangers': 13655, 'overstating': 10027, 'ferment': 5294, 'wellshaped': 15749, 'confession': 2917, 'skeleton': 12904, 'aboriginal': 213, 'pretends': 10861, 'initiation': 7330, 'rite': 11900, 'angelique': 706, 'guarantees': 6313, 'karmen': 7839, 'enthronement': 4739, 'monumental': 9186, '1937': 45, 'dwarfs': 4401, 'compromised': 2862, 'debrauwer': 3550, 'leaps': 8157, 'tissuethin': 14487, 'lamer': 8037, 'saddle': 12105, 'noticeably': 9643, 'dozen': 4237, 'troubleintheghetto': 14766, 'nail': 9382, 'spiritcrushing': 13336, 'ennui': 4713, 'denuded': 3716, 'sappiness': 12167, 'resorts': 11711, 'borstal': 1743, 'snazzy': 13093, 'involves': 7553, 'investment': 7539, 'o2tank': 9698, 'crass': 3231, 'gas': 5886, 'deportment': 3739, 'refreshes': 11506, 'safely': 12115, 'videodvd': 15436, 'babysitter': 1148, 'highbuffed': 6683, 'gloss': 6060, 'smartest': 13047, 'expressions': 5046, 'max': 8799, 'provokes': 11042, 'expressionistic': 5045, 'license': 8253, 'matineestyle': 8785, 'bangup': 1227, 'crowds': 3335, 'freeing': 5692, 'artefact': 909, 'drably': 4242, 'governmental': 6151, 'wildest': 15849, 'batman': 1294, 'heck': 6606, 'l': 7989, 'breheny': 1841, 'lensing': 8203, 'cook': 3089, 'rivalry': 11904, 'relate': 11557, 'alienated': 562, 'reinvents': 11548, 'nearfuture': 9454, 'rip': 11885, 'stripped': 13697, 'tools': 14546, 'profanity': 10948, 'unsatisfying': 15209, 'guarantee': 6311, 'juxtapositions': 7819, 'cowritten': 3196, 'gianni': 5984, 'romoli': 11978, 'pitfalls': 10493, 'sudsy': 13852, 'instructs': 7412, 'lad': 8015, 'zen': 16131, 'prickly': 10883, 'misanthropy': 9060, 'minus': 9045, 'estela': 4834, 'cloyingly': 2642, 'hagiographic': 6379, 'leader': 8143, 'fidel': 5321, 'castro': 2205, 'garnered': 5882, 'privy': 10915, 'misconstrued': 9069, 'weakness': 15666, 'incongruous': 7201, 'chemically': 2393, 'teaming': 14183, 'crystal': 3359, 'battles': 1300, 'throwaway': 14414, 'yawning': 16077, 'jerky': 7696, 'handheld': 6432, 'recount': 11433, 'derry': 3763, 'bangbang': 1223, 'shootemup': 12723, 'swank': 14009, 'wideawake': 15828, 'tiresome': 14483, 'rant': 11290, 'thumbing': 14425, 'convention': 3066, 'midway': 8989, 'squeezed': 13428, 'beacon': 1307, 'goosebumps': 6126, 'ham': 6416, 'debt': 3552, 'unrealized': 15189, 'catonjones': 2231, 'intercut': 7454, 'awakening': 1110, 'ripening': 11887, '72': 150, 'yarnspinner': 16073, 'compels': 2821, 'tobey': 14501, 'poster': 10730, 'geek': 5911, 'endgame': 4656, 'laugther': 8112, 'cascade': 2192, 'laziness': 8137, 'arrogance': 904, 'allison': 579, 'identityseeking': 7009, 'arliss': 885, 'poses': 10709, 'tooextremefortv': 14538, 'sickening': 12795, 'sidesplitting': 12802, 'heaps': 6573, 'luminous': 8521, 'integrates': 7429, 'pastafagioli': 10212, 'sirk': 12876, 'differently': 3885, 'rhetoric': 11834, 'quasidocumentary': 11178, 'karim': 7838, 'dridi': 4302, 'raffish': 11242, 'annesophie': 733, 'exuberantly': 5082, 'serenely': 12549, 'mazel': 8805, 'tov': 14599, 'depleted': 3737, 'brandnew': 1800, 'piscopo': 10486, 'chaykin': 2359, 'headly': 6561, 'porthole': 10695, 'incoherence': 7195, 'defines': 3619, 'laddish': 8017, 'bearable': 1311, 'garbus': 5874, 'discards': 3968, 'pathological': 10228, 'exhuming': 4967, 'circumstantial': 2509, 'vapid': 15342, 'mystification': 9366, 'bravado': 1807, 'hack': 6373, 'gorefree': 6132, 'serial': 12552, 'murders': 9323, 'humanize': 6914, 'onehour': 9817, 'misfire': 9075, 'player': 10541, 'gained': 5835, 'snatch': 13091, 'bod': 1652, 'household': 6885, 'stupid': 13756, 'joe': 7722, 'viterelli': 15499, 'righthand': 11867, 'goombah': 6124, 'courtesy': 3178, 'pogue': 10607, 'yale': 16067, 'grad': 6166, 'previously': 10878, 'gave': 5896, 'skulls': 12938, 'rollerball': 11954, 'overboard': 9985, 'flies': 5483, 'hail': 6380, 'sascha': 12174, '100minute': 4, '25': 99, 'comment': 2779, 'schneider': 12266, 'prissy': 10910, 'studios': 13736, 'firmly': 5395, 'shoddy': 12716, 'product': 10942, 'girlongirl': 6018, 'comparison': 2811, 'pax': 10256, 'lulled': 8518, 'coma': 2737, 'dudsville': 4355, 'toilet': 14508, 'burrito': 1990, 'allnight': 581, 'tequila': 14275, 'bender': 1405, 'criticism': 3307, 'potshots': 10749, 'bankrupt': 1230, 'somethingborrowed': 13182, 'wan': 15577, 'thinly': 14356, 'sketched': 12908, 'demme': 3687, 'experiments': 5004, 'harvests': 6521, 'gems': 5918, 'roughage': 12008, 'dominates': 4171, 'electoral': 4536, 'broadcast': 1877, 'heavyweights': 6605, 'zemeckis': 16130, 'agreed': 505, 'produce': 10936, 'cavorting': 2246, 'ladies': 8019, 'underwear': 15037, 'mid': 8972, 'derive': 3758, 'curling': 3394, 'distinctly': 4074, 'indoors': 7246, 'unsure': 15234, 'nerds': 9500, 'revisited': 11807, 'regurgitates': 11534, 'waters': 15647, 'successes': 13835, 'thrown': 14417, 'flashbulb': 5439, 'absence': 222, 'continuity': 3036, 'incoherent': 7196, 'bout': 1769, 'stinks': 13594, 'burlap': 1982, 'gloom': 6054, 'civilized': 2519, 'ballistic': 1204, 'ecks': 4461, 'sever': 12591, 'ordeal': 9893, 'amusement': 667, 'equlibrium': 4789, 'thirteenyearold': 14363, 'farenheit': 5196, '451': 120, 'naturalness': 9432, 'selfconsciously': 12437, 'seagal': 12358, 'appeared': 810, 'jumpsuit': 7799, 'koolaid': 7965, 'demeanour': 3681, 'cleanflicks': 2560, 'macgraw': 8564, 'profanities': 10947, 'romancenovel': 11964, 'platitudes': 10531, 'pc': 10270, 'stability': 13436, 'misleading': 9084, 'unexplained': 15076, 'baboon': 1145, 'haphazard': 6460, 'inconsequential': 7202, 'bones': 1702, 'tickled': 14438, 'humorseeking': 6933, 'dollars': 4160, 'pascale': 10193, 'bailly': 1182, 'romcom': 11974, 'amélie': 672, 'audrey': 1057, 'tautou': 14168, 'fabuleux': 5101, 'destin': 3794, 'sugary': 13867, 'halfhour': 6399, 'interfaith': 7460, 'stretched': 13680, 'upset': 15276, '65minute': 141, 'relative': 11561, 'trots': 14761, 'vacation': 15316, 'stonehenge': 13613, 'sketches': 12909, 'identification': 7007, 'underdeveloped': 14994, 'convenient': 3065, 'conveyor': 3077, 'drowsy': 4329, 'infatuated': 7282, 'selfexamination': 12450, 'badly': 1169, '91minute': 181, 'leblanc': 8170, 'baseballplaying': 1276, 'monkey': 9164, 'sixthgrade': 12893, 'height': 6616, 'sonnenfeld': 13191, 'pug': 11083, 'avary': 1095, 'uproar': 15271, 'mpaa': 9287, 'riddled': 11851, 'unanswered': 14928, 'requires': 11677, 'gargantuan': 5879, 'plod': 10571, 'usher': 15300, 'sinise': 12869, 'advance': 413, 'screening': 12329, 'pluto': 10596, 'nash': 9415, 'stinker': 13593, 'joke': 7733, 'built': 1951, 'musty': 9349, 'halfdimensional': 6396, 'wills': 15860, 'nubile': 9676, 'campus': 2091, 'depravity': 3742, 'fade': 5124, 'ugliness': 14900, 'trace': 14606, 'spoiler': 13363, 'fouryearold': 5646, 'exaggeration': 4910, 'haunted': 6538, 'confuses': 2944, 'contorting': 3038, 'pointless': 10615, 'gonetoseed': 6097, 'robotic': 11924, 'jury': 7808, 'bestowed': 1438, 'gordy': 6128, 'waldo': 15554, 'honoring': 6814, 'prescribed': 10838, 'dentist': 3715, 'soothing': 13200, 'muzak': 9355, 'cushion': 3408, 'evade': 4860, 'responsibilities': 11727, 'toddler': 14504, 'fantasti': 5186, 'surfacey': 13952, 'alienating': 563, 'talkers': 14115, 'hollow': 6776, 'cd': 2247, 'motions': 9241, 'dignified': 3897, 'ceo': 2274, 'meet': 8863, 'retreat': 11767, 'pee': 10286, 'tree': 14701, 'bear': 1310, 'mechanical': 8846, 'museum': 9333, 'prefeminist': 10815, 'beware': 1453, 'britcom': 1870, 'dime': 3905, 'tediously': 14207, 'subplots': 13803, 'grouchy': 6284, 'ayatollah': 1133, 'mosque': 9232, 'plodding': 10572, 'extracting': 5062, 'bare': 1247, 'byatt': 2019, 'musker': 9343, 'clements': 2571, 'retina': 11760, 'muster': 9346, 'butt': 2006, 'doubting': 4213, 'knockaround': 7949, 'raison': 11262, 'detre': 3816, 'youngguns': 16109, 'tame': 14125, 'expects': 4992, 'maiden': 8601, 'foolish': 5563, 'untold': 15242, 'bui': 1946, 'suspiciously': 13999, 'boilerplate': 1670, 'assumes': 987, 'exact': 4907, 'specifics': 13287, 'pie': 10450, 'rymer': 12084, 'conjure': 2950, 'followers': 5549, 'deadundead': 3528, 'shrieky': 12776, 'sopranos': 13207, 'unfunny': 15101, 'doingitfor': 4154, 'thecash': 14325, 'writerproducerdirector': 16041, 'watstein': 15650, 'finishing': 5386, 'disintegrating': 4016, 'boyd': 1781, 'consequence': 2970, 'illtimed': 7046, 'antitrust': 775, 'fraction': 5648, 'registering': 11530, 'blip': 1583, 'recycle': 11447, 'wilder': 15848, 'whatsoever': 15779, 'processed': 10931, 'chop': 2448, 'suey': 13853, 'nemesis': 9490, '65th': 142, 'mixer': 9112, 'surviving': 13984, 'dystopian': 4418, 'retooling': 11765, 'fahrenheit': 5127, 'ripoff': 11888, 'matrix': 8786, 'chitchat': 2435, 'neurotics': 9515, 'stiff': 13575, 'extradry': 5063, 'perpetually': 10357, 'hazy': 6554, 'rehash': 11535, 'whirl': 15801, 'ageinspired': 481, 'pegged': 10294, 'groove': 6275, 'simplify': 12844, 'dishonest': 4011, 'cameopacked': 2076, 'i2spoofing': 6982, 'ruins': 12051, 'ba': 1138, 'murdock': 9324, 'ateam': 1009, '50something': 129, 'lovebirds': 8472, 'unappealing': 14931, 'dearly': 3538, 'restless': 11734, 'statements': 13516, 'dimestore': 3909, 'ruminations': 12055, 'gamely': 5853, 'gap': 5868, 'cleancut': 2558, 'fiendish': 5326, 'psychologizing': 11066, 'peevish': 10293, 'gimmicky': 6009, 'horse': 6855, 'sandbox': 12153, 'condescension': 2907, 'pore': 10685, 'hickenlooper': 6668, 'snap': 13085, 'wiseacre': 15893, 'dicey': 3862, 'spears': 13277, 'favourite': 5245, '146': 28, 'h': 6371, 'ad': 347, 'ia': 6983, 'waking': 15553, 'mush': 9334, 'strutting': 13724, 'journalistically': 7760, 'inept': 7261, 'lethally': 8223, 'hightech': 6701, 'unleashes': 15151, 'pandora': 10122, 'gamut': 5856, 'cheesier': 2387, 'cheesiest': 2388, 'hawk': 6545, 'rambo': 11271, 'meetsjohn': 8867, 'named': 9393, 'kaos': 7835, 'tanks': 14132, 'sinks': 12872, 'labors': 7999, 'whip': 15795, 'muscle': 9329, '10th': 12, 'leers': 8180, 'frustrated': 5756, 'abhorrent': 204, 'stortelling': 13629, 'oftentimes': 9781, 'cowardly': 3190, 'autocritique': 1084, 'skirmishes': 12933, 'waged': 15543, 'predators': 10803, 'undistinguished': 15046, 'treads': 14692, 'passable': 10196, 'rent': 11630, 'ensnare': 4719, 'exhausting': 4959, 'hitandmiss': 6738, 'topical': 14554, 'lapses': 8061, 'tommy': 14522, 'peep': 10290, 'booths': 1722, 'mopping': 9195, 'fancies': 5176, 'selby': 12418, 'jr': 7771, 'ounce': 9934, 'seated': 12376, 'pinheads': 10472, 'expecting': 4991, 'sadism': 12108, 'choppy': 2450, 'monosyllabic': 9169, 'dubbed': 4348, 'rrated': 12032, 'roadtrip': 11914, 'vertical': 15411, 'limit': 8307, 'downtime': 4231, 'stealing': 13533, 'nuclear': 9677, 'evenly': 4874, 'milks': 9009, 'blasphemous': 1553, 'jersey': 7698, 'soured': 13240, 'bumps': 1966, 'icky': 6993, '88minute': 171, '86': 168, 'scientific': 12288, 'incomprehensible': 7198, 'pit': 10489, 'mccoist': 8809, 'clue': 2645, 'notsodivine': 9653, 'refried': 11509, 'tomatoes': 14518, 'voicesfromtheotherside': 15513, 'rapepayback': 11293, 'hinges': 6716, 'enabling': 4628, 'industrialmodel': 7256, 'freezers': 5696, 'folds': 5541, 'respectably': 11717, 'muted': 9351, 'rohypnol': 11946, 'airs': 531, 'hal': 6389, 'wannabe': 15587, 'ingredient': 7318, 'ver': 15389, 'wiel': 15838, 'stanford': 13486, 'bebe': 1330, 'neuwirth': 9517, 'seduces': 12396, 'founders': 5638, 'milieu': 9004, 'intelligentsia': 7439, 'gaghan': 5830, 'sleightofhand': 12979, 'illwrought': 7056, 'hypothesis': 6978, 'p': 10056, 'artnering': 927, 'tvcops': 14849, 'prevents': 10875, 'firing': 5393, 'cylinders': 3429, 'unsatisfied': 15208, 'ate': 1008, 'reeses': 11490, 'peanut': 10275, 'ingratiating': 7317, 'adopt': 395, 'dulls': 4367, 'injected': 7332, 'selfconsciousness': 12438, 'bogdanich': 1660, 'unashamedly': 14932, 'proserbian': 11013, 'sluggish': 13024, 'hg': 6663, 'wells': 15748, 'kin': 7910, 'reworked': 11822, 'tuxedo': 14847, 'binging': 1497, 'cotton': 3152, 'sticky': 13574, 'antihuman': 770, 'miles': 9002, 'graceland': 6162, 'depress': 3743, 'walmart': 15571, 'checkout': 2375, 'grave': 6209, 'plummets': 10591, 'graveyard': 6211, 'racing': 11229, 'sealed': 12360, 'indefinitely': 7214, 'advice': 427, 'kev': 7865, 'signing': 12817, 'dotted': 4204, 'raucous': 11322, 'regrets': 11532, 'uglyduckling': 14902, 'clumsily': 2648, 'wraps': 16021, 'shiny': 12696, 'glazed': 6036, 'scum': 12353, 'bang': 1222, 'cluelessness': 2647, 'idiocy': 7012, 'misplaced': 9087, 'vainly': 15325, 'excellence': 4925, 'mimetic': 9017, 'approximation': 837, 'contempt': 3019, 'unintelligible': 15129, 'poorly': 10661, 'brainslappingly': 1795, 'kept': 7863, 'anecdote': 699, 'seizures': 12417, 'inelegant': 7260, 'unrelated': 15191, 'shorts': 12741, 'vain': 15323, 'dictatormadman': 3870, 'offputting': 9771, 'inappropriate': 7173, 'undeserved': 15040, 'induce': 7247, 'sleep': 12971, 'gutbusting': 6357, 'league': 8147, 'crap': 3224, 'badness': 1172, 'deuces': 3818, 'variable': 15345, 'lightfooted': 8278, 'enchantment': 4635, 'cuba': 3364, 'mugs': 9302, 'dogs': 4150, 'leaden': 8142, 'adrian': 405, 'lyne': 8552, 'sleazy': 12967, 'moralizing': 9202, 'swimfan': 14035, 'villainess': 15459, 'lina': 8316, 'wertmuller': 15767, '1975': 63, 'eroticomedy': 4801, 'husbandandwife': 6952, 'bo': 1641, 'buck': 1928, 'greasy': 6219, 'vidgame': 15443, '212': 91, 'excruciatingly': 4946, 'distasteful': 4066, 'pool': 10657, 'drowned': 4326, 'sidekicks': 12799, 'muchneeded': 9293, 'cardiac': 2141, 'eager': 4420, 'murray': 9328, 'prolific': 10975, 'stuffs': 13743, 'comfortably': 2760, 'yielded': 16097, 'unengaging': 15064, 'limitations': 8308, 'schlocky': 12261, 'horroraction': 6853, 'genialrogue': 5943, 'shtick': 12781, 'ellis': 4565, 'scripted': 12344, 'preachy': 10789, 'propaganda': 10994, 'longley': 8418, 'realizing': 11372, 'fault': 5233, 'nastier': 9416, 'capitalize': 2119, '1953': 51, 'cow': 3189, 'slowmoving': 13020, 'preferring': 10819, 'humiliation': 6926, 'defecates': 3606, 'urinates': 15290, 'plants': 10523, 'muddled': 9298, 'limp': 8311, 'biscuit': 1511, 'maddeningly': 8576, 'excite': 4938, 'churns': 2486, 'flagrantly': 5423, 'thunderstorms': 14430, 'klein': 7938, 'saddest': 12104, 'speedy': 13302, 'swan': 14008, 'dive': 4101, 'landing': 8045, 'lowgrade': 8491, 'dreck': 4294, 'lousy': 8465, 'visible': 15485, 'mikes': 8995, 'chasing': 2352, 'buff': 1937, 'disastrous': 3965, 'harm': 6504, 'travelagency': 14681, 'topless': 14556, 'mud': 9296, 'independentcommunity': 7218, 'guiding': 6325, 'looseness': 8442, 'grasping': 6199, 'workshop': 15987, 'activate': 326, 'girlish': 6016, 'ducts': 4351, 'carvey': 2189, 'overplayed': 10015, 'bother': 1749, 'dreadfully': 4282, 'inversion': 7533, 'concubine': 2904, 'eschews': 4815, 'panorama': 10124, 'bugeyed': 1943, 'mugging': 9301, 'gayniche': 5900, 'stumblebum': 13748, 'sparring': 13269, 'succession': 13838, 'blows': 1617, 'dumped': 4377, 'guei': 6317, 'nebrida': 9462, 'cram': 3218, 'pot': 10741, 'macy': 8572, 'thanksgiving': 14315, 'balloon': 1206, 'heavyduty': 6602, 'ropes': 11989, 'oedekerk': 9752, 'mercilessly': 8913, 'slasher': 12957, 'misses': 9090, 'addicted': 360, 'minimally': 9036, 'mcklusky': 8820, 'ci': 2489, 'culprit': 3374, 'earlyon': 4427, 'irk': 7567, 'heartily': 6586, 'warweary': 15620, 'marine': 8707, 'uncouth': 14973, 'vicious': 15426, 'hampered': 6424, 'paralyzed': 10145, 'crawls': 3239, 'snail': 13082, 'onesided': 9825, 'overindulgent': 10002, 'tirade': 14480, 'knock': 7947, 'postcard': 10729, 'selfglorified': 12455, 'lovefest': 8474, 'windtalkers': 15874, 'compendium': 2822, 'twohourandfifteenminute': 14881, 'loaded': 8380, 'minac': 9019, 'drains': 4254, 'individuality': 7241, 'conclusions': 2898, 'benchmark': 1404, 'lameness': 8034, 'mistyeyed': 9102, 'treading': 14691, 'mired': 9056, 'teardrenched': 14186, 'quicksand': 11200, 'pretention': 10864, 'fortify': 5625, 'turgid': 14832, 'twoway': 14884, 'timeswitching': 14469, 'myopic': 9358, 'stalls': 13467, 'lackluster': 8010, 'blandness': 1546, 'lessthancompelling': 8219, 'clan': 2527, 'norris': 9619, 'grenade': 6238, '7': 146, 'indication': 7225, 'asked': 947, 'belief': 1382, 'washout': 15626, 'expend': 4995, 'begin': 1358, 'unamusing': 14927, 'unrewarding': 15202, 'reckless': 11409, 'squandering': 13421, 'everybody': 4888, 'goliath': 6094, 'mushy': 9337, 'peas': 10279, 'fumbles': 5786, 'accumulated': 276, 'miscalculation': 9063, 'defuses': 3630, 'submerging': 13798, 'hoary': 6755, 'paraphrase': 10150, 'fragment': 5650, 'underdone': 14997, 'potato': 10742, 'kitchensink': 7932, '77': 154, '4ever': 123, 'celebi': 2249, 'notsosmall': 9656, 'carlen': 2162, 'changed': 2304, 'lowerclass': 8488, 'upsets': 15277, 'shreds': 12770, 'deleting': 3645, 'advanced': 414, 'prozac': 11045, 'rampantly': 11274, 'equilibrium': 4786, 'doofus': 4184, 'blatant': 1557, 'placement': 10506, 'fart': 5202, 'unsurprisingly': 15236, 'caretakers': 2156, 'rash': 11309, 'terribly': 14282, 'considering': 2978, 'jelly': 7689, 'resident': 11696, 'hysteria': 6979, 'playstation': 10550, 'cocktail': 2672, 'supplied': 13931, 'epps': 4778, 'unspeakably': 15223, 'reams': 11377, 'flatly': 5446, 'dimwitted': 3914, 'bluto': 1636, 'blutarsky': 1635, 'innocuous': 7346, 'jeanclaude': 7680, 'glorified': 6056, 'write': 16036, 'liner': 8320, 'mcdormand': 8815, 'moronic': 9219, 'justifies': 7812, 'updates': 15257, 'latino': 8097, 'hop': 6828, 'downhill': 4224, 'unlock': 15158, 'lifeless': 8264, 'lawn': 8124, 'chair': 2290, 'triedandtrue': 14724, 'distinguish': 4075, 'promisingly': 10987, 'moratorium': 9205, 'immediately': 7086, 'treacly': 14690, 'prepschool': 10836, 'professors': 10953, 'heartwarmingly': 6594, 'motivate': 9242, 'workingclass': 15979, 'perch': 10322, 'metropolitan': 8954, 'categorize': 2223, 'smutty': 13079, 'senseofhumour': 12511, 'ship': 12697, 'leaky': 8150, 'hobby': 6757, 'attracts': 1045, 'threw': 14397, 'equipment': 4787, 'aisle': 533, 'walker': 15558, 'clockstoppers': 2614, '94': 183, 'warned': 15608, 'battery': 1296, 'overfamiliarity': 9997, 'hithungry': 6743, 'stripmined': 13696, '1997': 77, 'rainbows': 11255, 'plant': 10522, 'smilebutton': 13058, 'segment': 12413, 'populace': 10674, 'zero': 16132, 'diss': 4055, 'repulsive': 11670, 'enamored': 4632, 'antonio': 780, 'banderaslucy': 1220, 'liu': 8360, 'faceoff': 5110, 'afflicts': 457, 'joint': 7732, 'promotion': 10989, 'association': 984, 'teenaged': 14212, 'posterboy': 10731, 'lil': 8297, 'mythmaking': 9370, 'hindsight': 6714, 'closetosolid': 2628, 'misfortune': 9079, 'cloaks': 2609, 'antifeminist': 768, 'misery': 9074, 'romanticcomedy': 11969, 'duds': 4354, 'underwhelming': 15038, 'unified': 15115, 'phenomenon': 10402, 'peaked': 10273, 'elizabeth': 4560, 'berkley': 1421, 'flopping': 5503, 'dolphingasm': 4165, 'thornberry': 14367, 'wedgie': 15690, 'unimpressively': 15123, 'fussy': 5814, 'hi': 6664, 'puppies': 11122, 'legs': 8191, 'dey': 3849, 'demonstrated': 3698, 'mixing': 9114, 'noon': 9612, 'uninspired': 15127, 'sendup': 12503, 'blanks': 1550, 'forrest': 5619, 'gump': 6343, 'erratic': 4802, 'wince': 15865, 'gratingly': 6206, 'tainted': 14101, 'improbability': 7150, 'quarter': 11176, 'elephant': 4549, 'toolong': 14545, 'spoofy': 13369, 'macbeth': 8561, 'invention': 7530, 'graceless': 6163, 'serials': 12553, '30s': 110, '40s': 118, 'redundancy': 11474, 'unsuccessful': 15231, 'crudeness': 3341, 'accompanying': 266, 'accumulate': 275, 'navel': 9442, 'riot': 11883, 'clothes': 2633, 'dumbness': 4374, 'sleaziness': 12966, 'kingdom': 7920, 'notsobig': 9651, 'notsohot': 9655, 'iteration': 7616, 'creepiest': 3270, 'developmentally': 3829, 'disabled': 3946, 'humble': 6920, 'redeem': 11452, 'bondinspired': 1697, 'tootsie': 14550, 'punchlines': 11106, 'genderwar': 5922, 'baird': 1184, 'editor': 4483, 'murderoncampus': 9321, 'yawner': 16076, 'void': 15514, 'generating': 5929, 'iraqi': 7563, 'poised': 10620, 'inspector': 7388, 'imitations': 7077, 'subsided': 13807, 'processor': 10933, 'gangstercrime': 5866, 'wore': 15970, 'reliance': 11576, 'moviespecific': 9284, 'holmes': 6785, 'majorleague': 8620, 'underachiever': 14985, 'climax': 2595, 'scarcely': 12222, 'selfsatisfied': 12483, 'mckay': 8819, 'intermediary': 7468, 'triteness': 14744, 'device': 3833, 'drifts': 4303, 'aimlessly': 523, 'cracks': 3209, 'evergrowing': 4883, 'unembarrassing': 15059, 'unmemorable': 15159, 'torturing': 14573, 'genitals': 5944, 'weighs': 15698, 'champagne': 2297, 'alarms': 545, 'throbbing': 14410, 'elderly': 4532, 'propensity': 10997, 'patting': 10245, 'skidrow': 12915, 'margins': 8700, 'histrionics': 6736, 'modernizes': 9135, 'aew': 436, 'mason': 8755, 'suit': 13877, 'plucks': 10584, 'bore': 1730, 'falsehoods': 5155, 'undermining': 15014, 'creator': 3255, 'actioncomedy': 317, 'hairy': 6388, 'laggard': 8023, 'wending': 15763, 'epiphany': 4772, 'respective': 11719, 'worn': 15997, 'threadbare': 14385, 'socalled': 13130, 'warmed': 15601, 'nonbelievers': 9583, 'rethink': 11759, 'attitudes': 1039, 'creed': 3267, 'skeptics': 12906, 'repetition': 11642, 'outward': 9974, 'flakiness': 5430, 'funniness': 5800, 'bowel': 1772, 'longontheshelf': 8420, 'pointandshoot': 10611, 'caddyshack': 2042, 'crossed': 3325, 'raccoons': 11224, 'sucked': 13844, 'mystic': 9364, 'unbreakable': 14943, 'hokey': 6763, 'ineffective': 7259, 'gussied': 6354, 'shriek': 12775, 'weakly': 15665, 'mojo': 9144, 'fudged': 5766, 'gigantic': 5998, 'lunar': 8528, 'subplot': 13802, 'smuggling': 13077, 'danish': 3473, 'cows': 3198, 'alter': 603, 'lighted': 8274, 'inquiries': 7355, 'redeemable': 11453, 'distinguishes': 4078, 'distinguishing': 4079, 'manufactured': 8685, 'busy': 2004, 'cursing': 3400, 'strategically': 13659, 'sheets': 12673, 'helluva': 6628, 'singer': 12856, 'mediterranean': 8860, '65': 140, 'unfinished': 15084, '40': 117, 'javier': 7668, 'bardem': 1246, 'gerardo': 5962, 'drenched': 4297, 'swoony': 14049, 'feverpitched': 5313, 'soapy': 13120, 'brady': 1788, 'foursome': 5641, 'shoving': 12752, 'clichéd': 2583, 'whitetrash': 15813, 'allegedly': 571, 'marketable': 8717, 'cadavers': 2041, 'obscure': 9711, 'directtovoid': 3941, 'heading': 6559, 'cheapo': 2366, 'swordandsorcery': 14052, 'enveloped': 4759, 'theatres': 14321, 'tube': 14807, 'beallendall': 1308, 'modernoffice': 9136, 'rubberface': 12033, 'insipid': 7380, 'goldberg': 6088, 'remotely': 11616, 'drumbeat': 4337, 'authenticity': 1078, 'pornographic': 10690, 'apartments': 791, 'parties': 10180, 'disguise': 4003, 'ha': 6372, 'performer': 10336, '96': 187, 'fluxing': 5531, 'sillylooking': 12831, 'morlocks': 9214, '75minute': 153, 'sample': 12145, 'rubbish': 12034, 'listless': 8346, 'witless': 15917, 'resembling': 11688, 'endured': 4666, 'waterlogged': 15646, 'subsophomoric': 13808, 'mcconaughey': 8810, 'ironyfree': 7573, 'batting': 1297, 'eyelids': 5091, 'stunt': 13752, 'pairing': 10101, 'clownish': 2640, 'mindnumbingly': 9027, 'britney': 1872, 'abbreviated': 199, 'misfit': 9078, 'splitting': 13361, 'greatgrandson': 6224, '30': 107, 'judaism': 7774, 'unveil': 15247, 'wheedling': 15780, 'pointing': 10614, 'smeared': 13054, 'windshield': 15873, 'soaper': 13118, 'scenic': 12246, 'mountains': 9255, 'legendary': 8188, 'howler': 6891, 'whir': 15800, 'clicks': 2588, 'recite': 11408, 'laughable': 8101, 'fillers': 5350, 'cresting': 3280, 'wornout': 15998, 'palaver': 10105, 'hungryman': 6939, 'portions': 10696, 'prolonged': 10977, 'barnburningly': 1257, 'flimsy': 5487, 'iconic': 6995, 'dozens': 4238, 'reeks': 11484, 'rot': 12000, 'porcelain': 10684, 'churn': 2485, 'outweighs': 9977, 'devote': 3843, 'anthropomorphic': 757, 'makeup': 8627, 'italianlanguage': 7608, 'jazz': 7673, 'zellweger': 16129, 'whiny': 15794, 'poutylipped': 10754, 'poof': 10656, 'spindly': 13328, 'ingenue': 7314, 'warped': 15612, 'wimmer': 15862, 'serviceability': 12570, 'unimaginative': 15119, 'alreadyshallow': 601, 'kirshner': 7926, 'monroe': 9173, 'outbadact': 9937, 'unsympathetic': 15238, 'bacon': 1165, 'theron': 14342, 'deteriorates': 3809, 'protracted': 11023, 'borderline': 1728, 'selfflagellation': 12453, 'goldie': 6090, 'universe': 15145, 'ungainly': 15104, 'illfitting': 7039, 'sticking': 13572, 'knees': 7942, 'triplecrosses': 14742, 'arise': 877, 'reedy': 11478, 'consigliere': 2980, 'dunno': 4381, 'travesty': 14686, 'transvestite': 14670, 'clotted': 2635, '105': 10, 'pileup': 10463, 'olives': 9803, '1962': 57, 'garnish': 5883, 'disappointment': 3957, 'hart': 6517, 'enlightenment': 4710, 'billy': 1494, 'desired': 3782, 'nonbritney': 9585, 'hateful': 6530, 'irrelevant': 7578, 'bottomlessly': 1754, 'grumpy': 6307, 'uninspiring': 15128, 'voyeuristic': 15527, 'popup': 10682, 'screenplays': 12332, 'mummy': 9316, 'masterpieces': 8772, 'markedly': 8713, 'inactive': 7166, 'conversational': 3070, 'bordering': 1727, 'confessional': 2918, 'roster': 11999, 'kathryn': 7843, 'reviewers': 11801, 'churlish': 2484, 'begrudge': 1364, 'dragonfly': 4249, 'intro': 7514, 'participant': 10173, 'reverie': 11796, '94minute': 184, 'unparalleled': 15174, 'mistaken': 9097, 'labored': 7997, 'hokum': 6764, 'asleep': 950, 'restore': 11735, 'prominence': 10980, 'terrors': 14294, 'praiseworthy': 10776, 'gross': 6277, 'purportedly': 11133, 'verges': 15399, 'stretch': 13679, 'bythenumbers': 2028, 'soulless': 13225, 'weightless': 15701, 'melt': 8883, 'blankfaced': 1549, '7th': 156, 'provoked': 11041, 'frankly': 5670, 'derisive': 3755, 'clunker': 2652, 'fixated': 5413, 'wretched': 16032, 'reduces': 11469, 'flame': 5433, 'halfwit': 6406, 'midrange': 8984, 'jet': 7703, 'rollerblades': 11955, 'halftime': 6404, 'talkheavy': 14116, 'altman': 612, 'fell': 5279, 'nm': 9568, 'interchangeable': 7453, 'actioner': 318, 'imbecilic': 7072, 'mafia': 8585, 'toolbags': 14543, 'botching': 1748, 'assignment': 980, 'backwater': 1163, 'ventures': 15386, 'abilities': 207, 'w': 15536, 'circa': 2503, '1960': 55, 'sellers': 12488, 'al': 537, 'outwardly': 9975, 'sexist': 12602, 'liability': 8238, 'tots': 14582, 'till': 14458, 'anton': 778, 'cherry': 2399, 'orchard': 9890, 'ick': 6992, 'uppity': 15270, 'compare': 2808, 'criterion': 3303, 'unremarkable': 15196, 'nod': 9573, 'gel': 5914, 'nearfatal': 9453, 'ran': 11276, 'dayold': 3513, 'location': 8391, 'awkwardly': 1128, 'garish': 5880, 'diverges': 4103, 'cheaplooking': 2365, 'agonizing': 502, 'catch22': 2218, 'jock': 7720, 'piffle': 10459, 'zoe': 16150, 'clarkewilliams': 2534, 'enemies': 4668, 'exploitive': 5021, 'array': 897, 'obligatory': 9705, 'stupefying': 13755, 'twodrinkminimum': 14878, 'learned': 8160, 'competently': 2828, 'shifted': 12683, 'waterbound': 15640, 'landbased': 8043, 'archival': 855, 'prints': 10904, 'contrast': 3045, 'decipherable': 3574, 'syrup': 14075, 'dragged': 4245, 'returned': 11776, 'warn': 15607, 'softcore': 13149, 'twaddle': 14852, 'shoe': 12717, 'superficiality': 13912, 'glizty': 6050, 'cagney': 2050, 'enactments': 4631, 'slomo': 13005, 'doublepistoled': 4208, 'ballisticpyrotechnic': 1205, 'hatinhand': 6533, 'rowling': 12028, 'stifles': 13577, 'sara': 12170, 'smugly': 13078, 'slapping': 12954, 'foot': 5565, 'repugnant': 11668, 'roland': 11948, 'joffé': 7724, 'demi': 3685, 'scarlet': 12232, 'isolated': 7600, 'soup': 13235, 'labours': 8001, 'nada': 9378, 'frittered': 5740, 'middleoftheroad': 8980, 'indieflick': 7229, 'trims': 14736, 'poking': 10626, 'fruit': 5753, 'pies': 10458, 'tiresomely': 14484, 'hammily': 6421, 'michele': 8966, 'praying': 10783, 'maggio': 8588, 'tasteless': 14158, 'idiotic': 7015, 'groan': 6268, 'hiss': 6730, 'catsup': 2232, 'feeble': 5266, 'examples': 4918, 'pokemania': 10621, 'strongly': 13709, 'appetite': 813, 'corn': 3122, 'aiming': 521, 'soontobeforgettable': 13197, 'petty': 10396, 'thievery': 14348, 'shoot': 12722, 'pessimists': 10388, 'gymnastics': 6370, 'inauthentic': 7176, 'dismissive': 4029, 'jungle': 7801, 'needing': 9469, 'shootouts': 12728, 'fistfights': 5407, 'phlegmatic': 10412, 'mildmannered': 8999, 'bespeaks': 1432, 'expiration': 5007, 'unattractive': 14934, 'odorous': 9749, 'leon': 8204, 'paved': 10253, 'drivel': 4312, 'enhance': 4695, 'selfimage': 12459, 'idiots': 7017, 'supposedly': 13938, 'thud': 14422, 'moat': 9119, 'monsterinthe': 9176, 'jacobi': 7631, 'writings': 16045, 'perform': 10332, 'dullingly': 4365, 'bestforeignfilm': 1435, 'nonchallenging': 9588, 'potter': 10750, 'jk': 7717, 'injoke': 7334, 'affluent': 459, 'damsel': 3457, 'distress': 4089, 'decides': 3573, 'bully': 1961, 'overdone': 9992, 'phone': 10416, 'fees': 5275, 'unfulfilling': 15100, 'eighth': 4519, 'doze': 4236, 'overheated': 10001, 'sugarman': 13866, 'excruciating': 4945, 'facial': 5115, 'pasolini': 10194, 'glum': 6069, 'numb': 9679, 'punitive': 11113, 'eardrumdicing': 4424, 'gunplay': 6348, 'screechingmetal': 12325, 'smashups': 13052, 'flaccid': 5420, 'oddcouple': 9741, 'sniping': 13104, 'capitalizes': 2120, 'cue': 3368, 'wretchedly': 16033, 'inane': 7171, 'drab': 4241, 'uninteresting': 15133, 'squanders': 13422, 'uniqueness': 15138, 'squander': 13420, 'hewitt': 6659, 'phonce': 10415, 'retold': 11763, 'races': 11226, 'rackets': 11232, 'hobbled': 6756, 'halfbaked': 6395, 'setups': 12587, 'castles': 2203, 'flatter': 5452, 'describing': 3768, 'rumblings': 12053, 'begging': 1357, 'feet': 5276, 'scruffy': 12350, 'giannini': 5985, 'beaten': 1320, 'insinuation': 7379, 'earplugs': 4436, 'pillowcases': 10467, '87': 169, 'stainton': 13457, 'subformulaic': 13786, 'seasonal': 12373, 'ragged': 11245, 'unlikeable': 15155, 'surrealist': 13966, 'retrospective': 11773, 'invaders': 7525, 'existent': 4972, 'antivirus': 776, 'revived': 11810, 'heedless': 6610, 'impetuousness': 7116, 'hundert': 6935, 'agreement': 506, 'hitler': 6744, 'trifecta': 14728, 'wreaks': 16025, 'ineptly': 7263, 'pabulum': 10059, '95minute': 186, 'properties': 11000, 'soggy': 13154, 'movieesque': 9272, 'affected': 443, 'pub': 11071, 'valley': 15331, 'sledgehammer': 12968, 'induces': 7248, 'headaches': 6556, 'possessed': 10718, 'barney': 1258, 'crushingly': 3355, 'stupidities': 13757, 'repellantly': 11639, 'feminism': 5286, 'modernized': 9134, 'earlier': 4425, 'dilettante': 3902, 'mixedup': 9111, 'everlasting': 4884, 'laconic': 8013, 'roses': 11997, 'trailertrash': 14631, 'assures': 993, 'pocket': 10599, 'keel': 7850, 'onedimensional': 9816, 'buffoons': 1939, 'resurrect': 11748, 'aknocking': 536, 'cattaneo': 2233, 'runaway': 12058, 'warmovie': 15605, 'overproduced': 10017, 'unnecessary': 15167, 'hmmm': 6752, 'wooden': 15958, 'stuffing': 13742, 'pencil': 10302, 'sharpener': 12656, 'notsofunny': 9654, 'network': 9510, 'switch': 14045, 'rehashes': 11536, 'feed': 5267, 'perfunctory': 10340, 'catcher': 2219, 'rye': 12083, 'dyslexia': 4416, 'expose': 5032, 'banality': 1217, 'hypocrisy': 6976, 'kidvid': 7895, 'lashing': 8080, 'umpteenth': 14916, 'dip': 3918, 'putrid': 11151, 'pond': 10650, 'tomcats': 14519, 'thrusts': 14421, 'inchoate': 7183, 'eldritch': 4533, 'media': 8851, 'circles': 2505, 'wreckage': 16027, 'battlefield': 1299, 'showgirls': 12761, 'curio': 3389, 'oily': 9788, 'dealer': 3531, 'pileups': 10464, 'requisite': 11679, 'captain': 2124, 'aggrandizing': 490, 'punishable': 11111, 'chainsaw': 2289, 'quit': 11214, 'tweener': 14854, 'malls': 8646, 'drowning': 4327, 'snowandstuntwork': 13112, 'upstaged': 15280, 'avalanche': 1090, 'holidayseason': 6773, 'stiller': 13582, 'zoolander': 16155, 'liza': 8375, 'mcculloch': 8813, 'lumbering': 8520, 'wheezy': 15783, 'campy': 2092, 'sordid': 13209, 'horrid': 6847, 'serbs': 12546, 'extremists': 5077, 'unentertaining': 15065, 'middleage': 8974, 'piss': 10487, 'bs': 1923, 'litmus': 8355, 'backward': 1162, '19thcentury': 81, 'raindrop': 11256, 'sheridan': 12681, 'grit': 6264, 'vulnerability': 15534, 'flabby': 5419, 'rolls': 11959, 'machinations': 8565, 'flaw': 5461, 'humiliated': 6925, 'rhapsodize': 11832, 'dirgelike': 3942, 'fangbaring': 5179, 'lullaby': 8517, 'indigenous': 7233, 'eke': 4526, 'charlize': 2340, 'courtney': 3179, 'ringing': 11877, '99': 189, 'bargainbasement': 1252, 'penance': 10300, 'shambles': 12632, 'overweight': 10039, 'pathetically': 10227, 'impeccably': 7108, 'unravels': 15185, 'twentythree': 14858, 'failed': 5130, 'brooklyn': 1894, 'hoods': 6817, 'seth': 12577, 'pepper': 10313, 'stayed': 13525, 'evoked': 4899, 'lukewarm': 8515, 'literally': 8350, 'questionable': 11189, 'artconscious': 908, 'vat': 15357, 'twitchy': 14874, 'boorishness': 1717, 'oversimplification': 10024, 'makebelieve': 8623, 'opposite': 9869, 'ninetenths': 9561, 'insatiable': 7363, 'absorbs': 229, '3yearolds': 115, 'battered': 1295, 'morphs': 9222, 'bogs': 1664, 'stilted': 13586, 'tabloid': 14082, 'embalmed': 4581, 'kalesniko': 7830, 'neighbor': 9486, 'personally': 10371, 'bogus': 1665, 'florid': 5507, 'leery': 8181, 'tail': 14098, 'negligible': 9484, 'squaddie': 13419, 'disgusting': 4008, 'jacket': 7628, 'visions': 15488, 'relayed': 11564, 'sharks': 12654, 'skewering': 12913, 'insiders': 7370, 'wishful': 15903, 'streets': 13670, 'halfway': 6405, 'equate': 4783, 'broke': 1888, 'underway': 15036, 'suppose': 13936, 'dad': 3438, 'pictureperfect': 10448, 'shadyac': 12615, 'perpetrating': 10355, 'patch': 10220, 'showdon': 12757, 'ttell': 14803, 'provoke': 11040, 'bagatelle': 1177, 'looselyconnected': 8441, 'actingworkshop': 313, 'exercises': 4956, 'meanders': 8831, 'variant': 15346, 'nincompoop': 9560, 'benigni': 1411, 'sandlerian': 12157, 'manchild': 8660, 'undercut': 14992, 'penned': 10306, 'intention': 7446, 'passably': 10197, 'brawn': 1813, 'lowwattage': 8498, 'remorse': 11614, 'rape': 11292, 'oo': 9835, 'padding': 10072, 'appropriated': 835, 'teenexploitation': 14217, 'playbook': 10536, 'fling': 5490, 'thankless': 14313, 'ricochets': 11848, 'ryoko': 12085, 'hirosue': 6728, 'catholics': 2230, 'catechism': 2222, 'tailor': 14099, 'amusements': 668, 'transpose': 14669, 'progression': 10968, 'worthless': 16008, 'arising': 878, 'skills': 12922, 'breathless': 1833, 'anticipation': 763, 'letdown': 8222, 'slips': 12999, 'smothered': 13075, 'solemnity': 13163, 'quinn': 11206, 'grungepirate': 6308, 'hairdo': 6383, 'gandalf': 5857, 'windtunnel': 15875, 'corblimeyluvaduck': 3118, 'cockney': 2671, 'accent': 246, 'untalented': 15239, 'brow': 1907, 'redundant': 11475, 'druggy': 4332, 'springbreak': 13403, 'orgy': 9905, 'majors': 8621, 'breen': 1839, 'actorish': 333, 'notations': 9634, 'sputters': 13411, 'simpler': 12842, 'leaner': 8152, 'preferable': 10817, 'complicate': 2845, 'goyer': 6154, 'unaccountable': 14921, 'thoughtlessly': 14379, 'puppet': 11120, 'pinocchio': 10478, 'receding': 11396, 'hairline': 6385, 'weathered': 15678, 'countenance': 3157, 'breckin': 1837, 'meyer': 8958, 'ridiculously': 11857, 'bygone': 2020, 'porridge': 10693, 'chewy': 2404, 'microscope': 8971, 'veered': 15362, 'exxon': 5085, 'penotti': 10307, 'surveyed': 13977, 'ignoring': 7026, 'author': 1079, 'waits': 15551, 'dusty': 4391, 'leatherbound': 8165, 'elicited': 4555, 'platter': 10533, 'hardtoswallow': 6496, 'undernourished': 15016, 'actressproducer': 340, 'congeniality': 2947, 'dynamite': 4411, 'egomaniac': 4512, 'grating': 6205, 'simpson': 12847, 'chuckling': 2479, 'collective': 2711, 'attack': 1025, 'selfsatisfaction': 12482, 'schoolgirl': 12274, 'fritters': 5741, 'unimpressive': 15122, 'indifferent': 7232, 'digits': 3896, 'agewise': 489, 'frankness': 5671, 'deem': 3594, 'hmmmmm': 6753, 'zzzzzzzzz': 16159, 'transparent': 14662, 'assault': 966, 'embarrassingly': 4584, 'hamfisted': 6417, 'reek': 11481, 'rewrite': 11825, 'garner': 5881, 'cooler': 3094, 'pg13': 10397, 'slides': 12988, 'macho': 8570, 'assert': 973, '51st': 133, 'draggin': 4246, 'undone': 15050, 'insubstantial': 7414, 'ninety': 9562, 'misdemeanor': 9070, 'unconvincing': 14970, 'secondguess': 12382, 'tykwer': 14887, 'antikieslowski': 771, 'sinuously': 12873, 'offputtingly': 9772, 'dylan': 4407, 'kidd': 7877, 'prepackaged': 10830, 'julia': 7787, 'roberts': 11921, 'hardsell': 6493, 'imagemongering': 7058, 'publicist': 11075, 'jay': 7672, 'roach': 11910, 'taxicab': 14173, 'siege': 12806, 'alcatraz': 549, 'springs': 13406, 'stereotype': 13555, 'unturned': 15244, 'sprinkled': 13407, 'bodacious': 1653, 'ministers': 9039, 'biblestudy': 1464, 'discuss': 3994, 'converted': 3073, 'load': 8379, 'boombox': 1713, 'titled': 14493, 'males': 8640, 'unbelievably': 14940, 'vile': 15457, 'tiger': 14451, 'facetoface': 5114, 'pyschological': 11161, 'knocks': 7952, 'anemic': 700, 'grubbing': 6302, 'loveless': 8476, 'sufficient': 13859, 'aaliyah': 192, 'unclean': 14956, 'mary': 8746, 'booty': 1724, 'bread': 1820, 'dipped': 3921, 'preaches': 10787, 'coherence': 2684, 'eviction': 4892, 'michell': 8967, 'cuss': 3409, 'bungling': 1970, 'cloaked': 2608, 'euphemism': 4854, 'pender': 10303, 'wood': 15956, 'folksy': 5544, 'stagy': 13454, 'stacked': 13439, 'binary': 1495, 'oppositions': 9871, 'trickery': 14719, 'devolves': 3841, 'soccer': 13131, 'rothman': 12002, 'absent': 223, 'schneidermeister': 12267, 'makin': 8630, 'losin': 8452, 'frankenstein': 5665, 'mishmash': 9083, 'performs': 10339, 'bigbudget': 1473, 'clunkiness': 2653, 'strained': 13646, 'vaporize': 15343, 'blingbling': 1582, 'recommending': 11423, 'jokers': 7734, 'kidnappings': 7889, 'unpleasantly': 15177, '110': 17, 'imposter': 7137, 'unless': 15152, 'fanatic': 5172, 'kidlets': 7884, 'brainer': 1791, 'rekindle': 11555, 'shreve': 12772, 'clunky': 2654, 'lesscompelling': 8213, 'graze': 6216, 'consciously': 2968, 'dumbeddown': 4372, 'cranked': 3222, 'brits': 1873, 'performing': 10338, 'agesold': 488, 'tailormade': 14100, 'cliffnotes': 2592, 'fulllength': 5782, 'methodology': 8949, 'alienate': 561, 'hardened': 6482, 'indieheads': 7230, 'jumbled': 7794, 'plan': 10517, 'postproduction': 10736, 'milking': 9008, 'playedout': 10540, 'dress': 4298, 'surfaces': 13951, 'ahola': 512, 'approaching': 833, 'vague': 15320, 'reporting': 11654, 'tumbleweeds': 14815, 'blowing': 1613, 'doofuson': 4185, 'theloose': 14326, 'collinwood': 2719, 'cocky': 2673, 'afterhours': 471, 'loopiness': 8435, 'latenight': 8089, 'stagey': 13447, 'reassembled': 11383, 'cuttingroom': 3426, 'fuelled': 5770, 'amble': 636, 'boris': 1737, 'sychowski': 14057, 'enact': 4629, 'interspecies': 7490, 'distorts': 4082, 'riddles': 11852, 'contenders': 3024, 'september': 12537, 'counting': 3164, 'bolt': 1685, 'sketch': 12907, 'pizazz': 10502, 'mawkish': 8798, 'selfparody': 12469, 'reactive': 11350, 'cipher': 2501, 'bastard': 1285, 'plastered': 10525, 'involve': 7550, 'worrying': 16002, 'covering': 3187, 'excesses': 4934, 'fustily': 5815, 'prurient': 11046, 'winger': 15879, '1995': 76, 'paris': 10158, 'skipping': 12932, 'sorriest': 13212, 'brazen': 1816, 'putters': 11153, 'contriving': 3056, 'belovedmajor': 1400, 'characterwhoshall': 2329, 'remainnameless': 11594, 'invite': 7544, 'laser': 8079, 'actionthrillerdark': 325, 'restroom': 11741, 'arty': 933, 'theorizing': 14337, 'germanexpressionist': 5966, 'according': 272, 'notes': 9639, 'render': 11620, 'guardian': 6316, 'nick': 9540, 'avon': 1107, 'shamefully': 12635, 'strolls': 13705, 'kilt': 7905, 'shoulder': 12746, 'ruhroh': 12047, 'romething': 11977, 'ricture': 11849, 'salient': 12128, 'cannibal': 2105, 'capra': 2122, 'graves': 6210, 'filler': 5349, 'ze': 16122, 'inform': 7299, 'educate': 4487, 'armenia': 890, 'astray': 1000, 'customarily': 3411, 'jovial': 7763, 'deficit': 3615, 'flimflam': 5485, 'join': 7729, 'monsterscience': 9179, 'kilted': 7906, 'indicative': 7226, 'outofkilter': 9953, 'rambles': 11268, 'illconceived': 7035, 'unintended': 15130, 'improve': 7154, 'boatload': 1649, 'freighter': 5699, 'withholds': 15915, 'pellmell': 10296, 'pyrotechnics': 11160, 'assess': 974, 'crisply': 3301, 'overcooked': 9990, 'kraft': 7974, 'macaroni': 8560, 'outtakes': 9972, 'uhhh': 14906, 'counterpart': 3161, 'divided': 4110, 'deliberateness': 3650, 'avengers': 1096, 'relic': 11577, 'convolutions': 3088, 'plausible': 10534, 'messagemongering': 8932, 'moralism': 9199, 'obscured': 9712, 'sadistic': 12109, 'oops': 9838, 'chirpy': 2434, 'songbird': 13189, 'popped': 10672, 'loathsome': 8384, 'rut': 12078, 'dug': 4358, 'leys': 8236, 'climb': 2596, 'ladder': 8016, 'operative': 9862, 'gleaned': 6037, 'organize': 9901, 'sleepwalk': 12977, 'vulgarities': 15532, 'refuse': 11513, 'toys': 14605, 'paeans': 10075, 'traffics': 14624, 'prechewed': 10794, 'standupcomedy': 13485, 'rushed': 12070, 'flimsier': 5486, 'outsized': 9970, 'logically': 8402, 'porous': 10692, 'concocted': 2900, 'whitewash': 15814, 'plotlines': 10578, 'fleshedout': 5475, 'dupe': 4383, 'dictate': 3868, 'clueless': 2646, 'painkillers': 10087, 'simpleminded': 12841, 'getgo': 5973, 'immaculately': 7081, 'freaking': 5680, 'absurdly': 235, 'commendable': 2777, '2day': 105, 'coke': 2691, 'sitcomishly': 12884, 'minddestroying': 9023, 'nonetoooriginal': 9595, 'unclear': 14957, 'undertaken': 15029, 'beck': 1333, 'blimp': 1579, 'framework': 5657, 'prior': 10905, 'grinds': 6257, 'wishing': 15904, 'sentimentalist': 12527, 'worshipful': 16005, 'random': 11281, 'e': 4419, 'wes': 15768, 'elm': 4566, 'hills': 6712, 'schlock': 12260, 'assesses': 975, 'cloudy': 2637, 'becalmed': 1332, 'ridicule': 11855, 'transporter': 14666, 'bombards': 1687, 'uzumaki': 15314, 'parallel': 10143, 'prostituted': 11016, 'muse': 9332, 'recycles': 11449, 'milder': 8997, 'plumbed': 10587, 'marcus': 8693, 'copies': 3106, 'sources': 13239, 'apartheid': 790, 'hammer': 6418, 'genesis': 5938, 'animatronic': 725, 'disneyland': 4031, 'sabotaged': 12093, 'bombs': 1690, 'hollywoodaction': 6780, 'creatively': 3253, 'stillborn': 13581, 'iota': 7558, 'splendour': 13357, 'dick': 3865, 'hideous': 6675, 'excepting': 4928, 'encountered': 4640, 'purposeless': 11138, 'pandemonium': 10119, 'sulking': 13883, 'selfindulgence': 12462, 'dot': 4201, 'com': 2736, 'thirty': 14364, 'byzantine': 2030, 'incarnations': 7180, 'pleasuring': 10564, 'description': 3769, 'sacrifices': 12099, 'highpowered': 6696, 'impostor': 7138, 'tunnels': 14826, 'attackers': 1026, 'surveillance': 13976, 'technologies': 14201, 'seller': 12487, 'spice': 13312, 'rat': 11311, 'expensive': 4997, 'thesps': 14344, 'slumming': 13026, 'surfaceeffect': 13949, 'fiennes': 5328, 'joyless': 7766, 'indulge': 7249, 'daydreams': 3511, 'charmless': 2346, 'vacant': 15315, 'bluescreen': 1624, 'ultracheesy': 14910, 'radical': 11237, 'superserious': 13924, 'superstupid': 13928, 'stocked': 13600, 'awfulness': 1126, 'sharper': 12657, 'lens': 8202, 'noisy': 9579, 'morrissette': 9225, 'granddad': 6179, 'nouvelle': 9662, 'jeanluc': 7682, 'baffle': 1173, 'hideandseek': 6673, 'squabbling': 13417, 'phantom': 10399, 'raving': 11329, 'philosophically': 10410, 'intellectually': 7434, 'logistically': 8403, 'policeoriented': 10633, 'participation': 10176, 'tnt': 14498, 'coupling': 3172, 'disgracefully': 4002, 'flailing': 5426, 'operaish': 9855, 'crosscultural': 3323, 'perennial': 10326, 'stockings': 13601, 'junk': 7805, 'eyefilling': 5090, 'disloyal': 4021, 'satyr': 12191, 'selfcongratulatory': 12435, 'illinformed': 7040, 'stylefree': 13767, 'freddy': 5689, 'molested': 9149, 'fingered': 5380, 'tara': 14142, 'reid': 11538, 'sixtime': 12896, 'tropic': 14759, 'pageant': 10077, 'ensuing': 4721, 'resolutions': 11704, '295': 104, 'preview': 10876, 'indignant': 7235, 'preemptive': 10813, 'remarks': 11600, 'geared': 5907, 'engendering': 4684, 'probation': 10918, 'officer': 9768, 'malone': 8648, 'hunger': 6937, 'brainless': 1792, 'fifties': 5335, 'teengang': 14218, 'roughtrade': 12013, 'homoeroticism': 6799, 'sillified': 12828, 'stopandstart': 13620, 'condone': 2911, 'tortuous': 14570, 'longrunning': 8421, 'halfdozen': 6397, 'dripping': 4308, 'bypassing': 2023, 'trivialize': 14750, 'hardcore': 6479, 'addiction': 361, 'junkcalorie': 7806, 'ruined': 12049, 'improbabilities': 7149, 'temper': 14244, 'impacting': 7098, 'slashermovie': 12958, 'nary': 9414, 'pollute': 10643, 'rigidly': 11872, 'paradigm': 10140, 'permitting': 10352, 'wellworn': 15755, 'bmw': 1638, 'haranguing': 6473, 'turd': 14830, 'squashed': 13426, 'truck': 14771, 'preferably': 10818, 'semi': 12492, 'glover': 6063, 'irrepressible': 7581, 'shatner': 12660, 'jump': 7796, 'hopes': 6835, 'camouflage': 2081, 'appreciative': 829, 'nausea': 9439, 'numbingly': 9684, 'dullwitted': 4368, 'disquietingly': 4050, 'jams': 7648, 'prefabricated': 10814, 'nonexistent': 9596, 'amateur': 619, 'bailiwick': 1181, 'pregnant': 10821, 'insult': 7419, 'informs': 7303, 'stuffy': 13744, 'costner': 3144, 'selfrighteous': 12479, 'monopoly': 9168, 'chai': 2286, 'disconcertingly': 3977, 'oblivious': 9706, 'backdrops': 1151, 'grimly': 6252, 'developing': 3827, 'attachment': 1024, 'sweep': 14021, 'episodic': 4775, 'choppiness': 2449, 'thrust': 14420, 'unseemly': 15213, 'congratulate': 2949, 'collegespawned': 2715, 'colgate': 2697, 'u': 14895, 'lizard': 8376, 'cheech': 2376, 'chong': 2444, 'chips': 2433, 'troopers': 14756, 'amalgam': 615, 'existing': 4975, 'zucker': 16157, 'brothersabrahams': 1904, 'farrelly': 5201, 'bemused': 1402, 'pbs': 10269, 'program': 10965, 'restage': 11731, 'bathtub': 1293, 'slickly': 12985, 'antiseptic': 774, 'desiccated': 3777, 'africanamericans': 470, 'insensitivity': 7366, 'tripe': 14740, 'groundbreaking': 6286, 'thirtythree': 14365, 'stylistically': 13774, 'overrides': 10018, 'vicarious': 15422, 'shifting': 12684, 'defeats': 3605, 'paramount': 10146, 'imprint': 7148, 'european': 4857, 'pickup': 10443, 'tactfully': 14092, 'pretended': 10860, 'believability': 1384, 'sewer': 12595, 'rats': 11320, 'skeeved': 12903, 'mattel': 8789, 'executives': 4953, 'lobbyists': 8386, 'tinsel': 14476, 'shortest': 12739, 'hole': 6769, 'outrage': 9956, 'hastily': 6526, 'amateurishly': 621, 'martialarts': 8734, 'forte': 5622, 'loveable': 8471, 'leroy': 8210, 'skippable': 12930, 'hayseedsvs': 6552, 'greaseballs': 6218, 'louiso': 8463, 'dawdle': 3506, 'disaffectedindiefilm': 3948, 'mode': 9125, 'lateinning': 8087, 'straddles': 13637, 'boldface': 1677, 'libidinous': 8248, 'dwellers': 4403, 'obscenely': 9709, 'sidewalks': 12804, 'foundering': 5637, 'athleticism': 1013, 'wwii': 16053, 'patchy': 10223, 'lowtech': 8497, 'happenstance': 6467, 'overladen': 10005, 'talked': 14114, 'servitude': 12573, 'skirts': 12934, 'flop': 5501, 'generically': 5934, 'forgettably': 5597, 'frustrations': 5761, 'sitcomworthy': 12885, 'overstylized': 10031, 'puréed': 11145, 'mélange': 9373, 'wankery': 15585, 'unhappily': 15106, 'malle': 8644, 'dud': 4352, 'slob': 13001, 'reductions': 11471, 'runyon': 12066, 'crooks': 3318, 'wasting': 15632, 'legally': 8186, 'blonde': 1597, 'abomination': 212, 'smell': 13056, 'grease': 6217, 'hairier': 6384, 'tax': 14171, 'einstein': 4523, 'sympathizing': 14069, 'presenting': 10844, '100year': 5, 'interrupted': 7488, 'hurley': 6946, 'bathing': 1290, 'screed': 12326, 'curmudgeonly': 3396, 'playwright': 10551, 'grounds': 6289, 'overstuffed': 10030, 'improbably': 7152, 'forbearing': 5572, 'contend': 3022, 'childrearing': 2418, 'los': 8447, 'angeles': 704, 'uwe': 15313, 'boll': 1680, 'blah': 1539, 'phoenix': 10414, 'literarily': 8351, 'hardpartying': 6490, 'fetid': 5309, 'fame': 5158, 'uglier': 14899, 'homosexual': 6802, 'tvinsider': 14850, 'unity': 15142, 'admiring': 384, 'cacoyannis': 2039, 'dustcaked': 4389, 'stagnation': 13453, 'fades': 5126, 'suspects': 13991, 'endorses': 4662, 'merit': 8920, 'depend': 3726, 'associations': 985, 'scribe': 12342, 'wade': 15539, 'workmanlike': 15983, 'cycle': 3428, 'recognized': 11417, 'bilked': 1490, 'overacted': 9980, 'wattage': 15651, 'tumult': 14817, 'conforms': 2935, 'scarface': 12227, 'carlito': 2164, 'verdict': 15394, 'periodperfect': 10345, 'hammers': 6420, 'scarier': 12228, 'troupe': 14769, 'pap': 10129, 'invested': 7535, 'undergraduate': 15003, 'doubling': 4210, 'subtexts': 13820, 'stabs': 13438, 'wizard': 15926, 'fifth': 5334, 'stalked': 13462, 'creepycrawly': 3275, 'bug': 1941, 'predominantly': 10812, 'unnamed': 15165, 'substitutable': 13814, 'hushed': 6954, 'ethan': 4844, 'hawke': 6546, 'chelsea': 2392, 'tempted': 14252, 'redundancies': 11473, 'experienced': 4999, 'inexpressive': 7276, 'disagree': 3949, 'rorschach': 11990, 'clare': 2530, 'peploe': 10312, 'pielike': 10454, 'irreverence': 7585, 'xerox': 16056, 'illiterate': 7041, 'inert': 7264, 'rancid': 11277, 'contain': 3011, 'balto': 1213, 'toy': 14604, 'procedural': 10925, 'wanders': 15580, 'hopkins': 6837, 'horton': 6857, 'ofallon': 9754, 'gaitskill': 5839, 'evasive': 4867, 'erin': 4794, 'brockovich': 1883, 'expeditious': 4994, 'reassure': 11385, 'bike': 1486, 'vittorio': 15500, 'sica': 12793, 'selfexploitation': 12451, 'softporn': 13153, 'powerment': 10765, 'unpersuasive': 15175, 'evolving': 4906, 'genevieve': 5940, 'leplouff': 8209, 'option': 9881, 'creators': 3256, 'giovanni': 6010, 'psychiatrist': 11059, 'medicine': 8855, 'trajectory': 14638, 'posits': 10716, 'heretofore': 6645, 'unfathomable': 15082, 'boat': 1648, 'rancorous': 11278, 'outline': 9950, 'frat': 5676, 'wisecracking': 15896, 'revelled': 11789, 'shallows': 12630, 'cousin': 3183, 'bottomfeeder': 1753, 'printed': 10903, 'iles': 7031, 'duking': 4360, 'poky': 10627, 'pseudoserious': 11054, 'workshops': 15988, 'nurtured': 9689, 'sparks': 13268, 'lurking': 8536, 'spoil': 13362, 'bottomrung': 1756, 'modem': 9129, 'disconnects': 3979, 'seconds': 12385, 'criticproof': 3310, 'ohso': 9784, 'parting': 10181, 'misfires': 9076, 'crossroads': 3329, 'cutoffs': 3420, 'cassavetes': 2198, 'didactic': 3874, 'buries': 1978, 'mountain': 9254, 'borrowed': 1740, 'overwritten': 10046, 'surfeit': 13953, 'flowery': 5517, 'roads': 11913, 'uncharismatically': 14951, 'résumé': 12087, 'magician': 8593, 'unencouraging': 15062, 'threefold': 14391, 'expansion': 4985, 'stunthungry': 13753, 'dimwits': 3913, 'collected': 2709, 'pranks': 10778, 'joshua': 7753, 'luis': 8513, 'ventura': 15384, 'pollak': 10642, 'wrestler': 16030, 'chyna': 2487, 'dolly': 4162, 'parton': 10188, 'resumes': 11747, 'puportedly': 11119, 'convolution': 3087, 'claim': 2521, 'lumpy': 8526, 'twoday': 14876, 'paws': 10255, 'appealingly': 806, 'enacted': 4630, 'cobbled': 2667, 'selfabsorbed': 12425, 'featured': 5261, 'whiney': 15792, 'bugged': 1944, 'omitted': 9812, 'unsaid': 15205, 'ugh': 14898, 'bugeye': 1942, 'deadeye': 3524, 'pelosi': 10297, 'clown': 2639, 'jeopardy': 7693, 'glassshattering': 6035, 'racist': 11231, 'snuck': 13115, 'joão': 7770, 'pedro': 10285, 'rodrigues': 11940, 'unwillingness': 15252, 'cheats': 2371, 'retreats': 11768, 'thoughtless': 14378, 'scouse': 12314, 'simpsons': 12848, 'juwanna': 7817, 'wewannour': 15775, 'helmer': 6630, 'hamstrung': 6425, 'tux': 14846, 'wearer': 15672, 'superman': 13920, 'allowed': 585, 'siuation': 12891, 'postapocalyptic': 10727, 'disadvantage': 3947, 'faulted': 5234, 'lucy': 8509, 'overstays': 10028, 'hurry': 6948, 'uncompelling': 14964, 'decomposition': 3584, 'healthy': 6570, 'cloak': 2607, 'romanticization': 11971, 'semiautobiographical': 12494, 'sloppily': 13009, 'bugsy': 1945, 'caterer': 2225, 'naïveté': 9449, 'arbitrary': 847, 'flashbacks': 5438, 'struts': 13723, 'pinned': 10477, 'huckster': 6897, 'lapel': 8059, 'decorates': 3586, 'robots': 11926, 'website': 15686, '34th': 112, 'spry': 13410, '2001': 86, 'slapdash': 12951, 'sequelforthesake': 12541, 'ofasequel': 9755, 'woefully': 15933, 'kalvert': 7831, 'turf': 14831, '1958': 53, 'coburn': 2668, 'inconceivable': 7199, 'kills': 7903, 'nosurprise': 9630, 'banderas': 1219, 'pitiful': 10495, 'doa': 4118, 'straining': 13647, 'ritter': 11901, 'herrings': 6656, 'register': 11529, 'mouthpieces': 9265, 'motifs': 9238, 'achieved': 288, 'lottery': 8460, 'metal': 8940, 'fireballs': 5388, 'winces': 15866, 'clutches': 2656, 'gasps': 5889, 'ahem': 510, 'ailments': 518, 'uninflected': 15124, 'ambitiously': 633, 'abused': 239, 'autistic': 1081, 'depraved': 3741, 'abc': 200, 'docile': 4120, 'wordless': 15966, 'ethnographic': 4850, 'extras': 5067, 'appearing': 811, 'cynic': 3431, 'groaner': 6269, 'zerodimensional': 16133, 'unlikable': 15153, 'dissipated': 4060, 'clicheridden': 2580, 'clyde': 2657, 'barrow': 1267, 'leafing': 8146, 'photos': 10429, 'accompanied': 264, 'sketchiest': 12910, 'captions': 2125, 'halflit': 6400, 'dorm': 4196, 'coda': 2675, 'fluke': 5526, 'fangoria': 5180, 'subscriber': 13804, 'excited': 4939, 'janey': 7650, 'obligations': 9704, 'guessable': 6319, 'echoes': 4460, 'morbidity': 9207, 'asia': 941, 'shu': 12782, 'insufficiently': 7417, 'cathartic': 2227, 'hibernation': 6666, 'reports': 11655, 'loosely': 8440, 'skidding': 12914, 'limps': 8314, 'squirminducing': 13431, 'fishoutofwater': 5403, 'tearjerker': 14189, 'redeeming': 11455, 'chuckles': 2478, 'cesspool': 2281, 'connected': 2955, 'plots': 10579, 'balkans': 1196, 'obstacle': 9724, 'tolstoy': 14516, 'groupies': 6291, 'greedy': 6228, 'agents': 486, 'heathers': 6598, 'unwatchable': 15249, 'flounders': 5509, 'plato': 10532, 'greenlight': 6234, 'miniseries': 9038, 'mom': 9153, 'rejected': 11550, 'astronomically': 1004, 'slimed': 12994, 'sacre': 12096, 'bleu': 1576, 'magnifique': 8596, 'cheering': 2383, 'boreathon': 1731, 'insufferable': 7415, 'repugnance': 11667, 'barbed': 1241, 'poopoo': 10659, 'sleepinducingly': 12974, 'slowpaced': 13022, 'phoneyfeeling': 10419, 'overlyfamiliar': 10012, 'cipherlike': 2502, 'ruthlessly': 12080, 'pained': 10084, 'staring': 13492, 'dislikable': 4019, 'sociopathy': 13142, 'scam': 12215, 'suckers': 13847, 'surrender': 13968, '93': 182, 'unrecoverable': 15190, 'recovering': 11435, 'ridiculousness': 11858, 'sorely': 13210, 'careening': 2146, 'salvage': 12136, 'moulds': 9251, 'upandcoming': 15253, 'landbound': 8044, 'genderprovoking': 5921, 'submerged': 13797, 'peekaboo': 10288, 'clothing': 2634, 'elves': 4574, 'pimps': 10470, 'ho': 6754, 'boardwalk': 1645, 'laudable': 8099, 'hotbutton': 6867, 'adrift': 407, 'unifying': 15117, 'sophisticates': 13202, 'pitifully': 10496, 'unromantic': 15203, 'kiddieoriented': 7879, 'gum': 6342, 'sneak': 13094, 'deviously': 3837, 'adopts': 396, 'guise': 6334, 'bomb': 1686, 'hodgepodge': 6759, 'miserable': 9072, 'coincidence': 2690, 'unrequited': 15200, 'angstridden': 714, 'covered': 3186, 'lewd': 8234, 'useful': 15295, 'paperthin': 10133, 'bangthedrum': 1226, 'odoriferous': 9748, 'crawl': 3236, 'fist': 5406, 'hardman': 6489, 'unfortunate': 15097, 'rally': 11264, 'anticatholic': 761, 'protestors': 11022, 'gesturing': 5972, 'bedeviled': 1338, 'miscalculates': 9062, 'fiddle': 5319, 'melange': 8877, 'bid': 1469, 'monotonous': 9171, 'treachery': 14688, 'drowns': 4328, 'sap': 12166, 'devotedly': 3845, 'pinlike': 10475, 'regard': 11519, 'scuttled': 12355, 'devastation': 3823, 'disease': 3998, 'todo': 14505, 'faulty': 5236, 'spotty': 13388, 'stomps': 13611, 'hobnail': 6758, 'boots': 1723, 'natalie': 9418, 'babbitt': 1142, 'troubling': 14767, 'paint': 10091, 'motorized': 9248, 'scooter': 12298, 'dewyeyed': 3848, 'kidmovie': 7886, 'hectic': 6607, 'homiletic': 6798, 'inauspicious': 7175, 'mopes': 9194, 'tract': 14612, 'meanderings': 8830, 'lessen': 8214, 'psychodramatics': 11063, 'setpiece': 12578, 'conspicuously': 2989, 'blowout': 1616, 'downplaying': 4226, 'shecute': 12668, 'troubled': 14765, 'homicide': 6797, 'scenarios': 12241, 'sermonize': 12560, 'okay': 9790, 'seventyminute': 12590, 'wordy': 15969, 'wisp': 15906, 'avid': 1103, 'impatient': 7105, 'strenuous': 13675, 'clinch': 2598, 'razzie': 11337, 'strungtogether': 13721, 'escapades': 4809, 'gander': 5858, 'amuses': 669, 'aids': 516, 'allinclusive': 578, 'uptight': 15281, 'bores': 1734, 'dopey': 4192, 'clothed': 2632, 'hipness': 6722, 'expressly': 5050, 'sewage': 12594, 'shovel': 12751, 'gullets': 6337, 'simulate': 12849, 'sustenance': 14003, 'court': 3177, 'maneuvers': 8663, 'palm': 10111, 'sc2': 12212, 'autopilot': 1087, 'concoction': 2901, 'masters': 8773, 'dogpaddle': 4149, 'brawny': 1814, 'unqualified': 15184, 'entering': 4727, 'synagogue': 14072, 'ramblings': 11270, 'smorgasbord': 13074, 'soliloquies': 13168, 'spousal': 13389, 'spawned': 13273, 'tantamount': 14134, 'sept': 12536, 'disneystyle': 4032, 'wing': 15877, 'prayer': 10782, 'hunky': 6941, 'hasbeen': 6523, 'castle': 2202, 'sky': 12940, 'nurses': 9688, 'gaping': 5869, 'pilot': 10468, 'olympic': 9807, 'braindeadening': 1790, 'hangover': 6450, 'blustery': 1634, 'steam': 13535, 'paces': 10062, 'arguing': 874, 'substitutes': 13816, 'sanitised': 12163, 'surgeon': 13957, 'mends': 8901, 'decommissioned': 3583, 'majority': 8619, 'startle': 13506, 'stifled': 13576, 'prevalence': 10871, 'fastforward': 5217, 'stringently': 13692, 'earsplitting': 4438, 'crashandbash': 3229, 'lumpish': 8524, 'likably': 8289, 'fuddyduddy': 5765, 'overload': 10007, 'irreparably': 7580, 'schaefer': 12248, 'glitter': 6047, 'midtolow': 8988, 'betrayed': 1444, 'origin': 9907, 'fleder': 5466, 'aiello': 517, 'mumbles': 9313, 'guilttrip': 6331, 'anniemary': 736, 'garth': 5884, 'progressed': 10966, 'wayne': 15660, 'dodge': 4136, 'neeson': 9475, 'capably': 2114, 'implausible': 7120, 'jegyu': 7686, 'limerick': 8306, 'scrawled': 12321, 'saddam': 12102, 'hussein': 6956, 'permission': 10350, 'scummy': 12354, 'cronenberg': 3317, 'videodrome': 15435, 'distressingly': 4091, 'nike': 9558, 'rebellious': 11391, 'redone': 11466, 'fewer': 5314, 'inadvertent': 7169, 'testimonial': 14299, 'cruelties': 3347, 'blacks': 1536, 'distilled': 4069, 'caucasian': 2235, 'workhours': 15977, 'health': 6569, 'fortune': 5627, 'salaries': 12125, 'cars': 2181, 'spliced': 13358, '48': 122, 'quasiimprovised': 11179, 'agape': 478, 'punched': 11101, 'unofficially': 15170, 'officially': 9769, 'bestial': 1436, 'fragmented': 5652, 'spinoff': 13331, 'dwindles': 4405, 'lured': 8533, 'controlaltdelete': 3058, 'bleed': 1566, 'olympus': 9808, 'raising': 11261, 'underlies': 15007, 'under10': 14983, 'futile': 5817, 'moviemakers': 9279, 'keg': 7858, 'intimidated': 7499, 'chokes': 2441, 'feminist': 5287, 'posing': 10711, 'aftertaste': 476, 'populating': 10679, 'cardboard': 2139, 'cash': 2195, 'camouflaging': 2082, 'grotesque': 6282, 'interminable': 7470, 'stave': 13523, 'doldrums': 4157, 'involvement': 7552, 'hottest': 6875, 'hippest': 6723, 'outdated': 9940, 'swagger': 14005, 'shuckandjive': 12783, 'tad': 14095, 'intelligibility': 7440, 'despairingly': 3787, 'butterfingered': 2008, 'bigfisted': 1477, 'jez': 7708, 'butterworth': 2010, 'smallest': 13038, 'sensitivities': 12518, 'clamorous': 2525, 'forewarned': 5591, 'depressed': 3744, 'drown': 4325, 'gushy': 6353, 'neutral': 9516, 'uphill': 15263, 'poorlyconstructed': 10662, 'laughingly': 8108, 'irksome': 7568, 'complacency': 2831, 'rediscovers': 11463, 'demeo': 3684, 'aptitude': 841, 'abdul': 202, 'malik': 8641, 'abbott': 198, 'ernest': 4795, 'tron': 14755, 'initially': 7329, 'vast': 15355, 'filmgoers': 5357, 'vies': 15444, 'orson': 9915, 'shunji': 12786, 'chou': 2461, 'payoffs': 10266, 'jumpinyourseat': 7797, 'backseat': 1158, 'laurence': 8118, 'coriat': 3121, 'coinage': 2689, 'pawn': 10254, 'disabilities': 3945, 'hypertime': 6971, 'reverse': 11798, 'trope': 14757, 'rumor': 12056, 'avalanches': 1091, 'fuzziness': 5822, 'whoop': 15819, 'shankman': 12640, 'janszen': 7655, 'bungle': 1969, 'parables': 10137, 'brats': 1804, 'peopled': 10310, 'balding': 1193, '50yearold': 131, 'log': 8399, 'uncool': 14971, 'gadzooks': 5828, 'entrée': 4756, 'flavorless': 5458, 'handle': 6437, 'conceptions': 2886, 'objects': 9702, 'impressionistic': 7144, 'slowmotion': 13019, 'quickcut': 11196, 'card': 2138, 'splatterfests': 13352, 'userfriendly': 15298, 'disreputable': 4052, 'doings': 4155, 'substandard': 13811, 'workinprogress': 15981, 'megaplexes': 8870, 'chosen': 2460, 'ohthosewackybrits': 9787, 'ushered': 15301, 'smash': 13050, 'femme': 5289, 'baitandswitch': 1185, 'misunderstanding': 9103, 'marivaux': 8710, 'neonoir': 9495, 'hiding': 6678, 'sontag': 13194, 'stern': 13561, 'popping': 10673, 'illogical': 7044, 'personable': 10367, 'beer': 1347, 'uma': 14915, 'shelves': 12678, 'aborted': 215, 'teentargeted': 14224, 'highlypraised': 6693, 'disappointments': 3958, 'neverland': 9518, 'schiffer': 12256, 'hossein': 6861, 'amini': 651, 'modernize': 9133, 'reconceptualize': 11425, 'ohsoimportant': 9786, 'reinforcement': 11546, 'leaning': 8154, 'badlyrendered': 1170, 'shiver': 12702, 'grandfather': 6181, 'evidence': 4893, 'indicate': 7224, 'plods': 10574, 'nosedive': 9626, 'infirmity': 7291, 'naive': 9387, 'heartstring': 6591, 'popinfluenced': 10670, 'prank': 10777, 'claims': 2522, 'admirer': 382, 'drawbacks': 4271, 'lazily': 8136, 'cirulnick': 2511, 'novelist': 9665, 'thulani': 14424, '104': 9, 'artsploitation': 929, 'bona': 1693, 'fide': 5320, 'groaners': 6270, 'framed': 5655, 'eternal': 4841, 'pique': 10485, 'q': 11165, 'grievous': 6246, 'obsessively': 9723, 'icy': 6999, 'spout': 13391, 'breakups': 1827, 'hookups': 6823, 'hypnotically': 6974, 'laughably': 8102, 'wail': 15547, 'cadence': 2043, 'fifteenyearold': 5333, 'suicidal': 13875, 'bravura': 1812, 'masquerade': 8756, 'wearisome': 15674, 'andmiss': 694, 'shown': 12763, 'projection': 10972, 'kideok': 7882, 'regular': 11533, 'bouts': 1770, 'defensible': 3609, 'deliverance': 3667, 'madeformovie': 8578, 'shallower': 12629, 'egregiously': 4516, '1991': 72, 'rover': 12025, 'dangerfield': 3466, 'shave': 12663, 'topping': 14558, 'cone': 2915, 'presumes': 10856, 'conscious': 2967, '2455': 96, 'messenger': 8935, 'asset': 976, 'atrocities': 1021, 'impersonal': 7113, 'treacle': 14689, 'rogue': 11944, 'cia': 2490, 'assassins': 965, 'agency': 482, 'boss': 1744, 'amnesiac': 655, 'damonbourne': 3455, 'profundities': 10962, 'retrieve': 11769, 'trumps': 14785, 'tides': 14444, 'stagecrafts': 13444, 'bolder': 1676, 'burdened': 1974, 'accessibility': 255, 'familyfriendly': 5166, 'slowest': 13017, 'grasps': 6200, 'unspools': 15225, 'highbrow': 6682, '102minute': 7, 'blending': 1571, 'entrepreneurial': 4753, 'customers': 3412, 'glitzy': 6049, 'eighthgrader': 4520, 'veggie': 15367, 'threshold': 14396, 'manifestations': 8670, 'versace': 15405, 'mad': 8573, 'cues': 3369, 'blacken': 1532, 'organ': 9899, 'vengefulness': 15380, 'remained': 11592, 'collage': 2702, 'dim': 3904, 'echo': 4459, 'biblical': 1465, 'unsalvageability': 15206, 'anarchy': 683, 'pork': 10686, 'dumplings': 4378, 'fireworks': 5392, 'glamorous': 6028, 'moldering': 9145, 'strenuously': 13676, 'solemn': 13162, 'sharing': 12653, 'birds': 1507, 'shipping': 12698, 'transplant': 14664, 'soil': 13155, 'resists': 11701, 'intrusion': 7522, 'shores': 12734, 'wary': 15621, 'natives': 9426, 'demonic': 3695, 'lisa': 8341, 'rinzler': 11882, 'inhalant': 7322, 'blackout': 1534, 'transfigures': 14646, 'unchanged': 14950, 'dullard': 4362, 'detractors': 3815, 'accuse': 281, 'humidity': 6924, 'spawn': 13272, 'fools': 5564, 'quentin': 11186, 'branched': 1798, 'pseudowitty': 11055, 'copycat': 3114, 'café': 2048, 'overhearing': 10000, 'latetwentysomethings': 8094, 'natter': 9427, 'tables': 14081, 'alloverthemap': 583, 'pared': 10153, 'tvmovie': 14851, 'chapter': 2315, 'drinker': 4306, 'represent': 11657, 'exemplify': 4954, 'laziest': 8135, 'meager': 8825, 'beenthere': 1345, 'adored': 399, 'resoundingly': 11712, 'bewildered': 1454, 'spookily': 13371, 'abrupt': 221, 'glucose': 6066, 'cello': 2261, 'culled': 3372, 'coldhearted': 2696, 'fax': 5246, 'sodden': 13144, 'priggish': 10885, 'lethargically': 8225, 'renewal': 11626, 'ankledeep': 729, '50million': 127, 'thirdperson': 14359, 'prettiest': 10867, 'kendall': 7860, 'ed': 4471, 'decter': 3590, 'yosuke': 16105, 'saeko': 12113, 'invited': 7545, 'soiree': 13156, 'morsels': 9226, 'heaped': 6572, 'reap': 11378, 'unfairly': 15078, 'fabricated': 5100, 'violated': 15467, 'targets': 14148, 'raunchfests': 11325, 'unmentionables': 15161, 'aussie': 1064, 'channels': 2309, 'notquitedead': 9650, 'outage': 9936, 'cards': 2143, 'fascinated': 5205, 'killers': 7901, 'punishment': 11112, 'sportsmanship': 13380, 'standoff': 13480, 'trump': 14782, 'midsection': 8985, 'molehill': 9147, 'restate': 11732, 'knockoff': 7950, 'horizons': 6841, 'dullness': 4366, 'decadesspanning': 3559, 'epics': 4769, 'strives': 13700, 'socially': 13134, 'encompassing': 4638, 'wavers': 15654, 'cellular': 2263, 'dodges': 4138, 'screenful': 12328, 'gamesmanship': 5855, 'transgressive': 14653, 'beastwithin': 1318, 'shabby': 12609, 'piles': 10462, 'peculiarly': 10281, 'amorality': 658, 'reyes': 11827, 'iq': 7559, 'unprovoked': 15183, 'suffocate': 13861, 'illumination': 7051, 'instances': 7400, 'gloomy': 6055, 'veil': 15371, 'timelessness': 14465, 'mulan': 9303, 'tarzan': 14153, 'teenybopper': 14225, 'pubescent': 11073, 'scandalous': 12218, 'highstrung': 6700, 'satisfactorily': 12183, 'interpreting': 7485, 'phantasms': 10398, 'imagined': 7067, 'pasts': 10217, 'cohesion': 2687, 'handicapped': 6434, 'belgian': 1380, 'waffle': 15542, 'helpful': 6634, 'extremist': 5076, 'namecalling': 9392, 'calculating': 2057, 'fiend': 5325, 'selfpromoter': 12473, 'pseudointellectual': 11051, 'billing': 1492, 'burke': 1979, 'stodgy': 13603, 'teleprompter': 14237, 'cared': 2145, 'grayish': 6215, 'lastminute': 8083, 'avarice': 1094, 'witlessness': 15918, 'notsobright': 9652, 'trio': 14738, 'criminals': 3292, 'attributable': 1046, 'schnieder': 12268, 'bounces': 1758, 'wrists': 16035, 'tummy': 14816, 'huggers': 6905, 'twirling': 14866, 'finger': 5379, 'exclamation': 4943, 'wrecks': 16028, 'whistle': 15805, 'convinced': 3082, 'doltish': 4166, 'skunk': 12939, 'odor': 9747, 'fetishistic': 5312, 'pretend': 10859, 'werewolf': 15765, 'avoiding': 1105, 'disturbance': 4093, 'potboiler': 10743, 'wastes': 15631, 'gotten': 6145, 'jesus': 7702, 'cutandpaste': 3414, 'actionmovie': 320, 'honors': 6815, 'invites': 7546, 'unflattering': 15086, 'comparisons': 2812, 'installments': 7397, 'outoffield': 9952, 'detriment': 3817, 'polemical': 10631, 'globetrottersgenerals': 6053, 'guyinadress': 6365, 'cafeteria': 2046, 'goulash': 6146, 'masturbation': 8774, 'assaults': 968, 'upheaval': 15262, 'april': 839, 'instalment': 7398, 'independence': 7216, 'bushels': 1998, 'twinkie': 14862, 'straddle': 13636, 'repetitively': 11645, 'awash': 1118, 'droning': 4320, 'masseur': 8762, 'riding': 11859, 'ganesh': 5859, 'wimps': 15863, 'offscreen': 9773, 'clams': 2526, 'broiling': 1887, 'hackery': 6375, 'italics': 7611, 'evangelical': 4864, 'boosterism': 1720, 'pollyana': 10645, 'retrorefitting': 11772, 'nickelodeonesque': 9541, 'sommers': 13184, 'titlebout': 14492, 'margaritas': 8696, 'warmedover': 15602, 'desultory': 3801, 'girlsbehavingbadly': 6020, 'jampacked': 7647, 'bruising': 1914, 'clocked': 2612, 'vote': 15522, 'enemy': 4669, 'hudlin': 6898, 'dependence': 3728, 'edged': 4475, 'tome': 14520, '51': 132, 'dulled': 4363, 'recreational': 11443, 'milked': 9007, 'lengthy': 8200, 'punchline': 11105, 'drawers': 4272, 'flattening': 5450, 'resulted': 11744, 'purports': 11134, 'teenoriented': 14219, 'eloquence': 4568, 'prelude': 10826, 'smoothed': 13071, 'tidings': 14445, 'zeus': 16136, 'applauded': 817, 'tireless': 14482, 'booking': 1708, 'passage': 10198, 'reiner': 11545, 'sending': 12501, 'shapable': 12641, 'eroticism': 4799, 'pardon': 10152, 'goth': 6141, 'boyz': 1784, 'hood': 6816, 'tons': 14534, 'troll': 14753, 'nightmares': 9552, 'felinni': 5278, 'freakshow': 5685, 'elmo': 4567, 'touts': 14598, 'behaving': 1371, 'tied': 14447, 'soporific': 13206, 'repeated': 11636, 'crassly': 3232, 'comedically': 2752, 'coasting': 2664, 'persistent': 10363, 'woozy': 15964, 'personified': 10373, 'drain': 4252, 'classified': 2544, 'nihilistic': 9556, 'summons': 13893, 'quadrangle': 11167, 'reference': 11491, 'imponderably': 7129, 'paranormal': 10149, 'massacres': 8760, 'erupt': 4807, 'kafkainspired': 7825, 'wanker': 15584, 'goths': 6143, 'doubles': 4209, 'emaciated': 4579, 'unambitious': 14926, 'animatedmovie': 720, 'failing': 5131, 'dictums': 3872, 'jostling': 7755, 'elbowed': 4529, 'rotoscope': 12003, 'swipes': 14042, 'bambi': 1215, 'alas': 546, 'imaginary': 7062, 'fugitive': 5772, 'atrocious': 1019, 'luridly': 8535, 'miscast': 9065, 'overblown': 9984, 'softly': 13152, 'fighters': 5338, 'digitally': 3895, 'altered': 605, 'jagged': 7638, 'monitor': 9163, 'wahlberg': 15544, 'pokepie': 10623, 'hat': 6527, 'handed': 6429, 'gods': 6079, 'dependable': 3727, 'botched': 1746, 'kiltwearing': 7907, 'thrillkill': 14405, 'catandmouser': 2214, 'paintbynumbers': 10093, 'lasciviousminded': 8078, 'tutorial': 14845, 'mistakenidentity': 9098, 'filmculture': 5355, 'referential': 11493, 'cries': 3285, 'bratty': 1806, 'quelle': 11185, 'omission': 9810, 'caliber': 2060, 'waferthin': 15541, 'nimble': 9559, 'wades': 15540, 'drunken': 4342, 'print': 10902, 'insignificance': 7376, 'ballsy': 1210, 'bruckheimeresque': 1911, 'emulates': 4626, 'annex': 734, 'behave': 1370, 'lungs': 8531, 'buying': 2014, 'pet': 10389, 'eliminating': 4558, 'beheadings': 1374, 'clichéladen': 2584, 'watered': 15644, 'uninvolving': 15135, 'bloodwork': 1609, 'stultifyingly': 13746, 'collar': 2705, '13th': 26, 'sober': 13125, 'incarnation': 7179, 'derivativeness': 3757, 'crappy': 3226, 'fullblooded': 5778, 'senegalese': 12504, 'djeinaba': 4117, 'diop': 3917, 'percentages': 10317, 'ken': 7859, 'stab': 13434, 'hooliganism': 6824, 'doublebarreled': 4206, 'shootout': 12727, 'loaf': 8382, 'explodes': 5016, 'bella': 1393, 'boundless': 1764, 'dies': 3880, 'pains': 10089, 'cancer': 2096, 'seductiveness': 12399, 'viability': 15417, 'specialeffects': 13279, 'whet': 15784, 'adept': 369, 'uncommitted': 14962, 'ruse': 12068, 'tactic': 14093, 'stiflingly': 13579, 'silbersteins': 12822, 'innate': 7341, 'flattened': 5449, 'closeddoor': 2621, 'hankypanky': 6454, 'juiceless': 7784, 'standoffish': 13481, 'saps': 12169, 'inarticulate': 7174, 'videotape': 15441, 'digitaleffectsheavy': 3894, 'lowrent': 8495, 'merchantivory': 8911, 'systematically': 14076, 'dear': 3537, 'split': 13359, 'wanna': 15586, 'violently': 15470, 'gangraped': 5863, 'slop': 13006, 'insults': 7423, 'addictive': 362, 'ambivalence': 634, 'arduous': 863, 'actionoriented': 321, 'puppy': 11123, 'tedium': 14208, 'stench': 13545, 'frowns': 5751, 'romanticized': 11972, 'lounge': 8464, 'chanukah': 2311, 'navigates': 9445, 'pomposity': 10648, 'pretentiousness': 10866, 'baked': 1186, 'welldrawn': 15731, 'reeked': 11482, 'donethat': 4177, 'sameness': 12141, 'twofifths': 14879, 'salvos': 12139, 'discernible': 3971, 'bates': 1288, 'undo': 15047, 'reginald': 11527, 'slurs': 13028, 'souvlaki': 13243, 'indigestion': 7234, 'thoroughfare': 14371, 'tacks': 14089, 'reeboir': 11477, 'varies': 15349, 'pupils': 11118, 'affect': 440, 'kurds': 7985, 'improvise': 7159, 'directionless': 3928, 'brazillike': 1818, 'hyperreal': 6969, 'bastards': 1286, 'plagued': 10511, 'mighty': 8991, 'grounding': 6288, 'deviant': 3832, 'behaviour': 1373, 'latently': 8090, 'plainly': 10514, 'harps': 6510, 'mediaconstructed': 8852, 'jokey': 7737, 'unforgettably': 15094, 'uproariously': 15273, 'boiled': 1669, 'argot': 870, 'selfamused': 12428, 'wellmounted': 15742, 'crossdressing': 3324, 'gimmick': 6007, '99minute': 190, 'stink': 13592, 'weighed': 15697, 'goodly': 6110, 'schoolboy': 12272, 'memoir': 8891, 'bytes': 2026, 'anciently': 690, 'métier': 9374, 'iceberg': 6987, 'melts': 8886, 'insignificant': 7377, 'spiritless': 13338, 'ultraloud': 14911, 'movieoftheweek': 9282, 'lionize': 8334, 'gallic': 5845, 'fusty': 5816, 'prophet': 11003, 'uselessly': 15297, 'moneygrubbing': 9160, 'thirdrate': 14360, 'scaryfunny': 12235, 'dementedfunny': 3683, 'starship': 13500, 'sprawl': 13393, 'uncoordinated': 14972, 'vectors': 15361, 'blurry': 1630, 'stepprinting': 13552, 'inadequate': 7167, 'arthur': 914, 'septuagenarian': 12539, 'crusty': 3356, 'mediumgrade': 8862, 'fitfully': 5409, 'draft': 4243, 'homogenized': 6800, 'tattered': 14161, 'rosetinted': 11998, 'embellished': 4587, 'carrey': 2174, 'hijinks': 6706, 'creek': 3268, 'blossom': 1611, 'puzzles': 11157, 'hypocritical': 6977, 'tshirt': 14801, 'secondrate': 12384, 'amazement': 623, 'participate': 10175, 'illadvised': 7034, 'forgiven': 5600, 'breasts': 1828, 'foreshadowing': 5588, 'routinely': 12023, 'dynamited': 4412, 'blethyn': 1575, 'gregory': 6236, 'hinton': 6718, 'strongminded': 13711, 'viewpoint': 15452, 'perfervid': 10331, 'ces': 2280, 'owen': 10050, 'partnership': 10186, 'retail': 11752, 'clerk': 2572, 'wheels': 15781, 'impassive': 7104, 'melodramas': 8881, 'adhering': 374, 'annoyed': 740, 'derailed': 3751, 'throes': 14411, 'flush': 5528, 'testosterone': 14302, 'gears': 5908, 'nonbondish': 9584, 'reactionary': 11349, 'ploughing': 10582, 'furrow': 5806, 'whirling': 15802, 'zigzag': 16140, 'densely': 3713, 'porno': 10689, 'steinberg': 13542, 'venality': 15376, 'barebones': 1248, 'finished': 5384, 'jeunet': 7705, 'trier': 14725, 'underdramatized': 14998, 'overstated': 10026, 'transcript': 14645, 'session': 12574, 'freudian': 5717, 'tomfoolery': 14521, 'mantra': 8683, 'immortals': 7094, 'giler': 6003, 'bags': 1179, 'heed': 6609, 'speeds': 13301, 'cockeyed': 2670, 'stills': 13585, 'mattered': 8791, 'sterile': 13559, 'unfold': 15089, 'spies': 13320, 'deer': 3603, 'waxes': 15656, 'template': 14247, 'sloughs': 13013, 'mire': 9055, 'alleged': 570, 'presses': 10852, 'limpid': 8312, 'mesmerised': 8927, 'numbing': 9683, 'heyday': 6662, '90s': 179, 'prosaic': 11010, 'underscoring': 15022, 'trusted': 14789, 'denouement': 3710, 'wellproduced': 15744, 'joylessly': 7767, 'whooshing': 15821, 'emptily': 4624, 'selfcontrol': 12439, 'becker': 1334, 'demographically': 3693, 'graffiti': 6174, 'distinguishable': 4076, 'actory': 337, 'concoctions': 2902, 'defined': 3618, 'dimness': 3912, 'forgot': 5603, 'rejigger': 11553, 'parlance': 10162, 'lick': 8254, 'destructive': 3800, 'lower': 8487, 'entered': 4726, 'fifteenminute': 5332, 'idiotically': 7016, 'feardotcomcom': 5249, 'improperly': 7153, 'rea': 11341, 'vivi': 15504, 'schwentke': 12283, 'quota': 11219, 'shaping': 12648, 'warden': 15596, 'singerturned': 12859, 'miracles': 9052, 'hrs': 6894, 'showboating': 12754, 'wisecracker': 15895, 'gabbiest': 5825, 'giantscreen': 5988, 'bogging': 1663, 'barrage': 1261, 'annie': 735, 'crispin': 3300, 'screwing': 12340, 'acidic': 298, 'allmale': 580, 'eve': 4868, 'intermezzo': 7469, 'insufferably': 7416, 'constricted': 2997, 'tighter': 14454, 'editorial': 4484, 'firmer': 5394, 'idling': 7018, 'overinflated': 10003, 'mythology': 9372, 'recognizes': 11418, 'extrusion': 5079, 'tagline': 14097, 'snore': 13110, 'hermocrates': 6649, 'leontine': 8208, 'amours': 661, 'driveby': 4311, 'aircraft': 528, 'carrier': 2176, 'sentimentalized': 12529, 'stress': 13677, 'edit': 4479, 'beg': 1355, 'uninitiated': 15126, 'infuriatingly': 7306, 'heap': 6571, 'comingofagecomingout': 2771, 'mount': 9253, 'cogent': 2682, 'defense': 3608, 'marveling': 8741, 'superhuman': 13917, 'withstand': 15916, 'subpar': 13801, 'shivers': 12704, 'spine': 13329, 'overripe': 10019, 'arm': 886, 'rosemary': 11995, 'wellconceived': 15722, 'bazadona': 1302, 'woodard': 15957, 'relied': 11578, 'surround': 13971, 'frankie': 5668, 'contemptuous': 3021, 'zip': 16144, 'hem': 6638, 'hems': 6639, 'smeary': 13055, 'noticed': 9644, 'tardier': 14145, 'exploiting': 5020, 'novelty': 9667, 'webcast': 15684, 'roy': 12029, '1973': 62, 'quibble': 11192, 'cackles': 2038, 'blueprint': 1621, 'hundreds': 6936, 'bidder': 1470, 'sexploitation': 12603, 'masquerading': 8757, 'governs': 6153, 'cliques': 2605, 'detachment': 3803, 'emerged': 4597, 'brooks': 1895, 'ticktock': 14441, 'yelling': 16088, 'endeavors': 4653, 'interlocked': 7466, 'begs': 1365, 'parodied': 10166, 'loony': 8432, 'eroticized': 4800, 'slapped': 12953, 'hairpiece': 6386, 'lai': 8026, 'bitten': 1520, 'awry': 1130, 'hourandahalflong': 6880, 'phonedin': 10417, 'offset': 9775, 'directorchef': 3933, 'gabriele': 5826, 'comin': 2768, 'ya': 16064, 'fearing': 5251, 'molto': 9152, 'superficiale': 13911, 'tartakovsky': 14151, 'freakish': 5681, 'horrific': 6848, 'jarjar': 7663, 'binks': 1498, 'threering': 14394, 'ratchets': 11313, 'doggie': 4144, 'winks': 15881, 'boho': 1667, 'removed': 11618, 'carré': 2180, 'burntout': 1988, 'galled': 5843, 'puddle': 11080, 'daddy': 3440, 'anarchic': 680, 'gilmore': 6006, 'waterboy': 15641, 'attractions': 1043, 'conrad': 2964, 'nominated': 9581, 'pseudorockvideo': 11053, 'christ': 2465, 'stuttering': 13764, 'proposes': 11006, '22yearold': 94, 'girlfriend': 6014, '18yearold': 39, 'mistress': 9100, 'plumbing': 10588, 'arrangements': 896, 'aggrieved': 495, 'snaillike': 13083, 'decorating': 3587, 'amok': 656, 'releasing': 11569, 'snagged': 13081, 'stormy': 13628, 'darkaspitch': 3483, 'therapeutic': 14339, 'zap': 16119, 'bray': 1815, 'garden': 5878, 'resume': 11746, 'calibre': 2062, 'hustlers': 6958, 'flck': 5465, 'exhibits': 4964, 'salacious': 12123, 'telenovela': 14235, 'passe': 10200, 'chopsocky': 2452, 'soulstripping': 13230, 'shorty': 12743, 'inexpressible': 7275, 'adobo': 391, 'palate': 10104, 'naked': 9390, '1980s': 66, 'warmmilk': 15604, 'tartly': 14152, 'guest': 6322, 'doctorate': 4123, 'framing': 5658, 'wholesale': 15816, 'ineptitude': 7262, 'publicists': 11076, 'departs': 3724, 'demeanor': 3680, 'misuse': 9105, 'morgan': 9212, 'ashley': 940, '1986': 68, 'harlem': 6503, 'twinklyeyed': 14865, 'firebreathing': 5390, 'somnambulant': 13185, 'outbursts': 9938, 'backlash': 1156, 'blinding': 1581, 'ordered': 9895, 'fuddled': 5764, 'motives': 9246, 'mcadams': 8806, 'lowerwit': 8490, 'oeuvre': 9753, 'gays': 5901, 'keening': 7854, 'selfmutilating': 12467, 'sideshow': 12801, 'geeks': 5913, 'patched': 10221, 'vice': 15423, 'unsuccessfully': 15232, 'fuse': 5808, 'adventues': 419, 'terri': 14280, 'dreaded': 4280, 'snake': 13084, 'inmates': 7340, 'calculations': 2058, 'postseptember': 10737, 'tacky': 14090, 'reprehensible': 11656, 'manipulating': 8672, 'bestowing': 1439, 'unequivocally': 15066, 'glee': 6038, 'thandie': 14310, 'newton': 9529, 'hepburn': 6642, 'icons': 6998, 'galore': 5847, 'wonderment': 15947, 'vagueness': 15322, 'exasperating': 4920, 'glimmer': 6043, 'error': 4804, 'tiring': 14485, 'naught': 9437, 'bumper': 1964, 'biodoc': 1501, 'limb': 8303, 'jargon': 7662, 'bestselling': 1440, 'selfhelp': 12458, 'neuroses': 9512, 'secondhand': 12383, 'tidal': 14443, 'glacially': 6027, 'winged': 15878, 'assailants': 962, 'elie': 4557, 'cowrote': 3197, 'subjugate': 13792, 'tearjerking': 14190, 'dissecting': 4056, 'contours': 3039, 'dispel': 4040, 'counterculture': 3160, 'delinquent': 3662, 'paperbacks': 10132, 'warriors': 15616, 'switchblade': 14046, 'sexpot': 12604, 'notatallgood': 9633, 'dolman': 4163, 'confines': 2925, 'bald': 1192, 'norma': 9614, 'rae': 11240, 'resents': 11691, 'inhale': 7323, 'gutter': 6362, 'romancer': 11965, 'madcap': 8574, 'complaining': 2833, 'clocks': 2613, 'brainy': 1796, 'suffocation': 13863, 'diseaseoftheweek': 4000, 'smallscreen': 13041, 'brazenly': 1817, 'reigen': 11539, 'selfdefeatingly': 12441, 'decorous': 3588, 'chalk': 2291, 'hubristic': 6896, 'underinspired': 15005, 'rosenthal': 11996, 'famed': 5159, 'reproduce': 11664, 'sleek': 12969, 'advert': 424, 'exhibitionism': 4963, 'depressingly': 3746, 'exhaustingly': 4960, 'masochistic': 8754, 'captive': 2130, 'gellar': 5916, 'spade': 13249, 'citizen': 2513, 'frankensteinmonster': 5667, 'sidey': 12805, 'selfcongratulation': 12434, 'subzero': 13830, 'jammies': 7646, 'videoviewing': 15442, 'popmusic': 10671, 'showers': 12760, 'wane': 15581, 'drizzle': 4318, 'offal': 9756, 'grossly': 6280, 'kramer': 7975, 'liven': 8368, 'encyclopedia': 4647, 'shoplifts': 12731, 'farewelltoinnocence': 5197, 'wanderers': 15579, 'bronx': 1891, 'cribbing': 3283, 'tolerable': 14511, 'slog': 13003, 'welltrod': 15754, 'affability': 437, 'charade': 2330, 'spiffing': 13321, 'leftovers': 8183, 'selfstyled': 12485, 'banged': 1224, '60second': 139, 'bode': 1654, 'mined': 9030, 'middleclass': 8978, 'arkansas': 884, 'consists': 2985, 'truckloving': 14772, 'peroxide': 10353, 'blond': 1596, 'honeys': 6807, 'worldly': 15992, 'supermarket': 13921, 'tabloids': 14083, 'unlaughable': 15149, 'tiein': 14448, 'lantern': 8057, 'lobotomy': 8387, 'scooped': 12296, 'specificity': 13286, '45ths': 121, 'franc': 5659, 'shapiro': 12649, 'goldman': 6091, 'bolado': 1674, 'shakesperean': 12625, 'silberling': 12821, 'unbalanced': 14936, 'interludes': 7467, 'mctiernan': 8823, 'lighter': 8276, 'soberminded': 13128, 'tapdancing': 14136, 'rhino': 11835, 'government': 6150, 'marinelegal': 8708, 'subliminally': 13795, 'province': 11034, 'overpowered': 10016, 'vacuous': 15317, 'embody': 4590, 'futility': 5818, 'zeitgeist': 16127, 'crassness': 3233, 'matched': 8777, 'bentley': 1415, 'hudson': 6899, 'stare': 13491, 'sniffle': 13102, 'respectively': 11720, 'ledger': 8178, 'amusedly': 666, 'impatiently': 7106, 'linklater': 8330, 'whiff': 15785, 'vaunted': 15359, 'weil': 15703, 'overshadowed': 10022, 'consumerist': 3005, 'studiously': 13737, 'summary': 13888, 'conceivable': 2877, 'perpetrated': 10354, 'snoots': 13107, 'trotting': 14762, 'standbys': 13478, 'malarkey': 8636, 'ardently': 861, 'gobbler': 6074, 'weaned': 15669, 'shlockmeister': 12705, 'alarming': 544, 'interminably': 7471, 'portent': 10694, 'discern': 3969, 'postadolescent': 10726, 'electra': 4537, 'badboy': 1167, 'onenote': 9821, 'whirls': 15803, 'twirls': 14867, 'diminishing': 3910, 'stature': 13521, 'oscarwinning': 9925, 'lowly': 8494, '20car': 88, 'archibald': 852, 'pedestal': 10282, 'lifting': 8271, 'lectured': 8175, 'techgeeks': 14195, 'telegraphs': 14233, 'convenience': 3064, 'movieindustry': 9277, 'inclusiveness': 7193, 'ragbag': 11243, 'punchandjudy': 11099, 'stubbornly': 13727, 'refused': 11514, 'encumbers': 4646, 'graduated': 6172, 'pyrocorrectly': 11159, 'heartpounding': 6588, 'flopped': 5502, 'soufflé': 13221, 'volcano': 15516, 'overflowing': 9998, 'septic': 12538, 'tank': 14131, 'tyco': 14886, 'nonfan': 9598, 'soupy': 13236, 'distinction': 4071, 'fratboy': 5677, 'bowser': 1775, 'welltimed': 15752, 'knockout': 7951, 'mutates': 9350, 'weighted': 15700, 'misfiring': 9077, 'atrociously': 1020, 'indescribably': 7220, 'bra': 1785, 'fleetingly': 5472, 'dresses': 4300, 'discovered': 3987, 'indulged': 7250, 'illconstructed': 7037, 'fatally': 5224, 'degenerating': 3632, 'pious': 10481, 'chefs': 2390, 'fussing': 5813, 'mythologizing': 9371, 'heroism': 6654, 'abject': 209, 'prom': 10978, 'dates': 3497, 'trombone': 14754, 'honks': 6809, 'cheapen': 2361, '810': 163, 'mcdonald': 8814, 'activism': 327, 'airhead': 529, 'muddy': 9299, 'repulse': 11669, 'sausage': 12193, 'terminal': 14277, 'cutes': 3418, 'gunfest': 6345, 'frightful': 5736, 'owed': 10049, 'miscalculations': 9064, 'ye': 16081, 'deploys': 3738, 'guises': 6335, 'futuristic': 5821, 'cablesports': 2037, 'bloodbath': 1600, 'kathie': 7842, 'gifford': 5994, 'unholy': 15112, 'crummylooking': 3351, 'labelled': 7993, 'vices': 15425, '103minute': 8, 'sent': 12523, 'copyof': 3115, 'methodically': 8948, 'communicating': 2797, 'hothouse': 6871, 'teendom': 14215, 'longevity': 8415, '1938': 46, 'slanted': 12949, 'deadeningly': 3523, 'drawnout': 4277, 'abyss': 242, 'counterproductive': 3163, 'carousel': 2171, 'colin': 2698, 'makings': 8632, 'internet': 7479, 'energies': 4671, 'meatballs': 8843, 'baremidriff': 1250, 'disgusted': 4007, 'unshapely': 15218, 'briefly': 1853, 'enliven': 4711, 'wheezing': 15782, 'bohemian': 1666, 'inadequately': 7168, 'ransacks': 11288, 'archives': 857, 'quickbuck': 11195, 'coarse': 2660, 'trifling': 14730, 'opposites': 9870, 'françois': 5674, 'michèle': 8969, 'presume': 10855, 'trot': 14760, 'skimpy': 12923, 'hangups': 6451, 'fresher': 5708, 'burlesque': 1983, 'flibbertigibbet': 5478, 'codes': 2678, 'pottymouthed': 10751, 'schizo': 12258, 'favorites': 5242, 'proverbial': 11028, 'conundrum': 3063, 'underventilated': 15034, 'pèrefils': 11164, 'illequipped': 7038, 'interior': 7465, 'clips': 2604, 'dwell': 4402, 'engorged': 4691, 'trancenoir': 14639, 'trumpedup': 14783, 'imogen': 7096, 'kimmel': 7909, 'settings': 12582, 'motionless': 9240, 'paymer': 10263, 'drained': 4253, 'legion': 8190, 'foo': 5558, 'yung': 16115, 'glumly': 6070, 'idol': 7019, 'circular': 2507, 'masochism': 8753, 'evaded': 4861, 'holland': 6775, 'burgeoning': 1975, 'skateboarder': 12900, 'bmx': 1640, 'rider': 11854, 'mat': 8775, 'turks': 14834, 'angling': 711, 'pseudophilosophic': 11052, 'braveheart': 1809, 'bledel': 1565, 'cardellini': 2140, 'snacks': 13080, 'grandiloquent': 6182, 'unremittingly': 15197, 'sturdiest': 13760, 'cheapened': 2362, 'pimental': 10469, 'feminized': 5288, 'turkey': 14833, 'stomachchurning': 13607, 'cracking': 3206, 'heels': 6611, 'spreads': 13397, 'regimented': 11526, 'selecting': 12422, 'charitable': 2336, 'bullet': 1955, 'correctly': 3134, 'threads': 14386, 'morose': 9220, 'pregnancy': 10820, 'handy': 6446, 'assaultive': 967, 'gunfight': 6346, 'clinically': 2602, 'slim': 12993, 'alterations': 604, 'dots': 4203, 'spelled': 13305, 'mourning': 9261, 'spiritualism': 13341, 'sunk': 13901, 'indulgence': 7251, 'scenechewing': 12243, 'teethgnashing': 14229, 'actorliness': 334, 'marginally': 8699, 'doubtful': 4212, 'spill': 13326, 'projector': 10973, 'operational': 9861, 'mechanics': 8847, 'encomia': 4636, 'teensleaze': 14222, 'fogging': 5539, 'triangles': 14716, 'shum': 12785, 'uhf': 14905, 'straighttovideo': 13643, 'biggername': 1479, 'lackadaisical': 8007, 'tier': 14449, 'boiling': 1671, 'simmer': 12836, 'mandel': 8661, 'yawnprovoking': 16078, 'farm': 5200, 'onion': 9831, 'fertile': 5300, 'slashfest': 12959, 'cheerfully': 2382, '88': 170, 'exhaustion': 4961, 'detention': 3808, 'dodgy': 4139, 'mounted': 9256, 'exasperatingly': 4921, 'wellbehaved': 15720, 'ticks': 14440, 'accountant': 274, 'concentrating': 2882, 'hostile': 6864, 'welt': 15759, 'johnny': 7727, 'knoxville': 7958, 'riotcontrol': 11884, 'projectile': 10971, 'intermittent': 7473, 'gutless': 6359, 'laurice': 8119, 'guillen': 6326, 'dangers': 3469, 'ouija': 9933, 'boards': 1644, 'dispense': 4041, 'merchandisedtothemax': 8909, 'recruiting': 11445, 'playlist': 10547, 'costuming': 3150, 'irwins': 7595, 'deathdefying': 3541, 'shear': 12666, 'baaaaaaaaad': 1139, 'privates': 10913, 'lemon': 8194, 'mormon': 9215, 'ward': 15595, 'pose': 10708, '85': 166, 'semiamusing': 12493, 'lyrics': 8556, 'tonight': 14533, 'transparently': 14663, 'scoob': 12293, 'shag': 12617, 'skitcom': 12935, 'deposited': 3740, 'johnnie': 7726, 'wai': 15545, 'ka': 7822, 'fai': 5128, 'copout': 3110, 'jon': 7744, 'purdy': 11124, 'ambitions': 631, 'telanovela': 14230, 'maik': 8603, 'firebrand': 5389, 'envious': 4762, 'hijacks': 6705, 'sales': 12127, 'unspeakable': 15222, 'tossup': 14578, 'presiding': 10849, 'groupiescholar': 6292, 'broadside': 1880, 'randolph': 11280, 'criticizes': 3308, 'watereddown': 15645, 'eyecatching': 5089, 'dan': 3458, 'shawn': 12665, 'oversexed': 10021, 'dire': 3923, 'goodforyou': 6105, 'seldhal': 12420, 'recesses': 11404, 'unearth': 15055, 'quaking': 11170, 'observer': 9718, 'defensive': 3610, 'lifealtering': 8260, 'undergrad': 15002, 'leniency': 8201, 'shaky': 12627, '53': 135, 'romero': 11976, 'zombie': 16151, 'completists': 2840, 'commune': 2794, 'arrogant': 905, 'unimaginatively': 15120, 'foulmouthed': 5634, 'locale': 8389, 'yo': 16099, 'boogaloo': 1706, 'twentysome': 14856, '98': 188, 'starving': 13510, 'artistes': 921, 'cracked': 3203, 'buckaroo': 1929, 'banzai': 1235, 'fairlane': 5138, 'strongman': 13710, 'ignites': 7022, 'leash': 8163, 'polite': 10637, 'dante': 3475, 'styled': 13766, 'gremlins': 6237, 'cream': 3245, 'imperious': 7112, 'katzenberg': 7846, 'prince': 10894, 'egypt': 4517, '1998': 78, 'prologue': 10976, 'zealously': 16126, 'spreading': 13396, 'puritanical': 11131, 'islanders': 7598, 'relish': 11585, 'concepts': 2887, 'dreaming': 4287, 'groggy': 6274, 'yuen': 16114, 'lastplace': 8084, 'teams': 14184, 'doting': 4202, 'degrades': 3634, 'racy': 11233, 'losses': 8455, 'retitle': 11762, 'sweating': 14017, 'contract': 3040, 'seizing': 12416, 'haplessness': 6462, 'tics': 14442, 'debatable': 3544, 'togetherness': 14507, 'interfamily': 7461, 'katherine': 7841, 'scented': 12247, 'preliminary': 10825, 'piecing': 10453, 'electronic': 4540, 'lags': 8025, 'lurches': 8532, 'notveryfunny': 9659, 'dramatics': 4261, 'lola': 8405, 'builtin': 1952, 'drying': 4345, 'unconcerned': 14966, 'ingest': 7316, 'selfsacrifice': 12481, 'bulk': 1953, 'tennessee': 14265, 'oprah': 9874, 'verbally': 15393, 'flatfooted': 5445, 'madefortv': 8579, 'nowheresville': 9670, 'assigned': 979, 'dues': 4357, 'unread': 15187, 'grosses': 6278, 'yvan': 16116, 'writes': 16043, 'hardwood': 6499, 'stereotyped': 13556, 'undermine': 15011, 'disservice': 4058, 'nadir': 9380, 'thrillerhorror': 14401, 'stultifying': 13745, 'tryingly': 14799, 'sleepinducing': 12973, 'contemptible': 3020, 'imitator': 7079, 'snl': 13105, '8yearold': 174, 'characterizes': 2326, 'hardass': 6477, 'unhidden': 15110, 'bust': 2001, 'blondes': 1598, 'inexorably': 7271, 'ayala': 1132, 'staid': 13455, 'dismally': 4023, 'tacked': 14085, 'hears': 6577, 'shearer': 12667, 'splitscreen': 13360, 'pompous': 10649, 'wittgenstein': 15922, 'kirkegaard': 7925, 'blends': 1572, 'titillating': 14490, '75': 152, 'columbia': 2732, 'remade': 11590, 'diapers': 3856, '1987': 69, 'voyeur': 15526, 'inexcusable': 7270, 'worship': 16004, 'barlow': 1256, 'assign': 978, 'decoder': 3582, 'mortarboards': 9229, 'hunting': 6944, 'predisposed': 10811, 'undoing': 15049, 'scar': 12221, 'classroom': 2546, 'capricious': 2123, 'crafting': 3213, 'clumsiness': 2649, 'censure': 2265, 'hurts': 6950, 'paunchy': 10251, 'undramatic': 15052, 'mail': 8604, '10year': 14, 'delay': 3640, 'beyondlame': 1458, 'teddy': 14205, 'debuts': 3555, 'esteemed': 4833, 'writeractor': 16038, 'rapes': 11294, 'pillages': 10466, 'incinerates': 7186, 'suspecting': 13990, 'daytoday': 3517, 'showbiz': 12753, 'subcultures': 13784, 'amish': 653, 'uninventive': 15134, 'exalted': 4911, 'referred': 11494, 'aspire': 958, 'everyjokehas': 4890, 'beentolda': 1346, 'thousandtimes': 14384, 'asquith': 961, 'acclaimed': 261, 'outrageously': 9958, 'ut': 15306, 'parachutes': 10138, 'unstoppable': 15229, 'basedontruth': 1278, 'persuades': 10378, 'nauseating': 9440, 'underutilized': 15033, 'caused': 2238, 'jimmy': 7714, 'monologues': 9167, 'sacrificed': 12098, 'fizzle': 5417, 'mingles': 9031, 'snobbery': 13106, 'middleamerica': 8977, 'diversions': 4106, 'month': 9182, 'guiltsuffused': 6330, 'antierotic': 766, 'bonding': 1696, 'badmovie': 1171, 'laborious': 7998, 'tightened': 14453, 'bloodsoaked': 1605, 'nixon': 9567, 'agitator': 498, 'aristocrat': 880, 'finery': 5376, 'doeeyed': 4140, 'pre9': 10785, 'crosscountry': 3322, 'homeric': 6794, 'schedule': 12250, 'throwntogether': 14418, 'summercamp': 13890, 'underrehearsed': 15020, 'arbitrarily': 846, 'narcissists': 9406, 'compete': 2825, 'affections': 449, 'credulity': 3265, 'reportedly': 11652, 'rocawear': 11929, 'spiteful': 13345, 'salvaged': 12137, '66': 144, 'straightfaced': 13640, 'castrated': 2204, 'highlander': 6688, 'lolita': 8406, 'uglylooking': 14903, 'swaggers': 14006, 'deepsixed': 3602, 'compulsion': 2864, 'catalog': 2210, 'fluids': 5525, 'devise': 3838, 'clonegag': 2616, 'capped': 2121, 'stilettostomps': 13580, 'figuring': 5344, 'sobadthey': 13124, 'weiss': 15712, 'speck': 13289, '20thcentury': 90, 'footnotes': 5570, 'fourthrate': 5645, 'disagreeable': 3950, 'drill': 4304, 'sweaty': 14018, 'coat': 2665, 'unseen': 15214, 'resides': 11698, 'tornatore': 14566, 'critiquing': 3313, 'faltering': 5156, 'halfstep': 6403, 'criticizing': 3309, 'commiserating': 2787, 'wellthought': 15751, '10000': 3, 'pintsized': 10480, 'pooperscoopers': 10658, 'terrified': 14286, 'irreverent': 7586, 'scotches': 12310, 'élan': 16160, 'travelogue': 14684, 'slopped': 13008, 'fad': 5123, 'vanished': 15340, 'orwell': 9917, 'stud': 13729, 'knockabout': 7948, 'affectation': 441, '37minute': 113, 'snowman': 13114, 'perspicacious': 10377, 'duplicate': 4384, 'bela': 1379, 'lugosi': 8511, 'nowcliched': 9669, 'pledge': 10565, 'allegiance': 572, 'lacey': 8005, 'riddle': 11850, 'pantomimesque': 10127, 'sterotypes': 13562, 'disintegrates': 4015, 'elizabethans': 4561, 'tactics': 14094, 'ado': 390, 'amicable': 648, 'conceived': 2879, 'radio': 11238, 'voiceovers': 15511, 'perry': 10359, 'antiharry': 769, 'gryffindor': 6310, 'scarf': 12226, 'renders': 11623, 'ritual': 11902, 'maintenance': 8614, 'celibacy': 2259, 'nottoodistant': 9658, 'analgesic': 676, 'overstimulated': 10029, 'marking': 8720, 'nymphette': 9695, 'saltoftheearth': 12133, 'mommy': 9157, 'minnie': 9041, 'incognito': 7194, 'wig': 15840, 'facade': 5105, 'moviebiz': 9271, 'uncreative': 14976, 'scorchingly': 12302, 'lifeatarm': 8261, 'irritatingly': 7592, 'spirals': 13334, 'thuds': 14423, 'ruffle': 12043, 'odour': 9750, 'expiry': 5008, 'scant': 12220, 'wreaked': 16024, 'ryder': 12082, 'patronising': 10243, 'reverence': 11794, 'bratt': 1805, 'mapquest': 8687, 'emailed': 4580, 'pointtopoint': 10618, 'driving': 4317, 'sat': 12176, '120': 20, 'trey': 14712, 'molestation': 9148, 'tentative': 14271, 'unmotivated': 15164, 'inconclusive': 7200, 'veering': 15363, '24andunders': 98, 'generational': 5931, 'sloppiness': 13010, 'ooze': 9839, '140': 27, 'softens': 13150, 'ahnuld': 511, 'gathering': 5891, 'mgm': 8960, 'moviemaker': 9278, 'halfnaked': 6401, 'whopping': 15822, 'stymied': 13777, 'splatter': 13351, 'mindnumbing': 9026, '80minute': 161, 'behan': 1369, 'admiration': 380, 'fetching': 5308, 'densest': 3714, 'distillation': 4068, 'recovers': 11436, 'toofrosty': 14539, 'paltrow': 10114, 'authenticate': 1077, 'amc': 638, 'ivy': 7621, 'marquee': 8723, 'unschooled': 15212, '800': 160, 'highlights': 6691, 'messianic': 8936, 'spacey': 13248, '71': 149, 'cliffhanger': 2591, 'schticky': 12278, 'stolid': 13605, 'truest': 14778, 'fil': 5346, 'niftiest': 9548, 'alchemical': 550, 'transmogrification': 14660, 'austen': 1065, 'hollywoodized': 6782, 'kieslowski': 7897, 'pessimism': 10386, 'aspired': 959, 'glacial': 6026, 'precredit': 10802, 'ensues': 4720, 'bloodsplattering': 1606, 'mass': 8758, 'druginduced': 4333, 'evacuations': 4859, 'nonetoofunny': 9594, 'distinctions': 4072, 'freshman': 5711, 'slump': 13027, 'vexing': 15415, 'handicap': 6433, 'kazan': 7848, 'reversal': 11797, 'professor': 10952, 'kunis': 7983, 'pauly': 10250, 'shore': 12733, 'scientist': 12289, 'replacing': 11648, 'tracking': 14610, 'videocam': 15434, 'fauxurban': 5237, 'hottertwoyearsago': 6874, 'rb': 11339, 'sedate': 12393, 'choke': 2440, 'yank': 16069, 'girlfriends': 6015, 'wives': 15925, 'babies': 1144, 'infants': 7281, 'hippopotamus': 6726, 'ballerina': 1200, 'sendak': 12500, 'wishywashy': 15905, 'drung': 4340, 'decisions': 3576, 'unsatisfactorily': 15207, 'zoom': 16156, 'lucid': 8503, 'mrs': 9289, 'preciousness': 10796, '42': 119, 'fringe': 5737, 'theorist': 14336, 'tyson': 14894, 'virulent': 15481, 'foulnatured': 5635, 'pics': 10446, 'quashed': 11177, 'obscenity': 9710, 'breitbart': 1843, 'retrograde': 11771, 'postfeminist': 10733, 'portraits': 10698, 'petrovich': 10394, 'comeuppance': 2757, 'bots': 1752, 'fleeing': 5469, 'broder': 1884, 'offhanded': 9766, 'quickcuts': 11197, 'wideangle': 15827, 'satan': 12177, 'rd': 11340, '247': 97, 'splendidlooking': 13354, 'pig': 10460, 'flails': 5427, 'limply': 8313, 'pallid': 10110, 'ballesta': 1202, 'galan': 5840, 'achero': 286, 'manas': 8659, 'schematic': 12251, 'virtuosity': 15478, 'naqoyqatsi': 9402, 'harmed': 6505, 'insulted': 7420, 'fluidity': 5524, 'tits': 14495, 'um': 14914, 'strident': 13686, 'messagemovie': 8933, 'marshaled': 8730, 'zest': 16135, 'trusting': 14790, 'crematorium': 3278, 'chimney': 2428, 'stacks': 13440, 'undermined': 15012, 'position': 10712, 'undeterminable': 15042, 'theatrically': 14323, 'helms': 6631, 'anti': 758, 'whine': 15791, 'bellyaching': 1395, 'bromides': 1890, 'slogans': 13004, 'preachykeen': 10790, 'tubthumpingly': 14808, 'chump': 2480, 'suavity': 13779, 'hats': 6536, 'demographics': 3694, 'unaware': 14935, 'boats': 1650, 'tracks': 14611, 'thumpingly': 14428, 'hyperbolic': 6967, 'baloney': 1212, 'biz': 1524, 'spalding': 13254, 'gray': 6214, 'slc': 12964, 'command': 2772, 'mitch': 9107, 'mccrudden': 8812, 'adroit': 408, 'galvanize': 5848, 'campion': 2089, 'blandly': 1545, 'policeprocedural': 10634, 'uboat': 14897, 'selfknowledge': 12465, 'lab': 7991, 'testosteronecharged': 14303, 'wizardry': 15927, 'grocery': 6272, 'lists': 8347, 'situates': 12888, 'eagle': 4422, 'carpets': 2173, 'solving': 13176, 'solution': 13174, 'recreate': 11438, 'jules': 7786, 'verne': 15404, '20000': 85, 'leagues': 8148, 'pal': 10102, 'prowess': 11043, 'opulent': 9884, 'lushness': 8541, 'painless': 10088, 'timekiller': 14463, 'ancillary': 691, 'products': 10945, 'wazoo': 15663, 'property': 11001, 'closed': 2620, 'gallery': 5844, 'revolting': 11813, 'givemeanoscar': 6022, 'plastic': 10526, 'knickknacks': 7944, 'garage': 5871, 'sale': 12126, 'screwy': 12341, 'calculus': 2059, 'mit': 9106, 'equations': 4785, 'longwinded': 8424, 'besotted': 1431, 'misbegotten': 9061, 'submusic': 13799, 'selfpossessed': 12471, '70yearold': 148, 'crank': 3221, 'meter': 8945, 'injustices': 7339, 'worldatlarge': 15990, 'unsophisticated': 15221, 'semithrowback': 12498, 'reminiscence': 11612, 'soberly': 13127, 'reported': 11651, 'incidents': 7185, 'substituting': 13817, 'romeo': 11975, 'julietwest': 7792, 'theological': 14333, 'tongues': 14531, 'invulnerable': 7555, 'playoff': 10548, 'contemplates': 3014, 'heartland': 6587, 'dabbles': 3437, 'dreaminess': 4286, 'lull': 8516, 'forages': 5571, 'temperamental': 14245, 'decrepit': 3589, 'reprieve': 11663, 'whining': 15793, 'flag': 5421, 'bush': 1997, 'laughfree': 8106, 'lecture': 8174, 'beersoaked': 1350, 'natured': 9435, 'adhere': 372, 'boorish': 1716, 'iheardajoke': 7027, 'atafratparty': 1007, 'worried': 15999, 'gimmicks': 6008, 'coordinated': 3100, 'crummy': 3350, 'wannabehip': 15588, 'refers': 11495, 'incessantly': 7182, 'sofiveminutesago': 13147, 'hannabarbera': 6456, 'kerrigan': 7864, 'platinumblonde': 10530, 'markers': 8715, 'delete': 3643, 'comparatively': 2807, 'hos': 6858, 'splashing': 13349, 'muck': 9294, 'lecter': 8172, 'moldyoldie': 9146, 'notnearly': 9648, 'asnasty': 951, 'asit': 945, 'thinksitis': 14355, 'implied': 7124, 'pokémon': 10628, 'locusts': 8395, 'horde': 6840, 'challenge': 2292, 'centuries': 2272, 'starter': 13504, 'under7': 14984, 'rainy': 11257, 'talkinganimal': 14119, 'allied': 577, 'frankensteinlike': 5666, 'shootemups': 12724, 'outnumber': 9951, 'threetoone': 14395, 'mushes': 9335, 'collegefriends': 2714, 'operas': 9857, 'starry': 13498, 'plex': 10568, 'ticketbuyers': 14435, 'ennuihobbled': 4714, 'daft': 3442, 'understandable': 15024, 'vivacious': 15502, 'powerhouse': 10763, 'chatter': 2357, 'parrots': 10170, 'reworks': 11824, 'smashing': 13051, 'neglects': 9483, 'modeled': 9127, 'lugubrious': 8512, 'hjejle': 6750, 'handsoff': 6442, 'gobble': 6073, 'dolby': 4156, 'stereo': 13554, 'outshined': 9966, 'frazzled': 5679, 'wackiness': 15537, 'frayed': 5678, 'lacked': 8008, 'festers': 5306, 'dungpile': 4380, 'monkeys': 9165, 'flinging': 5491, 'eroded': 4796, 'curve': 3405, 'negated': 9477, 'halfanhour': 6391, 'furious': 5804, 'drops': 4324, 'pump': 11095, 'overworked': 10045, 'implications': 7122, 'credulous': 3266, 'subordinate': 13800, 'expectant': 4987, 'adoring': 400, 'widesmiling': 15834, 'reception': 11403, 'blasting': 1555, 'stabbing': 13435, 'granted': 6194, 'mishandled': 9082, 'armenian': 891, 'genocide': 5946, 'patchwork': 10222, 'begley': 1363, 'overshadows': 10023, 'unpaid': 15173, 'intern': 7475, 'typed': 14889, 'univaclike': 15143, '4w': 124, 'negatives': 9479, 'outweigh': 9976, 'positives': 10715, 'marinated': 8706, 'faded': 5125, 'skipped': 12931, 'jangle': 7651, 'contender': 3023, 'stroked': 13703, 'coloured': 2730, 'unidimensional': 15114, 'eyeballs': 5087, 'evaporates': 4866, 'crypt': 3358, 'mist': 9095, 'eh': 4518, 'divorce': 4113, 'earthly': 4440, 'stoop': 13616, 'indulges': 7254, 'vicente': 15424, 'aranda': 844, 'rampant': 11273, 'adultery': 411, 'thrilled': 14399, 'extremesports': 5075, 'selfempowering': 12448, 'bigwave': 1485, 'retard': 11757, 'clive': 2606, 'barker': 1254, 'badder': 1168, 'snapping': 13086, 'bottomofthebill': 1755, 'hollywooditis': 6781, 'psychotic': 11069, 'alltoohuman': 592, 'xfiles': 16057, 'whiffleball': 15786, 'preach': 10786, 'exclusively': 4944, 'colosseum': 2728, 'wisedup': 15897, 'revengeofthenerds': 11792, 'dredge': 4295, 'smackdown': 13033, 'betterfocused': 1449, 'gothvampire': 6144, 'woeisme': 15934, 'aldrich': 551, 'swipe': 14041, 'recompense': 11424, 'repetitious': 11643, 'impacts': 7099, 'bisexual': 1512, 'selfpitying': 12470, 'simpering': 12839, 'ramble': 11267, 'mock': 9123, 'powerlunchers': 10764, 'eclair': 4463, 'eternally': 4842, 'devoted': 3844, 'selfserious': 12484, 'kidnapper': 7887, 'careless': 2154, 'undergo': 15000, 'shanana': 12638, 'spyvs': 13416, 'upside': 15279, 'unpleasantness': 15178, 'upload': 15267, 'imitating': 7075, 'accentuating': 248, 'muting': 9352, 'repeating': 11638, 'lax': 8128, 'meander': 8828, 'triessohardtobecool': 14727, 'sunset': 13903, 'aptly': 842, 'costumed': 3147, 'preposterously': 10834, 'gangmember': 5862, 'standardissue': 13475, 'spat': 13271, 'talkiness': 14117, 'tinny': 14475, 'selfrighteousness': 12480, 'foodspittingly': 5561, 'charly': 2342, 'imitative': 7078, 'innumerable': 7353, 'derisions': 3754, 'chen': 2396, 'kaige': 7829, 'triviality': 14749, 'moralcondundrum': 9198, 'simulation': 12850, 'auschwitz': 1062, 'iibirkenau': 7029, 'revisionism': 11805, 'overburdened': 9986, 'ragtag': 11247, 'puppets': 11121, 'waif': 15546, 'smear': 13053, 'lipgloss': 8336, 'virulently': 15482, 'discloses': 3975, 'minorleague': 9044, 'toohotfortv': 14540, 'directtovideodvd': 3940, 'onestar': 9827, 'communitycollege': 2801, 'advertisement': 426, 'amp': 662, 'opportunism': 9864, 'ismail': 7599, 'multitude': 9312, 'yahooing': 16065, 'monsterous': 9177, 'enthusiasms': 4741, 'enchanted': 4633, 'lowlife': 8493, 'liberally': 8243, 'associate': 982, 'nearimpossible': 9456, 'lin': 8315, 'chung': 2481, 'impetus': 7117, 'evenhandedness': 4871, 'rigged': 11864, 'zoning': 16154, 'ordinances': 9897, 'smokers': 13065, 'mumbo': 9314, 'redemptive': 11459, 'crapulence': 3227, 'reparations': 11634, 'kjell': 7937, 'bjarne': 1526, 'naïf': 9447, 'mariah': 8703, 'carey': 2157, 'wisegirls': 15898, 'silences': 12824, 'knitting': 7946, 'needles': 9470, 'zaidan': 16117, 'zeroes': 16134, 'paycheck': 10261, 'spectators': 13295, 'openmouthed': 9851, 'morris': 9223, 'focusing': 5538, 'eccentricity': 4456, 'oddballs': 9740, 'sooooo': 13198, 'structuring': 13716, 'spied': 13317, 'cookiecutter': 3091, 'scrape': 12317, 'cracker': 3204, 'bruin': 1912, 'thou': 14373, 'liveliness': 8366, 'earpleasing': 4435, 'malleable': 8645, 'farflung': 5199, 'concerning': 2892, 'chronically': 2473, 'overachieving': 9979, 'hyphenate': 6972, 'conflicting': 2931, 'larded': 8064, 'sands': 12159, 'hohum': 6762, 'roughhewn': 12010, 'andie': 693, 'histrionic': 6735, 'eludes': 4572, 'affinity': 451, 'fathom': 5231, 'applegate': 819, 'posey': 10710, 'suspenser': 13997, 'discouraging': 3984, 'threeminute': 14393, 'eckstraordinarily': 4462, 'manager': 8656, 'dwells': 4404, 'crossingover': 3327, 'lighten': 8275, 'trivializes': 14751, 'devaluation': 3819, 'proserb': 11012, 'flog': 5498, 'obligation': 9703, 'pin': 10471, 'ransacked': 11287, 'poetically': 10603, 'sensespinning': 12513, 'onetrick': 9828, 'pony': 10654, 'softheaded': 13151, 'metaphysical': 8944, 'claptrap': 2529, 'trudge': 14774, 'rode': 11939, 'zipper': 16145, 'extralarge': 5064, 'anxious': 785, 'fullfrontal': 5781, 'endorsement': 4661, 'abhors': 205, 'shriveled': 12778, 'broca': 1882, 'antique': 772, 'footing': 5568, 'actioners': 319, 'schmucks': 12265, 'disrespected': 4053, 'blooddrenched': 1602, 'norringtondirected': 9618, 'sporting': 13378, 'holeridden': 6770, 'shares': 12652, 'loosejointed': 8439, 'pact': 10069, 'negative': 9478, 'orchestrating': 9892, 'renting': 11632, 'discretion': 3992, 'geddes': 5909, 'grisham': 6262, 'kincaid': 7911, 'sepiatinted': 12535, 'moaning': 9118, 'borscht': 1742, 'schtick': 12277, 'lds': 8139, 'armchair': 888, 'tourists': 14596, 'hanukkah': 6458, 'fried': 5722, 'periodpiece': 10346, 'blarney': 1552, 'descriptions': 3770, 'traps': 14674, 'ransom': 11289, 'justifying': 7814, 'activities': 329, 'prisoners': 10909, 'valentine': 15326, 'topheavy': 14552, 'blazing': 1560, 'cheatfully': 2370, 'bloodsucker': 1608, 'drunk': 4341, 'distressing': 4090, 'contrasts': 3047, 'broadly': 1879, 'robotically': 11925, 'italicized': 7609, 'truthinadvertising': 14794, 'hounds': 6877, 'hustling': 6959, 'characterisation': 2318, 'venezuelans': 15378, 'si': 12789, 'por': 10683, 'muy': 9354, 'loco': 8394, 'truckzilla': 14773, 'cryin': 3357, 'mishandle': 9081, 'physician': 10433, 'milquetoast': 9016, 'feelbad': 5270, 'items': 7615, 'winking': 15880, 'sling': 12995, 'abiding': 206, 'hallucinogenic': 6414, 'acres': 308, 'haute': 6541, 'couture': 3184, 'kate': 7840, 'janine': 7653, 'allwoman': 595, 'puzzled': 11156, 'pressure': 10854, 'cooker': 3090, 'horrified': 6849, 'illconsidered': 7036, 'cellophanepop': 2262, 'gentlemen': 5954, 'stains': 13456, 'agile': 496, 'rodan': 11938, 'uncertainty': 14949, 'principle': 10899, 'discount': 3983, 'juliet': 7790, 'stevenon': 13565, 'pamela': 10115, 'roller': 11953, 'coaster': 2663, 'startled': 13507, 'dozing': 4239, 'shouting': 12749, 'chore': 2456, 'definitions': 3624, 'waster': 15630, 'hurried': 6947, '1959': 54, 'godzilla': 6080, 'commenting': 2781, 'madeforhomevideo': 8577, 'altar': 602, 'tango': 14130, 'electrocute': 4539, 'dismember': 4026, 'avert': 1101, 'yeah': 16082, 'welldefined': 15726, 'torments': 14564, 'operatic': 9859, 'freight': 5698, 'online': 9832, 'laptops': 8062, 'plans': 10521, 'amassed': 618, 'headon': 6562, 'trading': 14617, 'alternates': 608, 'introspection': 7519, 'benevolent': 1410, 'plea': 10553, 'democracy': 3690, 'blushing': 1632, 'gushing': 6352, 'squirts': 13433, 'bestsustained': 1441, 'yep': 16090, 'bookontape': 1709, 'abridged': 219, 'brothersstyle': 1905, 'downanddirty': 4220, 'laugher': 8105, 'giants': 5987, 'frightfest': 5735, 'italicizes': 7610, 'vainglorious': 15324, 'porky': 10687, 'teenspeak': 14223, 'gibberish': 5989, 'cliff': 2590, 'busts': 2003, 'comfy': 2762, 'rein': 11543, 'symptom': 14071, 'loser': 8449, 'domineering': 4173, 'nearmasterpiece': 9458, 'wellstructured': 15750, 'hardest': 6484, 'argentinian': 868, 'uplifter': 15265, 'lavishly': 8121, 'exhilaratingly': 4966, 'touché': 14589, 'masala': 8749, 'featherweight': 5259, 'welledited': 15733, 'standout': 13482, 'audaciousimpossible': 1050, 'freakout': 5682, 'cornball': 3123, 'trueblue': 14776, 'peerlessly': 10292, 'delirious': 3663, 'spythriller': 13415, 'niblet': 9531, 'formuliac': 5618, 'untidily': 15241, 'occasion': 9729, 'mindbender': 9021, 'disposible': 4046, 'aan': 193, 'snoozer': 13109, 'execrable': 4949, 'crikey': 3286, 'sensationalize': 12508, 'bibbidybobbidibland': 1461, 'onesidedness': 9826, 'thinlyconceived': 14357, 'punitively': 11114, 'affirmational': 453, 'stuporously': 13759, 'wellmeant': 15741, 'poo': 10655, 'garbled': 5873, 'conceited': 2875, 'tonally': 14526, 'nonmystery': 9603, 'hash': 6524, 'irredeemably': 7576, 'snooze': 13108, 'salaciously': 12124, 'lessthanthrilling': 8220, 'humbuggery': 6922, 'unrealistic': 15188, 'twobit': 14875, 'technotripe': 14204, 'reigns': 11541, 'halfassed': 6393, 'abysmally': 241, 'ame': 639, 'crushing': 3354, 'drudgery': 4330, 'realitysnubbing': 11367, 'degenerates': 3631, 'hogwash': 6761, 'roadandbuddy': 11912, 'slummer': 13025, 'drek': 4296, 'nearmiss': 9459, 'rashomonfordipsticks': 11310, 'mushhearted': 9336, 'hippieturnedyuppie': 6725, 'muttering': 9353, 'dissing': 4059}\n"
          ]
        }
      ]
    },
    {
      "cell_type": "markdown",
      "source": [
        "Training the naive bayes model"
      ],
      "metadata": {
        "id": "hpWndXucxv8P"
      }
    },
    {
      "cell_type": "code",
      "source": [
        "Classes=[\"very negative\",\"negative\",\"neutral\",\"positive\",\"very positive\"]\n",
        "NBmodel=NaiveBayes()\n",
        "NBmodel.Train(train_ds,Classes,vocab)"
      ],
      "metadata": {
        "id": "q-DdEFMRfduQ"
      },
      "execution_count": null,
      "outputs": []
    },
    {
      "cell_type": "markdown",
      "source": [
        "Testing the model"
      ],
      "metadata": {
        "id": "rtnmvMFMyv9o"
      }
    },
    {
      "cell_type": "code",
      "source": [
        "print(NBmodel.predict(\"this movie was fantastic\",vocab,Classes))\n",
        "print(NBmodel.predict(\"i didnt like the movie but the cinematography was pretty good\",vocab,Classes))"
      ],
      "metadata": {
        "colab": {
          "base_uri": "https://localhost:8080/"
        },
        "id": "046cyn7KeRsT",
        "outputId": "075cfe85-e806-4e47-97c1-6f1da2f49e0e"
      },
      "execution_count": null,
      "outputs": [
        {
          "output_type": "stream",
          "name": "stdout",
          "text": [
            "very positive\n",
            "negative\n"
          ]
        }
      ]
    },
    {
      "cell_type": "markdown",
      "source": [
        "Adding column class to test dataset"
      ],
      "metadata": {
        "id": "Dmm-2cLUt1fh"
      }
    },
    {
      "cell_type": "code",
      "source": [
        "test_ds=addClasses(test_ds)\n",
        "test_ds"
      ],
      "metadata": {
        "colab": {
          "base_uri": "https://localhost:8080/"
        },
        "id": "ZmTNdIrkyuDu",
        "outputId": "0fe7b84e-79c0-4e39-f814-0cbee861be29"
      },
      "execution_count": null,
      "outputs": [
        {
          "output_type": "execute_result",
          "data": {
            "text/plain": [
              "Dataset({\n",
              "    features: ['sentence', 'label', 'tokens', 'tree', 'class'],\n",
              "    num_rows: 2210\n",
              "})"
            ]
          },
          "metadata": {},
          "execution_count": 15
        }
      ]
    },
    {
      "cell_type": "markdown",
      "source": [
        "Testing the model on the test dataset"
      ],
      "metadata": {
        "id": "kR1WYqPOt8yz"
      }
    },
    {
      "cell_type": "code",
      "source": [
        "from sklearn.metrics import accuracy_score\n",
        "predictions=[]\n",
        "for idx,sentence in enumerate(test_ds['sentence']):\n",
        "  predictions.append(NBmodel.predict(sentence,vocab,Classes))\n",
        "\n",
        "print(\"accuracy:\",accuracy_score(test_ds['class'],predictions)*100)"
      ],
      "metadata": {
        "colab": {
          "base_uri": "https://localhost:8080/"
        },
        "id": "kkpE40QMj2Uy",
        "outputId": "030b8cfa-9be5-43df-e16a-ccd20337c712"
      },
      "execution_count": null,
      "outputs": [
        {
          "output_type": "stream",
          "name": "stdout",
          "text": [
            "accuracy: 38.19004524886878\n"
          ]
        }
      ]
    },
    {
      "cell_type": "markdown",
      "source": [
        "Testing the accuracy of the sklearn Naive bayes model"
      ],
      "metadata": {
        "id": "XZ7Sp36kuE-Y"
      }
    },
    {
      "cell_type": "code",
      "source": [
        "from sklearn.naive_bayes import MultinomialNB\n",
        "from sklearn.pipeline import make_pipeline\n",
        "pipeline = make_pipeline(CountVectorizer(),MultinomialNB())\n",
        "pipeline.fit(train_ds['sentence'],train_ds['class'] )\n",
        "y_pred = pipeline.predict(test_ds['sentence'])\n",
        "print(\"accuracy:\",accuracy_score(test_ds['class'],y_pred)*100)"
      ],
      "metadata": {
        "colab": {
          "base_uri": "https://localhost:8080/"
        },
        "id": "JXHJnGcLr89h",
        "outputId": "4dcb3bcc-dcde-4edd-cc1f-82f172291ee2"
      },
      "execution_count": null,
      "outputs": [
        {
          "output_type": "stream",
          "name": "stdout",
          "text": [
            "accuracy: 40.90497737556561\n"
          ]
        }
      ]
    },
    {
      "cell_type": "markdown",
      "source": [
        "function to get the confusion matrix and calculate the metrics"
      ],
      "metadata": {
        "id": "DwT6TyBkwjTs"
      }
    },
    {
      "cell_type": "code",
      "source": [
        "def getConfusionMatrix(true,pred):\n",
        "  cm=np.zeros((len(Classes),len(Classes)))\n",
        "  for idx,_ in enumerate(true):\n",
        "    cm[keyMap(true[idx])] [keyMap(pred[idx])]+=1\n",
        "  return cm\n",
        "def calculateMetrics(cm):\n",
        "  n=cm.shape[0]\n",
        "  per=np.zeros(n)\n",
        "  recall=np.zeros(n)\n",
        "  f1=np.zeros(n)\n",
        "  for i in range(0,n):\n",
        "    per[i]=cm[i][i]/np.sum(cm[:,i])\n",
        "    recall[i]=cm[i][i]/np.sum(cm[i,:])\n",
        "    f1[i]=2*(per[i]*recall[i])/(per[i]+recall[i])\n",
        "  return per,recall,f1\n"
      ],
      "metadata": {
        "id": "IxYJpyAAwjjn"
      },
      "execution_count": null,
      "outputs": []
    },
    {
      "cell_type": "markdown",
      "source": [
        "Gettin the confusion matrix for the model"
      ],
      "metadata": {
        "id": "_jJ2VtbP2Tfe"
      }
    },
    {
      "cell_type": "code",
      "source": [
        "cm=getConfusionMatrix(test_ds['class'],predictions)\n",
        "print(cm)"
      ],
      "metadata": {
        "colab": {
          "base_uri": "https://localhost:8080/"
        },
        "id": "_2HCiI7bzh7L",
        "outputId": "90d98cd4-98af-47ac-8157-b91f52cae54b"
      },
      "execution_count": null,
      "outputs": [
        {
          "output_type": "stream",
          "name": "stdout",
          "text": [
            "[[ 49. 139.  25.  51.  15.]\n",
            " [ 58. 306.  58. 171.  40.]\n",
            " [ 14. 132.  40. 164.  39.]\n",
            " [ 16.  80.  27. 281. 106.]\n",
            " [  5.  40.  11. 175. 168.]]\n"
          ]
        }
      ]
    },
    {
      "cell_type": "markdown",
      "source": [
        "calculating the metrics for the model"
      ],
      "metadata": {
        "id": "GnWxI5dKR31Y"
      }
    },
    {
      "cell_type": "code",
      "source": [
        "per,recall,f1=calculateMetrics(cm)\n",
        "print(\"percision:\",per)\n",
        "print(\"recall:\",recall)\n",
        "print(\"F1 score:\",f1)"
      ],
      "metadata": {
        "colab": {
          "base_uri": "https://localhost:8080/"
        },
        "id": "SLG19woYR4KN",
        "outputId": "39fbc18d-874f-4091-adbe-f84d4b15202c"
      },
      "execution_count": null,
      "outputs": [
        {
          "output_type": "stream",
          "name": "stdout",
          "text": [
            "percision: [0.34507042 0.43902439 0.2484472  0.33372922 0.45652174]\n",
            "recall: [0.17562724 0.48341232 0.10282776 0.55098039 0.42105263]\n",
            "F1 score: [0.2327791  0.46015038 0.14545455 0.41568047 0.4380704 ]\n"
          ]
        }
      ]
    },
    {
      "cell_type": "markdown",
      "source": [
        "Gettin the confusion matrix for the sklearn model"
      ],
      "metadata": {
        "id": "c0sDX6pl2dw8"
      }
    },
    {
      "cell_type": "code",
      "source": [
        "cm=getConfusionMatrix(test_ds['class'],y_pred)\n",
        "print(cm)"
      ],
      "metadata": {
        "colab": {
          "base_uri": "https://localhost:8080/"
        },
        "id": "c1RDQ7j61rmG",
        "outputId": "827e65d8-1701-4a9d-96e9-a27796125984"
      },
      "execution_count": null,
      "outputs": [
        {
          "output_type": "stream",
          "name": "stdout",
          "text": [
            "[[ 28. 200.  10.  41.   0.]\n",
            " [ 22. 415.  57. 127.  12.]\n",
            " [  8. 154.  34. 181.  12.]\n",
            " [  2.  88.  39. 340.  41.]\n",
            " [  2.  39.  12. 259.  87.]]\n"
          ]
        }
      ]
    },
    {
      "cell_type": "markdown",
      "source": [
        "calculating the metrics for the sklearn model"
      ],
      "metadata": {
        "id": "RYmSBfNbXMkZ"
      }
    },
    {
      "cell_type": "code",
      "source": [
        "per,recall,f1=calculateMetrics(cm)\n",
        "print(\"percision:\",per)\n",
        "print(\"recall:\",recall)\n",
        "print(\"F1 score:\",f1)"
      ],
      "metadata": {
        "colab": {
          "base_uri": "https://localhost:8080/"
        },
        "id": "PDe47EY8XM_u",
        "outputId": "6b6a4a23-82f2-4c3d-bb4e-fcd16027cb88"
      },
      "execution_count": null,
      "outputs": [
        {
          "output_type": "stream",
          "name": "stdout",
          "text": [
            "percision: [0.4516129  0.46316964 0.22368421 0.35864979 0.57236842]\n",
            "recall: [0.10035842 0.65560821 0.0874036  0.66666667 0.21804511]\n",
            "F1 score: [0.16422287 0.54283846 0.12569316 0.46639232 0.31578947]\n"
          ]
        }
      ]
    }
  ]
}